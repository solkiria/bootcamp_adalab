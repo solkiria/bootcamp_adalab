{
 "cells": [
  {
   "cell_type": "code",
   "execution_count": 2,
   "metadata": {},
   "outputs": [
    {
     "data": {
      "text/plain": [
       "['Sonia', 'Sandra', 'Ana']"
      ]
     },
     "execution_count": 2,
     "metadata": {},
     "output_type": "execute_result"
    }
   ],
   "source": [
    "# Insertar 3 nombres empleando la función input():\n",
    "lista_nombres = input('Escriba tres nombres separados por espacios').split()\n",
    "lista_nombres"
   ]
  },
  {
   "cell_type": "code",
   "execution_count": 3,
   "metadata": {},
   "outputs": [
    {
     "data": {
      "text/plain": [
       "['Ruiz', 'Fernandez', 'Garcia']"
      ]
     },
     "execution_count": 3,
     "metadata": {},
     "output_type": "execute_result"
    }
   ],
   "source": [
    "# Insertar 3 apellidos empleando la función input():\n",
    "lista_apellidos = input ('Escriba tres apellidos separados por espacios').split()\n",
    "lista_apellidos"
   ]
  },
  {
   "cell_type": "code",
   "execution_count": 4,
   "metadata": {},
   "outputs": [
    {
     "data": {
      "text/plain": [
       "['29', '44', '25']"
      ]
     },
     "execution_count": 4,
     "metadata": {},
     "output_type": "execute_result"
    }
   ],
   "source": [
    "# Insertar 3 edades empleando la función input():\n",
    "lista_edades = input('Escriba tres edades separadas por espacios').split()\n",
    "lista_edades"
   ]
  },
  {
   "cell_type": "code",
   "execution_count": 5,
   "metadata": {},
   "outputs": [
    {
     "data": {
      "text/plain": [
       "[29, 44, 25]"
      ]
     },
     "execution_count": 5,
     "metadata": {},
     "output_type": "execute_result"
    }
   ],
   "source": [
    "# Convertir las edades en un integer:\n",
    "lista_edades = [int(i) for i in lista_edades]\n",
    "lista_edades"
   ]
  },
  {
   "cell_type": "code",
   "execution_count": 6,
   "metadata": {},
   "outputs": [
    {
     "data": {
      "text/plain": [
       "['1', '2', '0']"
      ]
     },
     "execution_count": 6,
     "metadata": {},
     "output_type": "execute_result"
    }
   ],
   "source": [
    "# Insertar número de hijos empleando la función input():\n",
    "lista_hijos = input('Escriba el número de hijos de las tres personas separadas por espacios').split()\n",
    "lista_hijos"
   ]
  },
  {
   "cell_type": "code",
   "execution_count": 7,
   "metadata": {},
   "outputs": [
    {
     "data": {
      "text/plain": [
       "[1, 2, 0]"
      ]
     },
     "execution_count": 7,
     "metadata": {},
     "output_type": "execute_result"
    }
   ],
   "source": [
    "# Convertir el número de hijos en un integer:\n",
    "lista_hijos = [int(i) for i in lista_hijos]\n",
    "lista_hijos"
   ]
  },
  {
   "cell_type": "code",
   "execution_count": 8,
   "metadata": {},
   "outputs": [
    {
     "data": {
      "text/plain": [
       "{'nombres': ['Sonia', 'Sandra', 'Ana'],\n",
       " 'apellidos': ['Ruiz', 'Fernandez', 'Garcia'],\n",
       " 'edades': [29, 44, 25],\n",
       " 'hijos': [1, 2, 0]}"
      ]
     },
     "execution_count": 8,
     "metadata": {},
     "output_type": "execute_result"
    }
   ],
   "source": [
    "# Crear un diccionario con los datos obtenidos:\n",
    "datos_personas = {'nombres':lista_nombres, 'apellidos':lista_apellidos, 'edades':lista_edades, 'hijos':lista_hijos}\n",
    "datos_personas"
   ]
  },
  {
   "cell_type": "code",
   "execution_count": 9,
   "metadata": {},
   "outputs": [
    {
     "data": {
      "text/plain": [
       "{'nombres': ['Sonia', 'Sandra', 'Ana'],\n",
       " 'apellidos': ['Ruiz', 'Fernandez', 'Garcia'],\n",
       " 'edades': [29, 44, 25],\n",
       " 'hijos': [1, 2, 0],\n",
       " 'hermanos': [0, 1, 3]}"
      ]
     },
     "execution_count": 9,
     "metadata": {},
     "output_type": "execute_result"
    }
   ],
   "source": [
    "# Añadir una nueva key con el número de hermanos:\n",
    "datos_personas['hermanos'] = [0, 1, 3]\n",
    "datos_personas"
   ]
  },
  {
   "cell_type": "code",
   "execution_count": 10,
   "metadata": {},
   "outputs": [
    {
     "data": {
      "text/plain": [
       "dict_keys(['nombres', 'apellidos', 'edades', 'hijos', 'hermanos'])"
      ]
     },
     "execution_count": 10,
     "metadata": {},
     "output_type": "execute_result"
    }
   ],
   "source": [
    "# Mostrar las keys del diccionario:\n",
    "datos_personas.keys()"
   ]
  },
  {
   "cell_type": "code",
   "execution_count": 11,
   "metadata": {},
   "outputs": [
    {
     "data": {
      "text/plain": [
       "dict_values([['Sonia', 'Sandra', 'Ana'], ['Ruiz', 'Fernandez', 'Garcia'], [29, 44, 25], [1, 2, 0], [0, 1, 3]])"
      ]
     },
     "execution_count": 11,
     "metadata": {},
     "output_type": "execute_result"
    }
   ],
   "source": [
    "# Mostrar los values de ese diccionario:\n",
    "datos_personas.values()"
   ]
  },
  {
   "cell_type": "code",
   "execution_count": 12,
   "metadata": {},
   "outputs": [
    {
     "data": {
      "text/plain": [
       "['Sonia', 'Sandra', 'Ana']"
      ]
     },
     "execution_count": 12,
     "metadata": {},
     "output_type": "execute_result"
    }
   ],
   "source": [
    "# Mostrar los valores de la key 'nombres', modo 1:\n",
    "datos_personas['nombres']"
   ]
  },
  {
   "cell_type": "code",
   "execution_count": 13,
   "metadata": {},
   "outputs": [
    {
     "data": {
      "text/plain": [
       "['Sonia', 'Sandra', 'Ana']"
      ]
     },
     "execution_count": 13,
     "metadata": {},
     "output_type": "execute_result"
    }
   ],
   "source": [
    "# Mostrar los valores de la key 'nombres', modo 2:\n",
    "datos_personas.get('nombres')"
   ]
  },
  {
   "cell_type": "code",
   "execution_count": 14,
   "metadata": {},
   "outputs": [
    {
     "data": {
      "text/plain": [
       "'Desconocida'"
      ]
     },
     "execution_count": 14,
     "metadata": {},
     "output_type": "execute_result"
    }
   ],
   "source": [
    "# Extraer los valores de la key 'nacionalidad', si no existe crear dicha key con value 'Desconocida':\n",
    "datos_personas.setdefault('nacionalidad', 'Desconocida')"
   ]
  },
  {
   "cell_type": "code",
   "execution_count": 15,
   "metadata": {},
   "outputs": [
    {
     "data": {
      "text/plain": [
       "{'nombres': ['Sonia', 'Sandra', 'Ana'],\n",
       " 'apellidos': ['Ruiz', 'Fernandez', 'Garcia'],\n",
       " 'edades': [29, 44, 25],\n",
       " 'hijos': [1, 2, 0],\n",
       " 'hermanos': [0, 1, 3],\n",
       " 'nacionalidad': 'Desconocida'}"
      ]
     },
     "execution_count": 15,
     "metadata": {},
     "output_type": "execute_result"
    }
   ],
   "source": [
    "datos_personas\n"
   ]
  },
  {
   "cell_type": "code",
   "execution_count": 34,
   "metadata": {},
   "outputs": [
    {
     "data": {
      "text/plain": [
       "[('apellidos', ['Ruiz', 'Fernandez', 'Garcia']),\n",
       " ('edades', [29, 44, 25]),\n",
       " ('hermanos', [0, 1, 3]),\n",
       " ('hijos', [1, 2, 0]),\n",
       " ('nacionalidad', 'Desconocida'),\n",
       " ('nombres', ['Sonia', 'Sandra', 'Ana'])]"
      ]
     },
     "execution_count": 34,
     "metadata": {},
     "output_type": "execute_result"
    }
   ],
   "source": [
    "# Ordenar los elementos del diccionario obteniendo una tupla:\n",
    "sorted(datos_personas.items())"
   ]
  },
  {
   "cell_type": "code",
   "execution_count": 18,
   "metadata": {},
   "outputs": [],
   "source": [
    "# Convertir la tupla anerior en un nuevo diccionario:\n",
    "datos_personas_dic = dict(sorted(datos_personas.items()))"
   ]
  },
  {
   "cell_type": "code",
   "execution_count": 19,
   "metadata": {},
   "outputs": [
    {
     "data": {
      "text/plain": [
       "{'apellidos': ['Ruiz', 'Fernandez', 'Garcia'],\n",
       " 'edades': [29, 44, 25],\n",
       " 'hermanos': [0, 1, 3],\n",
       " 'hijos': [1, 2, 0],\n",
       " 'nacionalidad': 'Desconocida',\n",
       " 'nombres': ['Sonia', 'Sandra', 'Ana']}"
      ]
     },
     "execution_count": 19,
     "metadata": {},
     "output_type": "execute_result"
    }
   ],
   "source": [
    "datos_personas_dic"
   ]
  },
  {
   "cell_type": "code",
   "execution_count": 20,
   "metadata": {},
   "outputs": [
    {
     "data": {
      "text/plain": [
       "'Desconocida'"
      ]
     },
     "execution_count": 20,
     "metadata": {},
     "output_type": "execute_result"
    }
   ],
   "source": [
    "# Eliminar la key 'nacionalidad':\n",
    "datos_personas_dic.pop('nacionalidad')"
   ]
  },
  {
   "cell_type": "code",
   "execution_count": 21,
   "metadata": {},
   "outputs": [
    {
     "data": {
      "text/plain": [
       "{'apellidos': ['Ruiz', 'Fernandez', 'Garcia'],\n",
       " 'edades': [29, 44, 25],\n",
       " 'hermanos': [0, 1, 3],\n",
       " 'hijos': [1, 2, 0],\n",
       " 'nombres': ['Sonia', 'Sandra', 'Ana']}"
      ]
     },
     "execution_count": 21,
     "metadata": {},
     "output_type": "execute_result"
    }
   ],
   "source": [
    "datos_personas_dic"
   ]
  },
  {
   "cell_type": "code",
   "execution_count": 26,
   "metadata": {},
   "outputs": [
    {
     "data": {
      "text/plain": [
       "'Sandra'"
      ]
     },
     "execution_count": 26,
     "metadata": {},
     "output_type": "execute_result"
    }
   ],
   "source": [
    "# Calcular la persona con mayor número de hijos:\n",
    "datos_personas_dic['nombres'][datos_personas_dic['hijos'].index(max(datos_personas_dic['hijos']))]"
   ]
  },
  {
   "cell_type": "code",
   "execution_count": 34,
   "metadata": {},
   "outputs": [
    {
     "name": "stdout",
     "output_type": "stream",
     "text": [
      "[1, 2, 0]\n",
      "2\n",
      "1\n",
      "La persona con más hijos es Sandra\n"
     ]
    }
   ],
   "source": [
    "#Otra manera de obtener el mismo resultado sería:\n",
    "##Primero nombramos una variable para los values de la key 'hijos':\n",
    "datos_personas_dic_hijos=datos_personas_dic['hijos']\n",
    "print(datos_personas_dic_hijos)\n",
    "\n",
    "##Después nombramos una variable para el valor máximo de los values de 'hijos':\n",
    "hijos_max=max(datos_personas_dic_hijos)\n",
    "print(hijos_max)\n",
    "\n",
    "##A continuación hacemos otra variable para el índice del máximo de hijos:\n",
    "index_hijos_max=datos_personas_dic['hijos'].index(hijos_max)\n",
    "print(index_hijos_max)\n",
    "\n",
    "##Con ese índice sacamos el nombre que está en esa misma posición:\n",
    "persona_max_hijos=datos_personas_dic['nombres'][index_hijos_max]\n",
    "print('La persona con más hijos es', persona_max_hijos)\n"
   ]
  },
  {
   "cell_type": "code",
   "execution_count": 35,
   "metadata": {},
   "outputs": [
    {
     "data": {
      "text/plain": [
       "'Ana'"
      ]
     },
     "execution_count": 35,
     "metadata": {},
     "output_type": "execute_result"
    }
   ],
   "source": [
    "# Calcular la persona de menor edad:\n",
    "datos_personas_dic['nombres'][datos_personas_dic['edades'].index(min(datos_personas_dic['edades']))]"
   ]
  },
  {
   "cell_type": "code",
   "execution_count": 37,
   "metadata": {},
   "outputs": [
    {
     "name": "stdout",
     "output_type": "stream",
     "text": [
      "[29, 44, 25]\n",
      "25\n",
      "2\n",
      "La persona más joven es Ana\n"
     ]
    }
   ],
   "source": [
    "#Otra manera de obtener el mismo resultado sería:\n",
    "##Primero nombramos una variable para los values de la key 'edades':\n",
    "datos_personas_dic_edades=datos_personas_dic['edades']\n",
    "print(datos_personas_dic_edades)\n",
    "\n",
    "##Después nombramos una variable para el valor mínimo de los values de 'edades':\n",
    "edades_min=min(datos_personas_dic_edades)\n",
    "print(edades_min)\n",
    "\n",
    "##A continuación hacemos otra variable para el índice del mínimo de edades:\n",
    "index_edades_min=datos_personas_dic['edades'].index(edades_min)\n",
    "print(index_edades_min)\n",
    "\n",
    "##Con ese índice sacamos el nombre que está en esa misma posición:\n",
    "persona_min_edades=datos_personas_dic['nombres'][index_edades_min]\n",
    "print('La persona más joven es', persona_min_edades)\n"
   ]
  },
  {
   "cell_type": "markdown",
   "metadata": {},
   "source": []
  }
 ],
 "metadata": {
  "kernelspec": {
   "display_name": "Python 3.9.7 ('base')",
   "language": "python",
   "name": "python3"
  },
  "language_info": {
   "codemirror_mode": {
    "name": "ipython",
    "version": 3
   },
   "file_extension": ".py",
   "mimetype": "text/x-python",
   "name": "python",
   "nbconvert_exporter": "python",
   "pygments_lexer": "ipython3",
   "version": "3.9.7"
  },
  "orig_nbformat": 4,
  "vscode": {
   "interpreter": {
    "hash": "468215beec16e96f99bc366ecab75b1d75db716e353e0417cbdb37be88f0d883"
   }
  }
 },
 "nbformat": 4,
 "nbformat_minor": 2
}
