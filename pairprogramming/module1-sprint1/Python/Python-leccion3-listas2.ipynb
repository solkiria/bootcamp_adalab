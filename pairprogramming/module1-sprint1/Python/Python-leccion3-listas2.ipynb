{
 "cells": [
  {
   "cell_type": "markdown",
   "metadata": {},
   "source": [
    "## LISTAS 2"
   ]
  },
  {
   "cell_type": "code",
   "execution_count": 1,
   "metadata": {},
   "outputs": [],
   "source": [
    "# Crear una lista con 10 números aleatorios del 0 al 100\n",
    "import random\n",
    "lista = random.sample(range(1,100), 10)"
   ]
  },
  {
   "cell_type": "code",
   "execution_count": 2,
   "metadata": {},
   "outputs": [
    {
     "data": {
      "text/plain": [
       "10"
      ]
     },
     "execution_count": 2,
     "metadata": {},
     "output_type": "execute_result"
    }
   ],
   "source": [
    "# Cuál es la longitud de la lista?\n",
    "len(lista)"
   ]
  },
  {
   "cell_type": "code",
   "execution_count": 3,
   "metadata": {},
   "outputs": [
    {
     "name": "stdout",
     "output_type": "stream",
     "text": [
      "[38, 25, 78, 69, 5, 20, 53, 41, 36, 17]\n"
     ]
    }
   ],
   "source": [
    "print(lista)"
   ]
  },
  {
   "cell_type": "code",
   "execution_count": 4,
   "metadata": {},
   "outputs": [
    {
     "data": {
      "text/plain": [
       "78"
      ]
     },
     "execution_count": 4,
     "metadata": {},
     "output_type": "execute_result"
    }
   ],
   "source": [
    "# Extraer el número que está en 3ª posición\n",
    "lista[2]"
   ]
  },
  {
   "cell_type": "code",
   "execution_count": 5,
   "metadata": {},
   "outputs": [
    {
     "data": {
      "text/plain": [
       "78"
      ]
     },
     "execution_count": 5,
     "metadata": {},
     "output_type": "execute_result"
    }
   ],
   "source": [
    "# Extraer el número que está en 3ª posición utilizando los índices negativos\n",
    "lista[-8]"
   ]
  },
  {
   "cell_type": "code",
   "execution_count": 35,
   "metadata": {},
   "outputs": [
    {
     "name": "stdout",
     "output_type": "stream",
     "text": [
      "53\n"
     ]
    }
   ],
   "source": [
    "# Preguntar al usuario por un número de la lista que hemos creado\n",
    "numero = int(input(\"Elige un número de la lista\"))\n",
    "print(numero)"
   ]
  },
  {
   "cell_type": "code",
   "execution_count": 17,
   "metadata": {},
   "outputs": [
    {
     "name": "stdout",
     "output_type": "stream",
     "text": [
      "[38, 25, 78, 69, 5, 20, 53, 41, 36, 17]\n"
     ]
    }
   ],
   "source": [
    "print(lista)"
   ]
  },
  {
   "cell_type": "code",
   "execution_count": 36,
   "metadata": {},
   "outputs": [
    {
     "name": "stdout",
     "output_type": "stream",
     "text": [
      "6\n"
     ]
    }
   ],
   "source": [
    "# En qué posición está ese número?\n",
    "print(lista.index(numero))"
   ]
  },
  {
   "cell_type": "code",
   "execution_count": 19,
   "metadata": {},
   "outputs": [
    {
     "data": {
      "text/plain": [
       "[78, 69, 5]"
      ]
     },
     "execution_count": 19,
     "metadata": {},
     "output_type": "execute_result"
    }
   ],
   "source": [
    "# Extraer los valores que están entre la 3ª y la 5ª posición, ambos inclusive.\n",
    "lista[2:5]"
   ]
  },
  {
   "cell_type": "code",
   "execution_count": 20,
   "metadata": {},
   "outputs": [
    {
     "data": {
      "text/plain": [
       "[20, 53, 41, 36]"
      ]
     },
     "execution_count": 20,
     "metadata": {},
     "output_type": "execute_result"
    }
   ],
   "source": [
    "# Extrear los valores que están entre las posiciones 6 y 9 utilizando los valores negativos.\n",
    "lista[-5:-1]"
   ]
  },
  {
   "cell_type": "code",
   "execution_count": 21,
   "metadata": {},
   "outputs": [
    {
     "data": {
      "text/plain": [
       "[25, 69, 20, 41, 17]"
      ]
     },
     "execution_count": 21,
     "metadata": {},
     "output_type": "execute_result"
    }
   ],
   "source": [
    "# Cuáles son los números que están en las posiciones pares de nuestra lista?\n",
    "lista[1::2]"
   ]
  },
  {
   "cell_type": "code",
   "execution_count": 22,
   "metadata": {},
   "outputs": [
    {
     "data": {
      "text/plain": [
       "[38, 78, 5, 53, 36]"
      ]
     },
     "execution_count": 22,
     "metadata": {},
     "output_type": "execute_result"
    }
   ],
   "source": [
    "# Y en las impares?\n",
    "lista[::2]"
   ]
  },
  {
   "cell_type": "code",
   "execution_count": 23,
   "metadata": {},
   "outputs": [],
   "source": [
    "# Dadas las listas:\n",
    "nombres = [\"Laura\", \"Lorena\", \"Lupe\", \"Loreto\", \"Lucia\"]\n",
    "notas = [9, 8.5, 9.8, 8.9, 9.2]"
   ]
  },
  {
   "cell_type": "code",
   "execution_count": 24,
   "metadata": {},
   "outputs": [
    {
     "data": {
      "text/plain": [
       "9.8"
      ]
     },
     "execution_count": 24,
     "metadata": {},
     "output_type": "execute_result"
    }
   ],
   "source": [
    "# Qué nota ha sacado Lupe?\n",
    "notas_lupe = notas[nombres.index(\"Lupe\")]\n",
    "notas_lupe"
   ]
  },
  {
   "cell_type": "code",
   "execution_count": 25,
   "metadata": {},
   "outputs": [
    {
     "data": {
      "text/plain": [
       "'Lupe'"
      ]
     },
     "execution_count": 25,
     "metadata": {},
     "output_type": "execute_result"
    }
   ],
   "source": [
    "# Qué alumno ha sacado la nota más alta?\n",
    "notas_max = nombres[notas.index(max(notas))]\n",
    "notas_max"
   ]
  },
  {
   "cell_type": "code",
   "execution_count": 26,
   "metadata": {},
   "outputs": [
    {
     "data": {
      "text/plain": [
       "'Lorena'"
      ]
     },
     "execution_count": 26,
     "metadata": {},
     "output_type": "execute_result"
    }
   ],
   "source": [
    "# Qué alumna ha sacado la nota más baja?\n",
    "notas_min = nombres[notas.index(min(notas))]\n",
    "notas_min"
   ]
  },
  {
   "cell_type": "code",
   "execution_count": 29,
   "metadata": {},
   "outputs": [
    {
     "name": "stdout",
     "output_type": "stream",
     "text": [
      "True\n"
     ]
    }
   ],
   "source": [
    "# Es esa nota mayor que 5?\n",
    "print(min(notas)>5)"
   ]
  },
  {
   "cell_type": "code",
   "execution_count": 30,
   "metadata": {},
   "outputs": [
    {
     "data": {
      "text/plain": [
       "[9.8, 9.2, 9, 8.9, 8.5]"
      ]
     },
     "execution_count": 30,
     "metadata": {},
     "output_type": "execute_result"
    }
   ],
   "source": [
    "# Ordenar la lista de notas de mayor a menor y almacenarlo en la variable \"notas_nuevo_orden\"\n",
    "notas_nuevo_orden = sorted(notas, reverse=True)\n",
    "notas_nuevo_orden"
   ]
  },
  {
   "cell_type": "code",
   "execution_count": 31,
   "metadata": {},
   "outputs": [
    {
     "data": {
      "text/plain": [
       "[9.8, 9.2, 9, 8.9, 8.5]"
      ]
     },
     "execution_count": 31,
     "metadata": {},
     "output_type": "execute_result"
    }
   ],
   "source": [
    "# Ordenar las notas de las alumnas de mayor a menor sobreescribiendo la variable \"notas\"\n",
    "notas.sort(reverse=True)\n",
    "notas"
   ]
  },
  {
   "cell_type": "code",
   "execution_count": 32,
   "metadata": {},
   "outputs": [
    {
     "data": {
      "text/plain": [
       "['Lupe', 'Lucia', 'Loreto', 'Lorena', 'Laura']"
      ]
     },
     "execution_count": 32,
     "metadata": {},
     "output_type": "execute_result"
    }
   ],
   "source": [
    "# Ordenar la variable \"nombres\" de mayor a menor. Se ordena alfabéticamente\n",
    "nombres.sort(reverse=True)\n",
    "nombres"
   ]
  },
  {
   "cell_type": "code",
   "execution_count": 33,
   "metadata": {},
   "outputs": [],
   "source": [
    "# Borrad la lista de notas\n",
    "del notas"
   ]
  },
  {
   "cell_type": "code",
   "execution_count": 37,
   "metadata": {},
   "outputs": [
    {
     "ename": "NameError",
     "evalue": "name 'notas' is not defined",
     "output_type": "error",
     "traceback": [
      "\u001b[1;31m---------------------------------------------------------------------------\u001b[0m",
      "\u001b[1;31mNameError\u001b[0m                                 Traceback (most recent call last)",
      "\u001b[1;32mc:\\Users\\sandr\\Desktop\\adalab\\pair-programming\\DA-promoC-modulo1-sprint1-sandraysonia\\Python\\Python-leccion3-listas2.ipynb Celda 23\u001b[0m in \u001b[0;36m<cell line: 1>\u001b[1;34m()\u001b[0m\n\u001b[1;32m----> <a href='vscode-notebook-cell:/c%3A/Users/sandr/Desktop/adalab/pair-programming/DA-promoC-modulo1-sprint1-sandraysonia/Python/Python-leccion3-listas2.ipynb#X33sZmlsZQ%3D%3D?line=0'>1</a>\u001b[0m notas\n",
      "\u001b[1;31mNameError\u001b[0m: name 'notas' is not defined"
     ]
    }
   ],
   "source": [
    "# Comprobar que no existe\n",
    "notas"
   ]
  },
  {
   "cell_type": "code",
   "execution_count": 11,
   "metadata": {},
   "outputs": [],
   "source": [
    "lunes = [34, 56, 82]\n",
    "martes = [99, 64, 24]\n",
    "miercoles = [12, 59, 71]"
   ]
  },
  {
   "cell_type": "code",
   "execution_count": 13,
   "metadata": {},
   "outputs": [
    {
     "data": {
      "text/plain": [
       "[34, 56, 82, [99, 64, 24], [12, 59, 71]]"
      ]
     },
     "execution_count": 13,
     "metadata": {},
     "output_type": "execute_result"
    }
   ],
   "source": [
    "# Unid las tres listas de forma que obtengamos: [34, 56, 82, [99, 64, 24], [12, 59, 71]]\n",
    "lunes.append(martes)\n",
    "lunes.append(miercoles)\n",
    "lunes"
   ]
  },
  {
   "cell_type": "code",
   "execution_count": 14,
   "metadata": {},
   "outputs": [],
   "source": [
    "# Definir de nuevo las tres listas\n",
    "lunes = [34, 56, 82]\n",
    "martes = [99, 64, 24]\n",
    "miercoles = [12, 59, 71]"
   ]
  },
  {
   "cell_type": "code",
   "execution_count": 15,
   "metadata": {},
   "outputs": [
    {
     "data": {
      "text/plain": [
       "[34, 56, 82, 99, 64, 24, 12, 59, 71]"
      ]
     },
     "execution_count": 15,
     "metadata": {},
     "output_type": "execute_result"
    }
   ],
   "source": [
    "# Unir de nuevo las tres listas, obteniendo: [34, 56, 82, 99, 64, 12, 59, 71]\n",
    "semana = lunes + martes + miercoles\n",
    "semana"
   ]
  },
  {
   "cell_type": "code",
   "execution_count": 16,
   "metadata": {},
   "outputs": [],
   "source": [
    "# Definir de nuevo las 3 listas\n",
    "lunes = [34, 56, 82]\n",
    "martes = [99, 64, 24]\n",
    "miercoles = [12, 59, 71]"
   ]
  },
  {
   "cell_type": "code",
   "execution_count": 17,
   "metadata": {},
   "outputs": [
    {
     "data": {
      "text/plain": [
       "[100, 34, 56, 82]"
      ]
     },
     "execution_count": 17,
     "metadata": {},
     "output_type": "execute_result"
    }
   ],
   "source": [
    "# En la lista lunes, insertar un 100 en la 1ª posición\n",
    "lunes.insert(0, 100)\n",
    "lunes"
   ]
  },
  {
   "cell_type": "code",
   "execution_count": 18,
   "metadata": {},
   "outputs": [
    {
     "data": {
      "text/plain": [
       "[99, 64, 100, 24]"
      ]
     },
     "execution_count": 18,
     "metadata": {},
     "output_type": "execute_result"
    }
   ],
   "source": [
    "# En la lista martes, insertar un 100 en la 3ª posición\n",
    "martes.insert(2, 100)\n",
    "martes"
   ]
  },
  {
   "cell_type": "code",
   "execution_count": 25,
   "metadata": {},
   "outputs": [
    {
     "data": {
      "text/plain": [
       "[12, 59, 71, 100]"
      ]
     },
     "execution_count": 25,
     "metadata": {},
     "output_type": "execute_result"
    }
   ],
   "source": [
    "# En la lista miércoles, insertar un 100 en la última posición\n",
    "miercoles.append(100)\n",
    "miercoles"
   ]
  }
 ],
 "metadata": {
  "kernelspec": {
   "display_name": "Python 3.9.12 ('base')",
   "language": "python",
   "name": "python3"
  },
  "language_info": {
   "codemirror_mode": {
    "name": "ipython",
    "version": 3
   },
   "file_extension": ".py",
   "mimetype": "text/x-python",
   "name": "python",
   "nbconvert_exporter": "python",
   "pygments_lexer": "ipython3",
   "version": "3.9.12"
  },
  "orig_nbformat": 4,
  "vscode": {
   "interpreter": {
    "hash": "8be240dc937e61b542e412c89351978950720d3fde5a0c37c158fb19f149fb89"
   }
  }
 },
 "nbformat": 4,
 "nbformat_minor": 2
}
