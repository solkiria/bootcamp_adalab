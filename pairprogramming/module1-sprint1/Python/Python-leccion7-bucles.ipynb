{
 "cells": [
  {
   "cell_type": "code",
   "execution_count": 1,
   "metadata": {},
   "outputs": [
    {
     "name": "stdout",
     "output_type": "stream",
     "text": [
      "102.0\n",
      "104.04\n",
      "106.1208\n",
      "108.243216\n"
     ]
    }
   ],
   "source": [
    "# 1. Escribid un programa que pregunte la cantidad a invertir, el interés anual y el número de años. Obtener el capital obtenido\n",
    "capital = int(input(\"Cuánto dinero va a invertir?\"))\n",
    "interes = int(input(\"A qué interés?\"))\n",
    "tiempo = int(input(\"Durante cuantos años?\"))\n",
    "for i in range(tiempo):\n",
    "    capital += (capital*interes/100)\n",
    "    print(capital)"
   ]
  },
  {
   "cell_type": "code",
   "execution_count": 2,
   "metadata": {},
   "outputs": [
    {
     "name": "stdout",
     "output_type": "stream",
     "text": [
      "4\n"
     ]
    }
   ],
   "source": [
    "# 2. Escribid un programa que pregunte una frase y una letra, y muestre el número de veces que aparece la letra en la frase\n",
    "frase = input(\"Escribe una frase\")\n",
    "letra = input(\"Elige una letra\")\n",
    "numero_letra = 0\n",
    "for i in frase:\n",
    "    if letra == i:\n",
    "        numero_letra += 1\n",
    "print(numero_letra)"
   ]
  },
  {
   "cell_type": "code",
   "execution_count": 4,
   "metadata": {},
   "outputs": [
    {
     "name": "stdout",
     "output_type": "stream",
     "text": [
      "1 x 9 = 9\n",
      "2 x 9 = 18\n",
      "3 x 9 = 27\n",
      "4 x 9 = 36\n",
      "5 x 9 = 45\n",
      "6 x 9 = 54\n",
      "7 x 9 = 63\n",
      "8 x 9 = 72\n",
      "9 x 9 = 81\n",
      "10 x 9 = 90\n"
     ]
    }
   ],
   "source": [
    "# 3. Escribid un programa que nos devuelva la tabla de multiplicar de un número especificado en un input\n",
    "numero = int(input(\"Escriba un número\"))\n",
    "for i in range(1,11):\n",
    "    print(i, \"x\", numero, \"=\", i*numero)"
   ]
  },
  {
   "cell_type": "code",
   "execution_count": 5,
   "metadata": {},
   "outputs": [
    {
     "name": "stdout",
     "output_type": "stream",
     "text": [
      "75\n",
      "150\n",
      "145\n"
     ]
    }
   ],
   "source": [
    "# 4. Escribid un programa que muestre solo los números que cumplan unas condiciones\n",
    "numbers = [12, 75, 150, 180, 145, 525, 50]\n",
    "for i in numbers:\n",
    "    if i % 5 == 0:\n",
    "        if i > 500:\n",
    "            break\n",
    "        if i > 150:\n",
    "            continue\n",
    "        print(i)"
   ]
  },
  {
   "cell_type": "code",
   "execution_count": 6,
   "metadata": {},
   "outputs": [
    {
     "name": "stdout",
     "output_type": "stream",
     "text": [
      "50\n",
      "40\n",
      "30\n",
      "20\n",
      "10\n"
     ]
    }
   ],
   "source": [
    "# 5. Imprimir la lista en el orden inverso\n",
    "list1 = [10, 20, 30, 40, 50]\n",
    "indice = -1\n",
    "for i in list1:\n",
    "    print(list1[indice])\n",
    "    indice -= 1"
   ]
  },
  {
   "cell_type": "code",
   "execution_count": 7,
   "metadata": {},
   "outputs": [
    {
     "name": "stdout",
     "output_type": "stream",
     "text": [
      "1\n",
      "4\n",
      "9\n"
     ]
    }
   ],
   "source": [
    "# 6. Utilizar un try o except para que no nos de error en el código dado en el ejercicio.\n",
    "for i in ['1', '2', '3']:\n",
    "    try:\n",
    "        print(i**2)\n",
    "    except:\n",
    "        print(int(i)**2)"
   ]
  }
 ],
 "metadata": {
  "kernelspec": {
   "display_name": "Python 3.9.7 ('base')",
   "language": "python",
   "name": "python3"
  },
  "language_info": {
   "codemirror_mode": {
    "name": "ipython",
    "version": 3
   },
   "file_extension": ".py",
   "mimetype": "text/x-python",
   "name": "python",
   "nbconvert_exporter": "python",
   "pygments_lexer": "ipython3",
   "version": "3.9.7"
  },
  "orig_nbformat": 4,
  "vscode": {
   "interpreter": {
    "hash": "468215beec16e96f99bc366ecab75b1d75db716e353e0417cbdb37be88f0d883"
   }
  }
 },
 "nbformat": 4,
 "nbformat_minor": 2
}
