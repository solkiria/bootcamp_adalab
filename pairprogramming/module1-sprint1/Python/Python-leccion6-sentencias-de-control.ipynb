{
 "cells": [
  {
   "cell_type": "code",
   "execution_count": 2,
   "metadata": {},
   "outputs": [
    {
     "name": "stdout",
     "output_type": "stream",
     "text": [
      "Has sacado una A\n"
     ]
    }
   ],
   "source": [
    "# 1.Preguntar al usuario su nota y devolver la letra correspondiente.\n",
    "nota = int(input('Escriba la nota obtenida, con número'))\n",
    "\n",
    "if nota <25 :\n",
    "    print('Has sacado una F')\n",
    "elif 25<=nota<45 :\n",
    "    print('Has sacado una E')\n",
    "elif 45<=nota<50 :\n",
    "    print('Has sacado una D')\n",
    "elif 50<=nota<60 :\n",
    "    print('Has sacado una C')\n",
    "elif 60<=nota<80 :\n",
    "    print('Has sacado una B')\n",
    "else:\n",
    "    print('Has sacado una A')\n"
   ]
  },
  {
   "cell_type": "code",
   "execution_count": 3,
   "metadata": {},
   "outputs": [
    {
     "name": "stdout",
     "output_type": "stream",
     "text": [
      "persona3 es la más joven y persona1 es la más mayor\n"
     ]
    }
   ],
   "source": [
    "# 2. Crea tres inputs para preguntar la edad, y determina quien es el más viejo y el más joven.\n",
    "persona1 = int(input('Indique su edad'))\n",
    "persona2 = int(input('Indique su edad'))\n",
    "persona3 = int(input('Indique su edad'))\n",
    "\n",
    "if persona1<persona2<persona3 :\n",
    "    print('persona1 es la más joven y persona3 es la más mayor')\n",
    "elif persona2<persona1<persona3 :\n",
    "    print('persona2 es la más joven y persona3 es la más mayor')\n",
    "elif persona2<persona3<persona1 :\n",
    "    print('persona2 es la más joven y persona1 es la más mayor')\n",
    "elif persona3<persona1<persona2 :\n",
    "    print('persona3 es la más joven y persona2 es la más mayor')\n",
    "elif persona3<persona2<persona1 :\n",
    "    print('persona3 es la más joven y persona1 es la más mayor')\n",
    "else:\n",
    "    print('persona1 es la más joven y persona2 e la más mayor')"
   ]
  },
  {
   "cell_type": "code",
   "execution_count": 6,
   "metadata": {},
   "outputs": [
    {
     "name": "stdout",
     "output_type": "stream",
     "text": [
      "Bienvenido a bordo 007\n"
     ]
    }
   ],
   "source": [
    "# 3. Escribir un saludo en función del usuario.\n",
    "\n",
    "nombre = input('¿Cómo te llamas?')\n",
    "\n",
    "if nombre==\"Bond\" :\n",
    "    print('Bienvenido a bordo 007')\n",
    "else:\n",
    "    print('Buenos días', nombre.upper())"
   ]
  },
  {
   "cell_type": "code",
   "execution_count": 9,
   "metadata": {},
   "outputs": [
    {
     "name": "stdout",
     "output_type": "stream",
     "text": [
      "['Taiwan', 'Japan', 'Russia', 'Canada', 'Bulgaria']\n",
      "[69593, 49894, 41396, 36388, 24987]\n",
      "---------\n",
      "['Russia', 'Japan', 'Taiwan']\n"
     ]
    }
   ],
   "source": [
    "# 4. Crear una lista con los paises con más árboles.\n",
    "tree= {\"Taiwan\": 69593, \"Japan\": 49894, \"Russia\": 41396, \"Canada\":36388, \"Bulgaria\":24987}\n",
    "masarboles = []\n",
    "paises = list(tree.keys())\n",
    "print(paises)\n",
    "arboles = list(tree.values())\n",
    "print(arboles)\n",
    "\n",
    "print('---------')\n",
    "\n",
    "while len(paises)>0 :\n",
    "    if arboles[-1]>40000 :\n",
    "        masarboles.append(paises[-1])\n",
    "        paises.pop()\n",
    "        arboles.pop()\n",
    "    else:\n",
    "        paises.pop()\n",
    "        arboles.pop()\n",
    "print(masarboles)"
   ]
  },
  {
   "cell_type": "code",
   "execution_count": 10,
   "metadata": {},
   "outputs": [
    {
     "name": "stdout",
     "output_type": "stream",
     "text": [
      "Grupo A\n"
     ]
    }
   ],
   "source": [
    "#5. Preguntar al usuario su nombre y sexo y clasificar en el grupo que corresponda.\n",
    "\n",
    "nombres_alumnos= input('¿Cual es su nombre?')\n",
    "genero_alumnos= input('¿Cual es su genero?(indique HOMBRE o MUJER)')\n",
    "\n",
    "if nombres_alumnos<='M' and genero_alumnos=='MUJER' :\n",
    "    print('Grupo A')\n",
    "elif nombres_alumnos>='N' and genero_alumnos=='HOMBRE' :\n",
    "    print('Grupo A')\n",
    "else:\n",
    "    print('Grupo B')\n"
   ]
  },
  {
   "cell_type": "code",
   "execution_count": 11,
   "metadata": {},
   "outputs": [
    {
     "name": "stdout",
     "output_type": "stream",
     "text": [
      "0\n",
      "1\n",
      "2\n"
     ]
    }
   ],
   "source": [
    "#6. Escribir un programa con sentencias de control.\n",
    "z=0\n",
    "lista_z=[]\n",
    "\n",
    "while z<3 :\n",
    "    if z==0 :\n",
    "        print(z)\n",
    "        lista_z.append(z)\n",
    "        z+=1\n",
    "    elif z==1 :\n",
    "        print(z)\n",
    "        lista_z.append(z)\n",
    "        z+=1\n",
    "    else:\n",
    "        print(z)\n",
    "        z+=1"
   ]
  },
  {
   "cell_type": "code",
   "execution_count": 14,
   "metadata": {},
   "outputs": [
    {
     "name": "stdout",
     "output_type": "stream",
     "text": [
      "[0, 1, 2, 3]\n"
     ]
    }
   ],
   "source": [
    "#7. Añadir elementos a una lista vacía utulizando while.\n",
    "lista_7=[]\n",
    "variable_7=0\n",
    "while len(lista_7)<4 :\n",
    "    lista_7.append(variable_7)\n",
    "    variable_7+=1\n",
    "print(lista_7)"
   ]
  },
  {
   "cell_type": "code",
   "execution_count": 15,
   "metadata": {},
   "outputs": [
    {
     "name": "stdout",
     "output_type": "stream",
     "text": [
      "115\n"
     ]
    }
   ],
   "source": [
    "#8. Encontrar una suma en una lista usando while.\n",
    "i=0\n",
    "lista_8=[23, 45, 12, 10, 25]\n",
    "suma=0\n",
    "while i<len(lista_8) :\n",
    "    suma+=lista_8[i]\n",
    "    i+=1\n",
    "print(suma)\n"
   ]
  },
  {
   "cell_type": "code",
   "execution_count": 16,
   "metadata": {},
   "outputs": [
    {
     "name": "stdout",
     "output_type": "stream",
     "text": [
      "Tienes que pagar 5€\n"
     ]
    }
   ],
   "source": [
    "#9. Escribir un programa para preguntar la edad y devolver el precio de la entrada.\n",
    "edad=int(input('¿Cuántos años tienes?'))\n",
    "if edad<4 :\n",
    "    print('Puedes entrar gratis =)')\n",
    "elif 4<=edad<18 :\n",
    "    print('Tienes que pagar 5€')\n",
    "else:\n",
    "    print('Tienes que pagar 10€')\n",
    "    "
   ]
  },
  {
   "cell_type": "code",
   "execution_count": 25,
   "metadata": {},
   "outputs": [
    {
     "name": "stdout",
     "output_type": "stream",
     "text": [
      "Pizza no vegetariana\n",
      "['mozarella', 'tomate', 'jamon']\n"
     ]
    }
   ],
   "source": [
    "#10. Escribir un prgrama que pregunte al usuario que pizza quiere y sus ingredientes.\n",
    "tipo_pizza=input('¿Quieres pizza vegetariana? Escriba si o no')\n",
    "ingredientes=['mozarella', 'tomate']\n",
    "if tipo_pizza=='si' :\n",
    "    print('Pizza vegetariana')\n",
    "    ingredientes.append(input('Escoja entre pimiento o tofu'))\n",
    "    print(ingredientes)\n",
    "elif tipo_pizza=='no':\n",
    "    print('Pizza no vegetariana')\n",
    "    ingredientes.append(input('Escoja entre peperoni, jamon y salmon'))\n",
    "    print(ingredientes)\n",
    "else:\n",
    "    print('No has marcado el tipo de pizza correctamente')"
   ]
  }
 ],
 "metadata": {
  "kernelspec": {
   "display_name": "Python 3.9.7 ('base')",
   "language": "python",
   "name": "python3"
  },
  "language_info": {
   "codemirror_mode": {
    "name": "ipython",
    "version": 3
   },
   "file_extension": ".py",
   "mimetype": "text/x-python",
   "name": "python",
   "nbconvert_exporter": "python",
   "pygments_lexer": "ipython3",
   "version": "3.9.7"
  },
  "orig_nbformat": 4,
  "vscode": {
   "interpreter": {
    "hash": "468215beec16e96f99bc366ecab75b1d75db716e353e0417cbdb37be88f0d883"
   }
  }
 },
 "nbformat": 4,
 "nbformat_minor": 2
}
