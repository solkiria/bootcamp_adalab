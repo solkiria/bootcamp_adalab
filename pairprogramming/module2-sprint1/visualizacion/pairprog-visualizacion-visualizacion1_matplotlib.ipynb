{
 "cells": [
  {
   "attachments": {},
   "cell_type": "markdown",
   "metadata": {},
   "source": [
    "# Ejercicios Pair Programming - Modulo 2 - Sprint 1 \n",
    "## Lección 5 - Visualización I: Matplotlib\n",
    "### Judith Mellidez y Sonia Ruiz"
   ]
  },
  {
   "attachments": {},
   "cell_type": "markdown",
   "metadata": {},
   "source": [
    "Es el momento de ponernos manos a la obra con la visualización de datos. En este primer ejercicio de pair programming trabajaremos con el csv que generamos en el ejercicio de pair programming de Pandas III, ese en el que habíamos eliminado algunas columnas de nuestro csv.\n",
    "\n",
    "Hoy realizaremos una serie de gráficas usando la librería de matplotlib para familiarizarnos un poco con los datos.\n",
    "\n",
    "📌 Para poder solucionar los ejercicios de hoy no solo tendremos que visualizar, también tendremos que usar métodos que hemos aprendido en lecciones anteriores de Pandas como por ejemplo value_counts(), isnull, describe, etc.\n",
    "\n",
    "Tendréis que realizar gráficas para contestar a las siguientes preguntas:\n",
    "1. ¿Cuál es la frecuencia de cada una de las categorías de la columna sex?"
   ]
  },
  {
   "cell_type": "code",
   "execution_count": 1,
   "metadata": {},
   "outputs": [],
   "source": [
    "#Importamos las librerias necesarias:\n",
    "import matplotlib.pyplot as plt\n",
    "import pandas as pd\n",
    "import numpy as np\n",
    "import seaborn as sns"
   ]
  },
  {
   "cell_type": "code",
   "execution_count": 2,
   "metadata": {},
   "outputs": [
    {
     "data": {
      "text/html": [
       "<div>\n",
       "<style scoped>\n",
       "    .dataframe tbody tr th:only-of-type {\n",
       "        vertical-align: middle;\n",
       "    }\n",
       "\n",
       "    .dataframe tbody tr th {\n",
       "        vertical-align: top;\n",
       "    }\n",
       "\n",
       "    .dataframe thead th {\n",
       "        text-align: right;\n",
       "    }\n",
       "</style>\n",
       "<table border=\"1\" class=\"dataframe\">\n",
       "  <thead>\n",
       "    <tr style=\"text-align: right;\">\n",
       "      <th></th>\n",
       "      <th>Unnamed: 0</th>\n",
       "      <th>case_number</th>\n",
       "      <th>unnamed:_0</th>\n",
       "      <th>year</th>\n",
       "      <th>type</th>\n",
       "      <th>country</th>\n",
       "      <th>area</th>\n",
       "      <th>location</th>\n",
       "      <th>activity</th>\n",
       "      <th>name</th>\n",
       "      <th>sex_</th>\n",
       "      <th>age</th>\n",
       "      <th>time</th>\n",
       "      <th>species_</th>\n",
       "      <th>href</th>\n",
       "      <th>siglo</th>\n",
       "    </tr>\n",
       "  </thead>\n",
       "  <tbody>\n",
       "    <tr>\n",
       "      <th>0</th>\n",
       "      <td>0</td>\n",
       "      <td>2018.06.25</td>\n",
       "      <td>0</td>\n",
       "      <td>2018.0</td>\n",
       "      <td>Boating</td>\n",
       "      <td>USA</td>\n",
       "      <td>California</td>\n",
       "      <td>Oceanside, San Diego County</td>\n",
       "      <td>Paddling</td>\n",
       "      <td>Julie Wolfe</td>\n",
       "      <td>F</td>\n",
       "      <td>57</td>\n",
       "      <td>18h00</td>\n",
       "      <td>White shark</td>\n",
       "      <td>http://sharkattackfile.net/spreadsheets/pdf_di...</td>\n",
       "      <td>siglo-XXI</td>\n",
       "    </tr>\n",
       "    <tr>\n",
       "      <th>1</th>\n",
       "      <td>6</td>\n",
       "      <td>2018.06.03.a</td>\n",
       "      <td>6</td>\n",
       "      <td>2018.0</td>\n",
       "      <td>Unprovoked</td>\n",
       "      <td>BRAZIL</td>\n",
       "      <td>Pernambuco</td>\n",
       "      <td>Piedade Beach, Recife</td>\n",
       "      <td>Swimming</td>\n",
       "      <td>Jose Ernesto da Silva</td>\n",
       "      <td>M</td>\n",
       "      <td>18</td>\n",
       "      <td>Late afternoon</td>\n",
       "      <td>Tiger shark</td>\n",
       "      <td>http://sharkattackfile.net/spreadsheets/pdf_di...</td>\n",
       "      <td>siglo-XXI</td>\n",
       "    </tr>\n",
       "    <tr>\n",
       "      <th>2</th>\n",
       "      <td>8</td>\n",
       "      <td>2018.05.26.b</td>\n",
       "      <td>8</td>\n",
       "      <td>2018.0</td>\n",
       "      <td>Unprovoked</td>\n",
       "      <td>USA</td>\n",
       "      <td>Florida</td>\n",
       "      <td>Cocoa Beach, Brevard  County</td>\n",
       "      <td>Walking</td>\n",
       "      <td>Cody High</td>\n",
       "      <td>M</td>\n",
       "      <td>15</td>\n",
       "      <td>17h00</td>\n",
       "      <td>Bull shark, 6'</td>\n",
       "      <td>http://sharkattackfile.net/spreadsheets/pdf_di...</td>\n",
       "      <td>siglo-XXI</td>\n",
       "    </tr>\n",
       "    <tr>\n",
       "      <th>3</th>\n",
       "      <td>10</td>\n",
       "      <td>2018.05.24</td>\n",
       "      <td>10</td>\n",
       "      <td>2018.0</td>\n",
       "      <td>Provoked</td>\n",
       "      <td>AUSTRALIA</td>\n",
       "      <td>Queensland</td>\n",
       "      <td>Cairns Aquarium</td>\n",
       "      <td>Feeding sharks</td>\n",
       "      <td>male</td>\n",
       "      <td>M</td>\n",
       "      <td>32</td>\n",
       "      <td>Morning</td>\n",
       "      <td>Grey reef shark</td>\n",
       "      <td>http://sharkattackfile.net/spreadsheets/pdf_di...</td>\n",
       "      <td>siglo-XXI</td>\n",
       "    </tr>\n",
       "    <tr>\n",
       "      <th>4</th>\n",
       "      <td>13</td>\n",
       "      <td>2018.05.13.a</td>\n",
       "      <td>13</td>\n",
       "      <td>2018.0</td>\n",
       "      <td>Invalid</td>\n",
       "      <td>ENGLAND</td>\n",
       "      <td>Cornwall</td>\n",
       "      <td>Off Land's End</td>\n",
       "      <td>Fishing</td>\n",
       "      <td>Max Berryman</td>\n",
       "      <td>M</td>\n",
       "      <td>21</td>\n",
       "      <td>08h15</td>\n",
       "      <td>Invalid incident</td>\n",
       "      <td>http://sharkattackfile.net/spreadsheets/pdf_di...</td>\n",
       "      <td>siglo-XXI</td>\n",
       "    </tr>\n",
       "  </tbody>\n",
       "</table>\n",
       "</div>"
      ],
      "text/plain": [
       "   Unnamed: 0   case_number  unnamed:_0    year        type    country  \\\n",
       "0           0    2018.06.25           0  2018.0     Boating        USA   \n",
       "1           6  2018.06.03.a           6  2018.0  Unprovoked     BRAZIL   \n",
       "2           8  2018.05.26.b           8  2018.0  Unprovoked        USA   \n",
       "3          10    2018.05.24          10  2018.0    Provoked  AUSTRALIA   \n",
       "4          13  2018.05.13.a          13  2018.0     Invalid    ENGLAND   \n",
       "\n",
       "         area                      location        activity  \\\n",
       "0  California   Oceanside, San Diego County        Paddling   \n",
       "1  Pernambuco         Piedade Beach, Recife        Swimming   \n",
       "2     Florida  Cocoa Beach, Brevard  County         Walking   \n",
       "3  Queensland               Cairns Aquarium  Feeding sharks   \n",
       "4    Cornwall                Off Land's End         Fishing   \n",
       "\n",
       "                     name sex_ age            time          species_  \\\n",
       "0             Julie Wolfe    F  57           18h00       White shark   \n",
       "1  Jose Ernesto da Silva     M  18  Late afternoon       Tiger shark   \n",
       "2               Cody High    M  15           17h00    Bull shark, 6'   \n",
       "3                    male    M  32         Morning   Grey reef shark   \n",
       "4            Max Berryman    M  21           08h15  Invalid incident   \n",
       "\n",
       "                                                href      siglo  \n",
       "0  http://sharkattackfile.net/spreadsheets/pdf_di...  siglo-XXI  \n",
       "1  http://sharkattackfile.net/spreadsheets/pdf_di...  siglo-XXI  \n",
       "2  http://sharkattackfile.net/spreadsheets/pdf_di...  siglo-XXI  \n",
       "3  http://sharkattackfile.net/spreadsheets/pdf_di...  siglo-XXI  \n",
       "4  http://sharkattackfile.net/spreadsheets/pdf_di...  siglo-XXI  "
      ]
     },
     "execution_count": 2,
     "metadata": {},
     "output_type": "execute_result"
    }
   ],
   "source": [
    "#Creamos un dataframe a partir de un archivo .csv .\n",
    "df=pd.read_csv('../pandas/Data_lecc4_pandas/attacks_lec4.csv')\n",
    "df.head()"
   ]
  },
  {
   "cell_type": "code",
   "execution_count": 5,
   "metadata": {},
   "outputs": [
    {
     "name": "stdout",
     "output_type": "stream",
     "text": [
      "El dataframe tiene 1502 filas y  16 columnas\n"
     ]
    }
   ],
   "source": [
    "#Obtenemos la forma del dataframe para saber el numero de filas y columnas que tiene.\n",
    "df_shape=df.shape\n",
    "print('El dataframe tiene',df_shape[0],'filas y ',df_shape[1],'columnas')"
   ]
  },
  {
   "cell_type": "code",
   "execution_count": 6,
   "metadata": {},
   "outputs": [
    {
     "data": {
      "text/plain": [
       "Index(['Unnamed: 0', 'case_number', 'unnamed:_0', 'year', 'type', 'country',\n",
       "       'area', 'location', 'activity', 'name', 'sex_', 'age', 'time',\n",
       "       'species_', 'href', 'siglo'],\n",
       "      dtype='object')"
      ]
     },
     "execution_count": 6,
     "metadata": {},
     "output_type": "execute_result"
    }
   ],
   "source": [
    "#Creamos una variable con los nombres de las columnas del dataframe.\n",
    "df_columns=df.columns\n",
    "df_columns"
   ]
  },
  {
   "cell_type": "code",
   "execution_count": 7,
   "metadata": {},
   "outputs": [
    {
     "name": "stdout",
     "output_type": "stream",
     "text": [
      "<class 'pandas.core.frame.DataFrame'>\n",
      "RangeIndex: 1502 entries, 0 to 1501\n",
      "Data columns (total 16 columns):\n",
      " #   Column       Non-Null Count  Dtype  \n",
      "---  ------       --------------  -----  \n",
      " 0   Unnamed: 0   1502 non-null   int64  \n",
      " 1   case_number  1502 non-null   object \n",
      " 2   unnamed:_0   1502 non-null   int64  \n",
      " 3   year         1502 non-null   float64\n",
      " 4   type         1502 non-null   object \n",
      " 5   country      1502 non-null   object \n",
      " 6   area         1502 non-null   object \n",
      " 7   location     1502 non-null   object \n",
      " 8   activity     1502 non-null   object \n",
      " 9   name         1502 non-null   object \n",
      " 10  sex_         1502 non-null   object \n",
      " 11  age          1502 non-null   object \n",
      " 12  time         1502 non-null   object \n",
      " 13  species_     1502 non-null   object \n",
      " 14  href         1502 non-null   object \n",
      " 15  siglo        1502 non-null   object \n",
      "dtypes: float64(1), int64(2), object(13)\n",
      "memory usage: 187.9+ KB\n"
     ]
    }
   ],
   "source": [
    "#Obtenemos todas las columnas del dtaframe junto con el numero de valores no nulos que contienen\n",
    "#  y el tipo de datos de que presentan.\n",
    "df.info()"
   ]
  },
  {
   "cell_type": "code",
   "execution_count": 8,
   "metadata": {},
   "outputs": [
    {
     "data": {
      "text/html": [
       "<div>\n",
       "<style scoped>\n",
       "    .dataframe tbody tr th:only-of-type {\n",
       "        vertical-align: middle;\n",
       "    }\n",
       "\n",
       "    .dataframe tbody tr th {\n",
       "        vertical-align: top;\n",
       "    }\n",
       "\n",
       "    .dataframe thead th {\n",
       "        text-align: right;\n",
       "    }\n",
       "</style>\n",
       "<table border=\"1\" class=\"dataframe\">\n",
       "  <thead>\n",
       "    <tr style=\"text-align: right;\">\n",
       "      <th></th>\n",
       "      <th>Unnamed: 0</th>\n",
       "      <th>unnamed:_0</th>\n",
       "      <th>year</th>\n",
       "    </tr>\n",
       "  </thead>\n",
       "  <tbody>\n",
       "    <tr>\n",
       "      <th>count</th>\n",
       "      <td>1502.000000</td>\n",
       "      <td>1502.000000</td>\n",
       "      <td>1502.000000</td>\n",
       "    </tr>\n",
       "    <tr>\n",
       "      <th>mean</th>\n",
       "      <td>2162.768309</td>\n",
       "      <td>2169.600533</td>\n",
       "      <td>1991.604527</td>\n",
       "    </tr>\n",
       "    <tr>\n",
       "      <th>std</th>\n",
       "      <td>1332.991575</td>\n",
       "      <td>1336.383393</td>\n",
       "      <td>23.489506</td>\n",
       "    </tr>\n",
       "    <tr>\n",
       "      <th>min</th>\n",
       "      <td>0.000000</td>\n",
       "      <td>0.000000</td>\n",
       "      <td>1868.000000</td>\n",
       "    </tr>\n",
       "    <tr>\n",
       "      <th>25%</th>\n",
       "      <td>1091.250000</td>\n",
       "      <td>1096.250000</td>\n",
       "      <td>1978.000000</td>\n",
       "    </tr>\n",
       "    <tr>\n",
       "      <th>50%</th>\n",
       "      <td>1965.000000</td>\n",
       "      <td>1972.000000</td>\n",
       "      <td>2001.000000</td>\n",
       "    </tr>\n",
       "    <tr>\n",
       "      <th>75%</th>\n",
       "      <td>3102.000000</td>\n",
       "      <td>3112.000000</td>\n",
       "      <td>2009.000000</td>\n",
       "    </tr>\n",
       "    <tr>\n",
       "      <th>max</th>\n",
       "      <td>5905.000000</td>\n",
       "      <td>5922.000000</td>\n",
       "      <td>2018.000000</td>\n",
       "    </tr>\n",
       "  </tbody>\n",
       "</table>\n",
       "</div>"
      ],
      "text/plain": [
       "        Unnamed: 0   unnamed:_0         year\n",
       "count  1502.000000  1502.000000  1502.000000\n",
       "mean   2162.768309  2169.600533  1991.604527\n",
       "std    1332.991575  1336.383393    23.489506\n",
       "min       0.000000     0.000000  1868.000000\n",
       "25%    1091.250000  1096.250000  1978.000000\n",
       "50%    1965.000000  1972.000000  2001.000000\n",
       "75%    3102.000000  3112.000000  2009.000000\n",
       "max    5905.000000  5922.000000  2018.000000"
      ]
     },
     "execution_count": 8,
     "metadata": {},
     "output_type": "execute_result"
    }
   ],
   "source": [
    "#Obtenemos una tabla con los principales analisis estadisticos de las columnas del dataframe\n",
    "#  con variables numericas.\n",
    "df.describe()"
   ]
  },
  {
   "cell_type": "code",
   "execution_count": 5,
   "metadata": {},
   "outputs": [
    {
     "data": {
      "text/plain": [
       "M      1294\n",
       "F       207\n",
       "lli       1\n",
       "Name: sex_, dtype: int64"
      ]
     },
     "execution_count": 5,
     "metadata": {},
     "output_type": "execute_result"
    }
   ],
   "source": [
    "#Obtenemos los valores unicos de la columna \"sex_\" y el numero de filas que presentan cada valor.\n",
    "df_frec_sex=df['sex_'].value_counts()\n",
    "df_frec_sex"
   ]
  },
  {
   "cell_type": "code",
   "execution_count": 10,
   "metadata": {},
   "outputs": [
    {
     "data": {
      "image/png": "[encoded data removed]",
      "text/plain": [
       "<Figure size 432x288 with 1 Axes>"
      ]
     },
     "metadata": {
      "needs_background": "light"
     },
     "output_type": "display_data"
    }
   ],
   "source": [
    "#Realizamos un diagrama de barras (bar plot) para mostrar las frecuencias de cada categoria\n",
    "#  presente en la columna \"sex_\" de nuestro dataframe.\n",
    "x=df_frec_sex.index\n",
    "y=df_frec_sex.values\n",
    "plt.figure()\n",
    "plt.bar(x,y)\n",
    "plt.show()"
   ]
  },
  {
   "attachments": {},
   "cell_type": "markdown",
   "metadata": {},
   "source": [
    "    - En este diagrama podemos ver que la categoria M es la mas numerosa."
   ]
  },
  {
   "attachments": {},
   "cell_type": "markdown",
   "metadata": {},
   "source": [
    "2. ¿Cuál es el porcentaje de nulos por columna? Usa un pie chart donde incluyáis el porcentaje de cada variable en el interior del quesito. Para eso tendréis que usar el parámetro autopct, aquí algo de documentación. (https://www.tutorialspoint.com/matplotlib/matplotlib_pie_chart.htm)"
   ]
  },
  {
   "cell_type": "code",
   "execution_count": 11,
   "metadata": {},
   "outputs": [
    {
     "data": {
      "text/plain": [
       "Unnamed: 0     0\n",
       "case_number    0\n",
       "unnamed:_0     0\n",
       "year           0\n",
       "type           0\n",
       "country        0\n",
       "area           0\n",
       "location       0\n",
       "activity       0\n",
       "name           0\n",
       "sex_           0\n",
       "age            0\n",
       "time           0\n",
       "species_       0\n",
       "href           0\n",
       "siglo          0\n",
       "dtype: int64"
      ]
     },
     "execution_count": 11,
     "metadata": {},
     "output_type": "execute_result"
    }
   ],
   "source": [
    "df_nulos=df.isna().sum()\n",
    "df_nulos\n",
    "#no calculamos el porcentaje de nulos por columna (porcentajes=(df.isna().sum())/(df.isna().sum().sum())*100)\n",
    "#  porque no hay ningun nulo en las columnas. Tomamos los datos ceros como dato para el piechart.\n"
   ]
  },
  {
   "cell_type": "code",
   "execution_count": 12,
   "metadata": {},
   "outputs": [
    {
     "data": {
      "text/plain": [
       "Unnamed: 0     0.0\n",
       "case_number    0.0\n",
       "unnamed:_0     0.0\n",
       "year           0.0\n",
       "type           0.0\n",
       "country        0.0\n",
       "area           0.0\n",
       "location       0.0\n",
       "activity       0.0\n",
       "name           0.0\n",
       "sex_           0.0\n",
       "age            0.0\n",
       "time           0.0\n",
       "species_       0.0\n",
       "href           0.0\n",
       "siglo          0.0\n",
       "dtype: float64"
      ]
     },
     "execution_count": 12,
     "metadata": {},
     "output_type": "execute_result"
    }
   ],
   "source": [
    "df_nulos/df.shape[0]*100"
   ]
  },
  {
   "cell_type": "code",
   "execution_count": 13,
   "metadata": {},
   "outputs": [
    {
     "name": "stderr",
     "output_type": "stream",
     "text": [
      "/var/folders/f0/204ksvss62b9dwtcgg8q17540000gn/T/ipykernel_5274/3754034225.py:7: MatplotlibDeprecationWarning: normalize=None does not normalize if the sum is less than 1 but this behavior is deprecated since 3.3 until two minor releases later. After the deprecation period the default value will be normalize=True. To prevent normalization pass normalize=False \n",
      "  plt.pie(df_nulos,labels=variables,autopct='%1.2f%%')\n"
     ]
    },
    {
     "data": {
      "image/png": "[encoded data removed]",
      "text/plain": [
       "<Figure size 432x288 with 1 Axes>"
      ]
     },
     "metadata": {},
     "output_type": "display_data"
    }
   ],
   "source": [
    "variables=['Unnamed: 0', 'case_number', 'unnamed:_0', 'year', 'type', 'country',\n",
    "       'area', 'location', 'activity', 'name', 'sex_', 'age', 'time',\n",
    "       'species_', 'href', 'siglo']\n",
    "       #lo hemos copiado de la variable df_columns, aunque podriamos haber ejecutado aqui otra vez el\n",
    "       #  codigo df.columns\n",
    "plt.figure()\n",
    "plt.pie(df_nulos,labels=variables,autopct='%1.2f%%')\n",
    "plt.show()"
   ]
  },
  {
   "attachments": {},
   "cell_type": "markdown",
   "metadata": {},
   "source": [
    "    - el piechart no muestra nada ya que no tenemos ningun valor nulo en ninguna de sus variables."
   ]
  },
  {
   "cell_type": "code",
   "execution_count": 8,
   "metadata": {},
   "outputs": [
    {
     "data": {
      "image/png": "[encoded data removed]",
      "text/plain": [
       "<Figure size 432x288 with 1 Axes>"
      ]
     },
     "metadata": {},
     "output_type": "display_data"
    }
   ],
   "source": [
    "#Para mostras un ejemplo de piechart que si represente valores del dataframe podemos tomar\n",
    "#  la columna \"sex_\" de nuevo y asi ver un ejemplo de un grafico de sectores.\n",
    "plt.figure()\n",
    "plt.pie(df_frec_sex,labels=df_frec_sex.index,autopct='%1.2f%%')\n",
    "plt.show()"
   ]
  },
  {
   "attachments": {},
   "cell_type": "markdown",
   "metadata": {},
   "source": [
    "    - En este diagrama vemos que el 86,15% de los datos corresponden a \"M\" (hombres), 13,78% a \"F\" (mujeres) y el 0,07% a \"lli\" (variable que debemos analizar si eliminamos ese registro)."
   ]
  },
  {
   "attachments": {},
   "cell_type": "markdown",
   "metadata": {},
   "source": [
    "3. ¿Cuál es el número total de valores únicos de cada una de las columnas categóricas del DataFrame?"
   ]
  },
  {
   "cell_type": "code",
   "execution_count": 14,
   "metadata": {},
   "outputs": [
    {
     "data": {
      "text/plain": [
       "case_number    1502\n",
       "type              5\n",
       "country          64\n",
       "area            186\n",
       "location       1208\n",
       "activity        347\n",
       "name           1426\n",
       "sex_              3\n",
       "age              92\n",
       "time            248\n",
       "species_        834\n",
       "href           1502\n",
       "siglo             2\n",
       "Name: unique, dtype: object"
      ]
     },
     "execution_count": 14,
     "metadata": {},
     "output_type": "execute_result"
    }
   ],
   "source": [
    "#Obtenemos los principales estadisticos de las columnas con valores categoricos y transponemos\n",
    "#  la tabla obtenida. Guardamos en otra variable los valores unicos que tiene cada columna del dataframe.\n",
    "df_describe=df.describe(include='object').T\n",
    "df_cat_unique=df_describe['unique']\n",
    "df_cat_unique"
   ]
  },
  {
   "cell_type": "code",
   "execution_count": 15,
   "metadata": {},
   "outputs": [
    {
     "data": {
      "image/png": "[encoded data removed]",
      "text/plain": [
       "<Figure size 432x288 with 1 Axes>"
      ]
     },
     "metadata": {
      "needs_background": "light"
     },
     "output_type": "display_data"
    }
   ],
   "source": [
    "#Representamos en un diagrama de barras el valor de valores unicos que tiene cada columna. Representando\n",
    "#  en el eje X los nombres de las columnas y en el eje Y la cantidad de valores unicos de cada una.\n",
    "x=df_cat_unique.index\n",
    "y=df_cat_unique.values\n",
    "plt.figure()\n",
    "plt.bar(x,y)\n",
    "plt.xticks(rotation = 90)\n",
    "plt.show()"
   ]
  },
  {
   "attachments": {},
   "cell_type": "markdown",
   "metadata": {},
   "source": [
    "    - Podemos observar que las columnas con mayor numero de valores unicos son \"case_number\" (ya que tiene esta columna como tipo object), \"name\" y \"href\". Y las que menos \"type\", \"sex_\" y \"siglo\"."
   ]
  },
  {
   "attachments": {},
   "cell_type": "markdown",
   "metadata": {},
   "source": [
    "4. Filtrad los datos para quedarnos solo con los datos de USA.\n",
    "- ¿Cuántos ataques de tiburones hubo en USA a lo largo del tiempo? Muestra solo los que hayan ocurrido del 2000 en adelante."
   ]
  },
  {
   "cell_type": "code",
   "execution_count": 22,
   "metadata": {},
   "outputs": [
    {
     "data": {
      "text/plain": [
       "<Figure size 1440x360 with 0 Axes>"
      ]
     },
     "metadata": {},
     "output_type": "display_data"
    },
    {
     "data": {
      "image/png": "[encoded data removed]",
      "text/plain": [
       "<Figure size 432x288 with 1 Axes>"
      ]
     },
     "metadata": {
      "needs_background": "light"
     },
     "output_type": "display_data"
    }
   ],
   "source": [
    "#Mostramos en un diagrama de barras los ataques de tiburones que han ocurrido en \"USA\" desde\n",
    "#  el año 2000 (incluido).\n",
    "plt.figure(figsize=(20,5))\n",
    "df_USA=df[df['country']=='USA']['year'].value_counts()\n",
    "\n",
    "x=df_USA[df_USA.index>=2000].index\n",
    "y=df_USA[df_USA.index>=2000].values\n",
    "\n",
    "plt.figure()\n",
    "plt.bar(x,y)\n",
    "\n",
    "plt.show()"
   ]
  },
  {
   "attachments": {},
   "cell_type": "markdown",
   "metadata": {},
   "source": [
    "    - Podemos ver que los años donde ocurrieron mas ataques en \"USA\" desde el 2000 fueron en el 2015, seguido de 2002 y 2007."
   ]
  },
  {
   "attachments": {},
   "cell_type": "markdown",
   "metadata": {},
   "source": [
    "- En función del tipo, ¿cuántos ataques de tiburones de cada tipo hubo en USA? Muestra los resultados en un gráfico de línea."
   ]
  },
  {
   "cell_type": "code",
   "execution_count": 34,
   "metadata": {},
   "outputs": [],
   "source": [
    "#Creamos un dataframe con los ataques de tiburones ocurridos en \"USA\".\n",
    "df_USA_type=df[df['country']=='USA']"
   ]
  },
  {
   "cell_type": "code",
   "execution_count": 38,
   "metadata": {},
   "outputs": [
    {
     "data": {
      "text/plain": [
       "Index(['Unnamed: 0', 'case_number', 'unnamed:_0', 'year', 'type', 'country',\n",
       "       'area', 'location', 'activity', 'name', 'sex_', 'age', 'time',\n",
       "       'species_', 'href', 'siglo'],\n",
       "      dtype='object')"
      ]
     },
     "execution_count": 38,
     "metadata": {},
     "output_type": "execute_result"
    }
   ],
   "source": [
    "#Obtenemos los nombres de las columans del dataframe que acabamos de obtener.\n",
    "df_USA_type.columns"
   ]
  },
  {
   "cell_type": "code",
   "execution_count": 37,
   "metadata": {},
   "outputs": [
    {
     "data": {
      "text/html": [
       "<div>\n",
       "<style scoped>\n",
       "    .dataframe tbody tr th:only-of-type {\n",
       "        vertical-align: middle;\n",
       "    }\n",
       "\n",
       "    .dataframe tbody tr th {\n",
       "        vertical-align: top;\n",
       "    }\n",
       "\n",
       "    .dataframe thead th {\n",
       "        text-align: right;\n",
       "    }\n",
       "</style>\n",
       "<table border=\"1\" class=\"dataframe\">\n",
       "  <thead>\n",
       "    <tr style=\"text-align: right;\">\n",
       "      <th></th>\n",
       "      <th>Unnamed: 0</th>\n",
       "      <th>case_number</th>\n",
       "      <th>unnamed:_0</th>\n",
       "      <th>year</th>\n",
       "      <th>type</th>\n",
       "      <th>country</th>\n",
       "      <th>area</th>\n",
       "      <th>location</th>\n",
       "      <th>activity</th>\n",
       "      <th>name</th>\n",
       "      <th>sex_</th>\n",
       "      <th>age</th>\n",
       "      <th>time</th>\n",
       "      <th>species_</th>\n",
       "      <th>href</th>\n",
       "      <th>siglo</th>\n",
       "    </tr>\n",
       "  </thead>\n",
       "  <tbody>\n",
       "    <tr>\n",
       "      <th>0</th>\n",
       "      <td>0</td>\n",
       "      <td>2018.06.25</td>\n",
       "      <td>0</td>\n",
       "      <td>2018.0</td>\n",
       "      <td>Boating</td>\n",
       "      <td>USA</td>\n",
       "      <td>California</td>\n",
       "      <td>Oceanside, San Diego County</td>\n",
       "      <td>Paddling</td>\n",
       "      <td>Julie Wolfe</td>\n",
       "      <td>F</td>\n",
       "      <td>57</td>\n",
       "      <td>18h00</td>\n",
       "      <td>White shark</td>\n",
       "      <td>http://sharkattackfile.net/spreadsheets/pdf_di...</td>\n",
       "      <td>siglo-XXI</td>\n",
       "    </tr>\n",
       "    <tr>\n",
       "      <th>2</th>\n",
       "      <td>8</td>\n",
       "      <td>2018.05.26.b</td>\n",
       "      <td>8</td>\n",
       "      <td>2018.0</td>\n",
       "      <td>Unprovoked</td>\n",
       "      <td>USA</td>\n",
       "      <td>Florida</td>\n",
       "      <td>Cocoa Beach, Brevard  County</td>\n",
       "      <td>Walking</td>\n",
       "      <td>Cody High</td>\n",
       "      <td>M</td>\n",
       "      <td>15</td>\n",
       "      <td>17h00</td>\n",
       "      <td>Bull shark, 6'</td>\n",
       "      <td>http://sharkattackfile.net/spreadsheets/pdf_di...</td>\n",
       "      <td>siglo-XXI</td>\n",
       "    </tr>\n",
       "    <tr>\n",
       "      <th>10</th>\n",
       "      <td>35</td>\n",
       "      <td>2018.03.31</td>\n",
       "      <td>35</td>\n",
       "      <td>2018.0</td>\n",
       "      <td>Unprovoked</td>\n",
       "      <td>USA</td>\n",
       "      <td>Hawaii</td>\n",
       "      <td>Kukio Beach</td>\n",
       "      <td>Stand-Up Paddleboarding</td>\n",
       "      <td>male</td>\n",
       "      <td>M</td>\n",
       "      <td>25</td>\n",
       "      <td>09h30</td>\n",
       "      <td>Tiger shark, 12'</td>\n",
       "      <td>http://sharkattackfile.net/spreadsheets/pdf_di...</td>\n",
       "      <td>siglo-XXI</td>\n",
       "    </tr>\n",
       "    <tr>\n",
       "      <th>17</th>\n",
       "      <td>53</td>\n",
       "      <td>2017.12.31</td>\n",
       "      <td>53</td>\n",
       "      <td>2017.0</td>\n",
       "      <td>Unprovoked</td>\n",
       "      <td>USA</td>\n",
       "      <td>Hawaii</td>\n",
       "      <td>Hultin's Beach, Oahu</td>\n",
       "      <td>Surfing</td>\n",
       "      <td>Marjorie Mariano</td>\n",
       "      <td>F</td>\n",
       "      <td>54</td>\n",
       "      <td>18h00</td>\n",
       "      <td>Tiger shark</td>\n",
       "      <td>http://sharkattackfile.net/spreadsheets/pdf_di...</td>\n",
       "      <td>siglo-XXI</td>\n",
       "    </tr>\n",
       "    <tr>\n",
       "      <th>18</th>\n",
       "      <td>60</td>\n",
       "      <td>2017.11.24</td>\n",
       "      <td>60</td>\n",
       "      <td>2017.0</td>\n",
       "      <td>Unprovoked</td>\n",
       "      <td>USA</td>\n",
       "      <td>California</td>\n",
       "      <td>Stillwater Cove, Monterey County</td>\n",
       "      <td>Spearfishing</td>\n",
       "      <td>Grigor Azatian</td>\n",
       "      <td>M</td>\n",
       "      <td>25</td>\n",
       "      <td>13h45</td>\n",
       "      <td>White shark, 4.6 m</td>\n",
       "      <td>http://sharkattackfile.net/spreadsheets/pdf_di...</td>\n",
       "      <td>siglo-XXI</td>\n",
       "    </tr>\n",
       "  </tbody>\n",
       "</table>\n",
       "</div>"
      ],
      "text/plain": [
       "    Unnamed: 0   case_number  unnamed:_0    year        type country  \\\n",
       "0            0    2018.06.25           0  2018.0     Boating     USA   \n",
       "2            8  2018.05.26.b           8  2018.0  Unprovoked     USA   \n",
       "10          35    2018.03.31          35  2018.0  Unprovoked     USA   \n",
       "17          53    2017.12.31          53  2017.0  Unprovoked     USA   \n",
       "18          60    2017.11.24          60  2017.0  Unprovoked     USA   \n",
       "\n",
       "          area                          location                 activity  \\\n",
       "0   California       Oceanside, San Diego County                 Paddling   \n",
       "2      Florida      Cocoa Beach, Brevard  County                  Walking   \n",
       "10      Hawaii                       Kukio Beach  Stand-Up Paddleboarding   \n",
       "17      Hawaii              Hultin's Beach, Oahu                  Surfing   \n",
       "18  California  Stillwater Cove, Monterey County             Spearfishing   \n",
       "\n",
       "                name sex_ age   time            species_  \\\n",
       "0        Julie Wolfe    F  57  18h00         White shark   \n",
       "2          Cody High    M  15  17h00      Bull shark, 6'   \n",
       "10              male    M  25  09h30    Tiger shark, 12'   \n",
       "17  Marjorie Mariano    F  54  18h00         Tiger shark   \n",
       "18    Grigor Azatian    M  25  13h45  White shark, 4.6 m   \n",
       "\n",
       "                                                 href      siglo  \n",
       "0   http://sharkattackfile.net/spreadsheets/pdf_di...  siglo-XXI  \n",
       "2   http://sharkattackfile.net/spreadsheets/pdf_di...  siglo-XXI  \n",
       "10  http://sharkattackfile.net/spreadsheets/pdf_di...  siglo-XXI  \n",
       "17  http://sharkattackfile.net/spreadsheets/pdf_di...  siglo-XXI  \n",
       "18  http://sharkattackfile.net/spreadsheets/pdf_di...  siglo-XXI  "
      ]
     },
     "execution_count": 37,
     "metadata": {},
     "output_type": "execute_result"
    }
   ],
   "source": [
    "#Mostramos las 5 primeras filas del dataframe creado.\n",
    "df_USA_type.head(5)"
   ]
  },
  {
   "cell_type": "code",
   "execution_count": 39,
   "metadata": {},
   "outputs": [
    {
     "data": {
      "text/plain": [
       "Unprovoked      612\n",
       "Provoked         48\n",
       "Invalid          47\n",
       "Boating          11\n",
       "Sea Disaster      1\n",
       "Name: type, dtype: int64"
      ]
     },
     "execution_count": 39,
     "metadata": {},
     "output_type": "execute_result"
    }
   ],
   "source": [
    "#Obtenemos un recuento del nuero de filas qeu presentan cada valor unico de la columna \"type\" en\n",
    "#  el datafrem con los valores de \"USA\".\n",
    "df_USA_type['type'].value_counts()"
   ]
  },
  {
   "cell_type": "code",
   "execution_count": 40,
   "metadata": {},
   "outputs": [
    {
     "data": {
      "text/plain": [
       "array(['Boating', 'Unprovoked', 'Invalid', 'Provoked', 'Sea Disaster'],\n",
       "      dtype=object)"
      ]
     },
     "execution_count": 40,
     "metadata": {},
     "output_type": "execute_result"
    }
   ],
   "source": [
    "#Obtenemos la lista de los valores unicos de la columna \"type\" del dataframe.\n",
    "df_USA_type['type'].unique()"
   ]
  },
  {
   "cell_type": "code",
   "execution_count": 41,
   "metadata": {},
   "outputs": [
    {
     "data": {
      "image/png": "[encoded data removed]",
      "text/plain": [
       "<Figure size 432x288 with 1 Axes>"
      ]
     },
     "metadata": {
      "needs_background": "light"
     },
     "output_type": "display_data"
    }
   ],
   "source": [
    "#Creamos una grafica lineal los valores unicos de la columna \"type\" del dataframe y sus frecuencias.\n",
    "#Hemos ultizado el metodo '.index' para obtener los inidices de los value_counts() en el\n",
    "#  mismo orden de sus valores y sea correlativo con el eje y.\n",
    "plt.figure()\n",
    "\n",
    "x=df_USA_type['type'].value_counts().index\n",
    "y=df_USA_type['type'].value_counts()\n",
    "\n",
    "plt.plot(x,y)\n",
    "plt.show()"
   ]
  },
  {
   "attachments": {},
   "cell_type": "markdown",
   "metadata": {},
   "source": [
    "    - En el grafico podemos observar que la mayoria de ataques ocurridos en este dataframe fueron de tipo \"Unprovoked\"."
   ]
  },
  {
   "attachments": {},
   "cell_type": "markdown",
   "metadata": {},
   "source": [
    "5. Filtrad los datos para Spain:\n",
    "- ¿Cuántos ataques de tiburones hubo en España a lo largo del tiempo? Muestra solo los que hayan ocurrido del 2000 en adelante."
   ]
  },
  {
   "cell_type": "code",
   "execution_count": 56,
   "metadata": {},
   "outputs": [
    {
     "data": {
      "image/png": "[encoded data removed]",
      "text/plain": [
       "<Figure size 432x288 with 1 Axes>"
      ]
     },
     "metadata": {
      "needs_background": "light"
     },
     "output_type": "display_data"
    }
   ],
   "source": [
    "#Creamos un diagrama de barras con los valores de los ataque de tiburones ocurridos\n",
    "#  en \"SPAIN\" dividos en años.\n",
    "plt.figure()\n",
    "\n",
    "df_SPAIN=df[df['country']=='SPAIN']['year'].value_counts()\n",
    "\n",
    "x=df_SPAIN[df_SPAIN.index>=2000].index\n",
    "y=df_SPAIN[df_SPAIN.index>=2000].values\n",
    "\n",
    "plt.bar(x,y)\n",
    "plt.show()"
   ]
  },
  {
   "attachments": {},
   "cell_type": "markdown",
   "metadata": {},
   "source": [
    "    - En el gráfico podemos observar que los 4 ataques de tiburones, que ocrrieron en \"SPAIN\" a partir del año 2000, ocurrieron cada ataque en un año distinto."
   ]
  },
  {
   "cell_type": "code",
   "execution_count": 51,
   "metadata": {},
   "outputs": [
    {
     "data": {
      "text/plain": [
       "2017.0    1\n",
       "2016.0    1\n",
       "2015.0    1\n",
       "2010.0    1\n",
       "1993.0    1\n",
       "Name: year, dtype: int64"
      ]
     },
     "execution_count": 51,
     "metadata": {},
     "output_type": "execute_result"
    }
   ],
   "source": [
    "#Mostramos los ataques ocurridos en \"SPAIN\" cada año.\n",
    "df_SPAIN.head()"
   ]
  },
  {
   "attachments": {},
   "cell_type": "markdown",
   "metadata": {},
   "source": [
    "- En función del tipo, ¿cuántos ataques de cada tipo de tiburones hubo en España? Muestra los resultados en un gráfico de línea."
   ]
  },
  {
   "cell_type": "code",
   "execution_count": 52,
   "metadata": {},
   "outputs": [],
   "source": [
    "#Creamos un dataframe con los ataques de tiburones ocurridos en \"SPAIN\".\n",
    "df_SPAIN_type= df[df['country']=='SPAIN']"
   ]
  },
  {
   "cell_type": "code",
   "execution_count": 53,
   "metadata": {},
   "outputs": [
    {
     "data": {
      "image/png": "[encoded data removed]",
      "text/plain": [
       "<Figure size 432x288 with 1 Axes>"
      ]
     },
     "metadata": {
      "needs_background": "light"
     },
     "output_type": "display_data"
    }
   ],
   "source": [
    "#Creamos una grafica lineal con los tipos de ataques de tiburones ocurridos en \"SPAIN\" y el numero\n",
    "#  de casos de cada tipo.\n",
    "plt.figure()\n",
    "\n",
    "x=df_SPAIN_type['type'].value_counts().index\n",
    "y=df_SPAIN_type['type'].value_counts()\n",
    "\n",
    "plt.plot(x,y)\n",
    "plt.show()"
   ]
  },
  {
   "attachments": {},
   "cell_type": "markdown",
   "metadata": {},
   "source": [
    "    - En este diagrama podemos ver que de tipo \"Invalid\" hubo 2 ataques, de tipo \"Unprovoked\" hubo 2 ataques y de tipo \"Provoked\" hubo 1 ataque."
   ]
  },
  {
   "cell_type": "code",
   "execution_count": 54,
   "metadata": {},
   "outputs": [
    {
     "data": {
      "text/html": [
       "<div>\n",
       "<style scoped>\n",
       "    .dataframe tbody tr th:only-of-type {\n",
       "        vertical-align: middle;\n",
       "    }\n",
       "\n",
       "    .dataframe tbody tr th {\n",
       "        vertical-align: top;\n",
       "    }\n",
       "\n",
       "    .dataframe thead th {\n",
       "        text-align: right;\n",
       "    }\n",
       "</style>\n",
       "<table border=\"1\" class=\"dataframe\">\n",
       "  <thead>\n",
       "    <tr style=\"text-align: right;\">\n",
       "      <th></th>\n",
       "      <th>Unnamed: 0</th>\n",
       "      <th>case_number</th>\n",
       "      <th>unnamed:_0</th>\n",
       "      <th>year</th>\n",
       "      <th>type</th>\n",
       "      <th>country</th>\n",
       "      <th>area</th>\n",
       "      <th>location</th>\n",
       "      <th>activity</th>\n",
       "      <th>name</th>\n",
       "      <th>sex_</th>\n",
       "      <th>age</th>\n",
       "      <th>time</th>\n",
       "      <th>species_</th>\n",
       "      <th>href</th>\n",
       "      <th>siglo</th>\n",
       "    </tr>\n",
       "  </thead>\n",
       "  <tbody>\n",
       "    <tr>\n",
       "      <th>29</th>\n",
       "      <td>98</td>\n",
       "      <td>2017.08.26.b</td>\n",
       "      <td>98</td>\n",
       "      <td>2017.0</td>\n",
       "      <td>Invalid</td>\n",
       "      <td>SPAIN</td>\n",
       "      <td>Castellón</td>\n",
       "      <td>Grao de Moncofa</td>\n",
       "      <td>Swimming</td>\n",
       "      <td>female</td>\n",
       "      <td>F</td>\n",
       "      <td>11</td>\n",
       "      <td>Midday</td>\n",
       "      <td>Shark involvement questionable</td>\n",
       "      <td>http://sharkattackfile.net/spreadsheets/pdf_di...</td>\n",
       "      <td>siglo-XXI</td>\n",
       "    </tr>\n",
       "    <tr>\n",
       "      <th>59</th>\n",
       "      <td>233</td>\n",
       "      <td>2016.07.29</td>\n",
       "      <td>234</td>\n",
       "      <td>2016.0</td>\n",
       "      <td>Unprovoked</td>\n",
       "      <td>SPAIN</td>\n",
       "      <td>Alicante Province</td>\n",
       "      <td>Arenales del Sol</td>\n",
       "      <td>Swimming</td>\n",
       "      <td>male</td>\n",
       "      <td>M</td>\n",
       "      <td>40</td>\n",
       "      <td>11h30</td>\n",
       "      <td>Blue shark</td>\n",
       "      <td>http://sharkattackfile.net/spreadsheets/pdf_di...</td>\n",
       "      <td>siglo-XXI</td>\n",
       "    </tr>\n",
       "    <tr>\n",
       "      <th>112</th>\n",
       "      <td>377</td>\n",
       "      <td>2015.08.18.a</td>\n",
       "      <td>378</td>\n",
       "      <td>2015.0</td>\n",
       "      <td>Invalid</td>\n",
       "      <td>SPAIN</td>\n",
       "      <td>Alicante</td>\n",
       "      <td>Poniente Beach, Benidorm</td>\n",
       "      <td>Swimming</td>\n",
       "      <td>male</td>\n",
       "      <td>M</td>\n",
       "      <td>10</td>\n",
       "      <td>11h00</td>\n",
       "      <td>Shark involvement not confirmed</td>\n",
       "      <td>http://sharkattackfile.net/spreadsheets/pdf_di...</td>\n",
       "      <td>siglo-XXI</td>\n",
       "    </tr>\n",
       "    <tr>\n",
       "      <th>341</th>\n",
       "      <td>1007</td>\n",
       "      <td>2010.07.16.b</td>\n",
       "      <td>1011</td>\n",
       "      <td>2010.0</td>\n",
       "      <td>Provoked</td>\n",
       "      <td>SPAIN</td>\n",
       "      <td>Grand Canary Island</td>\n",
       "      <td>Sardina del Norte, Gáldar</td>\n",
       "      <td>Swimming</td>\n",
       "      <td>male</td>\n",
       "      <td>M</td>\n",
       "      <td>9</td>\n",
       "      <td>19h15</td>\n",
       "      <td>Angel shark</td>\n",
       "      <td>http://sharkattackfile.net/spreadsheets/pdf_di...</td>\n",
       "      <td>siglo-XXI</td>\n",
       "    </tr>\n",
       "    <tr>\n",
       "      <th>917</th>\n",
       "      <td>2469</td>\n",
       "      <td>1993.09.03</td>\n",
       "      <td>2476</td>\n",
       "      <td>1993.0</td>\n",
       "      <td>Unprovoked</td>\n",
       "      <td>SPAIN</td>\n",
       "      <td>Costa Blanca</td>\n",
       "      <td>Playa de las Arenas, Valencia</td>\n",
       "      <td>Swimming</td>\n",
       "      <td>Jorge Durich Heredia (or Hernandez)</td>\n",
       "      <td>M</td>\n",
       "      <td>69</td>\n",
       "      <td>08h00</td>\n",
       "      <td>1.2 m [4'] shark</td>\n",
       "      <td>http://sharkattackfile.net/spreadsheets/pdf_di...</td>\n",
       "      <td>siglo-XX</td>\n",
       "    </tr>\n",
       "  </tbody>\n",
       "</table>\n",
       "</div>"
      ],
      "text/plain": [
       "     Unnamed: 0   case_number  unnamed:_0    year        type country  \\\n",
       "29           98  2017.08.26.b          98  2017.0     Invalid   SPAIN   \n",
       "59          233    2016.07.29         234  2016.0  Unprovoked   SPAIN   \n",
       "112         377  2015.08.18.a         378  2015.0     Invalid   SPAIN   \n",
       "341        1007  2010.07.16.b        1011  2010.0    Provoked   SPAIN   \n",
       "917        2469    1993.09.03        2476  1993.0  Unprovoked   SPAIN   \n",
       "\n",
       "                    area                        location  activity  \\\n",
       "29             Castellón                 Grao de Moncofa  Swimming   \n",
       "59     Alicante Province                Arenales del Sol  Swimming   \n",
       "112             Alicante        Poniente Beach, Benidorm  Swimming   \n",
       "341  Grand Canary Island       Sardina del Norte, Gáldar  Swimming   \n",
       "917         Costa Blanca  Playa de las Arenas, Valencia   Swimming   \n",
       "\n",
       "                                    name sex_ age    time  \\\n",
       "29                                female    F  11  Midday   \n",
       "59                                  male    M  40   11h30   \n",
       "112                                 male    M  10   11h00   \n",
       "341                                 male    M   9   19h15   \n",
       "917  Jorge Durich Heredia (or Hernandez)    M  69   08h00   \n",
       "\n",
       "                            species_  \\\n",
       "29    Shark involvement questionable   \n",
       "59                        Blue shark   \n",
       "112  Shark involvement not confirmed   \n",
       "341                      Angel shark   \n",
       "917                 1.2 m [4'] shark   \n",
       "\n",
       "                                                  href      siglo  \n",
       "29   http://sharkattackfile.net/spreadsheets/pdf_di...  siglo-XXI  \n",
       "59   http://sharkattackfile.net/spreadsheets/pdf_di...  siglo-XXI  \n",
       "112  http://sharkattackfile.net/spreadsheets/pdf_di...  siglo-XXI  \n",
       "341  http://sharkattackfile.net/spreadsheets/pdf_di...  siglo-XXI  \n",
       "917  http://sharkattackfile.net/spreadsheets/pdf_di...   siglo-XX  "
      ]
     },
     "execution_count": 54,
     "metadata": {},
     "output_type": "execute_result"
    }
   ],
   "source": [
    "#Mostramos el datarame con los ataques de tiburones ocurridos en \"SPAIN\", donde podemos comprobar\n",
    "#  que se corresponde con lo representado en la grafica.\n",
    "df_SPAIN_type.head()"
   ]
  },
  {
   "attachments": {},
   "cell_type": "markdown",
   "metadata": {},
   "source": [
    "Happy coding 🦈"
   ]
  }
 ],
 "metadata": {
  "kernelspec": {
   "display_name": "base",
   "language": "python",
   "name": "python3"
  },
  "language_info": {
   "codemirror_mode": {
    "name": "ipython",
    "version": 3
   },
   "file_extension": ".py",
   "mimetype": "text/x-python",
   "name": "python",
   "nbconvert_exporter": "python",
   "pygments_lexer": "ipython3",
   "version": "3.9.7"
  },
  "orig_nbformat": 4,
  "vscode": {
   "interpreter": {
    "hash": "468215beec16e96f99bc366ecab75b1d75db716e353e0417cbdb37be88f0d883"
   }
  }
 },
 "nbformat": 4,
 "nbformat_minor": 2
}
