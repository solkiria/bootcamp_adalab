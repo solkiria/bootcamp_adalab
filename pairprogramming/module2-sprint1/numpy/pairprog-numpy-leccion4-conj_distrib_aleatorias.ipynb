{
 "cells": [
  {
   "cell_type": "markdown",
   "metadata": {},
   "source": [
    "\n",
    "# Pair Programming NumPy IV"
   ]
  },
  {
   "cell_type": "markdown",
   "metadata": {},
   "source": [
    "## Lección 4 - NumPy IV: Conjuntos, distribuciones aleatorias\n",
    "### Judith Mellidez y Sonia Ruiz"
   ]
  },
  {
   "cell_type": "markdown",
   "metadata": {},
   "source": [
    "Manos a la obra con la última lección de NumPy. En este caso pondremos en práctica \n",
    "como generar arrays que sigan ciertas distribuciones, así como las operaciones de \n",
    "teoría de conjuntos básicas."
   ]
  },
  {
   "cell_type": "code",
   "execution_count": 54,
   "metadata": {},
   "outputs": [],
   "source": [
    "#Importamos la libreria Numpy y la libreria random (para generar numeros pseudoaleatorios para distintas distribuciones)\n",
    "import numpy as np\n",
    "import random"
   ]
  },
  {
   "cell_type": "markdown",
   "metadata": {},
   "source": [
    "1. ¿Cómo podemos crear dos arrays de dos dimensiones usando el método random_sample que tengan los mismos valores?"
   ]
  },
  {
   "cell_type": "code",
   "execution_count": 55,
   "metadata": {},
   "outputs": [
    {
     "data": {
      "text/plain": [
       "array([[4.17022005e-01, 7.20324493e-01, 1.14374817e-04, 3.02332573e-01,\n",
       "        1.46755891e-01],\n",
       "       [9.23385948e-02, 1.86260211e-01, 3.45560727e-01, 3.96767474e-01,\n",
       "        5.38816734e-01],\n",
       "       [4.19194514e-01, 6.85219500e-01, 2.04452250e-01, 8.78117436e-01,\n",
       "        2.73875932e-02]])"
      ]
     },
     "execution_count": 55,
     "metadata": {},
     "output_type": "execute_result"
    }
   ],
   "source": [
    "np.random.seed(1)\n",
    "array1=np.random.sample((3,5))\n",
    "array1"
   ]
  },
  {
   "cell_type": "code",
   "execution_count": 56,
   "metadata": {},
   "outputs": [
    {
     "data": {
      "text/plain": [
       "array([[4.17022005e-01, 7.20324493e-01, 1.14374817e-04, 3.02332573e-01,\n",
       "        1.46755891e-01],\n",
       "       [9.23385948e-02, 1.86260211e-01, 3.45560727e-01, 3.96767474e-01,\n",
       "        5.38816734e-01],\n",
       "       [4.19194514e-01, 6.85219500e-01, 2.04452250e-01, 8.78117436e-01,\n",
       "        2.73875932e-02]])"
      ]
     },
     "execution_count": 56,
     "metadata": {},
     "output_type": "execute_result"
    }
   ],
   "source": [
    "np.random.seed(1)\n",
    "array2=np.random.sample((3,5))\n",
    "array2"
   ]
  },
  {
   "cell_type": "markdown",
   "metadata": {},
   "source": [
    "2. Cread los siguientes arrays:\n",
    "- Un array de tres dimensiones con distribución uniforme de 2 x 3 x 5, con números entre 0 y 10, que no tengan decimales y extrae sus valores únicos almacenándolos en una variable.\n"
   ]
  },
  {
   "cell_type": "code",
   "execution_count": 57,
   "metadata": {},
   "outputs": [
    {
     "data": {
      "text/plain": [
       "array([[[6.7046751 , 4.17304802, 5.58689828, 1.40386939, 1.98101489],\n",
       "        [8.00744569, 9.68261576, 3.13424178, 6.92322616, 8.76389152],\n",
       "        [8.94606664, 0.85044211, 0.39054783, 1.6983042 , 8.78142503]],\n",
       "\n",
       "       [[0.98346834, 4.21107625, 9.5788953 , 5.33165285, 6.91877114],\n",
       "        [3.15515631, 6.86500928, 8.34625672, 0.18288277, 7.50144315],\n",
       "        [9.88861089, 7.48165654, 2.80443992, 7.89279328, 1.03226007]]])"
      ]
     },
     "execution_count": 57,
     "metadata": {},
     "output_type": "execute_result"
    }
   ],
   "source": [
    "#Utilizamos el metodo \"np.random.uniform()\" para generar muestras aleatroias de distribucion uniforme, con valores tipo float.\n",
    "array3=np.random.uniform(0,10, size=(2,3,5))\n",
    "array3"
   ]
  },
  {
   "cell_type": "code",
   "execution_count": 58,
   "metadata": {},
   "outputs": [
    {
     "data": {
      "text/plain": [
       "array([[[ 7.,  4.,  6.,  1.,  2.],\n",
       "        [ 8., 10.,  3.,  7.,  9.],\n",
       "        [ 9.,  1.,  0.,  2.,  9.]],\n",
       "\n",
       "       [[ 1.,  4., 10.,  5.,  7.],\n",
       "        [ 3.,  7.,  8.,  0.,  8.],\n",
       "        [10.,  7.,  3.,  8.,  1.]]])"
      ]
     },
     "execution_count": 58,
     "metadata": {},
     "output_type": "execute_result"
    }
   ],
   "source": [
    "#Quitamos los decimales a los elementos del array\n",
    "array3=np.round(array3,decimals=0)\n",
    "array3"
   ]
  },
  {
   "cell_type": "code",
   "execution_count": 59,
   "metadata": {},
   "outputs": [
    {
     "data": {
      "text/plain": [
       "array([ 0.,  1.,  2.,  3.,  4.,  5.,  6.,  7.,  8.,  9., 10.])"
      ]
     },
     "execution_count": 59,
     "metadata": {},
     "output_type": "execute_result"
    }
   ],
   "source": [
    "#Utilizamos el metodo el \"np.unique()\" para extraer los valores unicos y ordenados de nuestro array. \n",
    "array3_unique=np.unique(array3)\n",
    "array3_unique"
   ]
  },
  {
   "cell_type": "markdown",
   "metadata": {},
   "source": [
    "- Un array de tres dimensiones con distribución binomial de 2 x 3 x 5, con probabilidad de 0.3 y número de pruebas igual a 10. Igual que antes, extrae sus valores únicos y guarda los datos en una variable."
   ]
  },
  {
   "cell_type": "code",
   "execution_count": 60,
   "metadata": {},
   "outputs": [
    {
     "data": {
      "text/plain": [
       "array([[[3, 5, 2, 2, 1],\n",
       "        [0, 4, 2, 2, 3],\n",
       "        [1, 3, 1, 3, 4]],\n",
       "\n",
       "       [[1, 3, 4, 3, 1],\n",
       "        [3, 4, 3, 5, 3],\n",
       "        [5, 1, 1, 4, 3]]])"
      ]
     },
     "execution_count": 60,
     "metadata": {},
     "output_type": "execute_result"
    }
   ],
   "source": [
    "#Generamos un array con elementos con distribucion binomial, el numero de pruebas es igual a 10 (n= numero de ensayos/pruebas)\n",
    "#  y la probabilidad es 0.3 (p=probabilidad de exitos, es decir, de obtener n).\n",
    "array4=np.random.binomial(10,0.3, size=(2,3,5))\n",
    "array4"
   ]
  },
  {
   "cell_type": "code",
   "execution_count": 61,
   "metadata": {},
   "outputs": [
    {
     "data": {
      "text/plain": [
       "array([0, 1, 2, 3, 4, 5])"
      ]
     },
     "execution_count": 61,
     "metadata": {},
     "output_type": "execute_result"
    }
   ],
   "source": [
    "#Utilizamos el metodo el \"np.unique()\" para extraer los valores unicos y ordenados de nuestro array.\n",
    "array4_unique=np.unique(array4)\n",
    "array4_unique"
   ]
  },
  {
   "cell_type": "markdown",
   "metadata": {},
   "source": [
    "3. En esta lección hemos aprendido algunos métodos de teórias de conjuntos. Usando los arrays de elementos únicos obtenidos en el ejercicio anterior realizad las siguientes operaciones:\n",
    "⚠️ Explicar cada uno de los outputs que os salgan. Que significa cada una de estas operaciones que hemos ido extrayendo?\n",
    "\n",
    "- Elementos comunes entre los dos arrays\n",
    "\n",
    "  \n",
    "    \n"
   ]
  },
  {
   "cell_type": "code",
   "execution_count": 62,
   "metadata": {},
   "outputs": [
    {
     "data": {
      "text/plain": [
       "array([0., 1., 2., 3., 4., 5.])"
      ]
     },
     "execution_count": 62,
     "metadata": {},
     "output_type": "execute_result"
    }
   ],
   "source": [
    "#Nos muestra los elementos ordenados que se encuentran en ambos arrays.\n",
    "comunes_1=np.intersect1d(array3_unique,array4_unique)\n",
    "comunes_1"
   ]
  },
  {
   "cell_type": "markdown",
   "metadata": {},
   "source": [
    "- Unión de los dos arrays"
   ]
  },
  {
   "cell_type": "code",
   "execution_count": 63,
   "metadata": {},
   "outputs": [
    {
     "data": {
      "text/plain": [
       "array([ 0.,  1.,  2.,  3.,  4.,  5.,  6.,  7.,  8.,  9., 10.])"
      ]
     },
     "execution_count": 63,
     "metadata": {},
     "output_type": "execute_result"
    }
   ],
   "source": [
    "#Obtenemos un array ordenado con los elementos comunes a ambos arrays.\n",
    "union_1=np.union1d(array3_unique,array4_unique)\n",
    "union_1"
   ]
  },
  {
   "cell_type": "markdown",
   "metadata": {},
   "source": [
    "  - ¿Qué elementos están en el array derivado de la distribución uniforme y no en los únicos de la distribución binomial? Extrae los valores númericos"
   ]
  },
  {
   "cell_type": "code",
   "execution_count": 64,
   "metadata": {},
   "outputs": [
    {
     "data": {
      "text/plain": [
       "array([ 6.,  7.,  8.,  9., 10.])"
      ]
     },
     "execution_count": 64,
     "metadata": {},
     "output_type": "execute_result"
    }
   ],
   "source": [
    "#Obenemos un array ordenado con los valores unicos que estan en el array3_unique pero no en el array4_unique.\n",
    "diferentes_1=np.setdiff1d(array3_unique, array4_unique)\n",
    "diferentes_1\n"
   ]
  },
  {
   "cell_type": "markdown",
   "metadata": {},
   "source": [
    "4. Cread dos arrays usando el método random.randint de Numpy con 80 elementos cada uno con números del 1-100, \n",
    "con los siguientes nombres array1 y array2."
   ]
  },
  {
   "cell_type": "code",
   "execution_count": 65,
   "metadata": {},
   "outputs": [
    {
     "data": {
      "text/plain": [
       "array([ 8, 46, 69, 58, 83, 97, 14, 11, 24, 82,  8, 25, 75, 93, 21, 33, 13,\n",
       "       66, 95, 61, 25, 83, 98,  3, 93, 99, 11, 55, 97, 83, 87, 71, 67, 72,\n",
       "       49, 55, 16,  6, 18, 43, 21, 49, 23, 14, 98, 54, 85, 11, 97, 56, 62,\n",
       "       57, 90, 22, 97, 84, 26, 15, 14, 85, 44,  7, 78, 57, 60, 16, 25, 10,\n",
       "       67, 72, 54, 70, 37, 22, 41, 78, 92, 50, 48, 78])"
      ]
     },
     "execution_count": 65,
     "metadata": {},
     "output_type": "execute_result"
    }
   ],
   "source": [
    "#Creamos un array bidimensional con el metodo random.randint, donde coge numeros aleatorios, tipo integer, dentro\n",
    "#  del rango que le especifiquemos.\n",
    "array_1=np.random.randint(1,100,80)\n",
    "array_1"
   ]
  },
  {
   "cell_type": "code",
   "execution_count": 66,
   "metadata": {},
   "outputs": [
    {
     "data": {
      "text/plain": [
       "array([41, 79, 46, 88, 17, 29, 46, 68, 67, 79, 47,  1, 30, 64, 76, 36, 54,\n",
       "       94, 34,  3, 85, 84, 49, 55, 33, 29, 56, 83, 32, 29, 95, 75,  9, 33,\n",
       "        9, 85, 78, 51, 80, 42, 65, 84, 25, 21, 45, 16, 31, 92, 15, 20, 27,\n",
       "       87,  8, 54, 48, 61, 35, 33, 20, 68, 25, 84, 95, 39, 48,  6, 80, 64,\n",
       "       88, 33, 43, 75, 67, 89, 99, 31, 18, 69, 65, 61])"
      ]
     },
     "execution_count": 66,
     "metadata": {},
     "output_type": "execute_result"
    }
   ],
   "source": [
    "array_2=np.random.randint(1,100,80)\n",
    "array_2"
   ]
  },
  {
   "cell_type": "markdown",
   "metadata": {},
   "source": [
    "- Extraed los valores únicos de cada uno de los arrays y los guardáis en variables en las que se les llame array_1 y array_2."
   ]
  },
  {
   "cell_type": "code",
   "execution_count": 67,
   "metadata": {},
   "outputs": [
    {
     "data": {
      "text/plain": [
       "array([ 3,  6,  7,  8, 10, 11, 13, 14, 15, 16, 18, 21, 22, 23, 24, 25, 26,\n",
       "       33, 37, 41, 43, 44, 46, 48, 49, 50, 54, 55, 56, 57, 58, 60, 61, 62,\n",
       "       66, 67, 69, 70, 71, 72, 75, 78, 82, 83, 84, 85, 87, 90, 92, 93, 95,\n",
       "       97, 98, 99])"
      ]
     },
     "execution_count": 67,
     "metadata": {},
     "output_type": "execute_result"
    }
   ],
   "source": [
    "array_1=np.unique(array_1)\n",
    "array_1"
   ]
  },
  {
   "cell_type": "code",
   "execution_count": 68,
   "metadata": {},
   "outputs": [
    {
     "data": {
      "text/plain": [
       "array([ 1,  3,  6,  8,  9, 15, 16, 17, 18, 20, 21, 25, 27, 29, 30, 31, 32,\n",
       "       33, 34, 35, 36, 39, 41, 42, 43, 45, 46, 47, 48, 49, 51, 54, 55, 56,\n",
       "       61, 64, 65, 67, 68, 69, 75, 76, 78, 79, 80, 83, 84, 85, 87, 88, 89,\n",
       "       92, 94, 95, 99])"
      ]
     },
     "execution_count": 68,
     "metadata": {},
     "output_type": "execute_result"
    }
   ],
   "source": [
    "array_2=np.unique(array_2)\n",
    "array_2"
   ]
  },
  {
   "cell_type": "markdown",
   "metadata": {},
   "source": [
    "- Identificad los elementos presentes en el array1 pero no en el array2 y asiganarlo a una variable que se llame array_3."
   ]
  },
  {
   "cell_type": "code",
   "execution_count": 69,
   "metadata": {},
   "outputs": [
    {
     "data": {
      "text/plain": [
       "array([ 7, 10, 11, 13, 14, 22, 23, 24, 26, 37, 44, 50, 57, 58, 60, 62, 66,\n",
       "       70, 71, 72, 82, 90, 93, 97, 98])"
      ]
     },
     "execution_count": 69,
     "metadata": {},
     "output_type": "execute_result"
    }
   ],
   "source": [
    "array_3=np.setdiff1d(array_1, array_2)\n",
    "array_3"
   ]
  },
  {
   "cell_type": "markdown",
   "metadata": {},
   "source": [
    "- Identificad los elementos presentes en el array2 pero no en el array1 y asiganarlo a una variable que se llame array_4."
   ]
  },
  {
   "cell_type": "code",
   "execution_count": 70,
   "metadata": {},
   "outputs": [
    {
     "data": {
      "text/plain": [
       "array([ 1,  9, 17, 20, 27, 29, 30, 31, 32, 34, 35, 36, 39, 42, 45, 47, 51,\n",
       "       64, 65, 68, 76, 79, 80, 88, 89, 94])"
      ]
     },
     "execution_count": 70,
     "metadata": {},
     "output_type": "execute_result"
    }
   ],
   "source": [
    "array_4=np.setdiff1d(array_2, array_1)\n",
    "array_4"
   ]
  },
  {
   "cell_type": "markdown",
   "metadata": {},
   "source": [
    "- Identificad los elementos presentes en ambos arrays y asiganarlos a una variable que se llame array5."
   ]
  },
  {
   "cell_type": "code",
   "execution_count": 71,
   "metadata": {},
   "outputs": [
    {
     "data": {
      "text/plain": [
       "array([ 3,  6,  8, 15, 16, 18, 21, 25, 33, 41, 43, 46, 48, 49, 54, 55, 56,\n",
       "       61, 67, 69, 75, 78, 83, 84, 85, 87, 92, 95, 99])"
      ]
     },
     "execution_count": 71,
     "metadata": {},
     "output_type": "execute_result"
    }
   ],
   "source": [
    "array_5=np.intersect1d(array_1,array_2)\n",
    "array_5"
   ]
  },
  {
   "cell_type": "markdown",
   "metadata": {},
   "source": [
    "- ¿Cuál es la relación que existe entre todos estos arrays? 💡 Pista 💡 Tendréis que usar las longitudes de cada uno de los arrays creados."
   ]
  },
  {
   "cell_type": "code",
   "execution_count": 72,
   "metadata": {},
   "outputs": [
    {
     "name": "stdout",
     "output_type": "stream",
     "text": [
      "La longitud del array_1 es: 54\n",
      "La longitud del array_2 es: 55\n",
      "La longitud del array_3 es: 25\n",
      "La longitud del array_4 es: 26\n",
      "La longitud del array_5 es: 29\n"
     ]
    }
   ],
   "source": [
    "# Al realizar la suma de la longitud 'len' de los elementos presentes en array_1 (elementos unicos del array1 original) \n",
    "# mas el array_4 (presentes en en array_2 pero NO en el array_1) obtenemos la longitud del array original\n",
    "#  array_1 (longitud del array original 'len'=80 ).\n",
    "# Al realizar la suma de la longitud 'len' de los elementos presentes en array_2 (elementos unicos del array2 original) \n",
    "# mas el array_3 (presentes en en array_1 pero NO en el array_2) obtenemos la longitud del array original\n",
    "#  array_2 (longitud del array original 'len'=80 ).\n",
    "\n",
    "\n",
    "a1=len(array_1)\n",
    "print('La longitud del array_1 es:', a1)\n",
    "\n",
    "a2=len(array_2)\n",
    "print(f'La longitud del array_2 es:', a2)\n",
    "\n",
    "a3=len(array_3)\n",
    "print(f'La longitud del array_3 es:', a3)\n",
    "\n",
    "a4=len(array_4)\n",
    "print(f'La longitud del array_4 es:', a4)\n",
    "\n",
    "a5=len(array_5)\n",
    "print(f'La longitud del array_5 es:', a5)"
   ]
  },
  {
   "attachments": {},
   "cell_type": "markdown",
   "metadata": {},
   "source": [
    "Happy coding 😀"
   ]
  }
 ],
 "metadata": {
  "kernelspec": {
   "display_name": "Python 3",
   "language": "python",
   "name": "python3"
  },
  "language_info": {
   "codemirror_mode": {
    "name": "ipython",
    "version": 3
   },
   "file_extension": ".py",
   "mimetype": "text/x-python",
   "name": "python",
   "nbconvert_exporter": "python",
   "pygments_lexer": "ipython3",
   "version": "3.6.9 (default, Nov 25 2022, 14:10:45) \n[GCC 8.4.0]"
  },
  "orig_nbformat": 4,
  "vscode": {
   "interpreter": {
    "hash": "31f2aee4e71d21fbe5cf8b01ff0e069b9275f58929596ceb00d14d90e3e16cd6"
   }
  }
 },
 "nbformat": 4,
 "nbformat_minor": 2
}
