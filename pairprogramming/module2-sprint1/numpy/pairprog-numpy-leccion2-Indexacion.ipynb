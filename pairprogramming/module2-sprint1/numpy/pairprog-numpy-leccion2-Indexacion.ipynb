{
 "cells": [
  {
   "cell_type": "markdown",
   "metadata": {},
   "source": [
    "## Pair Programming NumPy II"
   ]
  },
  {
   "cell_type": "markdown",
   "metadata": {},
   "source": [
    "### Lección 2 -NumPy II: Introducción - Modulo 2 - Sprint 1\n",
    "\n"
   ]
  },
  {
   "cell_type": "markdown",
   "metadata": {},
   "source": [
    "#### Judith Mellidez y Sonia Ruiz\n",
    "\n"
   ]
  },
  {
   "cell_type": "markdown",
   "metadata": {},
   "source": [
    "\n",
    "Seguimos trabajando con NumPy, en este caso practicaremos como acceder a distintos elementos de nuestros arrays \n",
    "y como cambiar su forma para poder hacer operaciones entre varios arrays.\n"
   ]
  },
  {
   "cell_type": "code",
   "execution_count": 2,
   "metadata": {},
   "outputs": [],
   "source": [
    "#Importamos la libreria Numpy.\n",
    "import numpy as np"
   ]
  },
  {
   "cell_type": "markdown",
   "metadata": {},
   "source": [
    "1.Cread un array de dos dimensiones de 5 filas y 3 columnas. Sobre el array creado anteriormente, extraed:"
   ]
  },
  {
   "cell_type": "code",
   "execution_count": 10,
   "metadata": {},
   "outputs": [
    {
     "data": {
      "text/plain": [
       "array([[7.59851591e-01, 8.21083969e-01, 7.84232660e-01],\n",
       "       [1.48433272e-04, 5.32809449e-01, 6.70211791e-03],\n",
       "       [4.63451170e-01, 2.49896870e-01, 2.27698881e-01],\n",
       "       [6.58628087e-01, 4.01499338e-01, 6.75737717e-01],\n",
       "       [9.70190961e-02, 7.23300230e-01, 3.69799587e-01]])"
      ]
     },
     "execution_count": 10,
     "metadata": {},
     "output_type": "execute_result"
    }
   ],
   "source": [
    "#Creamos un array bidimensional con el metodo random.rand, donde coge numeros aleatorios tipo float entre 0 y 1 (incluido el 1).\n",
    "array1=np.random.rand(5,3)\n",
    "array1"
   ]
  },
  {
   "cell_type": "markdown",
   "metadata": {},
   "source": [
    "- El valor de la primera fila y la segunda columna."
   ]
  },
  {
   "cell_type": "code",
   "execution_count": 11,
   "metadata": {},
   "outputs": [
    {
     "data": {
      "text/plain": [
       "0.8210839686039006"
      ]
     },
     "execution_count": 11,
     "metadata": {},
     "output_type": "execute_result"
    }
   ],
   "source": [
    "array1[0,1]"
   ]
  },
  {
   "cell_type": "markdown",
   "metadata": {},
   "source": [
    "- Los valores de la segunda fila y las dos primeras columnas."
   ]
  },
  {
   "cell_type": "code",
   "execution_count": 12,
   "metadata": {},
   "outputs": [
    {
     "data": {
      "text/plain": [
       "array([1.48433272e-04, 5.32809449e-01])"
      ]
     },
     "execution_count": 12,
     "metadata": {},
     "output_type": "execute_result"
    }
   ],
   "source": [
    "array1[1,0:2]"
   ]
  },
  {
   "cell_type": "markdown",
   "metadata": {},
   "source": [
    "- Extraed las filas pares (incluyendo la 0) y todas las columnas."
   ]
  },
  {
   "cell_type": "code",
   "execution_count": 13,
   "metadata": {},
   "outputs": [
    {
     "data": {
      "text/plain": [
       "array([[0.75985159, 0.82108397, 0.78423266],\n",
       "       [0.46345117, 0.24989687, 0.22769888],\n",
       "       [0.0970191 , 0.72330023, 0.36979959]])"
      ]
     },
     "execution_count": 13,
     "metadata": {},
     "output_type": "execute_result"
    }
   ],
   "source": [
    "array1[0::2,:]"
   ]
  },
  {
   "cell_type": "markdown",
   "metadata": {},
   "source": [
    "- Extraed los valores que sean mayores que 0.5."
   ]
  },
  {
   "cell_type": "code",
   "execution_count": 14,
   "metadata": {},
   "outputs": [
    {
     "data": {
      "text/plain": [
       "array([0.75985159, 0.82108397, 0.78423266, 0.53280945, 0.65862809,\n",
       "       0.67573772, 0.72330023])"
      ]
     },
     "execution_count": 14,
     "metadata": {},
     "output_type": "execute_result"
    }
   ],
   "source": [
    "array1[(array1>0.5)]"
   ]
  },
  {
   "cell_type": "markdown",
   "metadata": {},
   "source": [
    "- Extraed los valores menores que 0.2 o mayores que 0.5"
   ]
  },
  {
   "cell_type": "code",
   "execution_count": 15,
   "metadata": {},
   "outputs": [
    {
     "data": {
      "text/plain": [
       "array([7.59851591e-01, 8.21083969e-01, 7.84232660e-01, 1.48433272e-04,\n",
       "       5.32809449e-01, 6.70211791e-03, 6.58628087e-01, 6.75737717e-01,\n",
       "       9.70190961e-02, 7.23300230e-01])"
      ]
     },
     "execution_count": 15,
     "metadata": {},
     "output_type": "execute_result"
    }
   ],
   "source": [
    "array1[(array1>0.5) | (array1<0.2)]"
   ]
  },
  {
   "cell_type": "markdown",
   "metadata": {},
   "source": [
    "2.Cread dos array de tres dimensiones:"
   ]
  },
  {
   "cell_type": "markdown",
   "metadata": {},
   "source": [
    "- El primero de 2 matrices, 5 filas y 3 columnas."
   ]
  },
  {
   "cell_type": "code",
   "execution_count": 18,
   "metadata": {},
   "outputs": [
    {
     "data": {
      "text/plain": [
       "array([[[27, 33, 10],\n",
       "        [35,  9, 24],\n",
       "        [11, 38, 31],\n",
       "        [ 6, 34, 13],\n",
       "        [19, 25, 39]],\n",
       "\n",
       "       [[25, 27, 32],\n",
       "        [ 9, 37,  6],\n",
       "        [ 4,  6,  4],\n",
       "        [ 7, 32,  2],\n",
       "        [15, 33, 11]]])"
      ]
     },
     "execution_count": 18,
     "metadata": {},
     "output_type": "execute_result"
    }
   ],
   "source": [
    "#Creamos un array bidimensional con el metodo random.randint, donde coge numeros aleatorios, tipo integer, dentro\n",
    "#  del rango que le especifiquemos.\n",
    "array2=np.random.randint(0,40,(2,5,3))\n",
    "array2"
   ]
  },
  {
   "cell_type": "markdown",
   "metadata": {},
   "source": [
    "- El segundo de 3 matrices, 2 filas y 5 columnas"
   ]
  },
  {
   "cell_type": "code",
   "execution_count": 19,
   "metadata": {},
   "outputs": [
    {
     "data": {
      "text/plain": [
       "array([[[15, 18,  2,  6,  6],\n",
       "        [28,  0, 15, 12,  3]],\n",
       "\n",
       "       [[18, 36, 38, 20, 15],\n",
       "        [ 7, 32, 16,  0, 12]],\n",
       "\n",
       "       [[28, 34, 21,  7, 33],\n",
       "        [14, 28, 28, 19,  4]]])"
      ]
     },
     "execution_count": 19,
     "metadata": {},
     "output_type": "execute_result"
    }
   ],
   "source": [
    "array3=np.random.randint(0,40,(3,2,5))\n",
    "array3"
   ]
  },
  {
   "cell_type": "markdown",
   "metadata": {},
   "source": [
    "- Haced un análisis exploratorio de los array creados. \n",
    "Recordad que en el ejercicio de ayer nos creamos una función para esto."
   ]
  },
  {
   "cell_type": "code",
   "execution_count": 20,
   "metadata": {},
   "outputs": [],
   "source": [
    "#Creamos una funcion para extraer las propiedades de un array.\n",
    "def propiedades_array(array):\n",
    "    lista_array=[]\n",
    "    shape=array.shape\n",
    "    print('Su forma es', shape)\n",
    "    size=array.size\n",
    "    print('Su tamaño es', size)\n",
    "    dimension=array.ndim\n",
    "    print('Sus dimensiones son', dimension)\n",
    "    tipo=array.dtype\n",
    "    print('El tipo de dato almacenado es', tipo)\n",
    "    return"
   ]
  },
  {
   "cell_type": "code",
   "execution_count": 21,
   "metadata": {},
   "outputs": [
    {
     "name": "stdout",
     "output_type": "stream",
     "text": [
      "Su forma es (5, 3)\n",
      "Su tamaño es 15\n",
      "Sus dimensiones son 2\n",
      "El tipo de dato almacenado es float64\n"
     ]
    }
   ],
   "source": [
    "propiedades_array(array1)"
   ]
  },
  {
   "cell_type": "code",
   "execution_count": 22,
   "metadata": {},
   "outputs": [
    {
     "name": "stdout",
     "output_type": "stream",
     "text": [
      "Su forma es (2, 5, 3)\n",
      "Su tamaño es 30\n",
      "Sus dimensiones son 3\n",
      "El tipo de dato almacenado es int64\n"
     ]
    }
   ],
   "source": [
    "propiedades_array(array2)"
   ]
  },
  {
   "cell_type": "code",
   "execution_count": 23,
   "metadata": {},
   "outputs": [
    {
     "name": "stdout",
     "output_type": "stream",
     "text": [
      "Su forma es (3, 2, 5)\n",
      "Su tamaño es 30\n",
      "Sus dimensiones son 3\n",
      "El tipo de dato almacenado es int64\n"
     ]
    }
   ],
   "source": [
    "propiedades_array(array3)"
   ]
  },
  {
   "cell_type": "markdown",
   "metadata": {},
   "source": [
    "- Sumad los dos arrays. ¿Podéis? ¿Por qué?"
   ]
  },
  {
   "cell_type": "code",
   "execution_count": 25,
   "metadata": {},
   "outputs": [
    {
     "ename": "ValueError",
     "evalue": "operands could not be broadcast together with shapes (2,5,3) (3,2,5) ",
     "output_type": "error",
     "traceback": [
      "\u001b[0;31m---------------------------------------------------------------------------\u001b[0m",
      "\u001b[0;31mValueError\u001b[0m                                Traceback (most recent call last)",
      "Cell \u001b[0;32mIn [25], line 1\u001b[0m\n\u001b[0;32m----> 1\u001b[0m np\u001b[39m.\u001b[39;49madd(array2,array3)\n",
      "\u001b[0;31mValueError\u001b[0m: operands could not be broadcast together with shapes (2,5,3) (3,2,5) "
     ]
    }
   ],
   "source": [
    "#No podemos efectuar la suma porque tienen formas diferentes.\n",
    "np.add(array2,array3)"
   ]
  },
  {
   "cell_type": "markdown",
   "metadata": {},
   "source": [
    "- Para cambiar la forma de un array y poder hacer operaciones entre arrays que tienen \n",
    "distintas formas hemos aprendido dos métodos:\n",
    "\n",
    "  - .reshape()\n",
    "  - .transpose()\n",
    "\n",
    "  Utiliza estas dos funciones para cambiar la forma de los array y hacer operaciones entre ellos."
   ]
  },
  {
   "cell_type": "code",
   "execution_count": 29,
   "metadata": {},
   "outputs": [
    {
     "data": {
      "text/plain": [
       "array([[[27, 33, 10, 35,  9],\n",
       "        [24, 11, 38, 31,  6],\n",
       "        [34, 13, 19, 25, 39]],\n",
       "\n",
       "       [[25, 27, 32,  9, 37],\n",
       "        [ 6,  4,  6,  4,  7],\n",
       "        [32,  2, 15, 33, 11]]])"
      ]
     },
     "execution_count": 29,
     "metadata": {},
     "output_type": "execute_result"
    }
   ],
   "source": [
    "#Aplicando el metodo reshape, cambiamos la forma al array de tal manera que ambos arrays tengan la misma estructura.\n",
    "array4=np.reshape(array2,(2,3,5))\n",
    "array4"
   ]
  },
  {
   "cell_type": "markdown",
   "metadata": {},
   "source": []
  },
  {
   "cell_type": "code",
   "execution_count": 31,
   "metadata": {},
   "outputs": [
    {
     "data": {
      "text/plain": [
       "array([[[15, 18,  2,  6,  6],\n",
       "        [18, 36, 38, 20, 15],\n",
       "        [28, 34, 21,  7, 33]],\n",
       "\n",
       "       [[28,  0, 15, 12,  3],\n",
       "        [ 7, 32, 16,  0, 12],\n",
       "        [14, 28, 28, 19,  4]]])"
      ]
     },
     "execution_count": 31,
     "metadata": {},
     "output_type": "execute_result"
    }
   ],
   "source": [
    "#Cambiamos esta vez aplicando el metodo \"\".transpose()\"\".\n",
    "array5=np.transpose(array3,(1,0,2))\n",
    "array5"
   ]
  },
  {
   "cell_type": "code",
   "execution_count": 32,
   "metadata": {},
   "outputs": [
    {
     "data": {
      "text/plain": [
       "array([[[42, 51, 12, 41, 15],\n",
       "        [42, 47, 76, 51, 21],\n",
       "        [62, 47, 40, 32, 72]],\n",
       "\n",
       "       [[53, 27, 47, 21, 40],\n",
       "        [13, 36, 22,  4, 19],\n",
       "        [46, 30, 43, 52, 15]]])"
      ]
     },
     "execution_count": 32,
     "metadata": {},
     "output_type": "execute_result"
    }
   ],
   "source": [
    "#Sumamos los arrays modificados.\n",
    "np.add(array4,array5)"
   ]
  },
  {
   "attachments": {},
   "cell_type": "markdown",
   "metadata": {},
   "source": [
    "Happy coding 😀"
   ]
  }
 ],
 "metadata": {
  "kernelspec": {
   "display_name": "Python 3",
   "language": "python",
   "name": "python3"
  },
  "language_info": {
   "codemirror_mode": {
    "name": "ipython",
    "version": 3
   },
   "file_extension": ".py",
   "mimetype": "text/x-python",
   "name": "python",
   "nbconvert_exporter": "python",
   "pygments_lexer": "ipython3",
   "version": "3.6.9 (default, Nov 25 2022, 14:10:45) \n[GCC 8.4.0]"
  },
  "orig_nbformat": 4,
  "vscode": {
   "interpreter": {
    "hash": "31f2aee4e71d21fbe5cf8b01ff0e069b9275f58929596ceb00d14d90e3e16cd6"
   }
  }
 },
 "nbformat": 4,
 "nbformat_minor": 2
}
