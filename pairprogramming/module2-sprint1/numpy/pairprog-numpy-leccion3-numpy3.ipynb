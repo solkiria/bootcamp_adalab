{
 "cells": [
  {
   "attachments": {},
   "cell_type": "markdown",
   "metadata": {},
   "source": [
    "# Ejercicios Pair Programming - Modulo 2 - Sprint 1 \n",
    "## Lección 3 - NumPy III: Operaciones estadísticas y matemáticas\n",
    "### Judith Mellidez y Sonia Ruiz"
   ]
  },
  {
   "attachments": {},
   "cell_type": "markdown",
   "metadata": {},
   "source": [
    "En esta lección hemos aprendido algunas de las operaciones matemáticas más importantes que podemos aplicar a un array. Hoy pondremos en práctica algunas de estas operaciones, además de recordar algunas de los métodos aprendidos en otras lecciones y recordar como podemos iterar por un array.\n",
    "\n",
    "1.Cread un array de tres dimensiones de 2 matrices, 3 filas y 5 columnas cuyos valores solo tengan 1 decimales."
   ]
  },
  {
   "cell_type": "code",
   "execution_count": 3,
   "metadata": {},
   "outputs": [
    {
     "data": {
      "text/plain": [
       "array([[[0.62043522, 0.89084855, 0.56455621, 0.14715773, 0.90807455],\n",
       "        [0.71571876, 0.17129777, 0.58133777, 0.22754897, 0.31993751],\n",
       "        [0.29017474, 0.40959578, 0.75985123, 0.47599413, 0.8099042 ]],\n",
       "\n",
       "       [[0.3676107 , 0.91227186, 0.84466699, 0.49166098, 0.10025632],\n",
       "        [0.6947252 , 0.38018154, 0.43623815, 0.17676638, 0.86150535],\n",
       "        [0.36495386, 0.33959182, 0.59026532, 0.14282324, 0.40921354]]])"
      ]
     },
     "execution_count": 3,
     "metadata": {},
     "output_type": "execute_result"
    }
   ],
   "source": [
    "#Importamos la libreria Numpy y creamos un array con el metodo \"np.random.rand()\", donde coge numeros aleatorios\n",
    "#  tipo float entre 0 y 1 (incluido el 1).\n",
    "import numpy as np\n",
    "array1=np.random.rand(2,3,5)\n",
    "array1"
   ]
  },
  {
   "cell_type": "code",
   "execution_count": 4,
   "metadata": {},
   "outputs": [
    {
     "data": {
      "text/plain": [
       "array([[[0.6, 0.9, 0.6, 0.1, 0.9],\n",
       "        [0.7, 0.2, 0.6, 0.2, 0.3],\n",
       "        [0.3, 0.4, 0.8, 0.5, 0.8]],\n",
       "\n",
       "       [[0.4, 0.9, 0.8, 0.5, 0.1],\n",
       "        [0.7, 0.4, 0.4, 0.2, 0.9],\n",
       "        [0.4, 0.3, 0.6, 0.1, 0.4]]])"
      ]
     },
     "execution_count": 4,
     "metadata": {},
     "output_type": "execute_result"
    }
   ],
   "source": [
    "#Utilizamos el metodo \"np.round()\", especificando un decimal, para que nos redondee cada uno de los elementos de nuetros array.\n",
    "array1=np.round(array1,decimals=1)\n",
    "array1"
   ]
  },
  {
   "attachments": {},
   "cell_type": "markdown",
   "metadata": {},
   "source": [
    "- 2.Sobre el array creado anteriormente, calculad la media del array y almacenarlos en una variable. Redondead a un decimal."
   ]
  },
  {
   "cell_type": "code",
   "execution_count": 7,
   "metadata": {},
   "outputs": [
    {
     "data": {
      "text/plain": [
       "0.5"
      ]
     },
     "execution_count": 7,
     "metadata": {},
     "output_type": "execute_result"
    }
   ],
   "source": [
    "#Aplicando el metodo \"n.mean()\", calculamos la media del array y redondeamos a 1 decimal.\n",
    "media_array1=round(np.mean(array1),1)\n",
    "media_array1"
   ]
  },
  {
   "attachments": {},
   "cell_type": "markdown",
   "metadata": {},
   "source": [
    "- 3.Sobre el array creado en el paso 1,Calculad el valor máximo del array y almacenarlos en una variable. Redondead a un decimal."
   ]
  },
  {
   "cell_type": "code",
   "execution_count": 8,
   "metadata": {},
   "outputs": [
    {
     "data": {
      "text/plain": [
       "0.9"
      ]
     },
     "execution_count": 8,
     "metadata": {},
     "output_type": "execute_result"
    }
   ],
   "source": [
    "#Aplicando el metodo \"n.max()\", calculamos el valor maximo del array y redondeamos a 1 decimal.\n",
    "max_array1=round(np.max(array1),1)\n",
    "max_array1"
   ]
  },
  {
   "attachments": {},
   "cell_type": "markdown",
   "metadata": {},
   "source": [
    "- 4.Sobre el array creado en el paso 1,calculad el valor mínimo del array y almacenarlos en una variable. Redondead a un decimal."
   ]
  },
  {
   "cell_type": "code",
   "execution_count": 9,
   "metadata": {},
   "outputs": [
    {
     "data": {
      "text/plain": [
       "0.1"
      ]
     },
     "execution_count": 9,
     "metadata": {},
     "output_type": "execute_result"
    }
   ],
   "source": [
    "#Aplicando el metodo \"n.min()\", calculamos el valor minimo del array y redondeamos a 1 decimal.\n",
    "min_array1=round(np.min(array1),1)\n",
    "min_array1"
   ]
  },
  {
   "attachments": {},
   "cell_type": "markdown",
   "metadata": {},
   "source": [
    "5. Cread un array vacío con la misma forma y dimensiones que el array creado anteriormente."
   ]
  },
  {
   "cell_type": "code",
   "execution_count": 22,
   "metadata": {},
   "outputs": [
    {
     "data": {
      "text/plain": [
       "array([[[0, 0, 0, 0, 0],\n",
       "        [0, 0, 0, 0, 0],\n",
       "        [0, 0, 0, 0, 0]],\n",
       "\n",
       "       [[0, 0, 0, 0, 0],\n",
       "        [0, 0, 0, 0, 0],\n",
       "        [0, 0, 0, 0, 0]]])"
      ]
     },
     "execution_count": 22,
     "metadata": {},
     "output_type": "execute_result"
    }
   ],
   "source": [
    "array_vacio=np.empty_like(array1,int)\n",
    "array_vacio\n",
    "#hemos utilizado el metodo \"empty_like\" con int (integer) porque si lo utilizamos\n",
    "#  unicamente con empty_like, nos da la misma forma y tipo del array que ya teniamos\n",
    "#  guardado y sus valores, ya que es lo ultimo que tenemos almacenado en la memoria."
   ]
  },
  {
   "attachments": {},
   "cell_type": "markdown",
   "metadata": {},
   "source": [
    "Vamos a reemplazar los valores de la matriz vacía que nos acabamos de crear pero basándonos en los valores del primer array bajo las siguientes condiciones:\n",
    "- Si el valor del array es igual que la media, se reemplaza por \"A\".\n",
    "- Si el valor del array es mayor que la media, se reemplaza por \"B\".\n",
    "- Si el valor del array es menor que la media, se reemplaza por \"C\".\n",
    "- Si el valor es igual que el máximo, se reemplaza por \"D\".\n",
    "- Si el valor es igual que el mínimo, se reemplaza por \"E\".\n",
    "\n",
    "`# a modo de ejemplo. Si tenemos el siguiente array`\n",
    "\n",
    "`[[[0.4, 0.7, 0.2, 0.9, 0.2],`\n",
    "\n",
    "`    [0.1, 0.9, 0.6, 0.1, 0.2],`\n",
    "\n",
    "`    [1. , 0.2, 0.1, 0.8, 0.3]],`\n",
    "\n",
    "`   [[0. , 0.3, 0.4, 0.5, 0.1],`\n",
    "\n",
    "`    [0.5, 0.7, 0.9, 0. , 0.8],`\n",
    "\n",
    "`    [0.5, 0.3, 0.5, 0.8, 0.1]]])`\n",
    "\n",
    "`# sabiendo que la media es 0.4 y el máximo es 1.0 y el mínimo es 0.0`\n",
    "\n",
    "`# nuestro array vacío debería quedar como este: `\n",
    "\n",
    "`[[[\"A\", \"B\", \"C\", \"B\", \"C\"],`\n",
    "\n",
    "`    [\"C\", \"B\", \"B\", \"C\", \"C\"],`\n",
    "\n",
    "`    [\"D\" , \"C\", \"C\", \"B\", \"C\"]],`\n",
    "\n",
    "`   [[\"E\" , \"C\", \"A\", \"B\", \"C\"],`\n",
    "\n",
    "`    [\"B\", \"B\",\"B\", \"E\" , \"B\"],`\n",
    "\n",
    "`    [\"B\", \"C\", \"B\", \"B\", \"C\"]]])`\n",
    "\n",
    "\n",
    "💡 Pista 💡 Tendréis que iterar por el array y cambiar los valores de la matriz vacía. Para eso tendremos que usar distintos condicionales."
   ]
  },
  {
   "cell_type": "code",
   "execution_count": 41,
   "metadata": {},
   "outputs": [
    {
     "name": "stdout",
     "output_type": "stream",
     "text": [
      "['B', 'D', 'B', 'E', 'D', 'B', 'C', 'B', 'C', 'C', 'C', 'C', 'B', 'A', 'B', 'C', 'D', 'B', 'A', 'E', 'B', 'C', 'C', 'C', 'D', 'C', 'C', 'B', 'E', 'C']\n"
     ]
    }
   ],
   "source": [
    "list_array_vacio=[]\n",
    "for i in array1:\n",
    "    for fila in i:\n",
    "        for num in fila:\n",
    "            if num==media_array1:\n",
    "                list_array_vacio.append('A')\n",
    "            elif num==max_array1:\n",
    "                list_array_vacio.append('D')\n",
    "            elif num==min_array1:\n",
    "                list_array_vacio.append('E')\n",
    "            elif num>media_array1:\n",
    "                list_array_vacio.append('B')\n",
    "            elif num<media_array1:\n",
    "                list_array_vacio.append('C')\n",
    "print(list_array_vacio)\n",
    "\n",
    "#hemos agrupado en las primeras condiciones if/elif las igualdades del array con respecto a la\n",
    "#  media, el maximo y el minimo, y posteriormente hemos hecho el menor y mayor de la media. De\n",
    "#  no ser asi, se habria cumplido la condicion de menor o mayor y no habria llegado el bucle\n",
    "#  a comprobar las otras igualdades."
   ]
  },
  {
   "cell_type": "code",
   "execution_count": 42,
   "metadata": {},
   "outputs": [
    {
     "data": {
      "text/plain": [
       "array([[['B', 'D', 'B', 'E', 'D'],\n",
       "        ['B', 'C', 'B', 'C', 'C'],\n",
       "        ['C', 'C', 'B', 'A', 'B']],\n",
       "\n",
       "       [['C', 'D', 'B', 'A', 'E'],\n",
       "        ['B', 'C', 'C', 'C', 'D'],\n",
       "        ['C', 'C', 'B', 'E', 'C']]], dtype='<U1')"
      ]
     },
     "execution_count": 42,
     "metadata": {},
     "output_type": "execute_result"
    }
   ],
   "source": [
    "array_lista=np.array(list_array_vacio)\n",
    "array_lista.reshape(2,3,5)\n",
    "#hemos convertido la lista en un array unidimensional y a continuacion, le hemos\n",
    "#  dado la forma del array original."
   ]
  },
  {
   "attachments": {},
   "cell_type": "markdown",
   "metadata": {},
   "source": [
    "6. Estupendo, tenemos un array con strings. Ahora realizaremos un ejercicio similar al anterior, pero en este caso nos crearemos un array vacío unidimensional de 30 elementos. Al final de este ejercicio acabaremos teniendo un array de tres dimensiones con la misma forma que el primero que nos creamos.\n",
    "En este caso:\n",
    "- Si el valor del array creado en el ejercicio anterior es \"A\" o \"B\" lo reemplazaremos por 1\n",
    "- Si el valor del array creado en el ejercicio anterior es \"C\" o \"D\" lo reemplazaremos por 2\n",
    "- Si el valor del array creado en el ejercicio anterior es \"E\" lo reemplazaremos por 3."
   ]
  },
  {
   "cell_type": "code",
   "execution_count": 43,
   "metadata": {},
   "outputs": [
    {
     "data": {
      "text/plain": [
       "array(['B', 'D', 'B', 'E', 'D', 'B', 'C', 'B', 'C', 'C', 'C', 'C', 'B',\n",
       "       'A', 'B', 'C', 'D', 'B', 'A', 'E', 'B', 'C', 'C', 'C', 'D', 'C',\n",
       "       'C', 'B', 'E', 'C'], dtype='<U1')"
      ]
     },
     "execution_count": 43,
     "metadata": {},
     "output_type": "execute_result"
    }
   ],
   "source": [
    "#Empleamos el metodo \".reshape()\" para cambiar la forma de un array sin cambiar sus datos, obteniendo un array\n",
    "#  unidimesional de 30 elementos.\n",
    "array_vacio2=array_lista.reshape(30)\n",
    "array_vacio2"
   ]
  },
  {
   "cell_type": "code",
   "execution_count": 49,
   "metadata": {},
   "outputs": [
    {
     "data": {
      "text/plain": [
       "array(['', '', '', '', '', '', '', '', '', '', '', '', '', '', '', '', '',\n",
       "       '', '', '', '', '', '', '', '', '', '', '', '', ''], dtype='<U1')"
      ]
     },
     "execution_count": 49,
     "metadata": {},
     "output_type": "execute_result"
    }
   ],
   "source": [
    "#Generamos un array vacio con el metodo \"np.empty_like()\".\n",
    "array_vacio2=np.empty_like(array_vacio2)\n",
    "array_vacio2\n",
    "#no hay que indicar que haga un array vacio de strings porque el array de origen ya\n",
    "#  es un array de strings."
   ]
  },
  {
   "cell_type": "code",
   "execution_count": null,
   "metadata": {},
   "outputs": [
    {
     "name": "stdout",
     "output_type": "stream",
     "text": [
      "[1, 1, 1, 2, 1, 1, 2, 1, 2, 2, 2, 2, 1, 1, 1, 2, 1, 1, 1, 2, 1, 2, 2, 2, 1, 2, 2, 1, 2, 2]\n"
     ]
    }
   ],
   "source": [
    "#Creamos un buble for para sustituir las letras por los numeros indicados.\n",
    "list_array_vacio2=[]\n",
    "for str in array_lista:\n",
    "    if str=='A' or str=='B':\n",
    "        list_array_vacio2.append(1)\n",
    "    elif str=='C' or str=='D':\n",
    "        list_array_vacio2.append(2)\n",
    "    elif str=='E':\n",
    "        list_array_vacio2.append(3)\n",
    "print(list_array_vacio2)"
   ]
  },
  {
   "attachments": {},
   "cell_type": "markdown",
   "metadata": {},
   "source": [
    "Una vez que hayas reemplazado todos los valores cambiad la forma del array para que sea de tres dimensiones, con 2 matrices, 3 filas y 5 columnas."
   ]
  },
  {
   "cell_type": "code",
   "execution_count": null,
   "metadata": {},
   "outputs": [
    {
     "data": {
      "text/plain": [
       "array([[[1, 1, 1, 2, 1],\n",
       "        [1, 2, 1, 2, 2],\n",
       "        [2, 2, 1, 1, 1]],\n",
       "\n",
       "       [[2, 1, 1, 1, 2],\n",
       "        [1, 2, 2, 2, 1],\n",
       "        [2, 2, 1, 2, 2]]])"
      ]
     },
     "execution_count": 35,
     "metadata": {},
     "output_type": "execute_result"
    }
   ],
   "source": [
    "#CReamos un array a partir de los valores obtenido en el bucle anterior. Y mediante el metodo \".reshape()\" efectuamos\n",
    "#  los cambios solicitados.\n",
    "array_lista2=np.array(list_array_vacio2)\n",
    "array_lista2.reshape(2,3,5)"
   ]
  },
  {
   "attachments": {},
   "cell_type": "markdown",
   "metadata": {},
   "source": [
    "Happy coding 😀"
   ]
  }
 ],
 "metadata": {
  "kernelspec": {
   "display_name": "base",
   "language": "python",
   "name": "python3"
  },
  "language_info": {
   "codemirror_mode": {
    "name": "ipython",
    "version": 3
   },
   "file_extension": ".py",
   "mimetype": "text/x-python",
   "name": "python",
   "nbconvert_exporter": "python",
   "pygments_lexer": "ipython3",
   "version": "3.9.7 (default, Sep 16 2021, 13:09:58) \n[GCC 7.5.0]"
  },
  "orig_nbformat": 4,
  "vscode": {
   "interpreter": {
    "hash": "468215beec16e96f99bc366ecab75b1d75db716e353e0417cbdb37be88f0d883"
   }
  }
 },
 "nbformat": 4,
 "nbformat_minor": 2
}
