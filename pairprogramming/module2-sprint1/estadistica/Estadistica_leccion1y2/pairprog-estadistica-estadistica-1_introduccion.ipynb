{
 "cells": [
  {
   "cell_type": "markdown",
   "metadata": {},
   "source": [
    "# Ejercicios Pair Programming - Modulo 2 - Sprint 1 \n",
    "## Lección 7 - Estadistica I: Introduccion\n",
    "### Judith Mellidez y Sonia Ruiz"
   ]
  },
  {
   "cell_type": "markdown",
   "metadata": {},
   "source": [
    "Empezamos una nueva lección, y este es el momento de poner en práctica los conocimientos adquiridos del Estadística Descriptiva básica. \n",
    "En este caso vamos a darle un giro de tuerca a la forma en la que se ha resuelto los ejercicios de la Pair de hasta ahora! \n",
    "Para ello os vamos a pedir que por vuestra cuenta busqueis un dataset que os guste, por ejemplo de Kaggle o de donde queráis extraerlo. \n",
    "De esta forma vamos a estudiarlos diferentes estadísiticos que contiene en dataset seleccionado Para todas los ejercicios de pair programming \n",
    "de Estadística I, II y III usaremos el dataframe que se tome para el desarrollo de este ejercicio de pair programming."
   ]
  },
  {
   "cell_type": "markdown",
   "metadata": {},
   "source": [
    "1. Buscar un conjunto de datos a analizar:\n",
    "- Se recomienda que el conjunto de datos a analizar tenga variables numéricas y categóricas. Ya que también se analizarán."
   ]
  },
  {
   "cell_type": "code",
   "execution_count": 1,
   "metadata": {},
   "outputs": [],
   "source": [
    "#Importamos las librerias necesaris para los analisis de datos.\n",
    "import numpy as np\n",
    "import pandas as pd\n",
    "from scipy import stats"
   ]
  },
  {
   "cell_type": "code",
   "execution_count": 2,
   "metadata": {},
   "outputs": [
    {
     "data": {
      "text/html": [
       "<div>\n",
       "<style scoped>\n",
       "    .dataframe tbody tr th:only-of-type {\n",
       "        vertical-align: middle;\n",
       "    }\n",
       "\n",
       "    .dataframe tbody tr th {\n",
       "        vertical-align: top;\n",
       "    }\n",
       "\n",
       "    .dataframe thead th {\n",
       "        text-align: right;\n",
       "    }\n",
       "</style>\n",
       "<table border=\"1\" class=\"dataframe\">\n",
       "  <thead>\n",
       "    <tr style=\"text-align: right;\">\n",
       "      <th></th>\n",
       "      <th>Region</th>\n",
       "      <th>WRI</th>\n",
       "      <th>Exposure</th>\n",
       "      <th>Vulnerability</th>\n",
       "      <th>Susceptibility</th>\n",
       "      <th>Lack of Coping Capabilities</th>\n",
       "      <th>Lack of Adaptive Capacities</th>\n",
       "      <th>Year</th>\n",
       "      <th>Exposure Category</th>\n",
       "      <th>WRI Category</th>\n",
       "      <th>Vulnerability Category</th>\n",
       "      <th>Susceptibility Category</th>\n",
       "    </tr>\n",
       "  </thead>\n",
       "  <tbody>\n",
       "    <tr>\n",
       "      <th>0</th>\n",
       "      <td>Vanuatu</td>\n",
       "      <td>32.00</td>\n",
       "      <td>56.33</td>\n",
       "      <td>56.81</td>\n",
       "      <td>37.14</td>\n",
       "      <td>79.34</td>\n",
       "      <td>53.96</td>\n",
       "      <td>2011</td>\n",
       "      <td>Very High</td>\n",
       "      <td>Very High</td>\n",
       "      <td>High</td>\n",
       "      <td>High</td>\n",
       "    </tr>\n",
       "    <tr>\n",
       "      <th>1</th>\n",
       "      <td>Tonga</td>\n",
       "      <td>29.08</td>\n",
       "      <td>56.04</td>\n",
       "      <td>51.90</td>\n",
       "      <td>28.94</td>\n",
       "      <td>81.80</td>\n",
       "      <td>44.97</td>\n",
       "      <td>2011</td>\n",
       "      <td>Very High</td>\n",
       "      <td>Very High</td>\n",
       "      <td>Medium</td>\n",
       "      <td>Medium</td>\n",
       "    </tr>\n",
       "    <tr>\n",
       "      <th>2</th>\n",
       "      <td>Philippinen</td>\n",
       "      <td>24.32</td>\n",
       "      <td>45.09</td>\n",
       "      <td>53.93</td>\n",
       "      <td>34.99</td>\n",
       "      <td>82.78</td>\n",
       "      <td>44.01</td>\n",
       "      <td>2011</td>\n",
       "      <td>Very High</td>\n",
       "      <td>Very High</td>\n",
       "      <td>High</td>\n",
       "      <td>High</td>\n",
       "    </tr>\n",
       "    <tr>\n",
       "      <th>3</th>\n",
       "      <td>Salomonen</td>\n",
       "      <td>23.51</td>\n",
       "      <td>36.40</td>\n",
       "      <td>64.60</td>\n",
       "      <td>44.11</td>\n",
       "      <td>85.95</td>\n",
       "      <td>63.74</td>\n",
       "      <td>2011</td>\n",
       "      <td>Very High</td>\n",
       "      <td>Very High</td>\n",
       "      <td>Very High</td>\n",
       "      <td>High</td>\n",
       "    </tr>\n",
       "    <tr>\n",
       "      <th>4</th>\n",
       "      <td>Guatemala</td>\n",
       "      <td>20.88</td>\n",
       "      <td>38.42</td>\n",
       "      <td>54.35</td>\n",
       "      <td>35.36</td>\n",
       "      <td>77.83</td>\n",
       "      <td>49.87</td>\n",
       "      <td>2011</td>\n",
       "      <td>Very High</td>\n",
       "      <td>Very High</td>\n",
       "      <td>High</td>\n",
       "      <td>High</td>\n",
       "    </tr>\n",
       "  </tbody>\n",
       "</table>\n",
       "</div>"
      ],
      "text/plain": [
       "        Region    WRI  Exposure  Vulnerability  Susceptibility  \\\n",
       "0      Vanuatu  32.00     56.33          56.81           37.14   \n",
       "1        Tonga  29.08     56.04          51.90           28.94   \n",
       "2  Philippinen  24.32     45.09          53.93           34.99   \n",
       "3    Salomonen  23.51     36.40          64.60           44.11   \n",
       "4    Guatemala  20.88     38.42          54.35           35.36   \n",
       "\n",
       "   Lack of Coping Capabilities   Lack of Adaptive Capacities  Year  \\\n",
       "0                        79.34                         53.96  2011   \n",
       "1                        81.80                         44.97  2011   \n",
       "2                        82.78                         44.01  2011   \n",
       "3                        85.95                         63.74  2011   \n",
       "4                        77.83                         49.87  2011   \n",
       "\n",
       "  Exposure Category WRI Category Vulnerability Category  \\\n",
       "0         Very High    Very High                   High   \n",
       "1         Very High    Very High                 Medium   \n",
       "2         Very High    Very High                   High   \n",
       "3         Very High    Very High              Very High   \n",
       "4         Very High    Very High                   High   \n",
       "\n",
       "  Susceptibility Category  \n",
       "0                    High  \n",
       "1                  Medium  \n",
       "2                    High  \n",
       "3                    High  \n",
       "4                    High  "
      ]
     },
     "execution_count": 2,
     "metadata": {},
     "output_type": "execute_result"
    }
   ],
   "source": [
    "#Creamos un dataframe a partir de un archivo .csv .\n",
    "df=pd.read_csv('world_risk_index.csv')\n",
    "df.head()"
   ]
  },
  {
   "cell_type": "code",
   "execution_count": 3,
   "metadata": {},
   "outputs": [
    {
     "name": "stdout",
     "output_type": "stream",
     "text": [
      "<class 'pandas.core.frame.DataFrame'>\n",
      "RangeIndex: 1917 entries, 0 to 1916\n",
      "Data columns (total 12 columns):\n",
      " #   Column                        Non-Null Count  Dtype  \n",
      "---  ------                        --------------  -----  \n",
      " 0   Region                        1917 non-null   object \n",
      " 1   WRI                           1917 non-null   float64\n",
      " 2   Exposure                      1917 non-null   float64\n",
      " 3   Vulnerability                 1917 non-null   float64\n",
      " 4   Susceptibility                1917 non-null   float64\n",
      " 5   Lack of Coping Capabilities   1917 non-null   float64\n",
      " 6    Lack of Adaptive Capacities  1916 non-null   float64\n",
      " 7   Year                          1917 non-null   int64  \n",
      " 8   Exposure Category             1917 non-null   object \n",
      " 9   WRI Category                  1916 non-null   object \n",
      " 10  Vulnerability Category        1913 non-null   object \n",
      " 11  Susceptibility Category       1917 non-null   object \n",
      "dtypes: float64(6), int64(1), object(5)\n",
      "memory usage: 179.8+ KB\n"
     ]
    }
   ],
   "source": [
    "# Empleando el metodo \".info()\" obtenemos el nombre de las columnasd el dataframe, sus valores no nulos\n",
    "#  y el tipo de datos que contienen.\n",
    "df.info()"
   ]
  },
  {
   "cell_type": "code",
   "execution_count": 4,
   "metadata": {},
   "outputs": [
    {
     "data": {
      "text/html": [
       "<div>\n",
       "<style scoped>\n",
       "    .dataframe tbody tr th:only-of-type {\n",
       "        vertical-align: middle;\n",
       "    }\n",
       "\n",
       "    .dataframe tbody tr th {\n",
       "        vertical-align: top;\n",
       "    }\n",
       "\n",
       "    .dataframe thead th {\n",
       "        text-align: right;\n",
       "    }\n",
       "</style>\n",
       "<table border=\"1\" class=\"dataframe\">\n",
       "  <thead>\n",
       "    <tr style=\"text-align: right;\">\n",
       "      <th></th>\n",
       "      <th>WRI</th>\n",
       "      <th>Exposure</th>\n",
       "      <th>Vulnerability</th>\n",
       "      <th>Susceptibility</th>\n",
       "      <th>Lack of Coping Capabilities</th>\n",
       "      <th>Lack of Adaptive Capacities</th>\n",
       "      <th>Year</th>\n",
       "    </tr>\n",
       "  </thead>\n",
       "  <tbody>\n",
       "    <tr>\n",
       "      <th>count</th>\n",
       "      <td>1917.000000</td>\n",
       "      <td>1917.000000</td>\n",
       "      <td>1917.000000</td>\n",
       "      <td>1917.000000</td>\n",
       "      <td>1917.000000</td>\n",
       "      <td>1916.000000</td>\n",
       "      <td>1917.000000</td>\n",
       "    </tr>\n",
       "    <tr>\n",
       "      <th>mean</th>\n",
       "      <td>7.551763</td>\n",
       "      <td>15.388336</td>\n",
       "      <td>48.075759</td>\n",
       "      <td>30.739431</td>\n",
       "      <td>70.438289</td>\n",
       "      <td>43.090511</td>\n",
       "      <td>2016.049557</td>\n",
       "    </tr>\n",
       "    <tr>\n",
       "      <th>std</th>\n",
       "      <td>5.553257</td>\n",
       "      <td>10.240135</td>\n",
       "      <td>13.835666</td>\n",
       "      <td>15.667030</td>\n",
       "      <td>15.038854</td>\n",
       "      <td>13.551156</td>\n",
       "      <td>3.182045</td>\n",
       "    </tr>\n",
       "    <tr>\n",
       "      <th>min</th>\n",
       "      <td>0.020000</td>\n",
       "      <td>0.050000</td>\n",
       "      <td>14.310000</td>\n",
       "      <td>8.260000</td>\n",
       "      <td>31.590000</td>\n",
       "      <td>11.160000</td>\n",
       "      <td>2011.000000</td>\n",
       "    </tr>\n",
       "    <tr>\n",
       "      <th>25%</th>\n",
       "      <td>3.740000</td>\n",
       "      <td>10.160000</td>\n",
       "      <td>37.040000</td>\n",
       "      <td>17.790000</td>\n",
       "      <td>59.330000</td>\n",
       "      <td>33.192500</td>\n",
       "      <td>2013.000000</td>\n",
       "    </tr>\n",
       "    <tr>\n",
       "      <th>50%</th>\n",
       "      <td>6.520000</td>\n",
       "      <td>12.760000</td>\n",
       "      <td>47.100000</td>\n",
       "      <td>25.400000</td>\n",
       "      <td>74.230000</td>\n",
       "      <td>43.080000</td>\n",
       "      <td>2016.000000</td>\n",
       "    </tr>\n",
       "    <tr>\n",
       "      <th>75%</th>\n",
       "      <td>9.400000</td>\n",
       "      <td>16.450000</td>\n",
       "      <td>60.060000</td>\n",
       "      <td>42.640000</td>\n",
       "      <td>83.000000</td>\n",
       "      <td>53.065000</td>\n",
       "      <td>2019.000000</td>\n",
       "    </tr>\n",
       "    <tr>\n",
       "      <th>max</th>\n",
       "      <td>56.710000</td>\n",
       "      <td>99.880000</td>\n",
       "      <td>76.470000</td>\n",
       "      <td>70.830000</td>\n",
       "      <td>94.360000</td>\n",
       "      <td>76.110000</td>\n",
       "      <td>2021.000000</td>\n",
       "    </tr>\n",
       "  </tbody>\n",
       "</table>\n",
       "</div>"
      ],
      "text/plain": [
       "               WRI     Exposure  Vulnerability  Susceptibility  \\\n",
       "count  1917.000000  1917.000000    1917.000000     1917.000000   \n",
       "mean      7.551763    15.388336      48.075759       30.739431   \n",
       "std       5.553257    10.240135      13.835666       15.667030   \n",
       "min       0.020000     0.050000      14.310000        8.260000   \n",
       "25%       3.740000    10.160000      37.040000       17.790000   \n",
       "50%       6.520000    12.760000      47.100000       25.400000   \n",
       "75%       9.400000    16.450000      60.060000       42.640000   \n",
       "max      56.710000    99.880000      76.470000       70.830000   \n",
       "\n",
       "       Lack of Coping Capabilities   Lack of Adaptive Capacities         Year  \n",
       "count                  1917.000000                   1916.000000  1917.000000  \n",
       "mean                     70.438289                     43.090511  2016.049557  \n",
       "std                      15.038854                     13.551156     3.182045  \n",
       "min                      31.590000                     11.160000  2011.000000  \n",
       "25%                      59.330000                     33.192500  2013.000000  \n",
       "50%                      74.230000                     43.080000  2016.000000  \n",
       "75%                      83.000000                     53.065000  2019.000000  \n",
       "max                      94.360000                     76.110000  2021.000000  "
      ]
     },
     "execution_count": 4,
     "metadata": {},
     "output_type": "execute_result"
    }
   ],
   "source": [
    "#Obtenemos una tabla con los principales estadisticos para las columnas con valores numericos.\n",
    "df.describe()"
   ]
  },
  {
   "cell_type": "code",
   "execution_count": 5,
   "metadata": {},
   "outputs": [
    {
     "data": {
      "text/plain": [
       "Index(['Region', 'WRI', 'Exposure', 'Vulnerability', 'Susceptibility',\n",
       "       'Lack of Coping Capabilities', ' Lack of Adaptive Capacities', 'Year',\n",
       "       'Exposure Category', 'WRI Category', 'Vulnerability Category',\n",
       "       'Susceptibility Category'],\n",
       "      dtype='object')"
      ]
     },
     "execution_count": 5,
     "metadata": {},
     "output_type": "execute_result"
    }
   ],
   "source": [
    "#Obtenemos una lista con el nombre de las columnas de nuestro dataframe.\n",
    "df.columns"
   ]
  },
  {
   "cell_type": "code",
   "execution_count": 6,
   "metadata": {},
   "outputs": [
    {
     "data": {
      "text/plain": [
       "Region                          0\n",
       "WRI                             0\n",
       "Exposure                        0\n",
       "Vulnerability                   0\n",
       "Susceptibility                  0\n",
       "Lack of Coping Capabilities     0\n",
       " Lack of Adaptive Capacities    1\n",
       "Year                            0\n",
       "Exposure Category               0\n",
       "WRI Category                    1\n",
       "Vulnerability Category          4\n",
       "Susceptibility Category         0\n",
       "dtype: int64"
      ]
     },
     "execution_count": 6,
     "metadata": {},
     "output_type": "execute_result"
    }
   ],
   "source": [
    "#Mostramos el numero de valores nulos por columna que presenta el dataframe.\n",
    "df.isnull().sum()"
   ]
  },
  {
   "cell_type": "code",
   "execution_count": 7,
   "metadata": {},
   "outputs": [
    {
     "data": {
      "text/plain": [
       "Region                           object\n",
       "WRI                             float64\n",
       "Exposure                        float64\n",
       "Vulnerability                   float64\n",
       "Susceptibility                  float64\n",
       "Lack of Coping Capabilities     float64\n",
       " Lack of Adaptive Capacities    float64\n",
       "Year                              int64\n",
       "Exposure Category                object\n",
       "WRI Category                     object\n",
       "Vulnerability Category           object\n",
       "Susceptibility Category          object\n",
       "dtype: object"
      ]
     },
     "execution_count": 7,
     "metadata": {},
     "output_type": "execute_result"
    }
   ],
   "source": [
    "#Observamos que tipo de datos contienen las columnas.\n",
    "df.dtypes"
   ]
  },
  {
   "cell_type": "markdown",
   "metadata": {},
   "source": [
    "2. Extraer los siguentes estadísiticos del conjunto de datos para varias de las variables disponibles:"
   ]
  },
  {
   "cell_type": "markdown",
   "metadata": {},
   "source": [
    "- Media"
   ]
  },
  {
   "cell_type": "code",
   "execution_count": 8,
   "metadata": {},
   "outputs": [
    {
     "name": "stdout",
     "output_type": "stream",
     "text": [
      "La media de WRI: 7.551763171622318\n",
      "------------------\n",
      "La media de Exposure: 15.388335941575347\n",
      "------------------\n",
      "La media de Vulnerability: 48.07575899843497\n",
      "------------------\n",
      "La media de Susceptibility: 30.739431403234263\n"
     ]
    }
   ],
   "source": [
    "#Calculamos la media de 4 de las variables numericas (tipo float) del DataFrame creado.\n",
    "media_WRI=df['WRI'].mean()\n",
    "print('La media de WRI:', media_WRI)\n",
    "print('------------------')\n",
    "media_Exposure=df['Exposure'].mean()\n",
    "print('La media de Exposure:',media_Exposure)\n",
    "print('------------------')\n",
    "media_Vulnerability=df['Vulnerability'].mean()\n",
    "print('La media de Vulnerability:',media_Vulnerability)\n",
    "print('------------------')\n",
    "media_Susceptibility=df['Susceptibility'].mean()\n",
    "print('La media de Susceptibility:',media_Susceptibility)\n"
   ]
  },
  {
   "cell_type": "markdown",
   "metadata": {},
   "source": [
    "- Desviación con respecto de la media"
   ]
  },
  {
   "cell_type": "code",
   "execution_count": 10,
   "metadata": {},
   "outputs": [
    {
     "name": "stdout",
     "output_type": "stream",
     "text": [
      "La desviacion respecto a la media de WRI: 0       24.448237\n",
      "1       21.528237\n",
      "2       16.768237\n",
      "3       15.958237\n",
      "4       13.328237\n",
      "          ...    \n",
      "1912     6.131763\n",
      "1913     6.231763\n",
      "1914     6.411763\n",
      "1915     6.951763\n",
      "1916     7.471763\n",
      "Name: WRI, Length: 1917, dtype: float64\n",
      "-------------------------------------\n",
      "La desviacion respecto a la media de Exposure: 0       40.941664\n",
      "1       40.651664\n",
      "2       29.701664\n",
      "3       21.011664\n",
      "4       23.031664\n",
      "          ...    \n",
      "1912    12.258336\n",
      "1913    11.928336\n",
      "1914    12.458336\n",
      "1915    13.738336\n",
      "1916    15.108336\n",
      "Name: Exposure, Length: 1917, dtype: float64\n",
      "-------------------------------------\n",
      "La desviacion respecto a la media de Vulnerability: 0        8.734241\n",
      "1        3.824241\n",
      "2        5.854241\n",
      "3       16.524241\n",
      "4        6.274241\n",
      "          ...    \n",
      "1912     2.685759\n",
      "1913     9.815759\n",
      "1914     9.115759\n",
      "1915    11.825759\n",
      "1916    19.895759\n",
      "Name: Vulnerability, Length: 1917, dtype: float64\n",
      "-------------------------------------\n",
      "La desviacion respecto a la media de Susceptibility: 0        6.400569\n",
      "1        1.799431\n",
      "2        4.250569\n",
      "3       13.370569\n",
      "4        4.620569\n",
      "          ...    \n",
      "1912     6.199431\n",
      "1913    12.539431\n",
      "1914    15.939431\n",
      "1915    14.769431\n",
      "1916    21.059431\n",
      "Name: Susceptibility, Length: 1917, dtype: float64\n",
      "-------------------------------------\n"
     ]
    }
   ],
   "source": [
    "#Calculamos la desviacion con respecto a la media de las variables numericas (tipo float)\n",
    "#  del DataFrame creado.\n",
    "media_WRI=df['WRI'].mean()\n",
    "media_Exposure=df['Exposure'].mean()\n",
    "media_Vulnerability=df['Vulnerability'].mean()\n",
    "media_Susceptibility=df['Susceptibility'].mean()\n",
    "\n",
    "diferencia_WRI=df['WRI']-media_WRI\n",
    "desv_med_WRI=np.abs(diferencia_WRI)\n",
    "print('La desviacion respecto a la media de WRI:', desv_med_WRI)\n",
    "print('-------------------------------------')\n",
    "\n",
    "diferencia_Exposure=df['Exposure']-media_Exposure\n",
    "desv_med_Exposure=np.abs(diferencia_Exposure)\n",
    "print('La desviacion respecto a la media de Exposure:', desv_med_Exposure)\n",
    "print('-------------------------------------')\n",
    "\n",
    "\n",
    "diferencia_Vulnerability=df['Vulnerability']-media_Vulnerability\n",
    "desv_med_Vulnerability=np.abs(diferencia_Vulnerability)\n",
    "print('La desviacion respecto a la media de Vulnerability:', desv_med_Vulnerability)\n",
    "print('-------------------------------------')\n",
    "\n",
    "diferencia_Susceptibility=df['Susceptibility']-media_Susceptibility\n",
    "desv_med_Susceptibility=np.abs(diferencia_Susceptibility)\n",
    "print('La desviacion respecto a la media de Susceptibility:', desv_med_Susceptibility)"
   ]
  },
  {
   "cell_type": "markdown",
   "metadata": {},
   "source": [
    "- Varianza"
   ]
  },
  {
   "cell_type": "code",
   "execution_count": 12,
   "metadata": {},
   "outputs": [
    {
     "name": "stdout",
     "output_type": "stream",
     "text": [
      "La varianza de WRI: 30.838664112985438\n",
      "------------------\n",
      "La varianza de Exposure: 104.86037087247054\n",
      "------------------\n",
      "La varianza de Vulnerability: 191.42565147215902\n",
      "------------------\n",
      "La varianza de Susceptibility: 245.45582467652918\n"
     ]
    }
   ],
   "source": [
    "#Obtenemos la varianza de 4 de las variables numericas (tipo float) del DataFrame creado.\n",
    "var_WRI=df['WRI'].var()\n",
    "print('La varianza de WRI:', var_WRI)\n",
    "print('------------------')\n",
    "var_Exposure=df['Exposure'].var()\n",
    "print('La varianza de Exposure:',var_Exposure)\n",
    "print('------------------')\n",
    "var_Vulnerability=df['Vulnerability'].var()\n",
    "print('La varianza de Vulnerability:',var_Vulnerability)\n",
    "print('------------------')\n",
    "var_Susceptibility=df['Susceptibility'].var()\n",
    "print('La varianza de Susceptibility:',var_Susceptibility)\n"
   ]
  },
  {
   "cell_type": "markdown",
   "metadata": {},
   "source": [
    "- Desviación típica"
   ]
  },
  {
   "cell_type": "code",
   "execution_count": 13,
   "metadata": {},
   "outputs": [
    {
     "name": "stdout",
     "output_type": "stream",
     "text": [
      "La desviacion estandar/tipica de WRI: 5.553257072474264\n",
      "------------------\n",
      "La desviacion estandar/tipica de Exposure: 10.240135295613557\n",
      "------------------\n",
      "La desviacion estandar/tipica de Vulnerability: 13.835665920806234\n",
      "------------------\n",
      "La desviacion estandar/tipica de Susceptibility: 15.667029861353083\n"
     ]
    }
   ],
   "source": [
    "#Calculamos la desviacion tipica de 4 de las variables numericas (tipo float) del DataFrame creado.\n",
    "std_WRI=df['WRI'].std()\n",
    "print('La desviacion estandar/tipica de WRI:', std_WRI)\n",
    "print('------------------')\n",
    "std_Exposure=df['Exposure'].std()\n",
    "print('La desviacion estandar/tipica de Exposure:',std_Exposure)\n",
    "print('------------------')\n",
    "std_Vulnerability=df['Vulnerability'].std()\n",
    "print('La desviacion estandar/tipica de Vulnerability:',std_Vulnerability)\n",
    "print('------------------')\n",
    "std_Susceptibility=df['Susceptibility'].std()\n",
    "print('La desviacion estandar/tipica de Susceptibility:',std_Susceptibility)"
   ]
  },
  {
   "cell_type": "markdown",
   "metadata": {},
   "source": [
    "- Moda"
   ]
  },
  {
   "cell_type": "code",
   "execution_count": 17,
   "metadata": {},
   "outputs": [
    {
     "name": "stdout",
     "output_type": "stream",
     "text": [
      "La moda de WRI: 0    3.46\n",
      "1    3.56\n",
      "dtype: float64\n",
      "------------------\n",
      "La moda de Exposure: 0    12.25\n",
      "dtype: float64\n",
      "------------------\n",
      "La moda de Vulnerability: 0    26.98\n",
      "dtype: float64\n",
      "------------------\n",
      "La moda de Susceptibility: 0    17.27\n",
      "dtype: float64\n"
     ]
    }
   ],
   "source": [
    "#Calculamos la moda de las cuatro variables numericas. Observamos que la columna WRI tiene\n",
    "#  dos modas mientras que las otras tres columnas tiene una sola moda.\n",
    "mode_WRI=df['WRI'].mode()\n",
    "print('La moda de WRI:', mode_WRI)\n",
    "print('------------------')\n",
    "mode_Exposure=df['Exposure'].mode()\n",
    "print('La moda de Exposure:',mode_Exposure)\n",
    "print('------------------')\n",
    "mode_Vulnerability=df['Vulnerability'].mode()\n",
    "print('La moda de Vulnerability:',mode_Vulnerability)\n",
    "print('------------------')\n",
    "mode_Susceptibility=df['Susceptibility'].mode()\n",
    "print('La moda de Susceptibility:',mode_Susceptibility)"
   ]
  },
  {
   "cell_type": "markdown",
   "metadata": {},
   "source": [
    "- Mediana"
   ]
  },
  {
   "cell_type": "code",
   "execution_count": 22,
   "metadata": {},
   "outputs": [
    {
     "name": "stdout",
     "output_type": "stream",
     "text": [
      "La mediana de WRI: 6.52\n",
      "------------------\n",
      "La mediana de Exposure: 12.76\n",
      "------------------\n",
      "La mediana de Vulnerability: 47.1\n",
      "------------------\n",
      "La mediana de Susceptibility: 25.4\n"
     ]
    }
   ],
   "source": [
    "#Calculamos la mediana de las cuatro variables numericas. \n",
    "median_WRI=df['WRI'].median()\n",
    "print('La mediana de WRI:', median_WRI)\n",
    "print('------------------')\n",
    "median_Exposure=df['Exposure'].median()\n",
    "print('La mediana de Exposure:',median_Exposure)\n",
    "print('------------------')\n",
    "median_Vulnerability=df['Vulnerability'].median()\n",
    "print('La mediana de Vulnerability:',median_Vulnerability)\n",
    "print('------------------')\n",
    "median_Susceptibility=df['Susceptibility'].median()\n",
    "print('La mediana de Susceptibility:',median_Susceptibility)"
   ]
  },
  {
   "cell_type": "markdown",
   "metadata": {},
   "source": [
    "- Media ponderada"
   ]
  },
  {
   "cell_type": "code",
   "execution_count": 23,
   "metadata": {},
   "outputs": [
    {
     "data": {
      "text/plain": [
       "array([ 8, 30, 85, ..., 61, 47,  8])"
      ]
     },
     "execution_count": 23,
     "metadata": {},
     "output_type": "execute_result"
    }
   ],
   "source": [
    "# Obtenemos unos valores aleatorios para utilizar como pesos en el calculo de la media ponderada.\n",
    "w = np.random.randint(0,100, df.shape[0])\n",
    "w"
   ]
  },
  {
   "cell_type": "code",
   "execution_count": 38,
   "metadata": {},
   "outputs": [
    {
     "name": "stdout",
     "output_type": "stream",
     "text": [
      "La media ponderada de WRI: 7.568253137422214\n",
      "La media ponderada de Exposure: 15.373217340631438\n",
      "La media ponderada de Vulnerability: 48.25890382734292\n",
      "La media ponderada de Susceptibility: 30.89711003350746\n"
     ]
    }
   ],
   "source": [
    "#Calculamos la media poderada de las 4 variables numericas.\n",
    "\n",
    "print('La media ponderada de WRI:',np.average(df[\"WRI\"], weights=w))\n",
    "print('La media ponderada de Exposure:',np.average(df[\"Exposure\"], weights=w))\n",
    "print('La media ponderada de Vulnerability:',np.average(df[\"Vulnerability\"], weights=w))\n",
    "print('La media ponderada de Susceptibility:',np.average(df[\"Susceptibility\"], weights=w))\n"
   ]
  },
  {
   "cell_type": "markdown",
   "metadata": {},
   "source": [
    "- Robustez"
   ]
  },
  {
   "cell_type": "code",
   "execution_count": 39,
   "metadata": {},
   "outputs": [
    {
     "data": {
      "text/plain": [
       "(1917, 12)"
      ]
     },
     "execution_count": 39,
     "metadata": {},
     "output_type": "execute_result"
    }
   ],
   "source": [
    "df.shape"
   ]
  },
  {
   "cell_type": "code",
   "execution_count": 40,
   "metadata": {},
   "outputs": [],
   "source": [
    "#Calulamos el punto de ruptura para obtener la robustez de la media.\n",
    "punto_ruptura=1/(df.shape[0])"
   ]
  },
  {
   "cell_type": "code",
   "execution_count": 42,
   "metadata": {},
   "outputs": [
    {
     "data": {
      "text/plain": [
       "0.0005216484089723526"
      ]
     },
     "execution_count": 42,
     "metadata": {},
     "output_type": "execute_result"
    }
   ],
   "source": [
    "punto_ruptura"
   ]
  },
  {
   "attachments": {},
   "cell_type": "markdown",
   "metadata": {},
   "source": [
    "- Coeficiente de variacion"
   ]
  },
  {
   "cell_type": "code",
   "execution_count": 8,
   "metadata": {},
   "outputs": [
    {
     "name": "stdout",
     "output_type": "stream",
     "text": [
      "El coeficiente de variacion de WRI es: 73.53590077271018\n",
      "El coeficiente de variacion de Exposure es: 66.54478648303558\n",
      "El coeficiente de variacion de Vulnerability es: 28.778881933526222\n",
      "El coeficiente de variacion de Susceptibility es: 50.96720773990858\n"
     ]
    }
   ],
   "source": [
    "print('El coeficiente de variacion de WRI es:',df['WRI'].std()/df['WRI'].mean()*100)\n",
    "print('El coeficiente de variacion de Exposure es:',df['Exposure'].std()/df['Exposure'].mean()*100)\n",
    "print('El coeficiente de variacion de Vulnerability es:',df['Vulnerability'].std()/df['Vulnerability'].mean()*100)\n",
    "print('El coeficiente de variacion de Susceptibility es:',df['Susceptibility'].std()/df['Susceptibility'].mean()*100)"
   ]
  },
  {
   "cell_type": "markdown",
   "metadata": {},
   "source": [
    "3. Interpretación de los resultados."
   ]
  },
  {
   "cell_type": "markdown",
   "metadata": {},
   "source": [
    "- Ahora interpreta los resultados obtenidos de los diferentes estadísticos estudiados haciendo hincapié en aspectos interesantes de tus datos y explica lo mejor posible la naturaleza de los mismos."
   ]
  },
  {
   "attachments": {},
   "cell_type": "markdown",
   "metadata": {},
   "source": [
    "`Tras obtener los anteriores estadisticos podemos observar que:`\n",
    "\n",
    "`- tanto la media como la desviacion tipica las podiamos observar tambien en la tabla obtenida mediante el metodo \".describe()\".`\n",
    "\n",
    "`- la media y la mediana se encuentran bastante proximos dentro de cada columna en los 4 casos.`\n",
    "\n",
    "`- WRI es la unica columna con mas de una moda.`\n",
    "\n",
    "`- teniendo en cuenta la desviacion tipica, la columna con los datos mas dispersos respecto a la media es \"Susceptibility\", ya que presenta una desviacion tipica mayor.`\n",
    "\n",
    "`- el coeficiente de variacion de las columnas nos indica que los datos mas heterogeneos son los de la column WRI. Es decir, WRI es la columna con menor desviacion tipica (menor dispersion respecto a la media), pero sin embargo es la que tiene mayor heterogeneidad en sus datos.`\n",
    "\n",
    "`- el valor de la robustez puede parecer que nos indica que el estadistico es robusto, pero debemos tener en cuenta que la robustez por si misma no es determinante, debemos mirar el resto de estadisticos. El rango intercuartilico o la mediana si son medidas mas robustas.`\n"
   ]
  },
  {
   "attachments": {},
   "cell_type": "markdown",
   "metadata": {},
   "source": [
    "Happy coding 🦈"
   ]
  }
 ],
 "metadata": {
  "kernelspec": {
   "display_name": "base",
   "language": "python",
   "name": "python3"
  },
  "language_info": {
   "codemirror_mode": {
    "name": "ipython",
    "version": 3
   },
   "file_extension": ".py",
   "mimetype": "text/x-python",
   "name": "python",
   "nbconvert_exporter": "python",
   "pygments_lexer": "ipython3",
   "version": "3.9.7"
  },
  "orig_nbformat": 4,
  "vscode": {
   "interpreter": {
    "hash": "468215beec16e96f99bc366ecab75b1d75db716e353e0417cbdb37be88f0d883"
   }
  }
 },
 "nbformat": 4,
 "nbformat_minor": 2
}
