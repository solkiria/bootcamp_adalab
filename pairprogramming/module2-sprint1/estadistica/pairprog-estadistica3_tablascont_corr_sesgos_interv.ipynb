{
 "cells": [
  {
   "attachments": {},
   "cell_type": "markdown",
   "metadata": {},
   "source": [
    "# Ejercicios Pair Programming - Modulo 2 - Sprint 1 \n",
    "## Lección 9 - Estadística III - Tablas de contingencia, correlación, sesgos e intervalos de confianza\n",
    "### Judith Mellidez y Sonia Ruiz"
   ]
  },
  {
   "attachments": {},
   "cell_type": "markdown",
   "metadata": {},
   "source": [
    "Vamos ahora a tomar de nuevo el conjunto de datos con el que estuvimos trabajando en los últimos días y vamos a continuar con el análisis de las estadísitcas de los contenidos del conjunto de datos.\n",
    "\n",
    "__Para todas los ejercicios de pair programming de Estadística I, II y III usaremos el dataframe que se tome para el desarrollo de este ejercicio de pair programming.__\n",
    "\n",
    "Se ruega a la hora de realizar la entrega que incluyais el conjunto de datos que hayais decidido emplear para estos ejercicios.\n",
    "\n",
    "__Objetivos__\n",
    "\n",
    "Los objetivos de hoy son:\n",
    "1. Extraer los siguentes estadísiticos del conjunto de datos para varias de las varibles disponibles:\n",
    "- Tabla de contingencia"
   ]
  },
  {
   "cell_type": "code",
   "execution_count": 49,
   "metadata": {},
   "outputs": [],
   "source": [
    "#Importamos todas las librerias necesarias para poder exporar y analizar nuestros datos.\n",
    "import numpy as np\n",
    "import pandas as pd\n",
    "import matplotlib.pyplot as plt\n",
    "import seaborn as sns\n",
    "from scipy.stats import skew\n",
    "from pydataset import data\n",
    "import scipy.stats as st"
   ]
  },
  {
   "cell_type": "code",
   "execution_count": 2,
   "metadata": {},
   "outputs": [
    {
     "data": {
      "text/html": [
       "<div>\n",
       "<style scoped>\n",
       "    .dataframe tbody tr th:only-of-type {\n",
       "        vertical-align: middle;\n",
       "    }\n",
       "\n",
       "    .dataframe tbody tr th {\n",
       "        vertical-align: top;\n",
       "    }\n",
       "\n",
       "    .dataframe thead th {\n",
       "        text-align: right;\n",
       "    }\n",
       "</style>\n",
       "<table border=\"1\" class=\"dataframe\">\n",
       "  <thead>\n",
       "    <tr style=\"text-align: right;\">\n",
       "      <th></th>\n",
       "      <th>Region</th>\n",
       "      <th>WRI</th>\n",
       "      <th>Exposure</th>\n",
       "      <th>Vulnerability</th>\n",
       "      <th>Susceptibility</th>\n",
       "      <th>Lack of Coping Capabilities</th>\n",
       "      <th>Lack of Adaptive Capacities</th>\n",
       "      <th>Year</th>\n",
       "      <th>Exposure Category</th>\n",
       "      <th>WRI Category</th>\n",
       "      <th>Vulnerability Category</th>\n",
       "      <th>Susceptibility Category</th>\n",
       "    </tr>\n",
       "  </thead>\n",
       "  <tbody>\n",
       "    <tr>\n",
       "      <th>0</th>\n",
       "      <td>Vanuatu</td>\n",
       "      <td>32.00</td>\n",
       "      <td>56.33</td>\n",
       "      <td>56.81</td>\n",
       "      <td>37.14</td>\n",
       "      <td>79.34</td>\n",
       "      <td>53.96</td>\n",
       "      <td>2011</td>\n",
       "      <td>Very High</td>\n",
       "      <td>Very High</td>\n",
       "      <td>High</td>\n",
       "      <td>High</td>\n",
       "    </tr>\n",
       "    <tr>\n",
       "      <th>1</th>\n",
       "      <td>Tonga</td>\n",
       "      <td>29.08</td>\n",
       "      <td>56.04</td>\n",
       "      <td>51.90</td>\n",
       "      <td>28.94</td>\n",
       "      <td>81.80</td>\n",
       "      <td>44.97</td>\n",
       "      <td>2011</td>\n",
       "      <td>Very High</td>\n",
       "      <td>Very High</td>\n",
       "      <td>Medium</td>\n",
       "      <td>Medium</td>\n",
       "    </tr>\n",
       "    <tr>\n",
       "      <th>2</th>\n",
       "      <td>Philippinen</td>\n",
       "      <td>24.32</td>\n",
       "      <td>45.09</td>\n",
       "      <td>53.93</td>\n",
       "      <td>34.99</td>\n",
       "      <td>82.78</td>\n",
       "      <td>44.01</td>\n",
       "      <td>2011</td>\n",
       "      <td>Very High</td>\n",
       "      <td>Very High</td>\n",
       "      <td>High</td>\n",
       "      <td>High</td>\n",
       "    </tr>\n",
       "    <tr>\n",
       "      <th>3</th>\n",
       "      <td>Salomonen</td>\n",
       "      <td>23.51</td>\n",
       "      <td>36.40</td>\n",
       "      <td>64.60</td>\n",
       "      <td>44.11</td>\n",
       "      <td>85.95</td>\n",
       "      <td>63.74</td>\n",
       "      <td>2011</td>\n",
       "      <td>Very High</td>\n",
       "      <td>Very High</td>\n",
       "      <td>Very High</td>\n",
       "      <td>High</td>\n",
       "    </tr>\n",
       "    <tr>\n",
       "      <th>4</th>\n",
       "      <td>Guatemala</td>\n",
       "      <td>20.88</td>\n",
       "      <td>38.42</td>\n",
       "      <td>54.35</td>\n",
       "      <td>35.36</td>\n",
       "      <td>77.83</td>\n",
       "      <td>49.87</td>\n",
       "      <td>2011</td>\n",
       "      <td>Very High</td>\n",
       "      <td>Very High</td>\n",
       "      <td>High</td>\n",
       "      <td>High</td>\n",
       "    </tr>\n",
       "  </tbody>\n",
       "</table>\n",
       "</div>"
      ],
      "text/plain": [
       "        Region    WRI  Exposure  Vulnerability  Susceptibility  \\\n",
       "0      Vanuatu  32.00     56.33          56.81           37.14   \n",
       "1        Tonga  29.08     56.04          51.90           28.94   \n",
       "2  Philippinen  24.32     45.09          53.93           34.99   \n",
       "3    Salomonen  23.51     36.40          64.60           44.11   \n",
       "4    Guatemala  20.88     38.42          54.35           35.36   \n",
       "\n",
       "   Lack of Coping Capabilities   Lack of Adaptive Capacities  Year  \\\n",
       "0                        79.34                         53.96  2011   \n",
       "1                        81.80                         44.97  2011   \n",
       "2                        82.78                         44.01  2011   \n",
       "3                        85.95                         63.74  2011   \n",
       "4                        77.83                         49.87  2011   \n",
       "\n",
       "  Exposure Category WRI Category Vulnerability Category  \\\n",
       "0         Very High    Very High                   High   \n",
       "1         Very High    Very High                 Medium   \n",
       "2         Very High    Very High                   High   \n",
       "3         Very High    Very High              Very High   \n",
       "4         Very High    Very High                   High   \n",
       "\n",
       "  Susceptibility Category  \n",
       "0                    High  \n",
       "1                  Medium  \n",
       "2                    High  \n",
       "3                    High  \n",
       "4                    High  "
      ]
     },
     "execution_count": 2,
     "metadata": {},
     "output_type": "execute_result"
    }
   ],
   "source": [
    "#Almacenamos el fichero de datos en una variable como un dataframe y observamos sus 5 primeras filas.\n",
    "df=pd.read_csv('Estadistica_leccion1y2/world_risk_index.csv')\n",
    "df.head()"
   ]
  },
  {
   "cell_type": "code",
   "execution_count": 4,
   "metadata": {},
   "outputs": [
    {
     "name": "stdout",
     "output_type": "stream",
     "text": [
      "<class 'pandas.core.frame.DataFrame'>\n",
      "RangeIndex: 1917 entries, 0 to 1916\n",
      "Data columns (total 12 columns):\n",
      " #   Column                        Non-Null Count  Dtype  \n",
      "---  ------                        --------------  -----  \n",
      " 0   Region                        1917 non-null   object \n",
      " 1   WRI                           1917 non-null   float64\n",
      " 2   Exposure                      1917 non-null   float64\n",
      " 3   Vulnerability                 1917 non-null   float64\n",
      " 4   Susceptibility                1917 non-null   float64\n",
      " 5   Lack of Coping Capabilities   1917 non-null   float64\n",
      " 6    Lack of Adaptive Capacities  1916 non-null   float64\n",
      " 7   Year                          1917 non-null   int64  \n",
      " 8   Exposure Category             1917 non-null   object \n",
      " 9   WRI Category                  1916 non-null   object \n",
      " 10  Vulnerability Category        1913 non-null   object \n",
      " 11  Susceptibility Category       1917 non-null   object \n",
      "dtypes: float64(6), int64(1), object(5)\n",
      "memory usage: 179.8+ KB\n"
     ]
    }
   ],
   "source": [
    "#Realizamos una exploacion incial del dataframe.\n",
    "df.info()"
   ]
  },
  {
   "cell_type": "code",
   "execution_count": 3,
   "metadata": {},
   "outputs": [
    {
     "data": {
      "text/html": [
       "<div>\n",
       "<style scoped>\n",
       "    .dataframe tbody tr th:only-of-type {\n",
       "        vertical-align: middle;\n",
       "    }\n",
       "\n",
       "    .dataframe tbody tr th {\n",
       "        vertical-align: top;\n",
       "    }\n",
       "\n",
       "    .dataframe thead th {\n",
       "        text-align: right;\n",
       "    }\n",
       "</style>\n",
       "<table border=\"1\" class=\"dataframe\">\n",
       "  <thead>\n",
       "    <tr style=\"text-align: right;\">\n",
       "      <th></th>\n",
       "      <th>WRI</th>\n",
       "      <th>Exposure</th>\n",
       "      <th>Vulnerability</th>\n",
       "      <th>Susceptibility</th>\n",
       "      <th>Lack of Coping Capabilities</th>\n",
       "      <th>Lack of Adaptive Capacities</th>\n",
       "      <th>Year</th>\n",
       "    </tr>\n",
       "  </thead>\n",
       "  <tbody>\n",
       "    <tr>\n",
       "      <th>count</th>\n",
       "      <td>1917.000000</td>\n",
       "      <td>1917.000000</td>\n",
       "      <td>1917.000000</td>\n",
       "      <td>1917.000000</td>\n",
       "      <td>1917.000000</td>\n",
       "      <td>1916.000000</td>\n",
       "      <td>1917.000000</td>\n",
       "    </tr>\n",
       "    <tr>\n",
       "      <th>mean</th>\n",
       "      <td>7.551763</td>\n",
       "      <td>15.388336</td>\n",
       "      <td>48.075759</td>\n",
       "      <td>30.739431</td>\n",
       "      <td>70.438289</td>\n",
       "      <td>43.090511</td>\n",
       "      <td>2016.049557</td>\n",
       "    </tr>\n",
       "    <tr>\n",
       "      <th>std</th>\n",
       "      <td>5.553257</td>\n",
       "      <td>10.240135</td>\n",
       "      <td>13.835666</td>\n",
       "      <td>15.667030</td>\n",
       "      <td>15.038854</td>\n",
       "      <td>13.551156</td>\n",
       "      <td>3.182045</td>\n",
       "    </tr>\n",
       "    <tr>\n",
       "      <th>min</th>\n",
       "      <td>0.020000</td>\n",
       "      <td>0.050000</td>\n",
       "      <td>14.310000</td>\n",
       "      <td>8.260000</td>\n",
       "      <td>31.590000</td>\n",
       "      <td>11.160000</td>\n",
       "      <td>2011.000000</td>\n",
       "    </tr>\n",
       "    <tr>\n",
       "      <th>25%</th>\n",
       "      <td>3.740000</td>\n",
       "      <td>10.160000</td>\n",
       "      <td>37.040000</td>\n",
       "      <td>17.790000</td>\n",
       "      <td>59.330000</td>\n",
       "      <td>33.192500</td>\n",
       "      <td>2013.000000</td>\n",
       "    </tr>\n",
       "    <tr>\n",
       "      <th>50%</th>\n",
       "      <td>6.520000</td>\n",
       "      <td>12.760000</td>\n",
       "      <td>47.100000</td>\n",
       "      <td>25.400000</td>\n",
       "      <td>74.230000</td>\n",
       "      <td>43.080000</td>\n",
       "      <td>2016.000000</td>\n",
       "    </tr>\n",
       "    <tr>\n",
       "      <th>75%</th>\n",
       "      <td>9.400000</td>\n",
       "      <td>16.450000</td>\n",
       "      <td>60.060000</td>\n",
       "      <td>42.640000</td>\n",
       "      <td>83.000000</td>\n",
       "      <td>53.065000</td>\n",
       "      <td>2019.000000</td>\n",
       "    </tr>\n",
       "    <tr>\n",
       "      <th>max</th>\n",
       "      <td>56.710000</td>\n",
       "      <td>99.880000</td>\n",
       "      <td>76.470000</td>\n",
       "      <td>70.830000</td>\n",
       "      <td>94.360000</td>\n",
       "      <td>76.110000</td>\n",
       "      <td>2021.000000</td>\n",
       "    </tr>\n",
       "  </tbody>\n",
       "</table>\n",
       "</div>"
      ],
      "text/plain": [
       "               WRI     Exposure  Vulnerability  Susceptibility  \\\n",
       "count  1917.000000  1917.000000    1917.000000     1917.000000   \n",
       "mean      7.551763    15.388336      48.075759       30.739431   \n",
       "std       5.553257    10.240135      13.835666       15.667030   \n",
       "min       0.020000     0.050000      14.310000        8.260000   \n",
       "25%       3.740000    10.160000      37.040000       17.790000   \n",
       "50%       6.520000    12.760000      47.100000       25.400000   \n",
       "75%       9.400000    16.450000      60.060000       42.640000   \n",
       "max      56.710000    99.880000      76.470000       70.830000   \n",
       "\n",
       "       Lack of Coping Capabilities   Lack of Adaptive Capacities         Year  \n",
       "count                  1917.000000                   1916.000000  1917.000000  \n",
       "mean                     70.438289                     43.090511  2016.049557  \n",
       "std                      15.038854                     13.551156     3.182045  \n",
       "min                      31.590000                     11.160000  2011.000000  \n",
       "25%                      59.330000                     33.192500  2013.000000  \n",
       "50%                      74.230000                     43.080000  2016.000000  \n",
       "75%                      83.000000                     53.065000  2019.000000  \n",
       "max                      94.360000                     76.110000  2021.000000  "
      ]
     },
     "execution_count": 3,
     "metadata": {},
     "output_type": "execute_result"
    }
   ],
   "source": [
    "df.describe()"
   ]
  },
  {
   "cell_type": "code",
   "execution_count": 5,
   "metadata": {},
   "outputs": [
    {
     "data": {
      "text/html": [
       "<div>\n",
       "<style scoped>\n",
       "    .dataframe tbody tr th:only-of-type {\n",
       "        vertical-align: middle;\n",
       "    }\n",
       "\n",
       "    .dataframe tbody tr th {\n",
       "        vertical-align: top;\n",
       "    }\n",
       "\n",
       "    .dataframe thead th {\n",
       "        text-align: right;\n",
       "    }\n",
       "</style>\n",
       "<table border=\"1\" class=\"dataframe\">\n",
       "  <thead>\n",
       "    <tr style=\"text-align: right;\">\n",
       "      <th></th>\n",
       "      <th>Region</th>\n",
       "      <th>Exposure Category</th>\n",
       "      <th>WRI Category</th>\n",
       "      <th>Vulnerability Category</th>\n",
       "      <th>Susceptibility Category</th>\n",
       "    </tr>\n",
       "  </thead>\n",
       "  <tbody>\n",
       "    <tr>\n",
       "      <th>count</th>\n",
       "      <td>1917</td>\n",
       "      <td>1917</td>\n",
       "      <td>1916</td>\n",
       "      <td>1913</td>\n",
       "      <td>1917</td>\n",
       "    </tr>\n",
       "    <tr>\n",
       "      <th>unique</th>\n",
       "      <td>306</td>\n",
       "      <td>5</td>\n",
       "      <td>5</td>\n",
       "      <td>5</td>\n",
       "      <td>5</td>\n",
       "    </tr>\n",
       "    <tr>\n",
       "      <th>top</th>\n",
       "      <td>Vanuatu</td>\n",
       "      <td>Very Low</td>\n",
       "      <td>Very Low</td>\n",
       "      <td>Very Low</td>\n",
       "      <td>Very Low</td>\n",
       "    </tr>\n",
       "    <tr>\n",
       "      <th>freq</th>\n",
       "      <td>11</td>\n",
       "      <td>393</td>\n",
       "      <td>393</td>\n",
       "      <td>386</td>\n",
       "      <td>390</td>\n",
       "    </tr>\n",
       "  </tbody>\n",
       "</table>\n",
       "</div>"
      ],
      "text/plain": [
       "         Region Exposure Category WRI Category Vulnerability Category  \\\n",
       "count      1917              1917         1916                   1913   \n",
       "unique      306                 5            5                      5   \n",
       "top     Vanuatu          Very Low     Very Low               Very Low   \n",
       "freq         11               393          393                    386   \n",
       "\n",
       "       Susceptibility Category  \n",
       "count                     1917  \n",
       "unique                       5  \n",
       "top                   Very Low  \n",
       "freq                       390  "
      ]
     },
     "execution_count": 5,
     "metadata": {},
     "output_type": "execute_result"
    }
   ],
   "source": [
    "df.describe(include='object')"
   ]
  },
  {
   "cell_type": "code",
   "execution_count": 7,
   "metadata": {},
   "outputs": [
    {
     "data": {
      "text/html": [
       "<div>\n",
       "<style scoped>\n",
       "    .dataframe tbody tr th:only-of-type {\n",
       "        vertical-align: middle;\n",
       "    }\n",
       "\n",
       "    .dataframe tbody tr th {\n",
       "        vertical-align: top;\n",
       "    }\n",
       "\n",
       "    .dataframe thead th {\n",
       "        text-align: right;\n",
       "    }\n",
       "</style>\n",
       "<table border=\"1\" class=\"dataframe\">\n",
       "  <thead>\n",
       "    <tr style=\"text-align: right;\">\n",
       "      <th>Vulnerability Category</th>\n",
       "      <th>High</th>\n",
       "      <th>Low</th>\n",
       "      <th>Medium</th>\n",
       "      <th>Very High</th>\n",
       "      <th>Very Low</th>\n",
       "    </tr>\n",
       "    <tr>\n",
       "      <th>Exposure Category</th>\n",
       "      <th></th>\n",
       "      <th></th>\n",
       "      <th></th>\n",
       "      <th></th>\n",
       "      <th></th>\n",
       "    </tr>\n",
       "  </thead>\n",
       "  <tbody>\n",
       "    <tr>\n",
       "      <th>High</th>\n",
       "      <td>53</td>\n",
       "      <td>59</td>\n",
       "      <td>96</td>\n",
       "      <td>122</td>\n",
       "      <td>49</td>\n",
       "    </tr>\n",
       "    <tr>\n",
       "      <th>Low</th>\n",
       "      <td>60</td>\n",
       "      <td>76</td>\n",
       "      <td>49</td>\n",
       "      <td>76</td>\n",
       "      <td>118</td>\n",
       "    </tr>\n",
       "    <tr>\n",
       "      <th>Medium</th>\n",
       "      <td>65</td>\n",
       "      <td>54</td>\n",
       "      <td>86</td>\n",
       "      <td>122</td>\n",
       "      <td>53</td>\n",
       "    </tr>\n",
       "    <tr>\n",
       "      <th>Very High</th>\n",
       "      <td>143</td>\n",
       "      <td>71</td>\n",
       "      <td>90</td>\n",
       "      <td>43</td>\n",
       "      <td>35</td>\n",
       "    </tr>\n",
       "    <tr>\n",
       "      <th>Very Low</th>\n",
       "      <td>59</td>\n",
       "      <td>121</td>\n",
       "      <td>63</td>\n",
       "      <td>19</td>\n",
       "      <td>131</td>\n",
       "    </tr>\n",
       "  </tbody>\n",
       "</table>\n",
       "</div>"
      ],
      "text/plain": [
       "Vulnerability Category  High  Low  Medium  Very High  Very Low\n",
       "Exposure Category                                             \n",
       "High                      53   59      96        122        49\n",
       "Low                       60   76      49         76       118\n",
       "Medium                    65   54      86        122        53\n",
       "Very High                143   71      90         43        35\n",
       "Very Low                  59  121      63         19       131"
      ]
     },
     "execution_count": 7,
     "metadata": {},
     "output_type": "execute_result"
    }
   ],
   "source": [
    "#Creamos una tabla de contigencia con las variables categoricas 'Exposure Category'\n",
    "#  y 'Vulnerability Category'.\n",
    "tabla_contingencia=pd.crosstab(df['Exposure Category'], df['Vulnerability Category'])\n",
    "tabla_contingencia"
   ]
  },
  {
   "attachments": {},
   "cell_type": "markdown",
   "metadata": {},
   "source": [
    "    - En la tabla de contingencia obtenida podemos observar que la relacion entre \"vulnerability category\" y \"exposure category\", cuando \"vulnerability\" es \"very high\", se registran mas datos con \"exposure\" \"high\". Y cuando exposure es \"very hight\" se registran valores de \"vulnerability\" \"hight\". \n",
    "    Observamos más relaciones similares a esta, entre pares de variables."
   ]
  },
  {
   "attachments": {},
   "cell_type": "markdown",
   "metadata": {},
   "source": [
    "- Coeficiente de correlación de las variables numéricas del dataset."
   ]
  },
  {
   "cell_type": "code",
   "execution_count": 15,
   "metadata": {},
   "outputs": [
    {
     "name": "stderr",
     "output_type": "stream",
     "text": [
      "/tmp/ipykernel_14609/1432544334.py:2: FutureWarning: The default value of numeric_only in DataFrame.corr is deprecated. In a future version, it will default to False. Select only valid columns or specify the value of numeric_only to silence this warning.\n",
      "  coef_correlacion=df.corr()\n"
     ]
    },
    {
     "data": {
      "text/html": [
       "<div>\n",
       "<style scoped>\n",
       "    .dataframe tbody tr th:only-of-type {\n",
       "        vertical-align: middle;\n",
       "    }\n",
       "\n",
       "    .dataframe tbody tr th {\n",
       "        vertical-align: top;\n",
       "    }\n",
       "\n",
       "    .dataframe thead th {\n",
       "        text-align: right;\n",
       "    }\n",
       "</style>\n",
       "<table border=\"1\" class=\"dataframe\">\n",
       "  <thead>\n",
       "    <tr style=\"text-align: right;\">\n",
       "      <th></th>\n",
       "      <th>WRI</th>\n",
       "      <th>Exposure</th>\n",
       "      <th>Vulnerability</th>\n",
       "      <th>Susceptibility</th>\n",
       "      <th>Lack of Coping Capabilities</th>\n",
       "      <th>Lack of Adaptive Capacities</th>\n",
       "      <th>Year</th>\n",
       "    </tr>\n",
       "  </thead>\n",
       "  <tbody>\n",
       "    <tr>\n",
       "      <th>WRI</th>\n",
       "      <td>1.000000</td>\n",
       "      <td>0.917621</td>\n",
       "      <td>0.442428</td>\n",
       "      <td>0.381190</td>\n",
       "      <td>0.455432</td>\n",
       "      <td>0.413275</td>\n",
       "      <td>0.026040</td>\n",
       "    </tr>\n",
       "    <tr>\n",
       "      <th>Exposure</th>\n",
       "      <td>0.917621</td>\n",
       "      <td>1.000000</td>\n",
       "      <td>0.104787</td>\n",
       "      <td>0.066020</td>\n",
       "      <td>0.145526</td>\n",
       "      <td>0.087737</td>\n",
       "      <td>0.062133</td>\n",
       "    </tr>\n",
       "    <tr>\n",
       "      <th>Vulnerability</th>\n",
       "      <td>0.442428</td>\n",
       "      <td>0.104787</td>\n",
       "      <td>1.000000</td>\n",
       "      <td>0.932919</td>\n",
       "      <td>0.931140</td>\n",
       "      <td>0.945389</td>\n",
       "      <td>-0.082364</td>\n",
       "    </tr>\n",
       "    <tr>\n",
       "      <th>Susceptibility</th>\n",
       "      <td>0.381190</td>\n",
       "      <td>0.066020</td>\n",
       "      <td>0.932919</td>\n",
       "      <td>1.000000</td>\n",
       "      <td>0.781126</td>\n",
       "      <td>0.837977</td>\n",
       "      <td>-0.055962</td>\n",
       "    </tr>\n",
       "    <tr>\n",
       "      <th>Lack of Coping Capabilities</th>\n",
       "      <td>0.455432</td>\n",
       "      <td>0.145526</td>\n",
       "      <td>0.931140</td>\n",
       "      <td>0.781126</td>\n",
       "      <td>1.000000</td>\n",
       "      <td>0.833061</td>\n",
       "      <td>0.038186</td>\n",
       "    </tr>\n",
       "    <tr>\n",
       "      <th>Lack of Adaptive Capacities</th>\n",
       "      <td>0.413275</td>\n",
       "      <td>0.087737</td>\n",
       "      <td>0.945389</td>\n",
       "      <td>0.837977</td>\n",
       "      <td>0.833061</td>\n",
       "      <td>1.000000</td>\n",
       "      <td>-0.230083</td>\n",
       "    </tr>\n",
       "    <tr>\n",
       "      <th>Year</th>\n",
       "      <td>0.026040</td>\n",
       "      <td>0.062133</td>\n",
       "      <td>-0.082364</td>\n",
       "      <td>-0.055962</td>\n",
       "      <td>0.038186</td>\n",
       "      <td>-0.230083</td>\n",
       "      <td>1.000000</td>\n",
       "    </tr>\n",
       "  </tbody>\n",
       "</table>\n",
       "</div>"
      ],
      "text/plain": [
       "                                   WRI  Exposure  Vulnerability  \\\n",
       "WRI                           1.000000  0.917621       0.442428   \n",
       "Exposure                      0.917621  1.000000       0.104787   \n",
       "Vulnerability                 0.442428  0.104787       1.000000   \n",
       "Susceptibility                0.381190  0.066020       0.932919   \n",
       "Lack of Coping Capabilities   0.455432  0.145526       0.931140   \n",
       " Lack of Adaptive Capacities  0.413275  0.087737       0.945389   \n",
       "Year                          0.026040  0.062133      -0.082364   \n",
       "\n",
       "                              Susceptibility  Lack of Coping Capabilities  \\\n",
       "WRI                                 0.381190                     0.455432   \n",
       "Exposure                            0.066020                     0.145526   \n",
       "Vulnerability                       0.932919                     0.931140   \n",
       "Susceptibility                      1.000000                     0.781126   \n",
       "Lack of Coping Capabilities         0.781126                     1.000000   \n",
       " Lack of Adaptive Capacities        0.837977                     0.833061   \n",
       "Year                               -0.055962                     0.038186   \n",
       "\n",
       "                               Lack of Adaptive Capacities      Year  \n",
       "WRI                                               0.413275  0.026040  \n",
       "Exposure                                          0.087737  0.062133  \n",
       "Vulnerability                                     0.945389 -0.082364  \n",
       "Susceptibility                                    0.837977 -0.055962  \n",
       "Lack of Coping Capabilities                       0.833061  0.038186  \n",
       " Lack of Adaptive Capacities                      1.000000 -0.230083  \n",
       "Year                                             -0.230083  1.000000  "
      ]
     },
     "execution_count": 15,
     "metadata": {},
     "output_type": "execute_result"
    }
   ],
   "source": [
    "#Hayamos el coeficiente de correlacion de las variables numericas (cuantitativas).\n",
    "coef_correlacion=df.corr()\n",
    "coef_correlacion"
   ]
  },
  {
   "cell_type": "code",
   "execution_count": 25,
   "metadata": {},
   "outputs": [
    {
     "data": {
      "image/png": "[encoded data removed]",
      "text/plain": [
       "<Figure size 1080x576 with 2 Axes>"
      ]
     },
     "metadata": {
      "needs_background": "light"
     },
     "output_type": "display_data"
    }
   ],
   "source": [
    "#Creamos un mapa de calor (Heatmap) con los coeficientes de correlacion de las variables\n",
    "#  numericas de nuestro dataset.\n",
    "plt.figure(figsize=(15,8))\n",
    "fig=sns.heatmap(coef_correlacion,annot=True)\n",
    "plt.xticks(rotation=45)\n",
    "plt.show()"
   ]
  },
  {
   "attachments": {},
   "cell_type": "markdown",
   "metadata": {},
   "source": [
    "     - El coeficiente de correlacion de Pearson esta comprendido entre -1 y 1, indicando ambos valores una corelacion perfecta (negativa o positiva respetivamente):\n",
    "          - Correlacion muy alta (0.8 - <1): observamos que las variables numericas que presentan esta correlacion son:\n",
    "               \"Exposure\" y \"WRI\", \"Vulnerability\" y \"Susceptibility\", \"Vulnerability\" y \"Lack of Coping Capabilities\",\n",
    "               \"Vulnerability\" y \"Lack of Adaptive Capacities\", \"Lack of Coping Capabilities\" y \"Lack of Adaptive Capacities\",\n",
    "               \"Susceptibility\" y \"Lack of Adaptive Capacities\"\n",
    "          - Correlacion  alta (0,6 - 0,8): \"Susceptibility\" y \"Lack of Coping Capabilities\".\n",
    "          - Correlacion moderada (0,4 - 0,6): \"Vulnerability\" y \"WRI\", \"Lack of Coping Capabilities\" y \"WRI\",\n",
    "               \"Lack of Adaptive Capacities\" y \"WRI\".\n",
    "          - Correlacion baja (0,2 - 0,4): \"Susceptibility\" y \"WRI\", \"Year\" y \"Lack of Adaptive Capacities\"\n",
    "               (con correlacion negativa).\n",
    "          - Correlacion muy baja (0 - 0,2):\"Year\" y \"WRI\", \"Exposure\" y \"Vulnerability\",\"Exposure\" y \"Susceptibility\",\"Exposure\" y\n",
    "               \"Lack of Coping Capabilities\", \"Exposure\" y \"Lack of Adaptive Capacities\", \"Exposure\" y \"Year\",\n",
    "               \"Year\" y \"Vulnerability\" (con correlacion negativa), \"Year\" y \"Susceptibility\", \"Year\" y \"Lack of Coping\n",
    "               Capabilities\", \"Year\" y \"Lack of Adaptive Capacities\"(con correlacion negativa)."
   ]
  },
  {
   "attachments": {},
   "cell_type": "markdown",
   "metadata": {},
   "source": [
    "- Sesgos de alguna de las variables numéricas del dataset."
   ]
  },
  {
   "cell_type": "code",
   "execution_count": 39,
   "metadata": {},
   "outputs": [
    {
     "name": "stdout",
     "output_type": "stream",
     "text": [
      "El valor del sesgo para la variable Exposure es; 2.7550733318898852\n",
      "El valor del sesgo para la variable Lack of Coping Capabilities es; -0.6140122516645456\n"
     ]
    }
   ],
   "source": [
    "#Obtenemos el valor del sesgo para dos variables numericas.\n",
    "skewness=skew(df['Exposure'])\n",
    "print('El valor del sesgo para la variable Exposure es;', skewness)\n",
    "skewness2=skew(df['Lack of Coping Capabilities'])\n",
    "print('El valor del sesgo para la variable Lack of Coping Capabilities es;', skewness2)"
   ]
  },
  {
   "cell_type": "code",
   "execution_count": 38,
   "metadata": {},
   "outputs": [
    {
     "data": {
      "image/png": "[encoded data removed]",
      "text/plain": [
       "<Figure size 1440x648 with 1 Axes>"
      ]
     },
     "metadata": {
      "needs_background": "light"
     },
     "output_type": "display_data"
    }
   ],
   "source": [
    "#Creamos un histograma con los valores de las variables numericas Exposure y Lack of Coping Capabilities.\n",
    "plt.figure(figsize=(20,9))\n",
    "sns.histplot(df['Exposure'],color='red',kde=True)\n",
    "fig.set_title('Histograma sesgos de WRI') #Hemos intentado poner el titulo pero no aparece.\n",
    "plt.show()"
   ]
  },
  {
   "attachments": {},
   "cell_type": "markdown",
   "metadata": {},
   "source": [
    "    - Con los valores obtenidos de skewness podemos decir que la variable \"Exposure\" esta sesgada a la derecha (2,75, un valor positivo), como tambien podemos observar en el histplot donde tenemos la mayoria de valores concentrados en la parte izquierda."
   ]
  },
  {
   "cell_type": "code",
   "execution_count": 48,
   "metadata": {},
   "outputs": [
    {
     "data": {
      "image/png": "[encoded data removed]",
      "text/plain": [
       "<Figure size 1440x648 with 1 Axes>"
      ]
     },
     "metadata": {
      "needs_background": "light"
     },
     "output_type": "display_data"
    }
   ],
   "source": [
    "plt.figure(figsize=(20,9))\n",
    "sns.histplot(df['Lack of Coping Capabilities'],color='purple',kde=True)\n",
    "fig.set_title('Histograma sesgos de WRI') #Hemos intentado poner el titulo pero no aparece.\n",
    "plt.show()"
   ]
  },
  {
   "attachments": {},
   "cell_type": "markdown",
   "metadata": {},
   "source": [
    "    - Por otra parte, la variable numerica \"Lack of Coping Capabilities\" esta sesgada hacia la izquierda (-0,61, un valor negativo), ya que tenemos la mayoria de los valores concentrados en la parte derecha del histplot."
   ]
  },
  {
   "attachments": {},
   "cell_type": "markdown",
   "metadata": {},
   "source": [
    "- Intervalo de confianza de algunas de las variables numéricas del dataset"
   ]
  },
  {
   "attachments": {},
   "cell_type": "markdown",
   "metadata": {},
   "source": [
    "    - Con el intervalo de confianza podemos acotar entre dos valores donde se estima que se encuentre el valor de una variable el con el porcentaje de confianza que escojamos."
   ]
  },
  {
   "attachments": {},
   "cell_type": "markdown",
   "metadata": {},
   "source": [
    "    - Observamos que los intervalos de confianza obtenidos en los 4 casos siguientes nos indican que hay un 95% de probabilidad de que la media real de la variable \"Susceptibility\" y \"Vulnerability\" se encuentren en el intervalo calculado para cada una respetivamente."
   ]
  },
  {
   "cell_type": "code",
   "execution_count": 54,
   "metadata": {},
   "outputs": [
    {
     "name": "stdout",
     "output_type": "stream",
     "text": [
      "(28.778228512093385, 32.700634294375064)\n",
      "30.739431403234224\n"
     ]
    }
   ],
   "source": [
    "#Obtenemos los intervalos de confianza para la variable Susceptibility, sin aplicar la desviacion estandar (scale), ya que damos\n",
    "#  por hecho que los datos tendran una distribucion normal.\n",
    "datos_int_conf_exp=df['Susceptibility']\n",
    "print(st.t.interval(alpha=0.95, df=len(datos_int_conf_exp)-1, loc=np.mean(datos_int_conf_exp)))\n",
    "print(np.mean(datos_int_conf_exp))"
   ]
  },
  {
   "cell_type": "code",
   "execution_count": 55,
   "metadata": {},
   "outputs": [
    {
     "name": "stdout",
     "output_type": "stream",
     "text": [
      "(30.037656004622274, 31.441206801846175)\n",
      "30.739431403234224\n"
     ]
    }
   ],
   "source": [
    "#Obtenemos los intervalos de confianza para la variable Susceptibility, aplicando la desviacion estandar (scale).\n",
    "datos_int_conf_exp=df['Susceptibility']\n",
    "print(st.t.interval(alpha=0.95, df=len(datos_int_conf_exp)-1, loc=np.mean(datos_int_conf_exp), scale=st.sem(datos_int_conf_exp)))\n",
    "print(np.mean(datos_int_conf_exp))"
   ]
  },
  {
   "cell_type": "code",
   "execution_count": 56,
   "metadata": {},
   "outputs": [
    {
     "name": "stdout",
     "output_type": "stream",
     "text": [
      "(46.11455610729422, 50.03696188957589)\n",
      "48.075758998435056\n"
     ]
    }
   ],
   "source": [
    "#Obtenemos los intervalos de confianza para la variable Vulnerability, sin aplicar la desviacion estandar (scale).\n",
    "datos_int_conf_exp2=df['Vulnerability']\n",
    "print(st.t.interval(alpha=0.95, df=len(datos_int_conf_exp2)-1, loc=np.mean(datos_int_conf_exp2)))\n",
    "print(np.mean(datos_int_conf_exp2))"
   ]
  },
  {
   "cell_type": "code",
   "execution_count": 57,
   "metadata": {},
   "outputs": [
    {
     "name": "stdout",
     "output_type": "stream",
     "text": [
      "(47.373983599823106, 48.777534397047006)\n",
      "48.075758998435056\n"
     ]
    }
   ],
   "source": [
    "#Obtenemos los intervalos de confianza para la variable Vulnerability, sin aplicar la desviacion estandar (scale).\n",
    "datos_int_conf_exp2=df['Vulnerability']\n",
    "print(st.t.interval(alpha=0.95, df=len(datos_int_conf_exp2)-1, loc=np.mean(datos_int_conf_exp2), scale=st.sem(datos_int_conf_exp)))\n",
    "print(np.mean(datos_int_conf_exp2))"
   ]
  },
  {
   "attachments": {},
   "cell_type": "markdown",
   "metadata": {},
   "source": [
    "2. Interpretación de los resultados.\n",
    "- Ahora interpreta los resultados obtenidos de los diferentes estadísticos estudiados haciendo hincapié en aspectos interesantes de tus datos y explica lo mejor posible la naturaleza de los mismos."
   ]
  },
  {
   "attachments": {},
   "cell_type": "markdown",
   "metadata": {},
   "source": [
    "    - Los comentarios de cada uno de los resultados han sido redactados acolacion de la realizacion de los ejercicios."
   ]
  },
  {
   "attachments": {},
   "cell_type": "markdown",
   "metadata": {},
   "source": [
    "Happy coding 📊📈📉"
   ]
  }
 ],
 "metadata": {
  "kernelspec": {
   "display_name": "base",
   "language": "python",
   "name": "python3"
  },
  "language_info": {
   "codemirror_mode": {
    "name": "ipython",
    "version": 3
   },
   "file_extension": ".py",
   "mimetype": "text/x-python",
   "name": "python",
   "nbconvert_exporter": "python",
   "pygments_lexer": "ipython3",
   "version": "3.9.7"
  },
  "orig_nbformat": 4,
  "vscode": {
   "interpreter": {
    "hash": "468215beec16e96f99bc366ecab75b1d75db716e353e0417cbdb37be88f0d883"
   }
  }
 },
 "nbformat": 4,
 "nbformat_minor": 2
}
