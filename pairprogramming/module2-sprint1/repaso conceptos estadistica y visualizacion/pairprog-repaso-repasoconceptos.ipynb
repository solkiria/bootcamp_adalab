{
 "cells": [
  {
   "attachments": {},
   "cell_type": "markdown",
   "metadata": {},
   "source": [
    "# Ejercicios Pair Programming - Modulo 2 - Sprint 1 \n",
    "## Lección 9 - Repaso Conceptos Estadística y Visualizacion\n",
    "### Judith Mellidez y Sonia Ruiz"
   ]
  },
  {
   "attachments": {},
   "cell_type": "markdown",
   "metadata": {},
   "source": [
    "Al igual que en los ejercicios de pair programming de estadística, deberéis elegir un set de datos, puede ser de cualquier tipo. El objetivo de este pair programming es:\n",
    "\n",
    "-Hacer una exploración inicial del dataframe.\n"
   ]
  },
  {
   "cell_type": "code",
   "execution_count": 1,
   "metadata": {},
   "outputs": [],
   "source": [
    "#Importamos todas las librerias necesarias para poder exporar y analizar nuestros datos.\n",
    "import numpy as np\n",
    "import pandas as pd\n",
    "import matplotlib.pyplot as plt\n",
    "import seaborn as sns\n",
    "from scipy.stats import skew\n",
    "from pydataset import data\n",
    "import scipy.stats as st"
   ]
  },
  {
   "cell_type": "code",
   "execution_count": 2,
   "metadata": {},
   "outputs": [
    {
     "data": {
      "text/html": [
       "<div>\n",
       "<style scoped>\n",
       "    .dataframe tbody tr th:only-of-type {\n",
       "        vertical-align: middle;\n",
       "    }\n",
       "\n",
       "    .dataframe tbody tr th {\n",
       "        vertical-align: top;\n",
       "    }\n",
       "\n",
       "    .dataframe thead th {\n",
       "        text-align: right;\n",
       "    }\n",
       "</style>\n",
       "<table border=\"1\" class=\"dataframe\">\n",
       "  <thead>\n",
       "    <tr style=\"text-align: right;\">\n",
       "      <th></th>\n",
       "      <th>Unnamed: 0</th>\n",
       "      <th>country</th>\n",
       "      <th>Region</th>\n",
       "      <th>Surface area (km2)</th>\n",
       "      <th>Population in thousands (2017)</th>\n",
       "      <th>Population density (per km2, 2017)</th>\n",
       "      <th>Sex ratio (m per 100 f, 2017)</th>\n",
       "      <th>GDP: Gross domestic product (million current US$)</th>\n",
       "      <th>GDP growth rate (annual %, const. 2005 prices)</th>\n",
       "      <th>GDP per capita (current US$)</th>\n",
       "      <th>...</th>\n",
       "      <th>Inflation, consumer prices (annual %)</th>\n",
       "      <th>Life expectancy at birth, female (years)</th>\n",
       "      <th>Life expectancy at birth, male (years)</th>\n",
       "      <th>Life expectancy at birth, total (years)</th>\n",
       "      <th>Military expenditure (% of GDP)</th>\n",
       "      <th>Population, female</th>\n",
       "      <th>Population, male</th>\n",
       "      <th>Tax revenue (% of GDP)</th>\n",
       "      <th>Taxes on income, profits and capital gains (% of revenue)</th>\n",
       "      <th>Urban population (% of total population)_y</th>\n",
       "    </tr>\n",
       "  </thead>\n",
       "  <tbody>\n",
       "    <tr>\n",
       "      <th>0</th>\n",
       "      <td>0</td>\n",
       "      <td>Argentina</td>\n",
       "      <td>SouthAmerica</td>\n",
       "      <td>2780400</td>\n",
       "      <td>44271</td>\n",
       "      <td>16.2</td>\n",
       "      <td>95.9</td>\n",
       "      <td>632343</td>\n",
       "      <td>2.4</td>\n",
       "      <td>14564.5</td>\n",
       "      <td>...</td>\n",
       "      <td>NaN</td>\n",
       "      <td>79.726</td>\n",
       "      <td>72.924</td>\n",
       "      <td>76.372000</td>\n",
       "      <td>0.856138</td>\n",
       "      <td>22572521.0</td>\n",
       "      <td>21472290.0</td>\n",
       "      <td>10.955501</td>\n",
       "      <td>12.929913</td>\n",
       "      <td>91.749</td>\n",
       "    </tr>\n",
       "    <tr>\n",
       "      <th>1</th>\n",
       "      <td>1</td>\n",
       "      <td>Australia</td>\n",
       "      <td>Oceania</td>\n",
       "      <td>7692060</td>\n",
       "      <td>24451</td>\n",
       "      <td>3.2</td>\n",
       "      <td>99.3</td>\n",
       "      <td>1230859</td>\n",
       "      <td>2.4</td>\n",
       "      <td>51352.2</td>\n",
       "      <td>...</td>\n",
       "      <td>1.948647</td>\n",
       "      <td>84.600</td>\n",
       "      <td>80.500</td>\n",
       "      <td>82.500000</td>\n",
       "      <td>2.007966</td>\n",
       "      <td>12349632.0</td>\n",
       "      <td>12252228.0</td>\n",
       "      <td>21.915859</td>\n",
       "      <td>64.110306</td>\n",
       "      <td>85.904</td>\n",
       "    </tr>\n",
       "    <tr>\n",
       "      <th>2</th>\n",
       "      <td>2</td>\n",
       "      <td>Austria</td>\n",
       "      <td>WesternEurope</td>\n",
       "      <td>83871</td>\n",
       "      <td>8736</td>\n",
       "      <td>106.0</td>\n",
       "      <td>96.2</td>\n",
       "      <td>376967</td>\n",
       "      <td>1.0</td>\n",
       "      <td>44117.7</td>\n",
       "      <td>...</td>\n",
       "      <td>2.081269</td>\n",
       "      <td>84.000</td>\n",
       "      <td>79.400</td>\n",
       "      <td>81.643902</td>\n",
       "      <td>0.756179</td>\n",
       "      <td>4478340.0</td>\n",
       "      <td>4319226.0</td>\n",
       "      <td>25.355237</td>\n",
       "      <td>27.024073</td>\n",
       "      <td>58.094</td>\n",
       "    </tr>\n",
       "    <tr>\n",
       "      <th>3</th>\n",
       "      <td>3</td>\n",
       "      <td>Belarus</td>\n",
       "      <td>EasternEurope</td>\n",
       "      <td>207600</td>\n",
       "      <td>9468</td>\n",
       "      <td>46.7</td>\n",
       "      <td>87.0</td>\n",
       "      <td>54609</td>\n",
       "      <td>-3.9</td>\n",
       "      <td>5750.8</td>\n",
       "      <td>...</td>\n",
       "      <td>6.031837</td>\n",
       "      <td>79.200</td>\n",
       "      <td>69.300</td>\n",
       "      <td>74.129268</td>\n",
       "      <td>1.162417</td>\n",
       "      <td>5077542.0</td>\n",
       "      <td>4420722.0</td>\n",
       "      <td>13.019006</td>\n",
       "      <td>2.933101</td>\n",
       "      <td>78.134</td>\n",
       "    </tr>\n",
       "    <tr>\n",
       "      <th>4</th>\n",
       "      <td>4</td>\n",
       "      <td>Belgium</td>\n",
       "      <td>WesternEurope</td>\n",
       "      <td>30528</td>\n",
       "      <td>11429</td>\n",
       "      <td>377.5</td>\n",
       "      <td>97.3</td>\n",
       "      <td>455107</td>\n",
       "      <td>1.5</td>\n",
       "      <td>40277.8</td>\n",
       "      <td>...</td>\n",
       "      <td>2.125971</td>\n",
       "      <td>83.900</td>\n",
       "      <td>79.200</td>\n",
       "      <td>81.492683</td>\n",
       "      <td>0.910371</td>\n",
       "      <td>5766141.0</td>\n",
       "      <td>5609017.0</td>\n",
       "      <td>23.399721</td>\n",
       "      <td>33.727746</td>\n",
       "      <td>97.961</td>\n",
       "    </tr>\n",
       "  </tbody>\n",
       "</table>\n",
       "<p>5 rows × 96 columns</p>\n",
       "</div>"
      ],
      "text/plain": [
       "   Unnamed: 0    country         Region  Surface area (km2)  \\\n",
       "0           0  Argentina   SouthAmerica             2780400   \n",
       "1           1  Australia        Oceania             7692060   \n",
       "2           2    Austria  WesternEurope               83871   \n",
       "3           3    Belarus  EasternEurope              207600   \n",
       "4           4    Belgium  WesternEurope               30528   \n",
       "\n",
       "   Population in thousands (2017)  Population density (per km2, 2017)  \\\n",
       "0                           44271                                16.2   \n",
       "1                           24451                                 3.2   \n",
       "2                            8736                               106.0   \n",
       "3                            9468                                46.7   \n",
       "4                           11429                               377.5   \n",
       "\n",
       "   Sex ratio (m per 100 f, 2017)  \\\n",
       "0                           95.9   \n",
       "1                           99.3   \n",
       "2                           96.2   \n",
       "3                           87.0   \n",
       "4                           97.3   \n",
       "\n",
       "   GDP: Gross domestic product (million current US$)  \\\n",
       "0                                             632343   \n",
       "1                                            1230859   \n",
       "2                                             376967   \n",
       "3                                              54609   \n",
       "4                                             455107   \n",
       "\n",
       "   GDP growth rate (annual %, const. 2005 prices)  \\\n",
       "0                                             2.4   \n",
       "1                                             2.4   \n",
       "2                                             1.0   \n",
       "3                                            -3.9   \n",
       "4                                             1.5   \n",
       "\n",
       "   GDP per capita (current US$)  ... Inflation, consumer prices (annual %)  \\\n",
       "0                       14564.5  ...                                   NaN   \n",
       "1                       51352.2  ...                              1.948647   \n",
       "2                       44117.7  ...                              2.081269   \n",
       "3                        5750.8  ...                              6.031837   \n",
       "4                       40277.8  ...                              2.125971   \n",
       "\n",
       "   Life expectancy at birth, female (years)  \\\n",
       "0                                    79.726   \n",
       "1                                    84.600   \n",
       "2                                    84.000   \n",
       "3                                    79.200   \n",
       "4                                    83.900   \n",
       "\n",
       "   Life expectancy at birth, male (years)  \\\n",
       "0                                  72.924   \n",
       "1                                  80.500   \n",
       "2                                  79.400   \n",
       "3                                  69.300   \n",
       "4                                  79.200   \n",
       "\n",
       "   Life expectancy at birth, total (years)  Military expenditure (% of GDP)  \\\n",
       "0                                76.372000                         0.856138   \n",
       "1                                82.500000                         2.007966   \n",
       "2                                81.643902                         0.756179   \n",
       "3                                74.129268                         1.162417   \n",
       "4                                81.492683                         0.910371   \n",
       "\n",
       "   Population, female  Population, male Tax revenue (% of GDP)  \\\n",
       "0          22572521.0        21472290.0              10.955501   \n",
       "1          12349632.0        12252228.0              21.915859   \n",
       "2           4478340.0         4319226.0              25.355237   \n",
       "3           5077542.0         4420722.0              13.019006   \n",
       "4           5766141.0         5609017.0              23.399721   \n",
       "\n",
       "   Taxes on income, profits and capital gains (% of revenue)  \\\n",
       "0                                                  12.929913   \n",
       "1                                                  64.110306   \n",
       "2                                                  27.024073   \n",
       "3                                                   2.933101   \n",
       "4                                                  33.727746   \n",
       "\n",
       "   Urban population (% of total population)_y  \n",
       "0                                      91.749  \n",
       "1                                      85.904  \n",
       "2                                      58.094  \n",
       "3                                      78.134  \n",
       "4                                      97.961  \n",
       "\n",
       "[5 rows x 96 columns]"
      ]
     },
     "execution_count": 2,
     "metadata": {},
     "output_type": "execute_result"
    }
   ],
   "source": [
    "#Almacenamos el fichero de datos en una variable como un dataframe y observamos sus 5 primeras filas.\n",
    "df=pd.read_csv('soci_econ_country_profiles.csv')\n",
    "df.head()"
   ]
  },
  {
   "attachments": {},
   "cell_type": "markdown",
   "metadata": {},
   "source": [
    "- ¿Cuántas filas tiene?"
   ]
  },
  {
   "attachments": {},
   "cell_type": "markdown",
   "metadata": {},
   "source": [
    "    - Utilizamos los siguiente metodos de exploracion del dataframe para la obtencion de la siguiente informacion."
   ]
  },
  {
   "cell_type": "code",
   "execution_count": 5,
   "metadata": {},
   "outputs": [
    {
     "name": "stdout",
     "output_type": "stream",
     "text": [
      "El dataframe tiene 66 filas y 96 columnas\n"
     ]
    }
   ],
   "source": [
    "df.shape\n",
    "print(f'El dataframe tiene {df.shape[0]} filas y {df.shape[1]} columnas')"
   ]
  },
  {
   "attachments": {},
   "cell_type": "markdown",
   "metadata": {},
   "source": [
    "- ¿Cuántas nulos tiene?"
   ]
  },
  {
   "cell_type": "code",
   "execution_count": 6,
   "metadata": {},
   "outputs": [
    {
     "data": {
      "text/plain": [
       "Unnamed: 0                                                     0\n",
       "country                                                        0\n",
       "Region                                                         0\n",
       "Surface area (km2)                                             0\n",
       "Population in thousands (2017)                                 0\n",
       "Population density (per km2, 2017)                             0\n",
       "Sex ratio (m per 100 f, 2017)                                  0\n",
       "GDP: Gross domestic product (million current US$)              0\n",
       "GDP growth rate (annual %, const. 2005 prices)                 0\n",
       "GDP per capita (current US$)                                   0\n",
       "Economy: Agriculture (% of GVA)                                0\n",
       "Economy: Industry (% of GVA)                                   0\n",
       "Economy: Services and other activity (% of GVA)                0\n",
       "Employment: Agriculture (% of employed)                        0\n",
       "Employment: Industry (% of employed)                           0\n",
       "Employment: Services (% of employed)                           0\n",
       "Unemployment (% of labour force)                               0\n",
       "Labour force participation (female/male pop. %)                0\n",
       "Agricultural production index (2004-2006=100)                  0\n",
       "Food production index (2004-2006=100)                          0\n",
       "International trade: Exports (million US$)                     0\n",
       "International trade: Imports (million US$)                     0\n",
       "International trade: Balance (million US$)                     0\n",
       "Balance of payments, current account (million US$)             0\n",
       "Population growth rate (average annual %)                      0\n",
       "Urban population (% of total population)_x                     0\n",
       "Urban population growth rate (average annual %)                0\n",
       "Fertility rate, total (live births per woman)                  0\n",
       "Population age distribution (0-14 / 60+ years, %)              0\n",
       "International migrant stock (000/% of total pop.)              0\n",
       "Refugees and others of concern to UNHCR (in thousands)         0\n",
       "Infant mortality rate (per 1000 live births                    0\n",
       "Health: Total expenditure (% of GDP)                           0\n",
       "Health: Physicians (per 1000 pop.)                             0\n",
       "Education: Government expenditure (% of GDP)                   0\n",
       "Education: Primary gross enrol. ratio (f/m per 100 pop.)       0\n",
       "Education: Secondary gross enrol. ratio (f/m per 100 pop.)     0\n",
       "Education: Tertiary gross enrol. ratio (f/m per 100 pop.)      0\n",
       "Seats held by women in national parliaments %                  0\n",
       "Mobile-cellular subscriptions (per 100 inhabitants)            0\n",
       "Mobile-cellular subscriptions (per 100 inhabitants).1          0\n",
       "Individuals using the Internet (per 100 inhabitants)           0\n",
       "Threatened species (number)                                    0\n",
       "Forested area (% of land area)                                 0\n",
       "CO2 emission estimates (million tons/tons per capita)          0\n",
       "Energy production, primary (Petajoules)                        0\n",
       "Energy supply per capita (Gigajoules)                          0\n",
       "Pop. using improved drinking water (urban/rural, %)            0\n",
       "Pop. using improved sanitation facilities (urban/rural, %)     0\n",
       "Net Official Development Assist. received (% of GNI)           0\n",
       "Quality Of Life Index                                          0\n",
       "Purchasing Power Index                                         0\n",
       "Safety Index                                                   0\n",
       "Health Care Index                                              0\n",
       "Cost of Living                                                 0\n",
       "Property price to income ratio                                 0\n",
       "Traffic commute time index                                     0\n",
       "Pollution index                                                0\n",
       "Climate index                                                  0\n",
       "Gross Rental Yield City Center                                 0\n",
       "Gross Rental Yield Outside Center                              0\n",
       "Property Price to Rent Ratio City Center                       0\n",
       "Property Price to Rent Ratio Outside Center                    0\n",
       "Mortgate as percentage of income                               0\n",
       "Affordability Index                                            0\n",
       "Cost Of Living Index                                           0\n",
       "Rent Index                                                     0\n",
       "Cost Of Living Plus Rent Index                                 0\n",
       "Grocery Index                                                  0\n",
       "Restaurant Price Index                                         0\n",
       "Local Purchasing Power Index                                   0\n",
       "Access to electricity (% of population)                        0\n",
       "Adjusted net national income per capita (constant 2010 US$)    2\n",
       "Age dependency ratio (% of working-age population)             0\n",
       "Air transport, freight (million ton-km)                        8\n",
       "Air transport, passengers carried                              5\n",
       "Commercial service exports (current US$)                       3\n",
       "Commercial service imports (current US$)                       3\n",
       "Consumer price index (2010 = 100)                              2\n",
       "Current account balance (% of GDP)                             3\n",
       "Current health expenditure (% of GDP)                          1\n",
       "Exports of goods and services (% of GDP)                       1\n",
       "Gross domestic savings (% of GDP)                              1\n",
       "High-technology exports (current US$)                          1\n",
       "Human capital index (HCI) (scale 0-1)                          2\n",
       "Imports of goods and services (% of GDP)                       1\n",
       "Inflation, consumer prices (annual %)                          2\n",
       "Life expectancy at birth, female (years)                       0\n",
       "Life expectancy at birth, male (years)                         0\n",
       "Life expectancy at birth, total (years)                        0\n",
       "Military expenditure (% of GDP)                                3\n",
       "Population, female                                             0\n",
       "Population, male                                               0\n",
       "Tax revenue (% of GDP)                                         8\n",
       "Taxes on income, profits and capital gains (% of revenue)      9\n",
       "Urban population (% of total population)_y                     0\n",
       "dtype: int64"
      ]
     },
     "execution_count": 6,
     "metadata": {},
     "output_type": "execute_result"
    }
   ],
   "source": [
    "#Obtenemos los valores nulos por columna.\n",
    "df.isnull().sum()"
   ]
  },
  {
   "attachments": {},
   "cell_type": "markdown",
   "metadata": {},
   "source": [
    "- ¿Y duplicados?"
   ]
  },
  {
   "cell_type": "code",
   "execution_count": 10,
   "metadata": {},
   "outputs": [
    {
     "name": "stdout",
     "output_type": "stream",
     "text": [
      "El numero de elementos duplicados en el dataframe es: 0\n"
     ]
    }
   ],
   "source": [
    "print('El numero de elementos duplicados en el dataframe es:', df.duplicated().sum())"
   ]
  },
  {
   "attachments": {},
   "cell_type": "markdown",
   "metadata": {},
   "source": [
    "- ¿Qué tipo de datos tenemos en el dataframe?\n",
    "\n"
   ]
  },
  {
   "cell_type": "code",
   "execution_count": 13,
   "metadata": {},
   "outputs": [
    {
     "data": {
      "text/html": [
       "<div>\n",
       "<style scoped>\n",
       "    .dataframe tbody tr th:only-of-type {\n",
       "        vertical-align: middle;\n",
       "    }\n",
       "\n",
       "    .dataframe tbody tr th {\n",
       "        vertical-align: top;\n",
       "    }\n",
       "\n",
       "    .dataframe thead th {\n",
       "        text-align: right;\n",
       "    }\n",
       "</style>\n",
       "<table border=\"1\" class=\"dataframe\">\n",
       "  <thead>\n",
       "    <tr style=\"text-align: right;\">\n",
       "      <th></th>\n",
       "      <th>country</th>\n",
       "      <th>Region</th>\n",
       "      <th>Economy: Agriculture (% of GVA)</th>\n",
       "      <th>Labour force participation (female/male pop. %)</th>\n",
       "      <th>Population growth rate (average annual %)</th>\n",
       "      <th>Urban population growth rate (average annual %)</th>\n",
       "      <th>Population age distribution (0-14 / 60+ years, %)</th>\n",
       "      <th>International migrant stock (000/% of total pop.)</th>\n",
       "      <th>Refugees and others of concern to UNHCR (in thousands)</th>\n",
       "      <th>Health: Physicians (per 1000 pop.)</th>\n",
       "      <th>Education: Government expenditure (% of GDP)</th>\n",
       "      <th>Education: Primary gross enrol. ratio (f/m per 100 pop.)</th>\n",
       "      <th>Education: Secondary gross enrol. ratio (f/m per 100 pop.)</th>\n",
       "      <th>Education: Tertiary gross enrol. ratio (f/m per 100 pop.)</th>\n",
       "      <th>Forested area (% of land area)</th>\n",
       "      <th>Energy supply per capita (Gigajoules)</th>\n",
       "      <th>Pop. using improved drinking water (urban/rural, %)</th>\n",
       "      <th>Pop. using improved sanitation facilities (urban/rural, %)</th>\n",
       "    </tr>\n",
       "  </thead>\n",
       "  <tbody>\n",
       "    <tr>\n",
       "      <th>count</th>\n",
       "      <td>66</td>\n",
       "      <td>66</td>\n",
       "      <td>66</td>\n",
       "      <td>66</td>\n",
       "      <td>66</td>\n",
       "      <td>66</td>\n",
       "      <td>66</td>\n",
       "      <td>66</td>\n",
       "      <td>66</td>\n",
       "      <td>66</td>\n",
       "      <td>66</td>\n",
       "      <td>66</td>\n",
       "      <td>66</td>\n",
       "      <td>66</td>\n",
       "      <td>66</td>\n",
       "      <td>66</td>\n",
       "      <td>66</td>\n",
       "      <td>66</td>\n",
       "    </tr>\n",
       "    <tr>\n",
       "      <th>unique</th>\n",
       "      <td>66</td>\n",
       "      <td>14</td>\n",
       "      <td>44</td>\n",
       "      <td>66</td>\n",
       "      <td>34</td>\n",
       "      <td>32</td>\n",
       "      <td>66</td>\n",
       "      <td>66</td>\n",
       "      <td>66</td>\n",
       "      <td>36</td>\n",
       "      <td>35</td>\n",
       "      <td>63</td>\n",
       "      <td>63</td>\n",
       "      <td>63</td>\n",
       "      <td>66</td>\n",
       "      <td>39</td>\n",
       "      <td>57</td>\n",
       "      <td>22</td>\n",
       "    </tr>\n",
       "    <tr>\n",
       "      <th>top</th>\n",
       "      <td>Argentina</td>\n",
       "      <td>EasternEurope</td>\n",
       "      <td>2.3</td>\n",
       "      <td>48.6/74.4</td>\n",
       "      <td>1.2</td>\n",
       "      <td>1.0</td>\n",
       "      <td>24.9/15.4</td>\n",
       "      <td>2086.3/4.8</td>\n",
       "      <td>5.0</td>\n",
       "      <td>...</td>\n",
       "      <td>...</td>\n",
       "      <td>-99</td>\n",
       "      <td>-99</td>\n",
       "      <td>-99</td>\n",
       "      <td>204.0/4.7</td>\n",
       "      <td>100.0/100.0</td>\n",
       "      <td>100.0/100.0</td>\n",
       "      <td>-99</td>\n",
       "    </tr>\n",
       "    <tr>\n",
       "      <th>freq</th>\n",
       "      <td>1</td>\n",
       "      <td>9</td>\n",
       "      <td>4</td>\n",
       "      <td>1</td>\n",
       "      <td>5</td>\n",
       "      <td>5</td>\n",
       "      <td>1</td>\n",
       "      <td>1</td>\n",
       "      <td>1</td>\n",
       "      <td>6</td>\n",
       "      <td>6</td>\n",
       "      <td>3</td>\n",
       "      <td>4</td>\n",
       "      <td>3</td>\n",
       "      <td>1</td>\n",
       "      <td>26</td>\n",
       "      <td>8</td>\n",
       "      <td>38</td>\n",
       "    </tr>\n",
       "  </tbody>\n",
       "</table>\n",
       "</div>"
      ],
      "text/plain": [
       "          country         Region Economy: Agriculture (% of GVA)  \\\n",
       "count          66             66                              66   \n",
       "unique         66             14                              44   \n",
       "top     Argentina  EasternEurope                             2.3   \n",
       "freq            1              9                               4   \n",
       "\n",
       "       Labour force participation (female/male pop. %)  \\\n",
       "count                                               66   \n",
       "unique                                              66   \n",
       "top                                          48.6/74.4   \n",
       "freq                                                 1   \n",
       "\n",
       "       Population growth rate (average annual %)  \\\n",
       "count                                         66   \n",
       "unique                                        34   \n",
       "top                                          1.2   \n",
       "freq                                           5   \n",
       "\n",
       "       Urban population growth rate (average annual %)  \\\n",
       "count                                               66   \n",
       "unique                                              32   \n",
       "top                                                1.0   \n",
       "freq                                                 5   \n",
       "\n",
       "       Population age distribution (0-14 / 60+ years, %)  \\\n",
       "count                                                 66   \n",
       "unique                                                66   \n",
       "top                                            24.9/15.4   \n",
       "freq                                                   1   \n",
       "\n",
       "       International migrant stock (000/% of total pop.)  \\\n",
       "count                                                 66   \n",
       "unique                                                66   \n",
       "top                                           2086.3/4.8   \n",
       "freq                                                   1   \n",
       "\n",
       "       Refugees and others of concern to UNHCR (in thousands)  \\\n",
       "count                                                      66   \n",
       "unique                                                     66   \n",
       "top                                                       5.0   \n",
       "freq                                                        1   \n",
       "\n",
       "       Health: Physicians (per 1000 pop.)  \\\n",
       "count                                  66   \n",
       "unique                                 36   \n",
       "top                                   ...   \n",
       "freq                                    6   \n",
       "\n",
       "       Education: Government expenditure (% of GDP)  \\\n",
       "count                                            66   \n",
       "unique                                           35   \n",
       "top                                             ...   \n",
       "freq                                              6   \n",
       "\n",
       "       Education: Primary gross enrol. ratio (f/m per 100 pop.)  \\\n",
       "count                                                        66   \n",
       "unique                                                       63   \n",
       "top                                                         -99   \n",
       "freq                                                          3   \n",
       "\n",
       "       Education: Secondary gross enrol. ratio (f/m per 100 pop.)  \\\n",
       "count                                                          66   \n",
       "unique                                                         63   \n",
       "top                                                           -99   \n",
       "freq                                                            4   \n",
       "\n",
       "       Education: Tertiary gross enrol. ratio (f/m per 100 pop.)  \\\n",
       "count                                                         66   \n",
       "unique                                                        63   \n",
       "top                                                          -99   \n",
       "freq                                                           3   \n",
       "\n",
       "       Forested area (% of land area) Energy supply per capita (Gigajoules)  \\\n",
       "count                              66                                    66   \n",
       "unique                             66                                    39   \n",
       "top                         204.0/4.7                           100.0/100.0   \n",
       "freq                                1                                    26   \n",
       "\n",
       "       Pop. using improved drinking water (urban/rural, %)  \\\n",
       "count                                                   66   \n",
       "unique                                                  57   \n",
       "top                                            100.0/100.0   \n",
       "freq                                                     8   \n",
       "\n",
       "       Pop. using improved sanitation facilities (urban/rural, %)  \n",
       "count                                                          66  \n",
       "unique                                                         22  \n",
       "top                                                           -99  \n",
       "freq                                                           38  "
      ]
     },
     "execution_count": 13,
     "metadata": {},
     "output_type": "execute_result"
    }
   ],
   "source": [
    "##Obtenemos los principales analisis estadísticos para las variables categoricas de nuestro dataframe.\n",
    "df.describe(include='object')"
   ]
  },
  {
   "attachments": {},
   "cell_type": "markdown",
   "metadata": {},
   "source": [
    "- Plantead una serie de preguntas como las que fuimos contestando en la clase invertida.\n",
    "- Contestad a las preguntas planteadas usando los principales estadísticos que hemos aprendido y gráficas que mejor se ajusten."
   ]
  },
  {
   "cell_type": "code",
   "execution_count": 23,
   "metadata": {},
   "outputs": [
    {
     "name": "stdout",
     "output_type": "stream",
     "text": [
      "Las regiones que mas se repiten son: EasternEurope y SouthernEurope\n"
     ]
    }
   ],
   "source": [
    "#¿Cual es la region que mas se repite en nuestros datos? (Region)\n",
    "df_mode=df['Region'].mode()\n",
    "print('Las regiones que mas se repiten son:', df_mode[0],'y', df_mode[1])\n",
    "#Observamos que tenemos dos modas (es decir, nuestros datos son bimodales)."
   ]
  },
  {
   "cell_type": "code",
   "execution_count": 44,
   "metadata": {},
   "outputs": [
    {
     "name": "stdout",
     "output_type": "stream",
     "text": [
      "La media de poblacion por pais es: 86551.36363636363 habitantes\n"
     ]
    }
   ],
   "source": [
    "# ¿Cual es la media de poblacion en los paises registrados en el dataframe? (Population in thousands (2017))\n",
    "df_mean=df['Population in thousands (2017)'].mean()\n",
    "print('La media de poblacion por pais es:', df_mean, 'habitantes')"
   ]
  },
  {
   "cell_type": "code",
   "execution_count": 46,
   "metadata": {},
   "outputs": [
    {
     "name": "stdout",
     "output_type": "stream",
     "text": [
      "La mediana de la poblacion por pais es: 18867.0 habitantes\n"
     ]
    }
   ],
   "source": [
    "# ¿Cual es la mediana (dato que queda en las posiciones centrales) de la poblacion por pais? (Population in thousands (2017))\n",
    "df_median=df['Population in thousands (2017)'].median()\n",
    "print('La mediana de la poblacion por pais es:', df_median, 'habitantes')"
   ]
  },
  {
   "cell_type": "code",
   "execution_count": 47,
   "metadata": {},
   "outputs": [
    {
     "name": "stdout",
     "output_type": "stream",
     "text": [
      "La poblacion mas baja registada de un pais es: 1180 habitantes\n"
     ]
    }
   ],
   "source": [
    "# ¿Cual es la poblacion más baja de todos los paises registrados?\n",
    "# (Population in thousands (2017))\n",
    "df_min=df['Population in thousands (2017)'].min()\n",
    "print('La poblacion mas baja registada de un pais es:', df_min, 'habitantes')"
   ]
  },
  {
   "cell_type": "code",
   "execution_count": 48,
   "metadata": {},
   "outputs": [
    {
     "name": "stdout",
     "output_type": "stream",
     "text": [
      "La poblacion mas alta registada de un pais es: 1409517 habitantes\n"
     ]
    }
   ],
   "source": [
    "# ¿Cual es la poblacion más alta de todos los paises registrados?\n",
    "# (Population in thousands (2017))\n",
    "df_max=df['Population in thousands (2017)'].max()\n",
    "print('La poblacion mas alta registada de un pais es:', df_max, 'habitantes')"
   ]
  },
  {
   "cell_type": "code",
   "execution_count": 43,
   "metadata": {},
   "outputs": [
    {
     "data": {
      "image/png": "[encoded data removed]",
      "text/plain": [
       "<Figure size 1080x576 with 1 Axes>"
      ]
     },
     "metadata": {
      "needs_background": "light"
     },
     "output_type": "display_data"
    }
   ],
   "source": [
    "# creamos un boxplot para observar la mediana de la esperanza de vida (78 años aprox) y donde se encuentran\n",
    "#  la mayoria de esperanzas de vida registradas.\n",
    "plt.figure(figsize=(15,8))\n",
    "fig=sns.boxplot(data=df['Life expectancy at birth, total (years)'],color='brown')\n",
    "fig.set(ylabel='Esperanza de vida desde el nacimiento (años)')\n",
    "fig.set_title('Boxplot de esperanza de vida en años de todos los paises registrados')\n",
    "plt.show()\n",
    "# observamos que hay un outlier por debajo del quartil 1 (Q1)."
   ]
  },
  {
   "cell_type": "code",
   "execution_count": 48,
   "metadata": {},
   "outputs": [
    {
     "data": {
      "image/png": "[encoded data removed]",
      "text/plain": [
       "<Figure size 1296x360 with 1 Axes>"
      ]
     },
     "metadata": {
      "needs_background": "light"
     },
     "output_type": "display_data"
    },
    {
     "data": {
      "text/plain": [
       "<matplotlib.legend.Legend at 0x7fb20aaf3d00>"
      ]
     },
     "execution_count": 48,
     "metadata": {},
     "output_type": "execute_result"
    },
    {
     "data": {
      "image/png": "[encoded data removed]",
      "text/plain": [
       "<Figure size 1296x360 with 1 Axes>"
      ]
     },
     "metadata": {
      "needs_background": "light"
     },
     "output_type": "display_data"
    }
   ],
   "source": [
    "# Realizamos un boxplot para observar los registros del ratio de sexos en los paises registrados.\n",
    "plt.figure(figsize=(18,5))\n",
    "fig=sns.boxplot(x='Sex ratio (m per 100 f, 2017)',data=df,color='brown')\n",
    "fig.set(xlabel='Ratio de 1 hombre por cada 100 mujeres', ylabel='Todos los paises')\n",
    "fig.set_title('Boxplot de ratio de sexos por pais en 2017')\n",
    "plt.show()\n",
    "\n",
    "#Otra manera de representar como estan distribuido el sex ratio es realizando un histograma donde\n",
    "#  representamos una linea para la media y otra para la mediana.\n",
    "plt.figure(figsize=(18,5))\n",
    "fig=sns.histplot(data=df, x='Sex ratio (m per 100 f, 2017)', kde=True, color='darkred')\n",
    "fig.set(xlabel='Ratio de 1 hombre por cada 100 mujeres',ylabel='Frecuencia') #Ponemos nombres a los ejes\n",
    "plt.axvline(df['Sex ratio (m per 100 f, 2017)'].mean(), color='red',label='media') #Añadimos una linea con el valor de la media (rojo).\n",
    "plt.axvline(df['Sex ratio (m per 100 f, 2017)'].median(), color='blue',label='mediana') #Añadimos la linea con el valor de la mediana(azul).\n",
    "plt.title('Histograma ratio de sexos por pais en 2017') #Añadimos un titulo al histograma.\n",
    "plt.legend(loc='upper right') #Ponemos la leyenda para entender las dos lineas representadas."
   ]
  },
  {
   "attachments": {},
   "cell_type": "markdown",
   "metadata": {},
   "source": [
    "    - Podemos observar que los outliers representados en el boxplot coinciden con los valores extremos observados en el histograma.\n",
    "    - Podemos observar que las lineas de la media y la mediana no coinciden en el mismo valor pero si se encuentran proximas y en la zona de la grafica donde mas datos se agrupan.\n",
    "    - Ademas al comparar esta grafica con el boxplot podemos ver, aproximadamente, que la mediana se encuentra ubicada en el mismo valor en ambas graficas."
   ]
  },
  {
   "attachments": {},
   "cell_type": "markdown",
   "metadata": {},
   "source": [
    "💻 Happy coding 💻"
   ]
  }
 ],
 "metadata": {
  "kernelspec": {
   "display_name": "base",
   "language": "python",
   "name": "python3"
  },
  "language_info": {
   "codemirror_mode": {
    "name": "ipython",
    "version": 3
   },
   "file_extension": ".py",
   "mimetype": "text/x-python",
   "name": "python",
   "nbconvert_exporter": "python",
   "pygments_lexer": "ipython3",
   "version": "3.9.7"
  },
  "orig_nbformat": 4,
  "vscode": {
   "interpreter": {
    "hash": "468215beec16e96f99bc366ecab75b1d75db716e353e0417cbdb37be88f0d883"
   }
  }
 },
 "nbformat": 4,
 "nbformat_minor": 2
}
