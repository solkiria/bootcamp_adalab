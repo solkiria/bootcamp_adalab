{
 "cells": [
  {
   "attachments": {},
   "cell_type": "markdown",
   "metadata": {},
   "source": [
    "# Ejercicios Pair Programming - Modulo 3 - Sprint 1 \n",
    "## Lección 10 - Regresión Lineal: Métricas\n",
    "### Pilar García y Sonia Ruiz Pérez"
   ]
  },
  {
   "attachments": {},
   "cell_type": "markdown",
   "metadata": {},
   "source": [
    "En el pair programming anterior creastéis vuestro primer modelo de machine learning usando la regresion Lineal. Es el momento, que con vuestros datos evaluéis si es bueno haciendo predicciones. Los objetivo de este pairprogramming son:\n",
    "- Calculéis las métricas para vuestro modelo\n",
    "- Discutid los resultados de las métricas y extraed conclusiones\n",
    "- Guardad los resultados de las métricas en un csv para usarlo más adelante."
   ]
  },
  {
   "cell_type": "code",
   "execution_count": 1,
   "metadata": {},
   "outputs": [],
   "source": [
    "# Tratamiento de datos\n",
    "import numpy as np\n",
    "import pandas as pd\n",
    "\n",
    "# Gráficos\n",
    "import matplotlib.pyplot as plt\n",
    "import seaborn as sns\n",
    "\n",
    "\n",
    "# Modelado y evaluación\n",
    "from sklearn.model_selection import train_test_split\n",
    "from sklearn.linear_model import LinearRegression\n",
    "from sklearn.metrics import r2_score,mean_squared_error,mean_absolute_error\n",
    "pd.options.display.max_columns=None\n",
    "\n",
    "#Importamos la librería necesaria para poder hacer la normalización inversa de la variable respuesta.\n",
    "from scipy.special import boxcox, inv_boxcox"
   ]
  },
  {
   "cell_type": "code",
   "execution_count": 2,
   "metadata": {},
   "outputs": [
    {
     "data": {
      "text/html": [
       "<div>\n",
       "<style scoped>\n",
       "    .dataframe tbody tr th:only-of-type {\n",
       "        vertical-align: middle;\n",
       "    }\n",
       "\n",
       "    .dataframe tbody tr th {\n",
       "        vertical-align: top;\n",
       "    }\n",
       "\n",
       "    .dataframe thead th {\n",
       "        text-align: right;\n",
       "    }\n",
       "</style>\n",
       "<table border=\"1\" class=\"dataframe\">\n",
       "  <thead>\n",
       "    <tr style=\"text-align: right;\">\n",
       "      <th></th>\n",
       "      <th>pickup</th>\n",
       "      <th>dropoff</th>\n",
       "      <th>passengers</th>\n",
       "      <th>distance</th>\n",
       "      <th>fare</th>\n",
       "      <th>tip</th>\n",
       "      <th>tolls</th>\n",
       "      <th>total</th>\n",
       "      <th>pickup_zone</th>\n",
       "      <th>dropoff_zone</th>\n",
       "      <th>pickup_borough</th>\n",
       "      <th>dropoff_borough</th>\n",
       "      <th>tip_no_zeros</th>\n",
       "      <th>tip_box</th>\n",
       "      <th>passengers_robust</th>\n",
       "      <th>distance_robust</th>\n",
       "      <th>fare_robust</th>\n",
       "      <th>tolls_robust</th>\n",
       "      <th>total_robust</th>\n",
       "      <th>x0_green</th>\n",
       "      <th>x0_yellow</th>\n",
       "      <th>payment_cash</th>\n",
       "      <th>payment_credit_card</th>\n",
       "      <th>pickup_borough_oe</th>\n",
       "      <th>dropoff_borough_map</th>\n",
       "    </tr>\n",
       "  </thead>\n",
       "  <tbody>\n",
       "    <tr>\n",
       "      <th>0</th>\n",
       "      <td>2019-03-23 20:21:09</td>\n",
       "      <td>2019-03-23 20:27:24</td>\n",
       "      <td>1</td>\n",
       "      <td>1.60</td>\n",
       "      <td>7.0</td>\n",
       "      <td>2.15</td>\n",
       "      <td>0.0</td>\n",
       "      <td>12.95</td>\n",
       "      <td>Lenox Hill West</td>\n",
       "      <td>UN/Turtle Bay South</td>\n",
       "      <td>Manhattan</td>\n",
       "      <td>Manhattan</td>\n",
       "      <td>2.150000e+00</td>\n",
       "      <td>0.787753</td>\n",
       "      <td>0.0</td>\n",
       "      <td>-0.022624</td>\n",
       "      <td>-0.294118</td>\n",
       "      <td>0.0</td>\n",
       "      <td>-0.127368</td>\n",
       "      <td>0</td>\n",
       "      <td>1</td>\n",
       "      <td>0</td>\n",
       "      <td>1</td>\n",
       "      <td>2</td>\n",
       "      <td>0</td>\n",
       "    </tr>\n",
       "    <tr>\n",
       "      <th>1</th>\n",
       "      <td>2019-03-04 16:11:55</td>\n",
       "      <td>2019-03-04 16:19:00</td>\n",
       "      <td>1</td>\n",
       "      <td>0.79</td>\n",
       "      <td>5.0</td>\n",
       "      <td>0.00</td>\n",
       "      <td>0.0</td>\n",
       "      <td>9.30</td>\n",
       "      <td>Upper West Side South</td>\n",
       "      <td>Upper West Side South</td>\n",
       "      <td>Manhattan</td>\n",
       "      <td>Manhattan</td>\n",
       "      <td>1.000000e-10</td>\n",
       "      <td>-10.996744</td>\n",
       "      <td>0.0</td>\n",
       "      <td>-0.389140</td>\n",
       "      <td>-0.529412</td>\n",
       "      <td>0.0</td>\n",
       "      <td>-0.511579</td>\n",
       "      <td>0</td>\n",
       "      <td>1</td>\n",
       "      <td>1</td>\n",
       "      <td>0</td>\n",
       "      <td>2</td>\n",
       "      <td>0</td>\n",
       "    </tr>\n",
       "    <tr>\n",
       "      <th>2</th>\n",
       "      <td>2019-03-27 17:53:01</td>\n",
       "      <td>2019-03-27 18:00:25</td>\n",
       "      <td>1</td>\n",
       "      <td>1.37</td>\n",
       "      <td>7.5</td>\n",
       "      <td>2.36</td>\n",
       "      <td>0.0</td>\n",
       "      <td>14.16</td>\n",
       "      <td>Alphabet City</td>\n",
       "      <td>West Village</td>\n",
       "      <td>Manhattan</td>\n",
       "      <td>Manhattan</td>\n",
       "      <td>2.360000e+00</td>\n",
       "      <td>0.886769</td>\n",
       "      <td>0.0</td>\n",
       "      <td>-0.126697</td>\n",
       "      <td>-0.235294</td>\n",
       "      <td>0.0</td>\n",
       "      <td>0.000000</td>\n",
       "      <td>0</td>\n",
       "      <td>1</td>\n",
       "      <td>0</td>\n",
       "      <td>1</td>\n",
       "      <td>2</td>\n",
       "      <td>0</td>\n",
       "    </tr>\n",
       "  </tbody>\n",
       "</table>\n",
       "</div>"
      ],
      "text/plain": [
       "                pickup              dropoff  passengers  distance  fare   tip  \\\n",
       "0  2019-03-23 20:21:09  2019-03-23 20:27:24           1      1.60   7.0  2.15   \n",
       "1  2019-03-04 16:11:55  2019-03-04 16:19:00           1      0.79   5.0  0.00   \n",
       "2  2019-03-27 17:53:01  2019-03-27 18:00:25           1      1.37   7.5  2.36   \n",
       "\n",
       "   tolls  total            pickup_zone           dropoff_zone pickup_borough  \\\n",
       "0    0.0  12.95        Lenox Hill West    UN/Turtle Bay South      Manhattan   \n",
       "1    0.0   9.30  Upper West Side South  Upper West Side South      Manhattan   \n",
       "2    0.0  14.16          Alphabet City           West Village      Manhattan   \n",
       "\n",
       "  dropoff_borough  tip_no_zeros    tip_box  passengers_robust  \\\n",
       "0       Manhattan  2.150000e+00   0.787753                0.0   \n",
       "1       Manhattan  1.000000e-10 -10.996744                0.0   \n",
       "2       Manhattan  2.360000e+00   0.886769                0.0   \n",
       "\n",
       "   distance_robust  fare_robust  tolls_robust  total_robust  x0_green  \\\n",
       "0        -0.022624    -0.294118           0.0     -0.127368         0   \n",
       "1        -0.389140    -0.529412           0.0     -0.511579         0   \n",
       "2        -0.126697    -0.235294           0.0      0.000000         0   \n",
       "\n",
       "   x0_yellow  payment_cash  payment_credit_card  pickup_borough_oe  \\\n",
       "0          1             0                    1                  2   \n",
       "1          1             1                    0                  2   \n",
       "2          1             0                    1                  2   \n",
       "\n",
       "   dropoff_borough_map  \n",
       "0                    0  \n",
       "1                    0  \n",
       "2                    0  "
      ]
     },
     "execution_count": 2,
     "metadata": {},
     "output_type": "execute_result"
    }
   ],
   "source": [
    "#Creamos el dataframe con el csv con nuestros datos.\n",
    "df=pd.read_csv('files/taxis4_encoding.csv',index_col=0)\n",
    "df.head(3)"
   ]
  },
  {
   "cell_type": "code",
   "execution_count": 3,
   "metadata": {},
   "outputs": [
    {
     "data": {
      "text/html": [
       "<div>\n",
       "<style scoped>\n",
       "    .dataframe tbody tr th:only-of-type {\n",
       "        vertical-align: middle;\n",
       "    }\n",
       "\n",
       "    .dataframe tbody tr th {\n",
       "        vertical-align: top;\n",
       "    }\n",
       "\n",
       "    .dataframe thead th {\n",
       "        text-align: right;\n",
       "    }\n",
       "</style>\n",
       "<table border=\"1\" class=\"dataframe\">\n",
       "  <thead>\n",
       "    <tr style=\"text-align: right;\">\n",
       "      <th></th>\n",
       "      <th>payment_cash</th>\n",
       "      <th>payment_credit_card</th>\n",
       "      <th>pickup_borough_oe</th>\n",
       "      <th>dropoff_borough_map</th>\n",
       "      <th>passengers_robust</th>\n",
       "      <th>fare_robust</th>\n",
       "      <th>tolls_robust</th>\n",
       "      <th>total_robust</th>\n",
       "    </tr>\n",
       "  </thead>\n",
       "  <tbody>\n",
       "    <tr>\n",
       "      <th>0</th>\n",
       "      <td>0</td>\n",
       "      <td>1</td>\n",
       "      <td>2</td>\n",
       "      <td>0</td>\n",
       "      <td>0.0</td>\n",
       "      <td>-0.294118</td>\n",
       "      <td>0.0</td>\n",
       "      <td>-0.127368</td>\n",
       "    </tr>\n",
       "    <tr>\n",
       "      <th>1</th>\n",
       "      <td>1</td>\n",
       "      <td>0</td>\n",
       "      <td>2</td>\n",
       "      <td>0</td>\n",
       "      <td>0.0</td>\n",
       "      <td>-0.529412</td>\n",
       "      <td>0.0</td>\n",
       "      <td>-0.511579</td>\n",
       "    </tr>\n",
       "    <tr>\n",
       "      <th>2</th>\n",
       "      <td>0</td>\n",
       "      <td>1</td>\n",
       "      <td>2</td>\n",
       "      <td>0</td>\n",
       "      <td>0.0</td>\n",
       "      <td>-0.235294</td>\n",
       "      <td>0.0</td>\n",
       "      <td>0.000000</td>\n",
       "    </tr>\n",
       "  </tbody>\n",
       "</table>\n",
       "</div>"
      ],
      "text/plain": [
       "   payment_cash  payment_credit_card  pickup_borough_oe  dropoff_borough_map  \\\n",
       "0             0                    1                  2                    0   \n",
       "1             1                    0                  2                    0   \n",
       "2             0                    1                  2                    0   \n",
       "\n",
       "   passengers_robust  fare_robust  tolls_robust  total_robust  \n",
       "0                0.0    -0.294118           0.0     -0.127368  \n",
       "1                0.0    -0.529412           0.0     -0.511579  \n",
       "2                0.0    -0.235294           0.0      0.000000  "
      ]
     },
     "execution_count": 3,
     "metadata": {},
     "output_type": "execute_result"
    }
   ],
   "source": [
    "# X: variables predictoras (independientes) \n",
    "# Seleccionamos solo las columnas estandarizadas y codificadas\n",
    "X=df[['payment_cash','payment_credit_card','pickup_borough_oe','dropoff_borough_map','passengers_robust',\n",
    "        'fare_robust','tolls_robust','total_robust']]\n",
    "X.head(3)"
   ]
  },
  {
   "cell_type": "code",
   "execution_count": 4,
   "metadata": {},
   "outputs": [
    {
     "data": {
      "text/plain": [
       "0     0.787753\n",
       "1   -10.996744\n",
       "2     0.886769\n",
       "Name: tip_box, dtype: float64"
      ]
     },
     "execution_count": 4,
     "metadata": {},
     "output_type": "execute_result"
    }
   ],
   "source": [
    "# y: variable respuesta (dependiente) normalizada\n",
    "y=df['tip_box']\n",
    "y.head(3)"
   ]
  },
  {
   "cell_type": "code",
   "execution_count": 5,
   "metadata": {},
   "outputs": [
    {
     "data": {
      "text/html": [
       "<div>\n",
       "<style scoped>\n",
       "    .dataframe tbody tr th:only-of-type {\n",
       "        vertical-align: middle;\n",
       "    }\n",
       "\n",
       "    .dataframe tbody tr th {\n",
       "        vertical-align: top;\n",
       "    }\n",
       "\n",
       "    .dataframe thead th {\n",
       "        text-align: right;\n",
       "    }\n",
       "</style>\n",
       "<table border=\"1\" class=\"dataframe\">\n",
       "  <thead>\n",
       "    <tr style=\"text-align: right;\">\n",
       "      <th></th>\n",
       "      <th>Real</th>\n",
       "      <th>Predicted</th>\n",
       "      <th>Set</th>\n",
       "      <th>Remainder</th>\n",
       "    </tr>\n",
       "  </thead>\n",
       "  <tbody>\n",
       "    <tr>\n",
       "      <th>4414</th>\n",
       "      <td>-10.996744</td>\n",
       "      <td>-9.810353</td>\n",
       "      <td>Train</td>\n",
       "      <td>-1.186392</td>\n",
       "    </tr>\n",
       "    <tr>\n",
       "      <th>334</th>\n",
       "      <td>1.362352</td>\n",
       "      <td>1.054786</td>\n",
       "      <td>Train</td>\n",
       "      <td>0.307566</td>\n",
       "    </tr>\n",
       "    <tr>\n",
       "      <th>3593</th>\n",
       "      <td>-10.996744</td>\n",
       "      <td>-15.766131</td>\n",
       "      <td>Train</td>\n",
       "      <td>4.769387</td>\n",
       "    </tr>\n",
       "  </tbody>\n",
       "</table>\n",
       "</div>"
      ],
      "text/plain": [
       "           Real  Predicted    Set  Remainder\n",
       "4414 -10.996744  -9.810353  Train  -1.186392\n",
       "334    1.362352   1.054786  Train   0.307566\n",
       "3593 -10.996744 -15.766131  Train   4.769387"
      ]
     },
     "execution_count": 5,
     "metadata": {},
     "output_type": "execute_result"
    }
   ],
   "source": [
    "# Creamos los datos de entrenamiento y los datos de test.\n",
    "x_train,x_test,y_train,y_test=train_test_split(X,y,test_size=0.3,random_state=42)\n",
    "\n",
    "#Iniciamos la regresión lineal.\n",
    "lr=LinearRegression(n_jobs=-1)\n",
    "\n",
    "#Ajustamos el modelo, le pasamos los datos de entrenamiento.\n",
    "lr.fit(x_train,y_train)\n",
    "\n",
    "#Hacemos las predicciones.\n",
    "y_predict_train=lr.predict(x_train)\n",
    "y_predict_test=lr.predict(x_test)\n",
    "\n",
    "#Creamos un dataframe para visualizar mejor los datos.\n",
    "df_train=pd.DataFrame({'Real':y_train,'Predicted':y_predict_train,'Set':['Train']*len(y_train)})\n",
    "df_test=pd.DataFrame({'Real':y_test,'Predicted':y_predict_test,'Set':['Test']*len(y_test)})\n",
    "df_resultado=pd.concat([df_train, df_test],axis=0)\n",
    "\n",
    "# Remainder es la diferencia de lo real y lo predicho\n",
    "df_resultado['Remainder']=df_resultado['Real']-df_resultado['Predicted']\n",
    "df_resultado.head(3)"
   ]
  },
  {
   "cell_type": "code",
   "execution_count": 6,
   "metadata": {},
   "outputs": [
    {
     "name": "stdout",
     "output_type": "stream",
     "text": [
      "Las métricas para el conjunto \"Train\" son:\n",
      "El valor de R² score es: 0.8655227158488787\n",
      "El valor de MAE es: 1.3246767602243685\n",
      "El valor de MSE es: 4.438722270493814\n",
      "El valor de RMSE es: 2.1068275369602074\n",
      "------------------------------------\n",
      "Las métricas para el conjunto \"Test\" son:\n",
      "El valor de R² score es: 0.887130555557865\n",
      "El valor de MAE es: 1.251615611865909\n",
      "El valor de MSE es: 3.7159398422059535\n",
      "El valor de RMSE es: 1.927677317967391\n"
     ]
    }
   ],
   "source": [
    "#Las metricas para el conjunto de entrenamiento son:\n",
    "print('Las métricas para el conjunto \"Train\" son:')\n",
    "print('El valor de R² score es:', r2_score(y_train,y_predict_train))\n",
    "\n",
    "print('El valor de MAE es:', mean_absolute_error(y_train,y_predict_train))\n",
    "\n",
    "print('El valor de MSE es:', mean_squared_error(y_train,y_predict_train))\n",
    "\n",
    "print('El valor de RMSE es:', np.sqrt(mean_squared_error(y_train,y_predict_train)))\n",
    "print('------------------------------------')\n",
    "\n",
    "#Las metricas para el conjunto de test son:\n",
    "print('Las métricas para el conjunto \"Test\" son:')\n",
    "print('El valor de R² score es:', r2_score(y_test,y_predict_test))\n",
    "\n",
    "print('El valor de MAE es:', mean_absolute_error(y_test,y_predict_test))\n",
    "\n",
    "print('El valor de MSE es:', mean_squared_error(y_test,y_predict_test))\n",
    "\n",
    "print('El valor de RMSE es:', np.sqrt(mean_squared_error(y_test,y_predict_test)))"
   ]
  },
  {
   "cell_type": "code",
   "execution_count": 7,
   "metadata": {},
   "outputs": [
    {
     "data": {
      "text/html": [
       "<div>\n",
       "<style scoped>\n",
       "    .dataframe tbody tr th:only-of-type {\n",
       "        vertical-align: middle;\n",
       "    }\n",
       "\n",
       "    .dataframe tbody tr th {\n",
       "        vertical-align: top;\n",
       "    }\n",
       "\n",
       "    .dataframe thead th {\n",
       "        text-align: right;\n",
       "    }\n",
       "</style>\n",
       "<table border=\"1\" class=\"dataframe\">\n",
       "  <thead>\n",
       "    <tr style=\"text-align: right;\">\n",
       "      <th></th>\n",
       "      <th>R²</th>\n",
       "      <th>MAE</th>\n",
       "      <th>MSE</th>\n",
       "      <th>RMSE</th>\n",
       "      <th>Set</th>\n",
       "      <th>Modelo</th>\n",
       "    </tr>\n",
       "  </thead>\n",
       "  <tbody>\n",
       "    <tr>\n",
       "      <th>0</th>\n",
       "      <td>0.865523</td>\n",
       "      <td>1.324677</td>\n",
       "      <td>4.438722</td>\n",
       "      <td>2.106828</td>\n",
       "      <td>Train</td>\n",
       "      <td>LinearRegression</td>\n",
       "    </tr>\n",
       "    <tr>\n",
       "      <th>1</th>\n",
       "      <td>0.887131</td>\n",
       "      <td>1.251616</td>\n",
       "      <td>3.715940</td>\n",
       "      <td>1.927677</td>\n",
       "      <td>Test</td>\n",
       "      <td>LinearRegression</td>\n",
       "    </tr>\n",
       "  </tbody>\n",
       "</table>\n",
       "</div>"
      ],
      "text/plain": [
       "         R²       MAE       MSE      RMSE    Set            Modelo\n",
       "0  0.865523  1.324677  4.438722  2.106828  Train  LinearRegression\n",
       "1  0.887131  1.251616  3.715940  1.927677   Test  LinearRegression"
      ]
     },
     "execution_count": 7,
     "metadata": {},
     "output_type": "execute_result"
    }
   ],
   "source": [
    "#Creamos un dataframe con los resultados de las métricas de nuestro modelo.\n",
    "resultados_metricas={\n",
    "    'R²':[r2_score(y_train,y_predict_train),r2_score(y_test,y_predict_test)],\n",
    "    'MAE':[mean_absolute_error(y_train,y_predict_train),mean_absolute_error(y_test,y_predict_test)],\n",
    "    'MSE':[mean_squared_error(y_train,y_predict_train),mean_squared_error(y_test,y_predict_test)],\n",
    "    'RMSE':[np.sqrt(mean_squared_error(y_train,y_predict_train)),np.sqrt(mean_squared_error(y_test,y_predict_test))],\n",
    "    'Set':['Train','Test'],\n",
    "    'Modelo':['LinearRegression','LinearRegression']}\n",
    "\n",
    "df_resultado=pd.DataFrame(resultados_metricas)\n",
    "df_resultado "
   ]
  },
  {
   "attachments": {},
   "cell_type": "markdown",
   "metadata": {},
   "source": [
    "`Aplicamos el método inv_boxcox a las métricas porque tenemos nuestra variable respuesta 'tip_box' normalizada con el método boxcox. Lo que queremos conseguir es tener los valores de las métricas en las mismas unidades de la variable respuesta antes de la normalización (tip) para su correcta interpretación.`"
   ]
  },
  {
   "cell_type": "code",
   "execution_count": 8,
   "metadata": {},
   "outputs": [],
   "source": [
    "#Nuestro valor de lambda ajustada obtenido al normalizar la variable 'tip' fue:\n",
    "lambda_ajustada=0.07462469096512592"
   ]
  },
  {
   "cell_type": "code",
   "execution_count": 15,
   "metadata": {},
   "outputs": [],
   "source": [
    "# Creamos una lista con las columnas a las que vamo a aplicar inv_boxcox,\n",
    "# excepto R² que su valor es un porcentaje.\n",
    "lista_columnas=['MAE','MSE','RMSE']"
   ]
  },
  {
   "cell_type": "code",
   "execution_count": 16,
   "metadata": {},
   "outputs": [
    {
     "name": "stdout",
     "output_type": "stream",
     "text": [
      "El valor de MAE en los datos de entrenamiento tras la normalización inversa es 3.536793860102238\n",
      "El valor de MAE en los datos de test tras la normalización inversa es 3.3087372232422765\n",
      "El valor de MSE en los datos de entrenamiento tras la normalización inversa es 46.246215278296006\n",
      "El valor de MSE en los datos de test tras la normalización inversa es 26.56870947563494\n",
      "El valor de RMSE en los datos de entrenamiento tras la normalización inversa es 7.07628060543185\n",
      "El valor de RMSE en los datos de test tras la normalización inversa es 6.05592158867894\n"
     ]
    }
   ],
   "source": [
    "for col in lista_columnas:\n",
    "    print(f'El valor de {col} en los datos de entrenamiento tras la normalización inversa es {inv_boxcox(df_resultado[col].iloc[0], lambda_ajustada)}')\n",
    "    print(f'El valor de {col} en los datos de test tras la normalización inversa es {inv_boxcox(df_resultado[col].iloc[1], lambda_ajustada)}')"
   ]
  },
  {
   "attachments": {},
   "cell_type": "markdown",
   "metadata": {},
   "source": [
    "`Tras obtener las métricas para nuestro modelo en los datos de entrenamiento y en los datos de test concluimos:`\n",
    "- `R²: porcentaje de la varianza que puede ser explicado por las variables indentendietes del modelo.`\n",
    "    - `Train: 0.866 --> 86,6% de la variación de las propinas queda explicada con nuestro modelo.`\n",
    "    - `Test: 0,887 --> 88,7%, por tanto vamos a acertar en la prediccion de las propinas en un 88,7%.`\n",
    "- `MAE:`\n",
    "    - `Train: esta cercano a 0, pero no mucho.`\n",
    "    - `Test: esta cercano a 0, pero no mucho.`\n",
    "- `MSE:`\n",
    "    - `Train: si hacemos la raiz cuadrada de este valor obtenemos el RMSE para datos de entrenamiento. Vemos que se aleja de 0 bastante.`\n",
    "    - `Test: si hacemos la raiz cuadrada de este valor obtenemos el RMSE para datos de test. Vemos que se aleja de 0 bastante.`\n",
    "- `RMSE: distancia promedio entre los valores reales y los predichos.`\n",
    "    - `Train: hemos obtenido que puede variar 7,08$ la propina en los datos de entrenamiento. Si lo observamos en porcentaje (7.077*100/23.19=30.51), vemos que es una variación del 30%, un valor bastante alto.`\n",
    "    - `Test: hemos obtenido que puede variar 6,06$ la propina en los datos de test. Si lo observamos en porcentaje (6.056*100/23.19=26.11), vemos que es una variación del 26%, un valor bastante alto.`"
   ]
  },
  {
   "cell_type": "code",
   "execution_count": 13,
   "metadata": {},
   "outputs": [],
   "source": [
    "df_resultado.to_csv('files/resultados_taxis_linealreg.csv')"
   ]
  },
  {
   "attachments": {},
   "cell_type": "markdown",
   "metadata": {},
   "source": [
    "**Happy coding** 🤔"
   ]
  }
 ],
 "metadata": {
  "kernelspec": {
   "display_name": "base",
   "language": "python",
   "name": "python3"
  },
  "language_info": {
   "codemirror_mode": {
    "name": "ipython",
    "version": 3
   },
   "file_extension": ".py",
   "mimetype": "text/x-python",
   "name": "python",
   "nbconvert_exporter": "python",
   "pygments_lexer": "ipython3",
   "version": "3.9.7 (default, Sep 16 2021, 13:09:58) \n[GCC 7.5.0]"
  },
  "orig_nbformat": 4,
  "vscode": {
   "interpreter": {
    "hash": "6e8aefa1bb798882dbdb84db5119449300b1df017c6fd8f01a2c188a17dff6eb"
   }
  }
 },
 "nbformat": 4,
 "nbformat_minor": 2
}
