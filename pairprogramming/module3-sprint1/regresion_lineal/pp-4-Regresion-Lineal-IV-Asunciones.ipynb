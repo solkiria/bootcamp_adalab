{
 "cells": [
  {
   "attachments": {},
   "cell_type": "markdown",
   "metadata": {},
   "source": [
    "# Ejercicios Pair Programming - Modulo 3 - Sprint 1 \n",
    "## Lección 4 - Asunciones Regresión Lineal\n",
    "### Pilar García Murillo y Sonia Ruiz Pérez"
   ]
  },
  {
   "attachments": {},
   "cell_type": "markdown",
   "metadata": {},
   "source": [
    "En este ejercicio de pair programming seguiréis usando el dataset que seleccionasteis.\n",
    "\n",
    "El objetivo de este pairprgramming es que evaluéis si vuestro set de datos cumple todas las asunciones que se deben cumplir para hacer una regresión lineal. Recordamos que estas asunciones son:\n",
    "\n",
    "- Normalidad (ya la deberíais haber evaluado)\n",
    "\n",
    "- Homogeneidad de varianzas\n",
    "\n",
    "- Independencia de las variables\n",
    "\n",
    "Cada asunción la deberéis testar de forma visual y analítica."
   ]
  },
  {
   "cell_type": "code",
   "execution_count": 1,
   "metadata": {},
   "outputs": [],
   "source": [
    "# Importamos las librerías necesarias.\n",
    "import pandas as pd\n",
    "import numpy as np\n",
    "import seaborn as sns\n",
    "import matplotlib.pyplot as plt\n",
    "from scipy import stats\n",
    "from scipy.stats import levene\n",
    "import researchpy as rp\n",
    "pd.options.display.max_rows=None   #Para que se muestren todas las columnas de los dataframes."
   ]
  },
  {
   "cell_type": "code",
   "execution_count": 2,
   "metadata": {},
   "outputs": [
    {
     "data": {
      "text/html": [
       "<div>\n",
       "<style scoped>\n",
       "    .dataframe tbody tr th:only-of-type {\n",
       "        vertical-align: middle;\n",
       "    }\n",
       "\n",
       "    .dataframe tbody tr th {\n",
       "        vertical-align: top;\n",
       "    }\n",
       "\n",
       "    .dataframe thead th {\n",
       "        text-align: right;\n",
       "    }\n",
       "</style>\n",
       "<table border=\"1\" class=\"dataframe\">\n",
       "  <thead>\n",
       "    <tr style=\"text-align: right;\">\n",
       "      <th></th>\n",
       "      <th>pickup</th>\n",
       "      <th>dropoff</th>\n",
       "      <th>passengers</th>\n",
       "      <th>distance</th>\n",
       "      <th>fare</th>\n",
       "      <th>tip</th>\n",
       "      <th>tolls</th>\n",
       "      <th>total</th>\n",
       "      <th>color</th>\n",
       "      <th>payment</th>\n",
       "      <th>pickup_zone</th>\n",
       "      <th>dropoff_zone</th>\n",
       "      <th>pickup_borough</th>\n",
       "      <th>dropoff_borough</th>\n",
       "    </tr>\n",
       "  </thead>\n",
       "  <tbody>\n",
       "    <tr>\n",
       "      <th>0</th>\n",
       "      <td>2019-03-23 20:21:09</td>\n",
       "      <td>2019-03-23 20:27:24</td>\n",
       "      <td>1</td>\n",
       "      <td>1.60</td>\n",
       "      <td>7.0</td>\n",
       "      <td>2.15</td>\n",
       "      <td>0.0</td>\n",
       "      <td>12.95</td>\n",
       "      <td>yellow</td>\n",
       "      <td>credit card</td>\n",
       "      <td>Lenox Hill West</td>\n",
       "      <td>UN/Turtle Bay South</td>\n",
       "      <td>Manhattan</td>\n",
       "      <td>Manhattan</td>\n",
       "    </tr>\n",
       "    <tr>\n",
       "      <th>1</th>\n",
       "      <td>2019-03-04 16:11:55</td>\n",
       "      <td>2019-03-04 16:19:00</td>\n",
       "      <td>1</td>\n",
       "      <td>0.79</td>\n",
       "      <td>5.0</td>\n",
       "      <td>0.00</td>\n",
       "      <td>0.0</td>\n",
       "      <td>9.30</td>\n",
       "      <td>yellow</td>\n",
       "      <td>cash</td>\n",
       "      <td>Upper West Side South</td>\n",
       "      <td>Upper West Side South</td>\n",
       "      <td>Manhattan</td>\n",
       "      <td>Manhattan</td>\n",
       "    </tr>\n",
       "    <tr>\n",
       "      <th>2</th>\n",
       "      <td>2019-03-27 17:53:01</td>\n",
       "      <td>2019-03-27 18:00:25</td>\n",
       "      <td>1</td>\n",
       "      <td>1.37</td>\n",
       "      <td>7.5</td>\n",
       "      <td>2.36</td>\n",
       "      <td>0.0</td>\n",
       "      <td>14.16</td>\n",
       "      <td>yellow</td>\n",
       "      <td>credit card</td>\n",
       "      <td>Alphabet City</td>\n",
       "      <td>West Village</td>\n",
       "      <td>Manhattan</td>\n",
       "      <td>Manhattan</td>\n",
       "    </tr>\n",
       "  </tbody>\n",
       "</table>\n",
       "</div>"
      ],
      "text/plain": [
       "                pickup              dropoff  passengers  distance  fare   tip  \\\n",
       "0  2019-03-23 20:21:09  2019-03-23 20:27:24           1      1.60   7.0  2.15   \n",
       "1  2019-03-04 16:11:55  2019-03-04 16:19:00           1      0.79   5.0  0.00   \n",
       "2  2019-03-27 17:53:01  2019-03-27 18:00:25           1      1.37   7.5  2.36   \n",
       "\n",
       "   tolls  total   color      payment            pickup_zone  \\\n",
       "0    0.0  12.95  yellow  credit card        Lenox Hill West   \n",
       "1    0.0   9.30  yellow         cash  Upper West Side South   \n",
       "2    0.0  14.16  yellow  credit card          Alphabet City   \n",
       "\n",
       "            dropoff_zone pickup_borough dropoff_borough  \n",
       "0    UN/Turtle Bay South      Manhattan       Manhattan  \n",
       "1  Upper West Side South      Manhattan       Manhattan  \n",
       "2           West Village      Manhattan       Manhattan  "
      ]
     },
     "execution_count": 2,
     "metadata": {},
     "output_type": "execute_result"
    }
   ],
   "source": [
    "#Creamos un dataframe con el csv de los datos de nuestro estudio.\n",
    "df = pd.read_csv(\"files/taxis1.csv\", index_col=0)\n",
    "df.head(3)"
   ]
  },
  {
   "attachments": {},
   "cell_type": "markdown",
   "metadata": {},
   "source": [
    "`Como hemos visto en el pair 2, al realizar el test de Kolmogorov-Smirnov obtuvimos un p-valor < 0.05 y por tanto los datos no son normales.`"
   ]
  },
  {
   "cell_type": "code",
   "execution_count": 3,
   "metadata": {},
   "outputs": [
    {
     "data": {
      "text/html": [
       "<div>\n",
       "<style scoped>\n",
       "    .dataframe tbody tr th:only-of-type {\n",
       "        vertical-align: middle;\n",
       "    }\n",
       "\n",
       "    .dataframe tbody tr th {\n",
       "        vertical-align: top;\n",
       "    }\n",
       "\n",
       "    .dataframe thead th {\n",
       "        text-align: right;\n",
       "    }\n",
       "</style>\n",
       "<table border=\"1\" class=\"dataframe\">\n",
       "  <thead>\n",
       "    <tr style=\"text-align: right;\">\n",
       "      <th></th>\n",
       "      <th>passengers</th>\n",
       "      <th>distance</th>\n",
       "      <th>fare</th>\n",
       "      <th>tip</th>\n",
       "      <th>tolls</th>\n",
       "      <th>total</th>\n",
       "    </tr>\n",
       "  </thead>\n",
       "  <tbody>\n",
       "    <tr>\n",
       "      <th>0</th>\n",
       "      <td>1</td>\n",
       "      <td>1.60</td>\n",
       "      <td>7.0</td>\n",
       "      <td>2.15</td>\n",
       "      <td>0.0</td>\n",
       "      <td>12.95</td>\n",
       "    </tr>\n",
       "    <tr>\n",
       "      <th>1</th>\n",
       "      <td>1</td>\n",
       "      <td>0.79</td>\n",
       "      <td>5.0</td>\n",
       "      <td>0.00</td>\n",
       "      <td>0.0</td>\n",
       "      <td>9.30</td>\n",
       "    </tr>\n",
       "    <tr>\n",
       "      <th>2</th>\n",
       "      <td>1</td>\n",
       "      <td>1.37</td>\n",
       "      <td>7.5</td>\n",
       "      <td>2.36</td>\n",
       "      <td>0.0</td>\n",
       "      <td>14.16</td>\n",
       "    </tr>\n",
       "  </tbody>\n",
       "</table>\n",
       "</div>"
      ],
      "text/plain": [
       "   passengers  distance  fare   tip  tolls  total\n",
       "0           1      1.60   7.0  2.15    0.0  12.95\n",
       "1           1      0.79   5.0  0.00    0.0   9.30\n",
       "2           1      1.37   7.5  2.36    0.0  14.16"
      ]
     },
     "execution_count": 3,
     "metadata": {},
     "output_type": "execute_result"
    }
   ],
   "source": [
    "# Creamos un dataframe solo con las variables numéricas\n",
    "df_numericas = df.select_dtypes(include=np.number)\n",
    "df_numericas.head(3)"
   ]
  },
  {
   "cell_type": "code",
   "execution_count": 4,
   "metadata": {},
   "outputs": [
    {
     "data": {
      "text/html": [
       "<div>\n",
       "<style scoped>\n",
       "    .dataframe tbody tr th:only-of-type {\n",
       "        vertical-align: middle;\n",
       "    }\n",
       "\n",
       "    .dataframe tbody tr th {\n",
       "        vertical-align: top;\n",
       "    }\n",
       "\n",
       "    .dataframe thead th {\n",
       "        text-align: right;\n",
       "    }\n",
       "</style>\n",
       "<table border=\"1\" class=\"dataframe\">\n",
       "  <thead>\n",
       "    <tr style=\"text-align: right;\">\n",
       "      <th></th>\n",
       "      <th>pickup</th>\n",
       "      <th>dropoff</th>\n",
       "      <th>color</th>\n",
       "      <th>payment</th>\n",
       "      <th>pickup_zone</th>\n",
       "      <th>dropoff_zone</th>\n",
       "      <th>pickup_borough</th>\n",
       "      <th>dropoff_borough</th>\n",
       "    </tr>\n",
       "  </thead>\n",
       "  <tbody>\n",
       "    <tr>\n",
       "      <th>0</th>\n",
       "      <td>2019-03-23 20:21:09</td>\n",
       "      <td>2019-03-23 20:27:24</td>\n",
       "      <td>yellow</td>\n",
       "      <td>credit card</td>\n",
       "      <td>Lenox Hill West</td>\n",
       "      <td>UN/Turtle Bay South</td>\n",
       "      <td>Manhattan</td>\n",
       "      <td>Manhattan</td>\n",
       "    </tr>\n",
       "    <tr>\n",
       "      <th>1</th>\n",
       "      <td>2019-03-04 16:11:55</td>\n",
       "      <td>2019-03-04 16:19:00</td>\n",
       "      <td>yellow</td>\n",
       "      <td>cash</td>\n",
       "      <td>Upper West Side South</td>\n",
       "      <td>Upper West Side South</td>\n",
       "      <td>Manhattan</td>\n",
       "      <td>Manhattan</td>\n",
       "    </tr>\n",
       "    <tr>\n",
       "      <th>2</th>\n",
       "      <td>2019-03-27 17:53:01</td>\n",
       "      <td>2019-03-27 18:00:25</td>\n",
       "      <td>yellow</td>\n",
       "      <td>credit card</td>\n",
       "      <td>Alphabet City</td>\n",
       "      <td>West Village</td>\n",
       "      <td>Manhattan</td>\n",
       "      <td>Manhattan</td>\n",
       "    </tr>\n",
       "  </tbody>\n",
       "</table>\n",
       "</div>"
      ],
      "text/plain": [
       "                pickup              dropoff   color      payment  \\\n",
       "0  2019-03-23 20:21:09  2019-03-23 20:27:24  yellow  credit card   \n",
       "1  2019-03-04 16:11:55  2019-03-04 16:19:00  yellow         cash   \n",
       "2  2019-03-27 17:53:01  2019-03-27 18:00:25  yellow  credit card   \n",
       "\n",
       "             pickup_zone           dropoff_zone pickup_borough dropoff_borough  \n",
       "0        Lenox Hill West    UN/Turtle Bay South      Manhattan       Manhattan  \n",
       "1  Upper West Side South  Upper West Side South      Manhattan       Manhattan  \n",
       "2          Alphabet City           West Village      Manhattan       Manhattan  "
      ]
     },
     "execution_count": 4,
     "metadata": {},
     "output_type": "execute_result"
    }
   ],
   "source": [
    "# Creamos un dataframe solo con las variables categóricas\n",
    "df_categoricas = df.select_dtypes(include=\"object\")\n",
    "df_categoricas.head(3)"
   ]
  },
  {
   "attachments": {},
   "cell_type": "markdown",
   "metadata": {},
   "source": [
    "# `Homogeneidad de varianzas`"
   ]
  },
  {
   "attachments": {},
   "cell_type": "markdown",
   "metadata": {},
   "source": [
    "## `Homogeneidad varianzas para variables categóricas`"
   ]
  },
  {
   "cell_type": "code",
   "execution_count": 5,
   "metadata": {},
   "outputs": [
    {
     "data": {
      "text/plain": [
       "yellow    5373\n",
       "green      968\n",
       "Name: color, dtype: int64"
      ]
     },
     "execution_count": 5,
     "metadata": {},
     "output_type": "execute_result"
    }
   ],
   "source": [
    "#Comprobamos el recuento de valores únicos de la columna 'color'\n",
    "df[\"color\"].value_counts()"
   ]
  },
  {
   "cell_type": "code",
   "execution_count": 6,
   "metadata": {},
   "outputs": [
    {
     "data": {
      "text/plain": [
       "credit card    4546\n",
       "cash           1795\n",
       "Name: payment, dtype: int64"
      ]
     },
     "execution_count": 6,
     "metadata": {},
     "output_type": "execute_result"
    }
   ],
   "source": [
    "#Comprobamos el recuento de valores únicos de la columna 'payment'\n",
    "df[\"payment\"].value_counts()"
   ]
  },
  {
   "cell_type": "code",
   "execution_count": 7,
   "metadata": {},
   "outputs": [
    {
     "data": {
      "text/plain": [
       "Midtown Center                         227\n",
       "Penn Station/Madison Sq West           209\n",
       "Upper East Side South                  208\n",
       "Clinton East                           208\n",
       "Midtown East                           196\n",
       "Upper East Side North                  185\n",
       "Times Sq/Theatre District              182\n",
       "Union Sq                               180\n",
       "Lincoln Square East                    176\n",
       "Murray Hill                            159\n",
       "East Village                           151\n",
       "LaGuardia Airport                      143\n",
       "Upper West Side South                  143\n",
       "JFK Airport                            142\n",
       "Midtown South                          141\n",
       "Midtown North                          140\n",
       "East Chelsea                           131\n",
       "Lenox Hill West                        119\n",
       "Gramercy                               109\n",
       "West Village                           109\n",
       "Sutton Place/Turtle Bay North          106\n",
       "Garment District                       105\n",
       "Yorkville West                         101\n",
       "Upper West Side North                   96\n",
       "Lenox Hill East                         96\n",
       "Flatiron                                94\n",
       "East Harlem South                       93\n",
       "Greenwich Village North                 93\n",
       "TriBeCa/Civic Center                    87\n",
       "West Chelsea/Hudson Yards               82\n",
       "Lincoln Square West                     80\n",
       "Greenwich Village South                 77\n",
       "Lower East Side                         76\n",
       "Yorkville East                          70\n",
       "Central Park                            70\n",
       "East Harlem North                       70\n",
       "Central Harlem                          68\n",
       "UN/Turtle Bay South                     67\n",
       "Astoria                                 65\n",
       "Morningside Heights                     62\n",
       "Kips Bay                                60\n",
       "Meatpacking/West Village West           57\n",
       "Little Italy/NoLiTa                     53\n",
       "Manhattan Valley                        49\n",
       "SoHo                                    47\n",
       "Hudson Sq                               46\n",
       "Battery Park City                       43\n",
       "Central Harlem North                    42\n",
       "Clinton West                            40\n",
       "Fort Greene                             39\n",
       "Downtown Brooklyn/MetroTech             37\n",
       "Elmhurst                                35\n",
       "Financial District North                35\n",
       "Brooklyn Heights                        34\n",
       "Washington Heights South                32\n",
       "Jackson Heights                         29\n",
       "Woodside                                26\n",
       "World Trade Center                      24\n",
       "Forest Hills                            24\n",
       "Park Slope                              22\n",
       "Hamilton Heights                        22\n",
       "Boerum Hill                             20\n",
       "Bloomingdale                            20\n",
       "Steinway                                18\n",
       "Long Island City/Hunters Point          18\n",
       "Sunnyside                               17\n",
       "Financial District South                16\n",
       "DUMBO/Vinegar Hill                      15\n",
       "Williamsburg (North Side)               15\n",
       "Chinatown                               14\n",
       "Crown Heights North                     12\n",
       "Williamsburg (South Side)               11\n",
       "Jamaica                                 11\n",
       "Seaport                                 11\n",
       "Cobble Hill                             11\n",
       "Two Bridges/Seward Park                 11\n",
       "Queensbridge/Ravenswood                 11\n",
       "Old Astoria                             11\n",
       "Long Island City/Queens Plaza           10\n",
       "East New York                            9\n",
       "Alphabet City                            9\n",
       "Manhattanville                           9\n",
       "East Concourse/Concourse Village         9\n",
       "Bushwick South                           9\n",
       "Greenpoint                               9\n",
       "Rego Park                                8\n",
       "Sheepshead Bay                           8\n",
       "Mott Haven/Port Morris                   8\n",
       "Stuyvesant Heights                       8\n",
       "Parkchester                              8\n",
       "Washington Heights North                 7\n",
       "Clinton Hill                             7\n",
       "Stuy Town/Peter Cooper Village           7\n",
       "Flushing                                 7\n",
       "Carroll Gardens                          7\n",
       "East Flatbush/Farragut                   7\n",
       "Midwood                                  6\n",
       "Starrett City                            6\n",
       "South Jamaica                            6\n",
       "Coney Island                             6\n",
       "East Flatbush/Remsen Village             6\n",
       "Co-Op City                               5\n",
       "Mount Hope                               5\n",
       "Claremont/Bathgate                       5\n",
       "Bushwick North                           5\n",
       "East Tremont                             5\n",
       "East Williamsburg                        5\n",
       "Brownsville                              4\n",
       "Morrisania/Melrose                       4\n",
       "Prospect-Lefferts Gardens                4\n",
       "North Corona                             4\n",
       "Flatbush/Ditmas Park                     4\n",
       "Erasmus                                  4\n",
       "Soundview/Castle Hill                    4\n",
       "Flatlands                                4\n",
       "Gravesend                                4\n",
       "East Elmhurst                            4\n",
       "Jamaica Estates                          3\n",
       "Cambria Heights                          3\n",
       "Inwood                                   3\n",
       "University Heights/Morris Heights        3\n",
       "Richmond Hill                            3\n",
       "Highbridge                               3\n",
       "Crown Heights South                      3\n",
       "Queensboro Hill                          3\n",
       "Sunset Park West                         3\n",
       "Belmont                                  3\n",
       "Bedford                                  3\n",
       "Prospect Heights                         3\n",
       "Bay Ridge                                3\n",
       "Elmhurst/Maspeth                         3\n",
       "Marine Park/Mill Basin                   3\n",
       "Kew Gardens                              3\n",
       "Van Nest/Morris Park                     3\n",
       "Canarsie                                 3\n",
       "Windsor Terrace                          3\n",
       "Melrose South                            2\n",
       "Allerton/Pelham Gardens                  2\n",
       "Kew Gardens Hills                        2\n",
       "Prospect Park                            2\n",
       "Norwood                                  2\n",
       "Saint Albans                             2\n",
       "Rosedale                                 2\n",
       "Springfield Gardens North                2\n",
       "Kingsbridge Heights                      2\n",
       "Murray Hill-Queens                       2\n",
       "Bronxdale                                2\n",
       "Madison                                  2\n",
       "Fordham South                            2\n",
       "Schuylerville/Edgewater Park             2\n",
       "Maspeth                                  2\n",
       "West Concourse                           2\n",
       "Soundview/Bruckner                       2\n",
       "Borough Park                             2\n",
       "South Ozone Park                         2\n",
       "Ridgewood                                2\n",
       "Westchester Village/Unionport            2\n",
       "Van Cortlandt Village                    2\n",
       "Williamsbridge/Olinville                 2\n",
       "Douglaston                               2\n",
       "South Williamsburg                       2\n",
       "Gowanus                                  2\n",
       "Bensonhurst West                         1\n",
       "Pelham Bay                               1\n",
       "Howard Beach                             1\n",
       "Queens Village                           1\n",
       "Marble Hill                              1\n",
       "Columbia Street                          1\n",
       "Middle Village                           1\n",
       "East Flushing                            1\n",
       "Ozone Park                               1\n",
       "Glendale                                 1\n",
       "Flushing Meadows-Corona Park             1\n",
       "Woodlawn/Wakefield                       1\n",
       "West Farms/Bronx River                   1\n",
       "Whitestone                               1\n",
       "Auburndale                               1\n",
       "Battery Park                             1\n",
       "Dyker Heights                            1\n",
       "Spuyten Duyvil/Kingsbridge               1\n",
       "Riverdale/North Riverdale/Fieldston      1\n",
       "Hollis                                   1\n",
       "Bedford Park                             1\n",
       "Homecrest                                1\n",
       "Bayside                                  1\n",
       "Bensonhurst East                         1\n",
       "Briarwood/Jamaica Hills                  1\n",
       "Pelham Parkway                           1\n",
       "Hunts Point                              1\n",
       "Highbridge Park                          1\n",
       "Brighton Beach                           1\n",
       "Bronx Park                               1\n",
       "Crotona Park East                        1\n",
       "Hillcrest/Pomonok                        1\n",
       "Name: pickup_zone, dtype: int64"
      ]
     },
     "execution_count": 7,
     "metadata": {},
     "output_type": "execute_result"
    }
   ],
   "source": [
    "#Comprobamos el recuento de valores únicos de la columna 'pickup_zone'\n",
    "df[\"pickup_zone\"].value_counts()"
   ]
  },
  {
   "cell_type": "code",
   "execution_count": 8,
   "metadata": {},
   "outputs": [
    {
     "data": {
      "text/plain": [
       "194"
      ]
     },
     "execution_count": 8,
     "metadata": {},
     "output_type": "execute_result"
    }
   ],
   "source": [
    "#Comprobamos cuántos valores únicos tiene la columna 'pickup_zone'\n",
    "len(df[\"pickup_zone\"].unique())"
   ]
  },
  {
   "cell_type": "code",
   "execution_count": 9,
   "metadata": {},
   "outputs": [
    {
     "data": {
      "text/plain": [
       "203"
      ]
     },
     "execution_count": 9,
     "metadata": {},
     "output_type": "execute_result"
    }
   ],
   "source": [
    "#Comprobamos cuántos valores únicos tiene la columna 'dropoff_zone'\n",
    "len(df[\"dropoff_zone\"].unique())"
   ]
  },
  {
   "cell_type": "code",
   "execution_count": 10,
   "metadata": {},
   "outputs": [
    {
     "data": {
      "text/plain": [
       "Manhattan    5226\n",
       "Queens        638\n",
       "Brooklyn      378\n",
       "Bronx          99\n",
       "Name: pickup_borough, dtype: int64"
      ]
     },
     "execution_count": 10,
     "metadata": {},
     "output_type": "execute_result"
    }
   ],
   "source": [
    "#Comprobamos el recuento de valores únicos de la columna 'pickup_borough'\n",
    "df[\"pickup_borough\"].value_counts()"
   ]
  },
  {
   "cell_type": "code",
   "execution_count": 11,
   "metadata": {},
   "outputs": [
    {
     "data": {
      "text/plain": [
       "Manhattan        5172\n",
       "Queens            534\n",
       "Brooklyn          497\n",
       "Bronx             136\n",
       "Staten Island       2\n",
       "Name: dropoff_borough, dtype: int64"
      ]
     },
     "execution_count": 11,
     "metadata": {},
     "output_type": "execute_result"
    }
   ],
   "source": [
    "#Comprobamos el recuento de valores únicos de la columna 'dropoff_borough'\n",
    "df[\"dropoff_borough\"].value_counts()"
   ]
  },
  {
   "cell_type": "code",
   "execution_count": 12,
   "metadata": {},
   "outputs": [
    {
     "data": {
      "image/png": "[encoded data removed]",
      "text/plain": [
       "<Figure size 720x720 with 4 Axes>"
      ]
     },
     "metadata": {
      "needs_background": "light"
     },
     "output_type": "display_data"
    }
   ],
   "source": [
    "# Vamos a representar visualmente las 4 variables con un menor número de categorías: \n",
    "fig, axes = plt.subplots(nrows=2, ncols=2, figsize=(10,10))\n",
    "\n",
    "# Aplanamos la figura así solo utilizar índices unidimensionalmente.\n",
    "axes = axes.flat   \n",
    "\n",
    "#Creamos una lista con las columnas que nos interesan.\n",
    "lista_col_categoricas = [\"color\", \"payment\", \"pickup_borough\", \"dropoff_borough\"]\n",
    "\n",
    "#Itereamos por los índices de las gráficas para rotar sus valores.\n",
    "for ax in fig.axes:\n",
    "    ax.tick_params(labelrotation=45)\n",
    "\n",
    "#Iteramos por la lista de las columnas que nos interesan y representamos sus datos.\n",
    "for i, columna in enumerate(lista_col_categoricas):\n",
    "    sns.violinplot(data=df, x=columna, y=\"tip\", ax=axes[i], palette=\"PiYG\")\n",
    "    #sns.boxplot(data=df, x=columna, y=\"tip\", ax=axes[i])  # es otra opción con la que podemos representarlos.\n",
    "\n",
    "    #Ponemos título a cada gráfico y eliminamos su etiqueta en el eje X.\n",
    "    axes[i].set_title(columna)\n",
    "    axes[i].set_xlabel(\"\")\n",
    "\n",
    "#Ajustamos las gráficas para que no se solapen sus etiquetas.\n",
    "fig.tight_layout()\n",
    "\n",
    "plt.show();"
   ]
  },
  {
   "attachments": {},
   "cell_type": "markdown",
   "metadata": {},
   "source": [
    "`Como podemos observar en los violinplot, no tienen una forma similar, la mediana dista entre cada una de las categorías dentro de cada variable. Para ver esto de forma analítica vamos a hacer el test de Levene, ya que queremos comprobar las varianzas entre los grupos de variables y nuestros datos no siguen una distribución normal.`"
   ]
  },
  {
   "attachments": {},
   "cell_type": "markdown",
   "metadata": {},
   "source": [
    "### `Columna color`"
   ]
  },
  {
   "cell_type": "code",
   "execution_count": 13,
   "metadata": {},
   "outputs": [],
   "source": [
    "# Creamos un dataframe por cada categoría dentro la columna 'color', con nuestra\n",
    "#  variable respuesta (dependiente).\n",
    "yellow = df[df[\"color\"] == \"yellow\"][\"tip\"]\n",
    "green = df[df[\"color\"] == \"green\"][\"tip\"]"
   ]
  },
  {
   "cell_type": "code",
   "execution_count": 14,
   "metadata": {},
   "outputs": [
    {
     "data": {
      "text/plain": [
       "LeveneResult(statistic=169.90483138562192, pvalue=2.406910732308715e-38)"
      ]
     },
     "execution_count": 14,
     "metadata": {},
     "output_type": "execute_result"
    }
   ],
   "source": [
    "# Realizamos el test de Levene para comparar las varianzas entre estas categorías.\n",
    "levene_test_color = stats.levene(yellow, green, center=\"median\")\n",
    "levene_test_color"
   ]
  },
  {
   "attachments": {},
   "cell_type": "markdown",
   "metadata": {},
   "source": [
    "`En el test de Levene para la columna 'color':`\n",
    "\n",
    "- `La hipótesis nula (H0) es que las varianzas son iguales, los datos son homocedasticos.`\n",
    "- `La hipótesis alternativa (H1) es que las varianzas son distintas, los datos son heterocedasticos.`\n",
    "- ` Como nuestro p-valor es < 0.05, rechazamos H0, concluimos que nuestros datos son heterocedasticos.`"
   ]
  },
  {
   "attachments": {},
   "cell_type": "markdown",
   "metadata": {},
   "source": [
    "### `Columna payment`"
   ]
  },
  {
   "cell_type": "code",
   "execution_count": 15,
   "metadata": {},
   "outputs": [],
   "source": [
    "# Creamos un dataframe por cada categoría dentro la columna 'payment', con nuestra\n",
    "#  variable respuesta (dependiente).\n",
    "credit_card = df[df[\"payment\"] == \"credit card\"][\"tip\"]\n",
    "cash = df[df[\"payment\"] == \"cash\"][\"tip\"]"
   ]
  },
  {
   "cell_type": "code",
   "execution_count": 16,
   "metadata": {},
   "outputs": [
    {
     "data": {
      "text/plain": [
       "LeveneResult(statistic=1037.333736460148, pvalue=6.4651831956913405e-211)"
      ]
     },
     "execution_count": 16,
     "metadata": {},
     "output_type": "execute_result"
    }
   ],
   "source": [
    "# Realizamos el test de Levene para comparar las varianzas entre estas categorías.\n",
    "levene_test_payment = stats.levene(credit_card, cash, center=\"median\")\n",
    "levene_test_payment"
   ]
  },
  {
   "attachments": {},
   "cell_type": "markdown",
   "metadata": {},
   "source": [
    "`En el test de Levene para la columna 'payment':`\n",
    "\n",
    "- `La hipótesis nula (H0) es que las varianzas son iguales, los datos son homocedasticos.`\n",
    "- `La hipótesis alternativa (H1) es que las varianzas son distintas, los datos son heterocedasticos.`\n",
    "- ` Como nuestro p-valor es < 0.05, rechazamos H0, concluimos que nuestros datos son heterocedasticos.`"
   ]
  },
  {
   "attachments": {},
   "cell_type": "markdown",
   "metadata": {},
   "source": [
    "### `Columna pickup_borough`"
   ]
  },
  {
   "cell_type": "code",
   "execution_count": 17,
   "metadata": {},
   "outputs": [],
   "source": [
    "# Creamos un dataframe por cada categoría dentro la columna 'pickup_borough', con nuestra\n",
    "#  variable respuesta (dependiente).\n",
    "up_manhattan = df[df[\"pickup_borough\"] == \"Manhattan\"][\"tip\"]\n",
    "up_queens = df[df[\"pickup_borough\"] == \"Queens\"][\"tip\"]\n",
    "up_bronx = df[df[\"pickup_borough\"] == \"Bronx\"][\"tip\"]\n",
    "up_brooklyn = df[df[\"pickup_borough\"] == \"Brooklyn\"][\"tip\"]"
   ]
  },
  {
   "cell_type": "code",
   "execution_count": 18,
   "metadata": {},
   "outputs": [
    {
     "data": {
      "text/plain": [
       "LeveneResult(statistic=169.09841075428852, pvalue=1.8543105931781837e-105)"
      ]
     },
     "execution_count": 18,
     "metadata": {},
     "output_type": "execute_result"
    }
   ],
   "source": [
    "# Realizamos el test de Levene para comparar las varianzas entre estas categorías.\n",
    "levene_test_pickup_borough = stats.levene(up_manhattan, up_queens, up_bronx, up_brooklyn, center=\"median\")\n",
    "levene_test_pickup_borough"
   ]
  },
  {
   "attachments": {},
   "cell_type": "markdown",
   "metadata": {},
   "source": [
    "`En el test de Levene para la columna 'pickup_borough':`\n",
    "\n",
    "- `La hipótesis nula (H0) es que las varianzas son iguales, los datos son homocedasticos.`\n",
    "- `La hipótesis alternativa (H1) es que las varianzas son distintas, los datos son heterocedasticos.`\n",
    "- ` Como nuestro p-valor es < 0.05, rechazamos H0, concluimos que nuestros datos son heterocedasticos.`"
   ]
  },
  {
   "attachments": {},
   "cell_type": "markdown",
   "metadata": {},
   "source": [
    "### `Columna dropoff_borough`"
   ]
  },
  {
   "cell_type": "code",
   "execution_count": 19,
   "metadata": {},
   "outputs": [],
   "source": [
    "# Creamos un dataframe por cada categoría dentro la columna 'dropoff_borough', con nuestra\n",
    "#  variable respuesta (dependiente).\n",
    "off_manhattan = df[df[\"dropoff_borough\"] == \"Manhattan\"][\"tip\"]\n",
    "off_queens = df[df[\"dropoff_borough\"] == \"Queens\"][\"tip\"]\n",
    "off_bronx = df[df[\"dropoff_borough\"] == \"Bronx\"][\"tip\"]\n",
    "off_brooklyn = df[df[\"dropoff_borough\"] == \"Brooklyn\"][\"tip\"]\n",
    "off_staten_island = df[df[\"dropoff_borough\"] == \"Staten Island\"][\"tip\"]"
   ]
  },
  {
   "cell_type": "code",
   "execution_count": 20,
   "metadata": {},
   "outputs": [
    {
     "data": {
      "text/plain": [
       "LeveneResult(statistic=45.12153911158648, pvalue=2.0132428358249823e-37)"
      ]
     },
     "execution_count": 20,
     "metadata": {},
     "output_type": "execute_result"
    }
   ],
   "source": [
    "# Realizamos el test de Levene para comparar las varianzas entre estas categorías.\n",
    "levene_test_dropoff_borough = stats.levene(off_manhattan, off_queens, off_bronx, off_brooklyn, off_staten_island, \n",
    "    center=\"median\")\n",
    "levene_test_dropoff_borough"
   ]
  },
  {
   "attachments": {},
   "cell_type": "markdown",
   "metadata": {},
   "source": [
    "`En el test de Levene para la columna 'dropoff_borough':`\n",
    "\n",
    "- `La hipótesis nula (H0) es que las varianzas son iguales, los datos son homocedasticos.`\n",
    "- `La hipótesis alternativa (H1) es que las varianzas son distintas, los datos son heterocedasticos.`\n",
    "- ` Como nuestro p-valor es < 0.05, rechazamos H0, concluimos que nuestros datos son heterocedasticos.`"
   ]
  },
  {
   "attachments": {},
   "cell_type": "markdown",
   "metadata": {},
   "source": [
    "## `Homogeneidad varianzas para variables numéricas`"
   ]
  },
  {
   "cell_type": "code",
   "execution_count": 21,
   "metadata": {},
   "outputs": [
    {
     "data": {
      "image/png": "[encoded data removed]",
      "text/plain": [
       "<Figure size 1080x720 with 5 Axes>"
      ]
     },
     "metadata": {
      "needs_background": "light"
     },
     "output_type": "display_data"
    }
   ],
   "source": [
    "# Vamos a representar visualmente las 5 variables numéricas: \n",
    "fig, axes = plt.subplots(nrows=3, ncols=2, figsize=(15,10))\n",
    "sns.set(font_scale=1.5)\n",
    "\n",
    "# Aplanamos la figura así solo utilizar índices unidimensionalmente.\n",
    "axes = axes.flat\n",
    "\n",
    "#Creamos una lista con las columnas que nos interesan.\n",
    "lista_col_numericas = [\"passengers\", \"distance\", \"fare\", \"tolls\", \"total\"]\n",
    "\n",
    "#Iteramos por la lista de las columnas que nos interesan y representamos sus datos.\n",
    "for i, columna in enumerate(lista_col_numericas):\n",
    "    sns.regplot(data=df, x=columna, y=\"tip\", line_kws={\"color\": \"purple\", \"alpha\": 0.7}, ax=axes[i])\n",
    "    \n",
    "    #Ponemos título a cada gráfico y eliminamos su etiqueta en el eje X.\n",
    "    axes[i].set_title(columna)\n",
    "    axes[i].set_xlabel(\"\")\n",
    "\n",
    "#Ajustamos las gráficas para que no se solapen sus etiquetas.\n",
    "fig.tight_layout()\n",
    "\n",
    "#Eliminamos la última gráfica ya que está vacía, pues solo tenemos 5 columnas que representar.\n",
    "fig.delaxes(axes[-1])\n",
    "\n",
    "plt.show();"
   ]
  },
  {
   "attachments": {},
   "cell_type": "markdown",
   "metadata": {},
   "source": [
    "`Observando las gráficas, vemos que las columnas passengers, fare y tolls no tienen homocedasticidad, ya que la dispersión de los puntos no es constante el intervalo del eje X. Sin embargo en las columnas distance y total si se puede apreciar una leve tendencia de aproximación de los puntos a la línea de regresión de manera homogénea en el eje X, exceptuando los que tienen valor 0 en la variable tip. Vamos a hacer una interpretación analítica.`"
   ]
  },
  {
   "cell_type": "code",
   "execution_count": 22,
   "metadata": {},
   "outputs": [
    {
     "data": {
      "text/plain": [
       "{'passengers': 3.7e-322,\n",
       " 'distance': 4.5695632577577407e-17,\n",
       " 'fare': 0.0,\n",
       " 'tolls': 0.0,\n",
       " 'total': 0.0}"
      ]
     },
     "execution_count": 22,
     "metadata": {},
     "output_type": "execute_result"
    }
   ],
   "source": [
    "#Comprobamos analíticamente la homocedasticidad de las variables numéricas.\n",
    "#Creamos un diccionario vacío para ir almacenando los resultados que obtengamos para cada columna.\n",
    "resultados_levene_numericas = {}\n",
    "\n",
    "#Iteramos por la lista de columnas numéricas.\n",
    "for columna in lista_col_numericas:\n",
    "    # Hacemos la mediana por no ser una distribución normal\n",
    "    statistic, p_value = stats.levene(df[columna], df[\"tip\"], center=\"median\")\n",
    "    resultados_levene_numericas[columna] = p_value\n",
    "\n",
    "resultados_levene_numericas"
   ]
  },
  {
   "attachments": {},
   "cell_type": "markdown",
   "metadata": {},
   "source": [
    "`En el test de Levene para las columnas numéricas:`\n",
    "\n",
    "- `La hipótesis nula (H0) es que las varianzas son iguales, los datos son homocedasticos.`\n",
    "- `La hipótesis alternativa (H1) es que las varianzas son distintas, los datos son heterocedasticos.`\n",
    "- ` Cuando nuestro p-valor es < 0.05, rechazamos H0, concluimos que nuestros datos son heterocedasticos.`"
   ]
  },
  {
   "attachments": {},
   "cell_type": "markdown",
   "metadata": {},
   "source": [
    "` Todos los valores p-value de las columnas numéricas son menores a 0.05 por tanto tienen varianzas distintas, así que son datos heterocedasticos.`"
   ]
  },
  {
   "attachments": {},
   "cell_type": "markdown",
   "metadata": {},
   "source": [
    "# `Independencia de las variables`"
   ]
  },
  {
   "attachments": {},
   "cell_type": "markdown",
   "metadata": {},
   "source": [
    "`Vamos a realizar el test Pearson Chi square para comprobar si nuestras variables categóricas son dependientes.`\n",
    "- `La hipótesis nula (H0) es que nuestras variables son independientes.`\n",
    "- `La hipótesis alternativa (H1) es que nuestras variables son dependientes.`"
   ]
  },
  {
   "cell_type": "code",
   "execution_count": 23,
   "metadata": {},
   "outputs": [
    {
     "data": {
      "text/plain": [
       "Index(['pickup', 'dropoff', 'color', 'payment', 'pickup_zone', 'dropoff_zone',\n",
       "       'pickup_borough', 'dropoff_borough'],\n",
       "      dtype='object')"
      ]
     },
     "execution_count": 23,
     "metadata": {},
     "output_type": "execute_result"
    }
   ],
   "source": [
    "#Comprobamos todas las columnas que tenemos en el dataframe de variables categóricas.\n",
    "df_categoricas.columns"
   ]
  },
  {
   "cell_type": "code",
   "execution_count": 28,
   "metadata": {},
   "outputs": [
    {
     "name": "stdout",
     "output_type": "stream",
     "text": [
      "Los resultados de las independencias de las columnas 'color' y 'payment' es: \n",
      "                 Chi-square test  results\n",
      "0  Pearson Chi-square ( 1.0) =   87.9256\n",
      "1                    p-value =    0.0000\n",
      "2               Cramer's phi =    0.1178\n",
      "Los resultados de las independencias de las columnas 'color' y 'pickup_borough' es: \n",
      "                 Chi-square test    results\n",
      "0  Pearson Chi-square ( 3.0) =   2457.5614\n",
      "1                    p-value =      0.0000\n",
      "2                 Cramer's V =      0.6225\n",
      "Los resultados de las independencias de las columnas 'color' y 'dropoff_borough' es: \n",
      "                 Chi-square test    results\n",
      "0  Pearson Chi-square ( 4.0) =   1656.9884\n",
      "1                    p-value =      0.0000\n",
      "2                 Cramer's V =      0.5112\n",
      "---\n",
      "Los resultados de las independencias de las columnas 'payment' y 'pickup_borough' es: \n",
      "                 Chi-square test  results\n",
      "0  Pearson Chi-square ( 3.0) =   55.1664\n",
      "1                    p-value =    0.0000\n",
      "2                 Cramer's V =    0.0933\n",
      "Los resultados de las independencias de las columnas 'payment' y 'dropoff_borough' es: \n",
      "                 Chi-square test  results\n",
      "0  Pearson Chi-square ( 4.0) =   76.5669\n",
      "1                    p-value =    0.0000\n",
      "2                 Cramer's V =    0.1099\n",
      "---\n",
      "Los resultados de las independencias de las columnas 'pickup_borough' y 'dropoff_borough' es: \n",
      "                  Chi-square test    results\n",
      "0  Pearson Chi-square ( 12.0) =   6443.6254\n",
      "1                     p-value =      0.0000\n",
      "2                  Cramer's V =      0.5820\n",
      "---\n",
      "---\n"
     ]
    }
   ],
   "source": [
    "#Creamos una lista con las variables categóricas que nos interesan.\n",
    "lista_col_categoricas2 = ['color', 'payment', 'pickup_borough', 'dropoff_borough']\n",
    "#Iteramos por la lisat que acabamos de crear.\n",
    "for i in range(len(lista_col_categoricas2)):\n",
    "    posicion = i + 1\n",
    "    for j in range(len(lista_col_categoricas2)-posicion):\n",
    "        crosstab, test_results, expected = rp.crosstab(df_categoricas[lista_col_categoricas2[i]], df_categoricas[lista_col_categoricas2[posicion]], \n",
    "                test=\"chi-square\", expected_freqs=True, prop=\"cell\")\n",
    "        print(f\"Los resultados de las independencias de las columnas '{lista_col_categoricas2[i]}' y '{lista_col_categoricas2[posicion]}' es: \\n {test_results}\")\n",
    "        posicion += 1\n",
    "    print(\"---\")"
   ]
  },
  {
   "attachments": {},
   "cell_type": "markdown",
   "metadata": {},
   "source": [
    "`Tras observar los valores de p-value del test de independencia de Pearson Chi-square, de la combinación de dos a dos de cada una de nuestras variables categóricas, podemos rechazar la hipótesis nula de que las variables son independientes, es decir nuestras variables son dependientes.`\n",
    "\n",
    "`Como nuestras variables son dependientes, vamos a observar la fuerza de esa asociación con la V de Cramer en cada uno de los test.`\n",
    "\n",
    "`El valor de V de Cramer en teoría cuanto menor sea el valor (minimo 0), menor fuerza tendrá esa asociación y cuanto mayor es el valor (máximo 1), más fuerte es la asociación. Pero el método de programación empleado nos da el resultado a la inversa, es decir cuanto menor sea el valor, mayor fuerza tendra dicha asociación y viceversa (Varía entre 0 y 1).`"
   ]
  },
  {
   "attachments": {},
   "cell_type": "markdown",
   "metadata": {},
   "source": [
    "- ` Para las variables 'color' y 'payment' hemos obtenido un valor de V de Cramer de 0.1178, las variables tienen una independencia baja.`\n",
    "\n",
    "- ` Para las variables 'color' y 'pickup_borough' hemos obtenido un valor de V de Cramer de 0.6225, las variables tienen una independencia alta.`\n",
    "\n",
    "- ` Para las variables 'color' y 'dropoff_borough' hemos obtenido un valor de V de Cramer de 0.5112, las variables tienen una independencia alta.`\n",
    "\n",
    "- ` Para las variables 'payment' y 'pickup_borough' hemos obtenido un valor de V de Cramer de 0.0933, las variables no tienen independencia, son variables dependientes.`\n",
    "\n",
    "- ` Para las variables 'payment' y 'dropoff_borough' hemos obtenido un valor de V de Cramer de 0.1099, las variables tienen una independencia baja.`\n",
    "\n",
    "- ` Para las variables 'pickup_borough' y 'dropoff_borough' hemos obtenido un valor de V de Cramer de 0.5820, las variables tienen una independencia alta.`"
   ]
  },
  {
   "attachments": {},
   "cell_type": "markdown",
   "metadata": {},
   "source": [
    "**Happy coding** 📈📊📉"
   ]
  }
 ],
 "metadata": {
  "kernelspec": {
   "display_name": "base",
   "language": "python",
   "name": "python3"
  },
  "language_info": {
   "codemirror_mode": {
    "name": "ipython",
    "version": 3
   },
   "file_extension": ".py",
   "mimetype": "text/x-python",
   "name": "python",
   "nbconvert_exporter": "python",
   "pygments_lexer": "ipython3",
   "version": "3.9.7 (default, Sep 16 2021, 13:09:58) \n[GCC 7.5.0]"
  },
  "orig_nbformat": 4,
  "vscode": {
   "interpreter": {
    "hash": "468215beec16e96f99bc366ecab75b1d75db716e353e0417cbdb37be88f0d883"
   }
  }
 },
 "nbformat": 4,
 "nbformat_minor": 2
}
