{
 "cells": [
  {
   "attachments": {},
   "cell_type": "markdown",
   "metadata": {},
   "source": [
    "# Ejercicios Pair Programming - Modulo 3 - Sprint 1 \n",
    "## Lección 9 - Regresión Lineal: Intro\n",
    "### Pilar García y Sonia Ruiz Pérez"
   ]
  },
  {
   "attachments": {},
   "cell_type": "markdown",
   "metadata": {},
   "source": [
    "En el pair programming de hoy debéis usar el csv que guardastéis cuando hicistéis el pairprgramming de codificicación (este csv debería tener las variables estadandarizas).\n",
    "\n",
    "El objetivo de este pairprogramming es que hagáis vuestro primer modelo de machine learning. Para eso recordad que:"
   ]
  },
  {
   "cell_type": "code",
   "execution_count": 4,
   "metadata": {},
   "outputs": [],
   "source": [
    "# Tratamiento de datos\n",
    "# -----------------------------------------------------------------------\n",
    "import numpy as np\n",
    "import pandas as pd\n",
    "\n",
    "# Gráficos\n",
    "# ------------------------------------------------------------------------------\n",
    "import matplotlib.pyplot as plt\n",
    "import seaborn as sns\n",
    "\n",
    "\n",
    "#  Modelado y evaluación\n",
    "# ------------------------------------------------------------------------------\n",
    "from sklearn.model_selection import train_test_split\n",
    "from sklearn.linear_model import LinearRegression\n",
    "\n",
    "\n",
    "#  Crossvalidation\n",
    "# ------------------------------------------------------------------------------\n",
    "from sklearn.model_selection import cross_val_score\n",
    "from sklearn.model_selection import cross_validate\n",
    "from sklearn import metrics\n",
    "pd.options.display.max_columns=None"
   ]
  },
  {
   "cell_type": "code",
   "execution_count": 5,
   "metadata": {},
   "outputs": [
    {
     "data": {
      "text/html": [
       "<div>\n",
       "<style scoped>\n",
       "    .dataframe tbody tr th:only-of-type {\n",
       "        vertical-align: middle;\n",
       "    }\n",
       "\n",
       "    .dataframe tbody tr th {\n",
       "        vertical-align: top;\n",
       "    }\n",
       "\n",
       "    .dataframe thead th {\n",
       "        text-align: right;\n",
       "    }\n",
       "</style>\n",
       "<table border=\"1\" class=\"dataframe\">\n",
       "  <thead>\n",
       "    <tr style=\"text-align: right;\">\n",
       "      <th></th>\n",
       "      <th>pickup</th>\n",
       "      <th>dropoff</th>\n",
       "      <th>passengers</th>\n",
       "      <th>distance</th>\n",
       "      <th>fare</th>\n",
       "      <th>tip</th>\n",
       "      <th>tolls</th>\n",
       "      <th>total</th>\n",
       "      <th>pickup_zone</th>\n",
       "      <th>dropoff_zone</th>\n",
       "      <th>pickup_borough</th>\n",
       "      <th>dropoff_borough</th>\n",
       "      <th>tip_no_zeros</th>\n",
       "      <th>tip_box</th>\n",
       "      <th>passengers_robust</th>\n",
       "      <th>distance_robust</th>\n",
       "      <th>fare_robust</th>\n",
       "      <th>tolls_robust</th>\n",
       "      <th>total_robust</th>\n",
       "      <th>x0_green</th>\n",
       "      <th>x0_yellow</th>\n",
       "      <th>payment_cash</th>\n",
       "      <th>payment_credit_card</th>\n",
       "      <th>pickup_borough_oe</th>\n",
       "      <th>dropoff_borough_map</th>\n",
       "    </tr>\n",
       "  </thead>\n",
       "  <tbody>\n",
       "    <tr>\n",
       "      <th>0</th>\n",
       "      <td>2019-03-23 20:21:09</td>\n",
       "      <td>2019-03-23 20:27:24</td>\n",
       "      <td>1</td>\n",
       "      <td>1.60</td>\n",
       "      <td>7.0</td>\n",
       "      <td>2.15</td>\n",
       "      <td>0.0</td>\n",
       "      <td>12.95</td>\n",
       "      <td>Lenox Hill West</td>\n",
       "      <td>UN/Turtle Bay South</td>\n",
       "      <td>Manhattan</td>\n",
       "      <td>Manhattan</td>\n",
       "      <td>2.150000e+00</td>\n",
       "      <td>0.787753</td>\n",
       "      <td>0.0</td>\n",
       "      <td>-0.022624</td>\n",
       "      <td>-0.294118</td>\n",
       "      <td>0.0</td>\n",
       "      <td>-0.127368</td>\n",
       "      <td>0</td>\n",
       "      <td>1</td>\n",
       "      <td>0</td>\n",
       "      <td>1</td>\n",
       "      <td>2</td>\n",
       "      <td>0</td>\n",
       "    </tr>\n",
       "    <tr>\n",
       "      <th>1</th>\n",
       "      <td>2019-03-04 16:11:55</td>\n",
       "      <td>2019-03-04 16:19:00</td>\n",
       "      <td>1</td>\n",
       "      <td>0.79</td>\n",
       "      <td>5.0</td>\n",
       "      <td>0.00</td>\n",
       "      <td>0.0</td>\n",
       "      <td>9.30</td>\n",
       "      <td>Upper West Side South</td>\n",
       "      <td>Upper West Side South</td>\n",
       "      <td>Manhattan</td>\n",
       "      <td>Manhattan</td>\n",
       "      <td>1.000000e-10</td>\n",
       "      <td>-10.996744</td>\n",
       "      <td>0.0</td>\n",
       "      <td>-0.389140</td>\n",
       "      <td>-0.529412</td>\n",
       "      <td>0.0</td>\n",
       "      <td>-0.511579</td>\n",
       "      <td>0</td>\n",
       "      <td>1</td>\n",
       "      <td>1</td>\n",
       "      <td>0</td>\n",
       "      <td>2</td>\n",
       "      <td>0</td>\n",
       "    </tr>\n",
       "    <tr>\n",
       "      <th>2</th>\n",
       "      <td>2019-03-27 17:53:01</td>\n",
       "      <td>2019-03-27 18:00:25</td>\n",
       "      <td>1</td>\n",
       "      <td>1.37</td>\n",
       "      <td>7.5</td>\n",
       "      <td>2.36</td>\n",
       "      <td>0.0</td>\n",
       "      <td>14.16</td>\n",
       "      <td>Alphabet City</td>\n",
       "      <td>West Village</td>\n",
       "      <td>Manhattan</td>\n",
       "      <td>Manhattan</td>\n",
       "      <td>2.360000e+00</td>\n",
       "      <td>0.886769</td>\n",
       "      <td>0.0</td>\n",
       "      <td>-0.126697</td>\n",
       "      <td>-0.235294</td>\n",
       "      <td>0.0</td>\n",
       "      <td>0.000000</td>\n",
       "      <td>0</td>\n",
       "      <td>1</td>\n",
       "      <td>0</td>\n",
       "      <td>1</td>\n",
       "      <td>2</td>\n",
       "      <td>0</td>\n",
       "    </tr>\n",
       "  </tbody>\n",
       "</table>\n",
       "</div>"
      ],
      "text/plain": [
       "                pickup              dropoff  passengers  distance  fare   tip  \\\n",
       "0  2019-03-23 20:21:09  2019-03-23 20:27:24           1      1.60   7.0  2.15   \n",
       "1  2019-03-04 16:11:55  2019-03-04 16:19:00           1      0.79   5.0  0.00   \n",
       "2  2019-03-27 17:53:01  2019-03-27 18:00:25           1      1.37   7.5  2.36   \n",
       "\n",
       "   tolls  total            pickup_zone           dropoff_zone pickup_borough  \\\n",
       "0    0.0  12.95        Lenox Hill West    UN/Turtle Bay South      Manhattan   \n",
       "1    0.0   9.30  Upper West Side South  Upper West Side South      Manhattan   \n",
       "2    0.0  14.16          Alphabet City           West Village      Manhattan   \n",
       "\n",
       "  dropoff_borough  tip_no_zeros    tip_box  passengers_robust  \\\n",
       "0       Manhattan  2.150000e+00   0.787753                0.0   \n",
       "1       Manhattan  1.000000e-10 -10.996744                0.0   \n",
       "2       Manhattan  2.360000e+00   0.886769                0.0   \n",
       "\n",
       "   distance_robust  fare_robust  tolls_robust  total_robust  x0_green  \\\n",
       "0        -0.022624    -0.294118           0.0     -0.127368         0   \n",
       "1        -0.389140    -0.529412           0.0     -0.511579         0   \n",
       "2        -0.126697    -0.235294           0.0      0.000000         0   \n",
       "\n",
       "   x0_yellow  payment_cash  payment_credit_card  pickup_borough_oe  \\\n",
       "0          1             0                    1                  2   \n",
       "1          1             1                    0                  2   \n",
       "2          1             0                    1                  2   \n",
       "\n",
       "   dropoff_borough_map  \n",
       "0                    0  \n",
       "1                    0  \n",
       "2                    0  "
      ]
     },
     "execution_count": 5,
     "metadata": {},
     "output_type": "execute_result"
    }
   ],
   "source": [
    "#Creamos el dataframe con el csv con nuestros datos.\n",
    "df=pd.read_csv('files/taxis4_encoding.csv',index_col=0)\n",
    "df.head(3)"
   ]
  },
  {
   "attachments": {},
   "cell_type": "markdown",
   "metadata": {},
   "source": [
    "- Deberéis separar la X y la y."
   ]
  },
  {
   "cell_type": "code",
   "execution_count": 25,
   "metadata": {},
   "outputs": [
    {
     "data": {
      "text/html": [
       "<div>\n",
       "<style scoped>\n",
       "    .dataframe tbody tr th:only-of-type {\n",
       "        vertical-align: middle;\n",
       "    }\n",
       "\n",
       "    .dataframe tbody tr th {\n",
       "        vertical-align: top;\n",
       "    }\n",
       "\n",
       "    .dataframe thead th {\n",
       "        text-align: right;\n",
       "    }\n",
       "</style>\n",
       "<table border=\"1\" class=\"dataframe\">\n",
       "  <thead>\n",
       "    <tr style=\"text-align: right;\">\n",
       "      <th></th>\n",
       "      <th>payment_cash</th>\n",
       "      <th>payment_credit_card</th>\n",
       "      <th>pickup_borough_oe</th>\n",
       "      <th>dropoff_borough_map</th>\n",
       "      <th>passengers_robust</th>\n",
       "      <th>fare_robust</th>\n",
       "      <th>tolls_robust</th>\n",
       "      <th>total_robust</th>\n",
       "    </tr>\n",
       "  </thead>\n",
       "  <tbody>\n",
       "    <tr>\n",
       "      <th>0</th>\n",
       "      <td>0</td>\n",
       "      <td>1</td>\n",
       "      <td>2</td>\n",
       "      <td>0</td>\n",
       "      <td>0.0</td>\n",
       "      <td>-0.294118</td>\n",
       "      <td>0.0</td>\n",
       "      <td>-0.127368</td>\n",
       "    </tr>\n",
       "    <tr>\n",
       "      <th>1</th>\n",
       "      <td>1</td>\n",
       "      <td>0</td>\n",
       "      <td>2</td>\n",
       "      <td>0</td>\n",
       "      <td>0.0</td>\n",
       "      <td>-0.529412</td>\n",
       "      <td>0.0</td>\n",
       "      <td>-0.511579</td>\n",
       "    </tr>\n",
       "    <tr>\n",
       "      <th>2</th>\n",
       "      <td>0</td>\n",
       "      <td>1</td>\n",
       "      <td>2</td>\n",
       "      <td>0</td>\n",
       "      <td>0.0</td>\n",
       "      <td>-0.235294</td>\n",
       "      <td>0.0</td>\n",
       "      <td>0.000000</td>\n",
       "    </tr>\n",
       "  </tbody>\n",
       "</table>\n",
       "</div>"
      ],
      "text/plain": [
       "   payment_cash  payment_credit_card  pickup_borough_oe  dropoff_borough_map  \\\n",
       "0             0                    1                  2                    0   \n",
       "1             1                    0                  2                    0   \n",
       "2             0                    1                  2                    0   \n",
       "\n",
       "   passengers_robust  fare_robust  tolls_robust  total_robust  \n",
       "0                0.0    -0.294118           0.0     -0.127368  \n",
       "1                0.0    -0.529412           0.0     -0.511579  \n",
       "2                0.0    -0.235294           0.0      0.000000  "
      ]
     },
     "execution_count": 25,
     "metadata": {},
     "output_type": "execute_result"
    }
   ],
   "source": [
    "# X: variables predictoras (independientes)\n",
    "# Seleccionamos solo las columnas estandarizadas y codificadas\n",
    "X=df[['payment_cash','payment_credit_card','pickup_borough_oe','dropoff_borough_map','passengers_robust',\n",
    "        'fare_robust','tolls_robust','total_robust']]\n",
    "X.head(3)"
   ]
  },
  {
   "cell_type": "code",
   "execution_count": 26,
   "metadata": {},
   "outputs": [
    {
     "data": {
      "text/plain": [
       "0     0.787753\n",
       "1   -10.996744\n",
       "2     0.886769\n",
       "Name: tip_box, dtype: float64"
      ]
     },
     "execution_count": 26,
     "metadata": {},
     "output_type": "execute_result"
    }
   ],
   "source": [
    "# y: variable respuesta (dependiente)\n",
    "y=df['tip_box']\n",
    "y.head(3)"
   ]
  },
  {
   "attachments": {},
   "cell_type": "markdown",
   "metadata": {},
   "source": [
    "- Deberéis crear el train y el test."
   ]
  },
  {
   "cell_type": "code",
   "execution_count": 13,
   "metadata": {},
   "outputs": [],
   "source": [
    "# random_state = 42 --> semilla, para que siempre tenga los mismos datos\n",
    "x_train,x_test,y_train,y_test=train_test_split(X,y,test_size=0.3,random_state=42)"
   ]
  },
  {
   "attachments": {},
   "cell_type": "markdown",
   "metadata": {},
   "source": [
    "- Ajustar vuestro modelo."
   ]
  },
  {
   "cell_type": "code",
   "execution_count": 14,
   "metadata": {},
   "outputs": [],
   "source": [
    "#Iniciamos la regresión lineal.\n",
    "lr=LinearRegression(n_jobs=-1)"
   ]
  },
  {
   "cell_type": "code",
   "execution_count": 15,
   "metadata": {},
   "outputs": [
    {
     "data": {
      "text/plain": [
       "LinearRegression(n_jobs=-1)"
      ]
     },
     "execution_count": 15,
     "metadata": {},
     "output_type": "execute_result"
    }
   ],
   "source": [
    "#Ajustamos el modelo, le pasamos los datos de entrenamiento.\n",
    "lr.fit(x_train,y_train)"
   ]
  },
  {
   "cell_type": "code",
   "execution_count": 16,
   "metadata": {},
   "outputs": [],
   "source": [
    "#Hacemos las predicciones.\n",
    "y_predict_train=lr.predict(x_train)\n",
    "y_predict_test=lr.predict(x_test)"
   ]
  },
  {
   "cell_type": "code",
   "execution_count": 27,
   "metadata": {},
   "outputs": [
    {
     "data": {
      "text/html": [
       "<div>\n",
       "<style scoped>\n",
       "    .dataframe tbody tr th:only-of-type {\n",
       "        vertical-align: middle;\n",
       "    }\n",
       "\n",
       "    .dataframe tbody tr th {\n",
       "        vertical-align: top;\n",
       "    }\n",
       "\n",
       "    .dataframe thead th {\n",
       "        text-align: right;\n",
       "    }\n",
       "</style>\n",
       "<table border=\"1\" class=\"dataframe\">\n",
       "  <thead>\n",
       "    <tr style=\"text-align: right;\">\n",
       "      <th></th>\n",
       "      <th>Real</th>\n",
       "      <th>Predicted</th>\n",
       "      <th>Set</th>\n",
       "      <th>Remainder</th>\n",
       "    </tr>\n",
       "  </thead>\n",
       "  <tbody>\n",
       "    <tr>\n",
       "      <th>4414</th>\n",
       "      <td>-10.996744</td>\n",
       "      <td>-9.810353</td>\n",
       "      <td>Train</td>\n",
       "      <td>-1.186392</td>\n",
       "    </tr>\n",
       "    <tr>\n",
       "      <th>334</th>\n",
       "      <td>1.362352</td>\n",
       "      <td>1.054786</td>\n",
       "      <td>Train</td>\n",
       "      <td>0.307566</td>\n",
       "    </tr>\n",
       "    <tr>\n",
       "      <th>3593</th>\n",
       "      <td>-10.996744</td>\n",
       "      <td>-15.766131</td>\n",
       "      <td>Train</td>\n",
       "      <td>4.769387</td>\n",
       "    </tr>\n",
       "  </tbody>\n",
       "</table>\n",
       "</div>"
      ],
      "text/plain": [
       "           Real  Predicted    Set  Remainder\n",
       "4414 -10.996744  -9.810353  Train  -1.186392\n",
       "334    1.362352   1.054786  Train   0.307566\n",
       "3593 -10.996744 -15.766131  Train   4.769387"
      ]
     },
     "execution_count": 27,
     "metadata": {},
     "output_type": "execute_result"
    }
   ],
   "source": [
    "#Creamos un dataframe para visualizar mejor los datos.\n",
    "df_train=pd.DataFrame({'Real':y_train,'Predicted':y_predict_train,'Set':['Train']*len(y_train)})\n",
    "df_test=pd.DataFrame({'Real':y_test,'Predicted':y_predict_test,'Set':['Test']*len(y_test)})\n",
    "df_resultado=pd.concat([df_train, df_test],axis=0)\n",
    "df_resultado['Remainder']=df_resultado['Real']-df_resultado['Predicted']\n",
    "df_resultado.head(3)"
   ]
  },
  {
   "attachments": {},
   "cell_type": "markdown",
   "metadata": {},
   "source": [
    "`La columna 'Real' son nuestros datos observados, la columna 'Predicted' es la prediccion que ha hecho el modelo de regresion lineal y la columna 'Remainder' es la diferencia entre los valores reales (observados) y los predichos, es decir, los residuos.`"
   ]
  },
  {
   "cell_type": "code",
   "execution_count": 22,
   "metadata": {},
   "outputs": [
    {
     "data": {
      "image/png": "[encoded data removed]",
      "text/plain": [
       "<Figure size 720x720 with 4 Axes>"
      ]
     },
     "metadata": {
      "needs_background": "light"
     },
     "output_type": "display_data"
    }
   ],
   "source": [
    "#Representamos los datos obtenidos.\n",
    "fig, axes = plt.subplots(2,2,figsize=(10,10))\n",
    "\n",
    "# Representamos los valores reales y los valores predichos\n",
    "sns.regplot(data = df_resultado[df_resultado['Set'] == \"Train\"], \n",
    "            x = \"Real\", \n",
    "            y = \"Predicted\", \n",
    "            ax = axes[0,0], \n",
    "            color = \"purple\",\n",
    "            line_kws = {\"color\": \"red\", \"alpha\": 0.7 })\n",
    "\n",
    "\n",
    "sns.regplot(data = df_resultado[df_resultado['Set'] == \"Test\"], \n",
    "            x = \"Real\",\n",
    "            y = \"Predicted\", \n",
    "            color = \"purple\",\n",
    "            line_kws = {\"color\": \"red\", \"alpha\": 0.7 }, \n",
    "            ax = axes[1,0])\n",
    "\n",
    "\n",
    "# Representamos los residuos de los valores de entrenamiento\n",
    "sns.histplot(df_resultado[df_resultado['Set'] == \"Train\"],\n",
    "             x=\"Remainder\",\n",
    "             color =\"purple\",\n",
    "             kde=True, \n",
    "             ax = axes[0,1])\n",
    "\n",
    "#Representamos los residuos de los valores de test\n",
    "sns.histplot(df_resultado[df_resultado['Set'] == \"Test\"],\n",
    "             x=\"Remainder\",\n",
    "             color = \"purple\",\n",
    "             kde=True, \n",
    "             ax = axes[1,1])\n",
    "\n",
    "axes[0,0].set_title(\"Train reales vs predichos\", fontsize = 15, fontweight = \"bold\")\n",
    "axes[0,1].set_title(\"Train residuos\", fontsize = 15, fontweight = \"bold\")\n",
    "axes[1,0].set_title(\"Test reales vs predichos\", fontsize = 15, fontweight = \"bold\")\n",
    "axes[1,1].set_title(\"Test residuos\", fontsize = 15, fontweight = \"bold\");"
   ]
  },
  {
   "attachments": {},
   "cell_type": "markdown",
   "metadata": {},
   "source": [
    "`En las gráficas 'regplot' podemos ver que los puntos están distribuidos de forma similar en los datos observados y los datos predichos. Además, la distribución de frecuencias de los residuos sigue una forma también similar, siendo en su mayoría cercana a 0.`"
   ]
  },
  {
   "cell_type": "code",
   "execution_count": 23,
   "metadata": {},
   "outputs": [
    {
     "data": {
      "text/html": [
       "<div>\n",
       "<style scoped>\n",
       "    .dataframe tbody tr th:only-of-type {\n",
       "        vertical-align: middle;\n",
       "    }\n",
       "\n",
       "    .dataframe tbody tr th {\n",
       "        vertical-align: top;\n",
       "    }\n",
       "\n",
       "    .dataframe thead th {\n",
       "        text-align: right;\n",
       "    }\n",
       "</style>\n",
       "<table border=\"1\" class=\"dataframe\">\n",
       "  <thead>\n",
       "    <tr style=\"text-align: right;\">\n",
       "      <th></th>\n",
       "      <th>fit_time</th>\n",
       "      <th>score_time</th>\n",
       "      <th>test_r2</th>\n",
       "      <th>test_neg_mean_absolute_error</th>\n",
       "      <th>test_neg_mean_squared_error</th>\n",
       "      <th>test_neg_root_mean_squared_error</th>\n",
       "    </tr>\n",
       "  </thead>\n",
       "  <tbody>\n",
       "    <tr>\n",
       "      <th>0</th>\n",
       "      <td>0.005025</td>\n",
       "      <td>0.003710</td>\n",
       "      <td>0.916162</td>\n",
       "      <td>-1.008578</td>\n",
       "      <td>-2.592372</td>\n",
       "      <td>-1.610084</td>\n",
       "    </tr>\n",
       "    <tr>\n",
       "      <th>1</th>\n",
       "      <td>0.004574</td>\n",
       "      <td>0.004653</td>\n",
       "      <td>0.898831</td>\n",
       "      <td>-1.062961</td>\n",
       "      <td>-3.118084</td>\n",
       "      <td>-1.765810</td>\n",
       "    </tr>\n",
       "    <tr>\n",
       "      <th>2</th>\n",
       "      <td>0.005158</td>\n",
       "      <td>0.004778</td>\n",
       "      <td>0.876358</td>\n",
       "      <td>-1.113929</td>\n",
       "      <td>-3.596107</td>\n",
       "      <td>-1.896341</td>\n",
       "    </tr>\n",
       "    <tr>\n",
       "      <th>3</th>\n",
       "      <td>0.012214</td>\n",
       "      <td>0.003682</td>\n",
       "      <td>0.914071</td>\n",
       "      <td>-1.025843</td>\n",
       "      <td>-2.557180</td>\n",
       "      <td>-1.599119</td>\n",
       "    </tr>\n",
       "    <tr>\n",
       "      <th>4</th>\n",
       "      <td>0.005487</td>\n",
       "      <td>0.003713</td>\n",
       "      <td>0.896280</td>\n",
       "      <td>-1.044675</td>\n",
       "      <td>-3.016137</td>\n",
       "      <td>-1.736703</td>\n",
       "    </tr>\n",
       "    <tr>\n",
       "      <th>5</th>\n",
       "      <td>0.003900</td>\n",
       "      <td>0.003446</td>\n",
       "      <td>0.902814</td>\n",
       "      <td>-1.080375</td>\n",
       "      <td>-2.976299</td>\n",
       "      <td>-1.725195</td>\n",
       "    </tr>\n",
       "    <tr>\n",
       "      <th>6</th>\n",
       "      <td>0.004307</td>\n",
       "      <td>0.004756</td>\n",
       "      <td>0.886551</td>\n",
       "      <td>-1.124334</td>\n",
       "      <td>-3.442200</td>\n",
       "      <td>-1.855317</td>\n",
       "    </tr>\n",
       "    <tr>\n",
       "      <th>7</th>\n",
       "      <td>0.004127</td>\n",
       "      <td>0.004281</td>\n",
       "      <td>0.899019</td>\n",
       "      <td>-1.028288</td>\n",
       "      <td>-3.021304</td>\n",
       "      <td>-1.738190</td>\n",
       "    </tr>\n",
       "    <tr>\n",
       "      <th>8</th>\n",
       "      <td>0.009777</td>\n",
       "      <td>0.004344</td>\n",
       "      <td>0.756992</td>\n",
       "      <td>-1.994301</td>\n",
       "      <td>-8.672754</td>\n",
       "      <td>-2.944954</td>\n",
       "    </tr>\n",
       "    <tr>\n",
       "      <th>9</th>\n",
       "      <td>0.005772</td>\n",
       "      <td>0.004502</td>\n",
       "      <td>0.646469</td>\n",
       "      <td>-2.610963</td>\n",
       "      <td>-10.954349</td>\n",
       "      <td>-3.309735</td>\n",
       "    </tr>\n",
       "  </tbody>\n",
       "</table>\n",
       "</div>"
      ],
      "text/plain": [
       "   fit_time  score_time   test_r2  test_neg_mean_absolute_error  \\\n",
       "0  0.005025    0.003710  0.916162                     -1.008578   \n",
       "1  0.004574    0.004653  0.898831                     -1.062961   \n",
       "2  0.005158    0.004778  0.876358                     -1.113929   \n",
       "3  0.012214    0.003682  0.914071                     -1.025843   \n",
       "4  0.005487    0.003713  0.896280                     -1.044675   \n",
       "5  0.003900    0.003446  0.902814                     -1.080375   \n",
       "6  0.004307    0.004756  0.886551                     -1.124334   \n",
       "7  0.004127    0.004281  0.899019                     -1.028288   \n",
       "8  0.009777    0.004344  0.756992                     -1.994301   \n",
       "9  0.005772    0.004502  0.646469                     -2.610963   \n",
       "\n",
       "   test_neg_mean_squared_error  test_neg_root_mean_squared_error  \n",
       "0                    -2.592372                         -1.610084  \n",
       "1                    -3.118084                         -1.765810  \n",
       "2                    -3.596107                         -1.896341  \n",
       "3                    -2.557180                         -1.599119  \n",
       "4                    -3.016137                         -1.736703  \n",
       "5                    -2.976299                         -1.725195  \n",
       "6                    -3.442200                         -1.855317  \n",
       "7                    -3.021304                         -1.738190  \n",
       "8                    -8.672754                         -2.944954  \n",
       "9                   -10.954349                         -3.309735  "
      ]
     },
     "execution_count": 23,
     "metadata": {},
     "output_type": "execute_result"
    }
   ],
   "source": [
    "# Vamos a realizar la validación cruzada repetida con múltiples métricas para comprobar sus diferencias\n",
    "#  con el modelo anterior.\n",
    "\n",
    "cv_scores = cross_validate(estimator = LinearRegression(), X = X, y = y,\n",
    "                            scoring = ('r2', 'neg_mean_absolute_error','neg_mean_squared_error',\n",
    "                                        'neg_root_mean_squared_error'), cv= 10)\n",
    "\n",
    "# Convertimos el diccionario a dataframe para facilitar su visualización.\n",
    "cv_scores = pd.DataFrame(cv_scores)\n",
    "cv_scores"
   ]
  },
  {
   "cell_type": "code",
   "execution_count": 28,
   "metadata": {},
   "outputs": [
    {
     "name": "stdout",
     "output_type": "stream",
     "text": [
      "La media para R² es: 0.86\n",
      "---------\n",
      "La media para MAE es: 1.31\n",
      "---------\n",
      "La media para MSE es: 4.39\n",
      "---------\n",
      "La media para RMSE es: 2.02\n"
     ]
    }
   ],
   "source": [
    "print('La media para R² es:', cv_scores['test_r2'].mean().round(2))\n",
    "print('---------')\n",
    "print('La media para MAE es:', abs(cv_scores['test_neg_mean_absolute_error'].mean().round(2)))\n",
    "print('---------')\n",
    "print('La media para MSE es:', abs(cv_scores['test_neg_mean_squared_error'].mean().round(2)))\n",
    "print('---------')\n",
    "print('La media para RMSE es:', abs(cv_scores['test_neg_root_mean_squared_error'].mean().round(2)))"
   ]
  },
  {
   "attachments": {},
   "cell_type": "markdown",
   "metadata": {},
   "source": [
    "`Estas métricas nos dan información de cómo de bueno es nuestro modelo. En el siguiente pair aprenderemos a interpretar estos valores obtenidos.`"
   ]
  },
  {
   "attachments": {},
   "cell_type": "markdown",
   "metadata": {},
   "source": [
    "**Happy coding** 🤔"
   ]
  }
 ],
 "metadata": {
  "kernelspec": {
   "display_name": "Python 3",
   "language": "python",
   "name": "python3"
  },
  "language_info": {
   "codemirror_mode": {
    "name": "ipython",
    "version": 3
   },
   "file_extension": ".py",
   "mimetype": "text/x-python",
   "name": "python",
   "nbconvert_exporter": "python",
   "pygments_lexer": "ipython3",
   "version": "3.10.5 (tags/v3.10.5:f377153, Jun  6 2022, 16:14:13) [MSC v.1929 64 bit (AMD64)]"
  },
  "orig_nbformat": 4,
  "vscode": {
   "interpreter": {
    "hash": "8c8a315b11d35e0bc8e73c6f82343947dc27883c3d37ade79ad89feb1fc5ee64"
   }
  }
 },
 "nbformat": 4,
 "nbformat_minor": 2
}
