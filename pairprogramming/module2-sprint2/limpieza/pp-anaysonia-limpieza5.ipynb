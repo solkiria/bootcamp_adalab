{
 "cells": [
  {
   "attachments": {},
   "cell_type": "markdown",
   "metadata": {},
   "source": [
    "# Ejercicios Pair Programming - Modulo 2 - Sprint 2 \n",
    "## Lección 5 - Limpieza V: Valores Nulos Sklearn\n",
    "### Ana Gonzalez y Sonia Ruiz"
   ]
  },
  {
   "attachments": {},
   "cell_type": "markdown",
   "metadata": {},
   "source": [
    "En este caso trabajaremos con el dataframe que limpiamos en el ejercicio de pair de Limpieza III donde limpiabamos las columnas de species, age, etc. y eliminabamos los outliers. Hoy volveremos a gestionar valores nulos, pero en este caso usaremos los métodos de imputación de sklearn."
   ]
  },
  {
   "attachments": {},
   "cell_type": "markdown",
   "metadata": {},
   "source": [
    "**Antes de seguir, recordamos las preguntas que nos planteamos al principio del pair programming de EDA para dirigir nuestro análisis.**\n",
    "\n",
    "- ¿Es Australia es el sitio más peligroso y letal para estar relajada en la playa?\n",
    "- ¿Cuál es el rango de edad que sufre la mayoría de los ataques?\n",
    "- Independientemente de la edad, sufren los hombres más ataques que las mujeres?\n",
    "- ¿En qué mes ocurren más ataques?\n",
    "- ¿Cuál es la relación entre la especie y el tipo de ataque (si es fatal o no)?\n",
    "- ¿Cómo han evolucionado los ataques a lo largo del tiempo?\n",
    "De todo esto, nos damos cuenta que solo tenemos que limpiar algunas de las columnas, en concreto age, species, country, fatal, year, sex. Si reducimos esto a una tabla para saber que tenemos ya limpito y que no."
   ]
  },
  {
   "attachments": {},
   "cell_type": "markdown",
   "metadata": {},
   "source": [
    "| variable | ¿Está limpia?                                                                                 |\n",
    "|----------|-----------------------------------------------------------------------------------------------|\n",
    "| age      | ✔️ esta en formato string cuando debería ser integer y en algunos casos tenemos rangos de edad |\n",
    "| species  | ✔️ es un jaleo! Debemos unificar los nombres y reducir a las especies más importantes          |\n",
    "| country  | ✔️ los paises están en mayúsculas, algunos se repiten con algunos cambios                      |\n",
    "| fatal    | ✔️ la limpiamos en el pair de Pandas V                                                         |\n",
    "| year     | ✔️ es una columna de tipo float deberíamos convertirla a integer                               |\n",
    "| sex      | ✔️ la limpiamos en el pair de Pandas V                                                         |\n",
    "| fecha    | ✔️ la limpiamos en el pair de Pandas V                                                         |"
   ]
  },
  {
   "attachments": {},
   "cell_type": "markdown",
   "metadata": {},
   "source": [
    "Es el momento de ponernos a trabajar con los valores nulos de nuevo 💪🏽. A lo largo de este ejercicio de pair programming vamos a intentar eliminar los valores nulos de nuestras columnas. En la lección hemos aprendido varios métodos de skelarn intentemos aplicarlos todos. Manos a la obra!\n",
    "1. Es el momento de eliminar los nulos:\n",
    "- Reemplazad los valores nulos de la columna age por la media de la edad usando el método SimpleImputer.\n"
   ]
  },
  {
   "cell_type": "code",
   "execution_count": 46,
   "metadata": {},
   "outputs": [],
   "source": [
    "#Importamos las librerias necesarias para trabajar en este archivo de jupyter.\n",
    "import pandas as pd\n",
    "import numpy as np\n",
    "\n",
    "from sklearn.impute import SimpleImputer# Para poder hacer la imputación simple\n",
    "from sklearn.experimental import enable_iterative_imputer\n",
    "from sklearn.impute import IterativeImputer\n",
    "from sklearn.impute import KNNImputer"
   ]
  },
  {
   "cell_type": "code",
   "execution_count": 47,
   "metadata": {},
   "outputs": [
    {
     "data": {
      "text/html": [
       "<div>\n",
       "<style scoped>\n",
       "    .dataframe tbody tr th:only-of-type {\n",
       "        vertical-align: middle;\n",
       "    }\n",
       "\n",
       "    .dataframe tbody tr th {\n",
       "        vertical-align: top;\n",
       "    }\n",
       "\n",
       "    .dataframe thead th {\n",
       "        text-align: right;\n",
       "    }\n",
       "</style>\n",
       "<table border=\"1\" class=\"dataframe\">\n",
       "  <thead>\n",
       "    <tr style=\"text-align: right;\">\n",
       "      <th></th>\n",
       "      <th>year</th>\n",
       "      <th>country</th>\n",
       "      <th>age</th>\n",
       "      <th>species_</th>\n",
       "      <th>month</th>\n",
       "      <th>dead</th>\n",
       "      <th>gender</th>\n",
       "      <th>specie</th>\n",
       "      <th>edad</th>\n",
       "    </tr>\n",
       "  </thead>\n",
       "  <tbody>\n",
       "    <tr>\n",
       "      <th>0</th>\n",
       "      <td>2018</td>\n",
       "      <td>usa</td>\n",
       "      <td>57</td>\n",
       "      <td>White shark</td>\n",
       "      <td>Jun</td>\n",
       "      <td>N</td>\n",
       "      <td>F</td>\n",
       "      <td>white</td>\n",
       "      <td>57.0</td>\n",
       "    </tr>\n",
       "    <tr>\n",
       "      <th>1</th>\n",
       "      <td>2018</td>\n",
       "      <td>brazil</td>\n",
       "      <td>18</td>\n",
       "      <td>Tiger shark</td>\n",
       "      <td>Jun</td>\n",
       "      <td>Y</td>\n",
       "      <td>M</td>\n",
       "      <td>tiger</td>\n",
       "      <td>18.0</td>\n",
       "    </tr>\n",
       "    <tr>\n",
       "      <th>2</th>\n",
       "      <td>2018</td>\n",
       "      <td>usa</td>\n",
       "      <td>15</td>\n",
       "      <td>Bull shark, 6'</td>\n",
       "      <td>May</td>\n",
       "      <td>N</td>\n",
       "      <td>M</td>\n",
       "      <td>bull</td>\n",
       "      <td>15.0</td>\n",
       "    </tr>\n",
       "  </tbody>\n",
       "</table>\n",
       "</div>"
      ],
      "text/plain": [
       "   year country age        species_ month dead gender specie  edad\n",
       "0  2018     usa  57     White shark   Jun    N      F  white  57.0\n",
       "1  2018  brazil  18     Tiger shark   Jun    Y      M  tiger  18.0\n",
       "2  2018     usa  15  Bull shark, 6'   May    N      M   bull  15.0"
      ]
     },
     "execution_count": 47,
     "metadata": {},
     "output_type": "execute_result"
    }
   ],
   "source": [
    "#Creamos el dataframe con los datos del archivo que nos interesa.\n",
    "df=pd.read_csv('files/attacks_limp3.csv',index_col=0)\n",
    "df.head(3)"
   ]
  },
  {
   "cell_type": "code",
   "execution_count": 48,
   "metadata": {},
   "outputs": [],
   "source": [
    "#Elegimos la estrategia de imputacion de nulos SimpleImputer y la aplicamos.\n",
    "imputer=SimpleImputer(strategy='mean',missing_values=np.nan)"
   ]
  },
  {
   "cell_type": "code",
   "execution_count": 49,
   "metadata": {},
   "outputs": [],
   "source": [
    "imputer=imputer.fit(df[['edad']])"
   ]
  },
  {
   "cell_type": "code",
   "execution_count": 50,
   "metadata": {},
   "outputs": [],
   "source": [
    "df['edad_media']=imputer.transform(df[['edad']])"
   ]
  },
  {
   "cell_type": "code",
   "execution_count": 51,
   "metadata": {},
   "outputs": [
    {
     "data": {
      "text/plain": [
       "179"
      ]
     },
     "execution_count": 51,
     "metadata": {},
     "output_type": "execute_result"
    }
   ],
   "source": [
    "#Comprobamos los nulos que teniamos antes de la imputacion.\n",
    "df['edad'].isnull().sum()"
   ]
  },
  {
   "cell_type": "code",
   "execution_count": 52,
   "metadata": {},
   "outputs": [
    {
     "data": {
      "text/plain": [
       "0"
      ]
     },
     "execution_count": 52,
     "metadata": {},
     "output_type": "execute_result"
    }
   ],
   "source": [
    "#Comprobamos los nulos que teniamos despues de la imputacion.\n",
    "df['edad_media'].isnull().sum()"
   ]
  },
  {
   "attachments": {},
   "cell_type": "markdown",
   "metadata": {},
   "source": [
    "- Reemplazad los valores nulos de la columna sex por la moda, usando el método SimpleImputer.\n",
    "💡 **Pista** 💡 La moda en este tipo de aproximación se indica como most_frequent."
   ]
  },
  {
   "cell_type": "code",
   "execution_count": 53,
   "metadata": {},
   "outputs": [],
   "source": [
    "#Elegimos la estrategia de imputacion de nulos SimpleImputer y la aplicamos.\n",
    "imputer2=SimpleImputer(strategy='most_frequent',missing_values=np.nan)"
   ]
  },
  {
   "cell_type": "code",
   "execution_count": 54,
   "metadata": {},
   "outputs": [],
   "source": [
    "imputer2=imputer2.fit(df[['gender']])"
   ]
  },
  {
   "cell_type": "code",
   "execution_count": 55,
   "metadata": {},
   "outputs": [],
   "source": [
    "df['gender_moda']=imputer2.transform(df[['gender']])"
   ]
  },
  {
   "cell_type": "code",
   "execution_count": 56,
   "metadata": {},
   "outputs": [
    {
     "data": {
      "text/plain": [
       "15"
      ]
     },
     "execution_count": 56,
     "metadata": {},
     "output_type": "execute_result"
    }
   ],
   "source": [
    "#Comprobamos los nulos que teniamos antes de la imputacion.\n",
    "df['gender'].isnull().sum()"
   ]
  },
  {
   "cell_type": "code",
   "execution_count": 57,
   "metadata": {},
   "outputs": [
    {
     "data": {
      "text/plain": [
       "0"
      ]
     },
     "execution_count": 57,
     "metadata": {},
     "output_type": "execute_result"
    }
   ],
   "source": [
    "#Comprobamos los nulos que teniamos despues de la imputacion.\n",
    "df['gender_moda'].isnull().sum()"
   ]
  },
  {
   "attachments": {},
   "cell_type": "markdown",
   "metadata": {},
   "source": [
    "- Reemplazad los valores nulos de la columna type por el valor más frecuente (la moda) con el método SimpleImputer."
   ]
  },
  {
   "cell_type": "code",
   "execution_count": 58,
   "metadata": {},
   "outputs": [],
   "source": [
    "#Elegimos la estrategia de imputacion de nulos SimpleImputer y la aplicamos.\n",
    "imputer3=SimpleImputer(strategy='most_frequent',missing_values=np.nan)\n",
    "imputer3=imputer3.fit(df[['age']])\n",
    "df['age_moda']=imputer3.transform(df[['age']])"
   ]
  },
  {
   "cell_type": "code",
   "execution_count": 59,
   "metadata": {},
   "outputs": [
    {
     "data": {
      "text/plain": [
       "130"
      ]
     },
     "execution_count": 59,
     "metadata": {},
     "output_type": "execute_result"
    }
   ],
   "source": [
    "#Comprobamos los nulos que teniamos antes de la imputacion.\n",
    "df['age'].isnull().sum()"
   ]
  },
  {
   "cell_type": "code",
   "execution_count": 60,
   "metadata": {},
   "outputs": [
    {
     "data": {
      "text/plain": [
       "0"
      ]
     },
     "execution_count": 60,
     "metadata": {},
     "output_type": "execute_result"
    }
   ],
   "source": [
    "#Comprobamos los nulos que teniamos despues de la imputacion.\n",
    "df['age_moda'].isnull().sum()"
   ]
  },
  {
   "attachments": {},
   "cell_type": "markdown",
   "metadata": {},
   "source": [
    "- Utilizad el método KNN Imputer para reemplazar todos los valores nulos de las columnas numéricas."
   ]
  },
  {
   "cell_type": "code",
   "execution_count": 61,
   "metadata": {},
   "outputs": [
    {
     "data": {
      "text/html": [
       "<div>\n",
       "<style scoped>\n",
       "    .dataframe tbody tr th:only-of-type {\n",
       "        vertical-align: middle;\n",
       "    }\n",
       "\n",
       "    .dataframe tbody tr th {\n",
       "        vertical-align: top;\n",
       "    }\n",
       "\n",
       "    .dataframe thead th {\n",
       "        text-align: right;\n",
       "    }\n",
       "</style>\n",
       "<table border=\"1\" class=\"dataframe\">\n",
       "  <thead>\n",
       "    <tr style=\"text-align: right;\">\n",
       "      <th></th>\n",
       "      <th>year</th>\n",
       "      <th>country</th>\n",
       "      <th>age</th>\n",
       "      <th>species_</th>\n",
       "      <th>month</th>\n",
       "      <th>dead</th>\n",
       "      <th>gender</th>\n",
       "      <th>specie</th>\n",
       "      <th>edad</th>\n",
       "      <th>edad_media</th>\n",
       "      <th>gender_moda</th>\n",
       "      <th>age_moda</th>\n",
       "    </tr>\n",
       "  </thead>\n",
       "  <tbody>\n",
       "    <tr>\n",
       "      <th>0</th>\n",
       "      <td>2018</td>\n",
       "      <td>usa</td>\n",
       "      <td>57</td>\n",
       "      <td>White shark</td>\n",
       "      <td>Jun</td>\n",
       "      <td>N</td>\n",
       "      <td>F</td>\n",
       "      <td>white</td>\n",
       "      <td>57.0</td>\n",
       "      <td>57.0</td>\n",
       "      <td>F</td>\n",
       "      <td>57</td>\n",
       "    </tr>\n",
       "    <tr>\n",
       "      <th>1</th>\n",
       "      <td>2018</td>\n",
       "      <td>brazil</td>\n",
       "      <td>18</td>\n",
       "      <td>Tiger shark</td>\n",
       "      <td>Jun</td>\n",
       "      <td>Y</td>\n",
       "      <td>M</td>\n",
       "      <td>tiger</td>\n",
       "      <td>18.0</td>\n",
       "      <td>18.0</td>\n",
       "      <td>M</td>\n",
       "      <td>18</td>\n",
       "    </tr>\n",
       "    <tr>\n",
       "      <th>2</th>\n",
       "      <td>2018</td>\n",
       "      <td>usa</td>\n",
       "      <td>15</td>\n",
       "      <td>Bull shark, 6'</td>\n",
       "      <td>May</td>\n",
       "      <td>N</td>\n",
       "      <td>M</td>\n",
       "      <td>bull</td>\n",
       "      <td>15.0</td>\n",
       "      <td>15.0</td>\n",
       "      <td>M</td>\n",
       "      <td>15</td>\n",
       "    </tr>\n",
       "  </tbody>\n",
       "</table>\n",
       "</div>"
      ],
      "text/plain": [
       "   year country age        species_ month dead gender specie  edad  \\\n",
       "0  2018     usa  57     White shark   Jun    N      F  white  57.0   \n",
       "1  2018  brazil  18     Tiger shark   Jun    Y      M  tiger  18.0   \n",
       "2  2018     usa  15  Bull shark, 6'   May    N      M   bull  15.0   \n",
       "\n",
       "   edad_media gender_moda age_moda  \n",
       "0        57.0           F       57  \n",
       "1        18.0           M       18  \n",
       "2        15.0           M       15  "
      ]
     },
     "execution_count": 61,
     "metadata": {},
     "output_type": "execute_result"
    }
   ],
   "source": [
    "#Creamos una copia del dataframe original que estamos cambiando.\n",
    "df2=df.copy()\n",
    "df2.head(3)"
   ]
  },
  {
   "cell_type": "code",
   "execution_count": 62,
   "metadata": {},
   "outputs": [
    {
     "data": {
      "text/html": [
       "<div>\n",
       "<style scoped>\n",
       "    .dataframe tbody tr th:only-of-type {\n",
       "        vertical-align: middle;\n",
       "    }\n",
       "\n",
       "    .dataframe tbody tr th {\n",
       "        vertical-align: top;\n",
       "    }\n",
       "\n",
       "    .dataframe thead th {\n",
       "        text-align: right;\n",
       "    }\n",
       "</style>\n",
       "<table border=\"1\" class=\"dataframe\">\n",
       "  <thead>\n",
       "    <tr style=\"text-align: right;\">\n",
       "      <th></th>\n",
       "      <th>year</th>\n",
       "      <th>edad</th>\n",
       "      <th>edad_media</th>\n",
       "    </tr>\n",
       "  </thead>\n",
       "  <tbody>\n",
       "    <tr>\n",
       "      <th>0</th>\n",
       "      <td>2018</td>\n",
       "      <td>57.0</td>\n",
       "      <td>57.0</td>\n",
       "    </tr>\n",
       "    <tr>\n",
       "      <th>1</th>\n",
       "      <td>2018</td>\n",
       "      <td>18.0</td>\n",
       "      <td>18.0</td>\n",
       "    </tr>\n",
       "    <tr>\n",
       "      <th>2</th>\n",
       "      <td>2018</td>\n",
       "      <td>15.0</td>\n",
       "      <td>15.0</td>\n",
       "    </tr>\n",
       "  </tbody>\n",
       "</table>\n",
       "</div>"
      ],
      "text/plain": [
       "   year  edad  edad_media\n",
       "0  2018  57.0        57.0\n",
       "1  2018  18.0        18.0\n",
       "2  2018  15.0        15.0"
      ]
     },
     "execution_count": 62,
     "metadata": {},
     "output_type": "execute_result"
    }
   ],
   "source": [
    "#Creamos un dataframe solo con las variables numericas.\n",
    "df_numericas=df.select_dtypes(include=np.number)\n",
    "df_numericas.head(3)"
   ]
  },
  {
   "cell_type": "code",
   "execution_count": 63,
   "metadata": {},
   "outputs": [
    {
     "data": {
      "text/plain": [
       "year            0\n",
       "edad          179\n",
       "edad_media      0\n",
       "dtype: int64"
      ]
     },
     "execution_count": 63,
     "metadata": {},
     "output_type": "execute_result"
    }
   ],
   "source": [
    "df_numericas.isnull().sum()"
   ]
  },
  {
   "cell_type": "code",
   "execution_count": 64,
   "metadata": {},
   "outputs": [
    {
     "data": {
      "text/plain": [
       "KNNImputer(n_neighbors=6)"
      ]
     },
     "execution_count": 64,
     "metadata": {},
     "output_type": "execute_result"
    }
   ],
   "source": [
    "#Iniciamos el KNNImputer\n",
    "imputerknn=KNNImputer(n_neighbors=6)\n",
    "imputerknn.fit(df_numericas)\n"
   ]
  },
  {
   "cell_type": "code",
   "execution_count": 65,
   "metadata": {},
   "outputs": [],
   "source": [
    "#Aplicamos el metodos a las variables numericas y pasamos el array en un dataframe.\n",
    "num_knn=imputerknn.transform(df_numericas)\n",
    "df_num_knn=pd.DataFrame(num_knn,columns=df_numericas.columns)"
   ]
  },
  {
   "cell_type": "code",
   "execution_count": 66,
   "metadata": {},
   "outputs": [
    {
     "data": {
      "text/plain": [
       "Index(['year', 'edad', 'edad_media'], dtype='object')"
      ]
     },
     "execution_count": 66,
     "metadata": {},
     "output_type": "execute_result"
    }
   ],
   "source": [
    "#Mostramos en que columnas estamos trabajando.\n",
    "df_num_knn.columns"
   ]
  },
  {
   "cell_type": "code",
   "execution_count": 67,
   "metadata": {},
   "outputs": [
    {
     "data": {
      "text/plain": [
       "country         10\n",
       "age            130\n",
       "species_       103\n",
       "month          155\n",
       "dead            99\n",
       "gender          15\n",
       "specie         103\n",
       "gender_moda      0\n",
       "age_moda         0\n",
       "year             0\n",
       "edad             0\n",
       "edad_media       0\n",
       "dtype: int64"
      ]
     },
     "execution_count": 67,
     "metadata": {},
     "output_type": "execute_result"
    }
   ],
   "source": [
    "#sacamos el nombre de las columnas del nuevo dataframe y las eliminamos del dataframe original para despues\n",
    "#  introducir las columnas con los nulos imputados.\n",
    "columns_knn=df_num_knn.columns\n",
    "df.drop(columns_knn,axis=1,inplace=True)\n",
    "#Creamos esas columnas en el dataframe con los valores imputados en los valores nulos\n",
    "df[columns_knn]=num_knn\n",
    "#Comprobamos que ya no hay nulos en las columnas imputadas\n",
    "df.isnull().sum()"
   ]
  },
  {
   "attachments": {},
   "cell_type": "markdown",
   "metadata": {},
   "source": [
    "- Utilizad el método Iterative Imputer para reemplazar todos los valores nulos de las columnas numéricas."
   ]
  },
  {
   "cell_type": "code",
   "execution_count": 68,
   "metadata": {},
   "outputs": [
    {
     "data": {
      "text/html": [
       "<div>\n",
       "<style scoped>\n",
       "    .dataframe tbody tr th:only-of-type {\n",
       "        vertical-align: middle;\n",
       "    }\n",
       "\n",
       "    .dataframe tbody tr th {\n",
       "        vertical-align: top;\n",
       "    }\n",
       "\n",
       "    .dataframe thead th {\n",
       "        text-align: right;\n",
       "    }\n",
       "</style>\n",
       "<table border=\"1\" class=\"dataframe\">\n",
       "  <thead>\n",
       "    <tr style=\"text-align: right;\">\n",
       "      <th></th>\n",
       "      <th>year</th>\n",
       "      <th>country</th>\n",
       "      <th>age</th>\n",
       "      <th>species_</th>\n",
       "      <th>month</th>\n",
       "      <th>dead</th>\n",
       "      <th>gender</th>\n",
       "      <th>specie</th>\n",
       "      <th>edad</th>\n",
       "      <th>edad_media</th>\n",
       "      <th>gender_moda</th>\n",
       "      <th>age_moda</th>\n",
       "    </tr>\n",
       "  </thead>\n",
       "  <tbody>\n",
       "    <tr>\n",
       "      <th>0</th>\n",
       "      <td>2018</td>\n",
       "      <td>usa</td>\n",
       "      <td>57</td>\n",
       "      <td>White shark</td>\n",
       "      <td>Jun</td>\n",
       "      <td>N</td>\n",
       "      <td>F</td>\n",
       "      <td>white</td>\n",
       "      <td>57.0</td>\n",
       "      <td>57.0</td>\n",
       "      <td>F</td>\n",
       "      <td>57</td>\n",
       "    </tr>\n",
       "    <tr>\n",
       "      <th>1</th>\n",
       "      <td>2018</td>\n",
       "      <td>brazil</td>\n",
       "      <td>18</td>\n",
       "      <td>Tiger shark</td>\n",
       "      <td>Jun</td>\n",
       "      <td>Y</td>\n",
       "      <td>M</td>\n",
       "      <td>tiger</td>\n",
       "      <td>18.0</td>\n",
       "      <td>18.0</td>\n",
       "      <td>M</td>\n",
       "      <td>18</td>\n",
       "    </tr>\n",
       "    <tr>\n",
       "      <th>2</th>\n",
       "      <td>2018</td>\n",
       "      <td>usa</td>\n",
       "      <td>15</td>\n",
       "      <td>Bull shark, 6'</td>\n",
       "      <td>May</td>\n",
       "      <td>N</td>\n",
       "      <td>M</td>\n",
       "      <td>bull</td>\n",
       "      <td>15.0</td>\n",
       "      <td>15.0</td>\n",
       "      <td>M</td>\n",
       "      <td>15</td>\n",
       "    </tr>\n",
       "  </tbody>\n",
       "</table>\n",
       "</div>"
      ],
      "text/plain": [
       "   year country age        species_ month dead gender specie  edad  \\\n",
       "0  2018     usa  57     White shark   Jun    N      F  white  57.0   \n",
       "1  2018  brazil  18     Tiger shark   Jun    Y      M  tiger  18.0   \n",
       "2  2018     usa  15  Bull shark, 6'   May    N      M   bull  15.0   \n",
       "\n",
       "   edad_media gender_moda age_moda  \n",
       "0        57.0           F       57  \n",
       "1        18.0           M       18  \n",
       "2        15.0           M       15  "
      ]
     },
     "execution_count": 68,
     "metadata": {},
     "output_type": "execute_result"
    }
   ],
   "source": [
    "#Creamos otra copia del dataframe original que estamos cambiando.\n",
    "df3=df2.copy()\n",
    "df3.head(3)"
   ]
  },
  {
   "cell_type": "code",
   "execution_count": 69,
   "metadata": {},
   "outputs": [
    {
     "data": {
      "text/plain": [
       "year            0\n",
       "edad          179\n",
       "edad_media      0\n",
       "dtype: int64"
      ]
     },
     "execution_count": 69,
     "metadata": {},
     "output_type": "execute_result"
    }
   ],
   "source": [
    "#Creamos un dataframe solo con las variables numericas a partir de la copia que hicimos el datafra orginal antes de imputar sus nulos..\n",
    "df_numericas2=df3.select_dtypes(include=np.number)\n",
    "#Vemos los valores nulos que tenemos en las variables de nuestro dataframe de variables numericas.\n",
    "df_numericas2.isnull().sum()"
   ]
  },
  {
   "cell_type": "code",
   "execution_count": 70,
   "metadata": {},
   "outputs": [
    {
     "data": {
      "text/plain": [
       "year          0\n",
       "edad          0\n",
       "edad_media    0\n",
       "dtype: int64"
      ]
     },
     "execution_count": 70,
     "metadata": {},
     "output_type": "execute_result"
    }
   ],
   "source": [
    "#Iniciamos el metodo Iterative Imputer diciendo que mire todas las caracteristicas (n_nearest_features=None),\n",
    "#  que vaya tomando de las columnas con menos valores nulos a las que mas valores nulos tengan\n",
    "#  (imputation_order='ascending') y que utilice el estadistico 'mediana' para reemplazar los nulos.\n",
    "it_imputer=IterativeImputer(initial_strategy='median',missing_values= np.nan,n_nearest_features=None, imputation_order='ascending')\n",
    "#Lo empleamos en las variables numericas\n",
    "it_imputer.fit(df_numericas2)\n",
    "#Reemplazamos los nulos y lo hacemos dataframe\n",
    "df_numeric_transformed=pd.DataFrame(it_imputer.transform(df_numericas2),columns=df_numericas2.columns)\n",
    "#Comprobamos que no tenemos valores nulos.\n",
    "df_numeric_transformed.isnull().sum()"
   ]
  },
  {
   "cell_type": "code",
   "execution_count": 71,
   "metadata": {},
   "outputs": [
    {
     "data": {
      "text/plain": [
       "Index(['year', 'edad', 'edad_media'], dtype='object')"
      ]
     },
     "execution_count": 71,
     "metadata": {},
     "output_type": "execute_result"
    }
   ],
   "source": [
    "#Con el nombre de las columnas que hemos imputado las eliminamos de nuestro dataframe copiado que aun\n",
    "#  no habiamos imputado sus nulos en las variables numericas.\n",
    "columns_it=df_numeric_transformed.columns\n",
    "columns_it"
   ]
  },
  {
   "cell_type": "code",
   "execution_count": 72,
   "metadata": {},
   "outputs": [
    {
     "name": "stdout",
     "output_type": "stream",
     "text": [
      "El dataframe \"df_numeric_transformed\" tiene 1646 filas y 3 columnas.\n"
     ]
    }
   ],
   "source": [
    "#Comprobamos el numeros de filas y columnas.\n",
    "print(f'El dataframe \"df_numeric_transformed\" tiene {df_numeric_transformed.shape[0]} filas y {df_numeric_transformed.shape[1]} columnas.')"
   ]
  },
  {
   "cell_type": "code",
   "execution_count": 73,
   "metadata": {},
   "outputs": [
    {
     "name": "stdout",
     "output_type": "stream",
     "text": [
      "El dataframe \"df2\" tiene 1646 filas y 12 columnas.\n"
     ]
    }
   ],
   "source": [
    "print(f'El dataframe \"df2\" tiene {df2.shape[0]} filas y {df2.shape[1]} columnas.')"
   ]
  },
  {
   "cell_type": "code",
   "execution_count": 74,
   "metadata": {},
   "outputs": [
    {
     "data": {
      "text/plain": [
       "Index(['country', 'age', 'species_', 'month', 'dead', 'gender', 'specie',\n",
       "       'gender_moda', 'age_moda'],\n",
       "      dtype='object')"
      ]
     },
     "execution_count": 74,
     "metadata": {},
     "output_type": "execute_result"
    }
   ],
   "source": [
    "#Eliminamos esas columnas del dataframe.\n",
    "df2.drop(columns_it,axis=1,inplace=True)\n",
    "#Comprobamos con las columnas que nos quedamos.\n",
    "df2.columns"
   ]
  },
  {
   "cell_type": "code",
   "execution_count": 75,
   "metadata": {},
   "outputs": [
    {
     "name": "stdout",
     "output_type": "stream",
     "text": [
      "El dataframe \"df2\" tiene 1646 filas y 9 columnas.\n"
     ]
    }
   ],
   "source": [
    "#VEmos que efectivametne ahora tenemos 3 columnas menos.\n",
    "print(f'El dataframe \"df2\" tiene {df2.shape[0]} filas y {df2.shape[1]} columnas.')"
   ]
  },
  {
   "cell_type": "code",
   "execution_count": 76,
   "metadata": {},
   "outputs": [
    {
     "data": {
      "text/html": [
       "<div>\n",
       "<style scoped>\n",
       "    .dataframe tbody tr th:only-of-type {\n",
       "        vertical-align: middle;\n",
       "    }\n",
       "\n",
       "    .dataframe tbody tr th {\n",
       "        vertical-align: top;\n",
       "    }\n",
       "\n",
       "    .dataframe thead th {\n",
       "        text-align: right;\n",
       "    }\n",
       "</style>\n",
       "<table border=\"1\" class=\"dataframe\">\n",
       "  <thead>\n",
       "    <tr style=\"text-align: right;\">\n",
       "      <th></th>\n",
       "      <th>index</th>\n",
       "      <th>country</th>\n",
       "      <th>age</th>\n",
       "      <th>species_</th>\n",
       "      <th>month</th>\n",
       "      <th>dead</th>\n",
       "      <th>gender</th>\n",
       "      <th>specie</th>\n",
       "      <th>gender_moda</th>\n",
       "      <th>age_moda</th>\n",
       "    </tr>\n",
       "  </thead>\n",
       "  <tbody>\n",
       "    <tr>\n",
       "      <th>0</th>\n",
       "      <td>0</td>\n",
       "      <td>usa</td>\n",
       "      <td>57</td>\n",
       "      <td>White shark</td>\n",
       "      <td>Jun</td>\n",
       "      <td>N</td>\n",
       "      <td>F</td>\n",
       "      <td>white</td>\n",
       "      <td>F</td>\n",
       "      <td>57</td>\n",
       "    </tr>\n",
       "  </tbody>\n",
       "</table>\n",
       "</div>"
      ],
      "text/plain": [
       "   index country age     species_ month dead gender specie gender_moda  \\\n",
       "0      0     usa  57  White shark   Jun    N      F  white           F   \n",
       "\n",
       "  age_moda  \n",
       "0       57  "
      ]
     },
     "execution_count": 76,
     "metadata": {},
     "output_type": "execute_result"
    }
   ],
   "source": [
    "#Hacemos un reset_index para que no nos de problema al poner de nuevo las columnas con los valores nulos imputados por los nuevos.\n",
    "df2.reset_index(inplace=True)\n",
    "df2.head(1)"
   ]
  },
  {
   "cell_type": "code",
   "execution_count": 77,
   "metadata": {},
   "outputs": [
    {
     "data": {
      "text/html": [
       "<div>\n",
       "<style scoped>\n",
       "    .dataframe tbody tr th:only-of-type {\n",
       "        vertical-align: middle;\n",
       "    }\n",
       "\n",
       "    .dataframe tbody tr th {\n",
       "        vertical-align: top;\n",
       "    }\n",
       "\n",
       "    .dataframe thead th {\n",
       "        text-align: right;\n",
       "    }\n",
       "</style>\n",
       "<table border=\"1\" class=\"dataframe\">\n",
       "  <thead>\n",
       "    <tr style=\"text-align: right;\">\n",
       "      <th></th>\n",
       "      <th>index</th>\n",
       "      <th>year</th>\n",
       "      <th>edad</th>\n",
       "      <th>edad_media</th>\n",
       "    </tr>\n",
       "  </thead>\n",
       "  <tbody>\n",
       "    <tr>\n",
       "      <th>0</th>\n",
       "      <td>0</td>\n",
       "      <td>2018.0</td>\n",
       "      <td>57.0</td>\n",
       "      <td>57.0</td>\n",
       "    </tr>\n",
       "  </tbody>\n",
       "</table>\n",
       "</div>"
      ],
      "text/plain": [
       "   index    year  edad  edad_media\n",
       "0      0  2018.0  57.0        57.0"
      ]
     },
     "execution_count": 77,
     "metadata": {},
     "output_type": "execute_result"
    }
   ],
   "source": [
    "#Hacemos un reset_index para que no nos de problema al poner de nuevo las columnas con los valores nulos imputados por los nuevos.\n",
    "df_numeric_transformed.reset_index(inplace=True)\n",
    "df_numeric_transformed.head(1)"
   ]
  },
  {
   "cell_type": "code",
   "execution_count": 80,
   "metadata": {},
   "outputs": [
    {
     "name": "stdout",
     "output_type": "stream",
     "text": [
      "El dataframe \"df2\" tiene 1646 filas y 13 columnas.\n"
     ]
    }
   ],
   "source": [
    "#Creamos las nuevas columnas con los nulos ya sustituidos, tenemos una columna más, porque hemos reseteado el 'index', \n",
    "# para evitar la formación de nulos en la unión.\n",
    "df2[columns_it]=df_numeric_transformed[columns_it]\n",
    "print(f'El dataframe \"df2\" tiene {df2.shape[0]} filas y {df2.shape[1]} columnas.')"
   ]
  },
  {
   "cell_type": "code",
   "execution_count": 81,
   "metadata": {},
   "outputs": [
    {
     "data": {
      "text/plain": [
       "index            0\n",
       "country         10\n",
       "age            130\n",
       "species_       103\n",
       "month          155\n",
       "dead            99\n",
       "gender          15\n",
       "specie         103\n",
       "gender_moda      0\n",
       "age_moda         0\n",
       "year             0\n",
       "edad             0\n",
       "edad_media       0\n",
       "dtype: int64"
      ]
     },
     "execution_count": 81,
     "metadata": {},
     "output_type": "execute_result"
    }
   ],
   "source": [
    "#Comprobamos que no haya valores nulos en esas nuevas columnas.Comprobamos si hay nulos en las columnas imputadas.\n",
    "df2.isnull().sum()"
   ]
  },
  {
   "cell_type": "code",
   "execution_count": 82,
   "metadata": {},
   "outputs": [],
   "source": [
    "#Establecemos de nuevo la columna 'index' como sus indices.\n",
    "df2.set_index('index',inplace=True)"
   ]
  },
  {
   "cell_type": "code",
   "execution_count": 83,
   "metadata": {},
   "outputs": [
    {
     "name": "stdout",
     "output_type": "stream",
     "text": [
      "El dataframe \"df2\" tiene 1646 filas y 12 columnas.\n"
     ]
    }
   ],
   "source": [
    "#VEmos que efectivametne ahora tenemos  df2 como al inicio, con los nulos imputados.\n",
    "print(f'El dataframe \"df2\" tiene {df2.shape[0]} filas y {df2.shape[1]} columnas.')"
   ]
  },
  {
   "attachments": {},
   "cell_type": "markdown",
   "metadata": {},
   "source": [
    "- ¿Podríais explicar qué diferencia hay entre estos dos últimos métodos?"
   ]
  },
  {
   "attachments": {},
   "cell_type": "markdown",
   "metadata": {},
   "source": [
    "` KNN toma en cuenta los valores vecinos, mientras que IterativeImputer mira las variables. Además IterativeImputer es más eficiente al reemplazar porque requiere menos memoria del ordenador. `"
   ]
  },
  {
   "attachments": {},
   "cell_type": "markdown",
   "metadata": {},
   "source": [
    "2. Guardad el csv para seguir trabajando con el en los siguientes ejercicios de pair"
   ]
  },
  {
   "cell_type": "code",
   "execution_count": null,
   "metadata": {},
   "outputs": [],
   "source": [
    "df2.to_csv('files/attacks_limp5.csv')"
   ]
  },
  {
   "attachments": {},
   "cell_type": "markdown",
   "metadata": {},
   "source": [
    "**Happy coding** 🦈"
   ]
  }
 ],
 "metadata": {
  "kernelspec": {
   "display_name": "Python 3",
   "language": "python",
   "name": "python3"
  },
  "language_info": {
   "codemirror_mode": {
    "name": "ipython",
    "version": 3
   },
   "file_extension": ".py",
   "mimetype": "text/x-python",
   "name": "python",
   "nbconvert_exporter": "python",
   "pygments_lexer": "ipython3",
   "version": "3.9.7"
  },
  "orig_nbformat": 4,
  "vscode": {
   "interpreter": {
    "hash": "235f9155b0abc8f1580e75acf7c6712d847a3598ded282a80a21bb1bc6aba73f"
   }
  }
 },
 "nbformat": 4,
 "nbformat_minor": 2
}
