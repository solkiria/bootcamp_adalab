{
 "cells": [
  {
   "attachments": {},
   "cell_type": "markdown",
   "metadata": {},
   "source": [
    "# Ejercicios Pair Programming - Modulo 2 - Sprint 2 \n",
    "## Lección 1 - Limpieza III: Valores extremos\n",
    "### Ana Gonzalez y Sonia Ruiz"
   ]
  },
  {
   "attachments": {},
   "cell_type": "markdown",
   "metadata": {},
   "source": [
    "**Antes de seguir, recordamos las preguntas que nos planteamos al principio del pair programming de EDA para dirigir nuestro análisis.**\n",
    "- ¿Es Australia es el sitio más peligroso y letal para estar relajada en la playa?\n",
    "- ¿Cuál es el rango de edad que sufre la mayoría de los ataques?\n",
    "- Independientemente de la edad, sufren los hombres más ataques que las mujeres?\n",
    "- ¿En qué mes ocurren más ataques?\n",
    "- ¿Cuál es la relación entre la especie y el tipo de ataque (si es fatal o no)?\n",
    "- ¿Cómo han evolucionado los ataques a lo largo del tiempo?\n",
    "De todo esto, nos damos cuenta que solo tenemos que limpiar algunas de las columnas, en concreto age, species, country, fatal, year, sex. Si reducimos esto a una tabla para saber que tenemos ya limpito y que no. **Actualizamos esta tabla ya que en el ejercicio de pair de Limpieza I ya dejamos algunas columnas limpitas:"
   ]
  },
  {
   "attachments": {},
   "cell_type": "markdown",
   "metadata": {},
   "source": [
    "|variable|¿Está limpia?|\n",
    "|---|---|\n",
    "|age|✔️ esta en formato string cuando debería ser integer y en algunos casos tenemos rangos de edad   |\n",
    "|species   |✔️ es un jaleo! Debemos unificar los nombres y reducir a las especies más importantes   |\n",
    "|country   |✔️ los paises están en mayúsculas, algunos se repiten con algunos cambios   |\n",
    "|fatal   |✔️ la limpiamos en el pair de Pandas V    |\n",
    "|year   |✔️ es una columna de tipo float deberíamos convertirla a integer   |\n",
    "|sex   |✔️ la limpiamos en el pair de Pandas V  |\n",
    "|fecha   |✔️ la limpiamos en el pair de Pandas V   |"
   ]
  },
  {
   "attachments": {},
   "cell_type": "markdown",
   "metadata": {},
   "source": [
    "Ya hemos limpiado todas las columnas que parecía que no tenían el tipo de dato que queríamos o que tenían demasiada información. Por lo tanto, en este ejercicio tendremos que limpiar los outliers.\n",
    "1. ¿Sobre qué columnas podremos eliminar o reemplazar los outliers?"
   ]
  },
  {
   "cell_type": "code",
   "execution_count": 1,
   "metadata": {},
   "outputs": [],
   "source": [
    "import pandas as pd\n",
    "import numpy as np\n",
    "import seaborn as sns\n",
    "import matplotlib.pyplot as plt"
   ]
  },
  {
   "cell_type": "code",
   "execution_count": 48,
   "metadata": {},
   "outputs": [
    {
     "data": {
      "text/html": [
       "<div>\n",
       "<style scoped>\n",
       "    .dataframe tbody tr th:only-of-type {\n",
       "        vertical-align: middle;\n",
       "    }\n",
       "\n",
       "    .dataframe tbody tr th {\n",
       "        vertical-align: top;\n",
       "    }\n",
       "\n",
       "    .dataframe thead th {\n",
       "        text-align: right;\n",
       "    }\n",
       "</style>\n",
       "<table border=\"1\" class=\"dataframe\">\n",
       "  <thead>\n",
       "    <tr style=\"text-align: right;\">\n",
       "      <th></th>\n",
       "      <th>year</th>\n",
       "      <th>country</th>\n",
       "      <th>age</th>\n",
       "      <th>species_</th>\n",
       "      <th>month</th>\n",
       "      <th>dead</th>\n",
       "      <th>gender</th>\n",
       "      <th>specie</th>\n",
       "      <th>edad</th>\n",
       "    </tr>\n",
       "  </thead>\n",
       "  <tbody>\n",
       "    <tr>\n",
       "      <th>0</th>\n",
       "      <td>2018</td>\n",
       "      <td>usa</td>\n",
       "      <td>57</td>\n",
       "      <td>White shark</td>\n",
       "      <td>Jun</td>\n",
       "      <td>N</td>\n",
       "      <td>F</td>\n",
       "      <td>white</td>\n",
       "      <td>57.0</td>\n",
       "    </tr>\n",
       "    <tr>\n",
       "      <th>1</th>\n",
       "      <td>2018</td>\n",
       "      <td>brazil</td>\n",
       "      <td>18</td>\n",
       "      <td>Tiger shark</td>\n",
       "      <td>Jun</td>\n",
       "      <td>Y</td>\n",
       "      <td>M</td>\n",
       "      <td>tiger</td>\n",
       "      <td>18.0</td>\n",
       "    </tr>\n",
       "    <tr>\n",
       "      <th>2</th>\n",
       "      <td>2018</td>\n",
       "      <td>usa</td>\n",
       "      <td>15</td>\n",
       "      <td>Bull shark, 6'</td>\n",
       "      <td>May</td>\n",
       "      <td>N</td>\n",
       "      <td>M</td>\n",
       "      <td>bull</td>\n",
       "      <td>15.0</td>\n",
       "    </tr>\n",
       "    <tr>\n",
       "      <th>3</th>\n",
       "      <td>2018</td>\n",
       "      <td>australia</td>\n",
       "      <td>32</td>\n",
       "      <td>Grey reef shark</td>\n",
       "      <td>May</td>\n",
       "      <td>N</td>\n",
       "      <td>M</td>\n",
       "      <td>grey</td>\n",
       "      <td>32.0</td>\n",
       "    </tr>\n",
       "    <tr>\n",
       "      <th>4</th>\n",
       "      <td>2018</td>\n",
       "      <td>england</td>\n",
       "      <td>21</td>\n",
       "      <td>Invalid incident</td>\n",
       "      <td>May</td>\n",
       "      <td>N</td>\n",
       "      <td>M</td>\n",
       "      <td>unspecified</td>\n",
       "      <td>21.0</td>\n",
       "    </tr>\n",
       "  </tbody>\n",
       "</table>\n",
       "</div>"
      ],
      "text/plain": [
       "   year    country age          species_ month dead gender       specie  edad\n",
       "0  2018        usa  57       White shark   Jun    N      F        white  57.0\n",
       "1  2018     brazil  18       Tiger shark   Jun    Y      M        tiger  18.0\n",
       "2  2018        usa  15    Bull shark, 6'   May    N      M         bull  15.0\n",
       "3  2018  australia  32   Grey reef shark   May    N      M         grey  32.0\n",
       "4  2018    england  21  Invalid incident   May    N      M  unspecified  21.0"
      ]
     },
     "execution_count": 48,
     "metadata": {},
     "output_type": "execute_result"
    }
   ],
   "source": [
    "df=pd.read_csv('files/attacks_limp2.csv',index_col=0)\n",
    "df.head()"
   ]
  },
  {
   "cell_type": "code",
   "execution_count": 3,
   "metadata": {},
   "outputs": [
    {
     "data": {
      "text/plain": [
       "array(['Jun', 'May', 'Apr', 'Mar', 'Feb', 'Jan', 'Dec', 'Nov', 'Oct',\n",
       "       'Sep', 'Aug', 'Jul', nan], dtype=object)"
      ]
     },
     "execution_count": 3,
     "metadata": {},
     "output_type": "execute_result"
    }
   ],
   "source": [
    "df['month'].unique()"
   ]
  },
  {
   "cell_type": "code",
   "execution_count": 20,
   "metadata": {},
   "outputs": [
    {
     "name": "stdout",
     "output_type": "stream",
     "text": [
      "<class 'pandas.core.frame.DataFrame'>\n",
      "Int64Index: 1646 entries, 0 to 1671\n",
      "Data columns (total 9 columns):\n",
      " #   Column    Non-Null Count  Dtype  \n",
      "---  ------    --------------  -----  \n",
      " 0   year      1646 non-null   int64  \n",
      " 1   country   1636 non-null   object \n",
      " 2   age       1516 non-null   object \n",
      " 3   species_  1543 non-null   object \n",
      " 4   month     1491 non-null   object \n",
      " 5   dead      1547 non-null   object \n",
      " 6   gender    1631 non-null   object \n",
      " 7   specie    1543 non-null   object \n",
      " 8   edad      1512 non-null   float64\n",
      "dtypes: float64(1), int64(1), object(7)\n",
      "memory usage: 128.6+ KB\n"
     ]
    }
   ],
   "source": [
    "df.info()"
   ]
  },
  {
   "attachments": {},
   "cell_type": "markdown",
   "metadata": {},
   "source": [
    "`Al observar los tipos de columnas, podemos ver que solo tenemos dos columnas numericas en las que pueden existir outliers, 'year' y 'edad'.`\n"
   ]
  },
  {
   "attachments": {},
   "cell_type": "markdown",
   "metadata": {},
   "source": [
    "2. Identifica visualmente los outliers"
   ]
  },
  {
   "cell_type": "code",
   "execution_count": 21,
   "metadata": {},
   "outputs": [
    {
     "data": {
      "image/png": "[encoded data removed]",
      "text/plain": [
       "<Figure size 720x576 with 2 Axes>"
      ]
     },
     "metadata": {
      "needs_background": "light"
     },
     "output_type": "display_data"
    }
   ],
   "source": [
    "#Creamos dos boxplot de esas dos columnas para ver si tienen outliers.\n",
    "fig, ax=plt.subplots(2,1,figsize=(10,8))\n",
    "#creamos los boxplot de manera individual ya que son solo dos columnas numericas, si fuesen muchas\n",
    "#  lo hariamos con un for loop.\n",
    "sns.boxplot(x='year',data=df,ax=ax[0])\n",
    "sns.boxplot(x='edad',data=df,ax=ax[1])\n",
    "plt.show()"
   ]
  },
  {
   "attachments": {},
   "cell_type": "markdown",
   "metadata": {},
   "source": [
    "`Si se observan outliers en ambas columnas`"
   ]
  },
  {
   "attachments": {},
   "cell_type": "markdown",
   "metadata": {},
   "source": [
    "3. Identifica sobre el dataframe las filas que son outliers"
   ]
  },
  {
   "cell_type": "code",
   "execution_count": 4,
   "metadata": {},
   "outputs": [
    {
     "data": {
      "text/html": [
       "<div>\n",
       "<style scoped>\n",
       "    .dataframe tbody tr th:only-of-type {\n",
       "        vertical-align: middle;\n",
       "    }\n",
       "\n",
       "    .dataframe tbody tr th {\n",
       "        vertical-align: top;\n",
       "    }\n",
       "\n",
       "    .dataframe thead th {\n",
       "        text-align: right;\n",
       "    }\n",
       "</style>\n",
       "<table border=\"1\" class=\"dataframe\">\n",
       "  <thead>\n",
       "    <tr style=\"text-align: right;\">\n",
       "      <th></th>\n",
       "      <th>year</th>\n",
       "      <th>edad</th>\n",
       "    </tr>\n",
       "  </thead>\n",
       "  <tbody>\n",
       "    <tr>\n",
       "      <th>0</th>\n",
       "      <td>2018</td>\n",
       "      <td>57.0</td>\n",
       "    </tr>\n",
       "    <tr>\n",
       "      <th>1</th>\n",
       "      <td>2018</td>\n",
       "      <td>18.0</td>\n",
       "    </tr>\n",
       "    <tr>\n",
       "      <th>2</th>\n",
       "      <td>2018</td>\n",
       "      <td>15.0</td>\n",
       "    </tr>\n",
       "    <tr>\n",
       "      <th>3</th>\n",
       "      <td>2018</td>\n",
       "      <td>32.0</td>\n",
       "    </tr>\n",
       "    <tr>\n",
       "      <th>4</th>\n",
       "      <td>2018</td>\n",
       "      <td>21.0</td>\n",
       "    </tr>\n",
       "    <tr>\n",
       "      <th>...</th>\n",
       "      <td>...</td>\n",
       "      <td>...</td>\n",
       "    </tr>\n",
       "    <tr>\n",
       "      <th>1663</th>\n",
       "      <td>0</td>\n",
       "      <td>NaN</td>\n",
       "    </tr>\n",
       "    <tr>\n",
       "      <th>1665</th>\n",
       "      <td>0</td>\n",
       "      <td>NaN</td>\n",
       "    </tr>\n",
       "    <tr>\n",
       "      <th>1666</th>\n",
       "      <td>0</td>\n",
       "      <td>NaN</td>\n",
       "    </tr>\n",
       "    <tr>\n",
       "      <th>1670</th>\n",
       "      <td>0</td>\n",
       "      <td>NaN</td>\n",
       "    </tr>\n",
       "    <tr>\n",
       "      <th>1671</th>\n",
       "      <td>0</td>\n",
       "      <td>15.0</td>\n",
       "    </tr>\n",
       "  </tbody>\n",
       "</table>\n",
       "<p>1646 rows × 2 columns</p>\n",
       "</div>"
      ],
      "text/plain": [
       "      year  edad\n",
       "0     2018  57.0\n",
       "1     2018  18.0\n",
       "2     2018  15.0\n",
       "3     2018  32.0\n",
       "4     2018  21.0\n",
       "...    ...   ...\n",
       "1663     0   NaN\n",
       "1665     0   NaN\n",
       "1666     0   NaN\n",
       "1670     0   NaN\n",
       "1671     0  15.0\n",
       "\n",
       "[1646 rows x 2 columns]"
      ]
     },
     "execution_count": 4,
     "metadata": {},
     "output_type": "execute_result"
    }
   ],
   "source": [
    "#Crear un dataframe para variables numericas.\n",
    "df_numericas = df.select_dtypes(include = np.number)\n",
    "df_numericas"
   ]
  },
  {
   "cell_type": "code",
   "execution_count": 5,
   "metadata": {},
   "outputs": [],
   "source": [
    "#Creamos una funcion para obtener las filas con valores extremos (outliers)\n",
    "def sacar_outliers(dataframe):\n",
    "    dict={}\n",
    "    for col in dataframe.columns:\n",
    "        q1=np.nanpercentile(dataframe[col],25)\n",
    "        q3=np.nanpercentile(dataframe[col],75)\n",
    "        iqr=q3-q1\n",
    "        bigotes=1.5*iqr\n",
    "        outliers=dataframe[(dataframe[col]<q1-bigotes)|(dataframe[col]>q3+bigotes)]\n",
    "\n",
    "        if outliers.shape[0] > 0:\n",
    "            dict[col]=(list(outliers.index))\n",
    "    return dict\n"
   ]
  },
  {
   "cell_type": "code",
   "execution_count": 71,
   "metadata": {},
   "outputs": [
    {
     "data": {
      "text/plain": [
       "{'year': [1498,\n",
       "  1499,\n",
       "  1500,\n",
       "  1501,\n",
       "  1502,\n",
       "  1503,\n",
       "  1504,\n",
       "  1505,\n",
       "  1506,\n",
       "  1507,\n",
       "  1508,\n",
       "  1509,\n",
       "  1510,\n",
       "  1511,\n",
       "  1512,\n",
       "  1513,\n",
       "  1514,\n",
       "  1515,\n",
       "  1516,\n",
       "  1517,\n",
       "  1518,\n",
       "  1519,\n",
       "  1520,\n",
       "  1521,\n",
       "  1522,\n",
       "  1523,\n",
       "  1524,\n",
       "  1525,\n",
       "  1526,\n",
       "  1527,\n",
       "  1528,\n",
       "  1529,\n",
       "  1530,\n",
       "  1531,\n",
       "  1532,\n",
       "  1533,\n",
       "  1534,\n",
       "  1535,\n",
       "  1536,\n",
       "  1537,\n",
       "  1538,\n",
       "  1539,\n",
       "  1540,\n",
       "  1541,\n",
       "  1542,\n",
       "  1543,\n",
       "  1544,\n",
       "  1545,\n",
       "  1546,\n",
       "  1547,\n",
       "  1548,\n",
       "  1550,\n",
       "  1551,\n",
       "  1552,\n",
       "  1553,\n",
       "  1554,\n",
       "  1555,\n",
       "  1556,\n",
       "  1557,\n",
       "  1558,\n",
       "  1559,\n",
       "  1560,\n",
       "  1561,\n",
       "  1562,\n",
       "  1563,\n",
       "  1564,\n",
       "  1565,\n",
       "  1566,\n",
       "  1567,\n",
       "  1568,\n",
       "  1569,\n",
       "  1570,\n",
       "  1572,\n",
       "  1573,\n",
       "  1574,\n",
       "  1575,\n",
       "  1576,\n",
       "  1577,\n",
       "  1578,\n",
       "  1579,\n",
       "  1582,\n",
       "  1583,\n",
       "  1584,\n",
       "  1585,\n",
       "  1586,\n",
       "  1588,\n",
       "  1589,\n",
       "  1590,\n",
       "  1591,\n",
       "  1592,\n",
       "  1593,\n",
       "  1594,\n",
       "  1595,\n",
       "  1596,\n",
       "  1597,\n",
       "  1598,\n",
       "  1599,\n",
       "  1600,\n",
       "  1601,\n",
       "  1602,\n",
       "  1603,\n",
       "  1604,\n",
       "  1605,\n",
       "  1607,\n",
       "  1608,\n",
       "  1609,\n",
       "  1610,\n",
       "  1611,\n",
       "  1612,\n",
       "  1613,\n",
       "  1614,\n",
       "  1615,\n",
       "  1616,\n",
       "  1617,\n",
       "  1618,\n",
       "  1620,\n",
       "  1621,\n",
       "  1622,\n",
       "  1623,\n",
       "  1624,\n",
       "  1625,\n",
       "  1626,\n",
       "  1627,\n",
       "  1628,\n",
       "  1629,\n",
       "  1632,\n",
       "  1635,\n",
       "  1636,\n",
       "  1637,\n",
       "  1638,\n",
       "  1639,\n",
       "  1640,\n",
       "  1641,\n",
       "  1643,\n",
       "  1644,\n",
       "  1645,\n",
       "  1646,\n",
       "  1647,\n",
       "  1648,\n",
       "  1649,\n",
       "  1657,\n",
       "  1658,\n",
       "  1659,\n",
       "  1661,\n",
       "  1662,\n",
       "  1663,\n",
       "  1665,\n",
       "  1666,\n",
       "  1670,\n",
       "  1671],\n",
       " 'edad': [12,\n",
       "  30,\n",
       "  51,\n",
       "  80,\n",
       "  84,\n",
       "  121,\n",
       "  139,\n",
       "  141,\n",
       "  184,\n",
       "  202,\n",
       "  229,\n",
       "  326,\n",
       "  329,\n",
       "  352,\n",
       "  433,\n",
       "  487,\n",
       "  559,\n",
       "  589,\n",
       "  668,\n",
       "  754,\n",
       "  769,\n",
       "  917,\n",
       "  929,\n",
       "  1047,\n",
       "  1059,\n",
       "  1433]}"
      ]
     },
     "execution_count": 71,
     "metadata": {},
     "output_type": "execute_result"
    }
   ],
   "source": [
    "#Aplicamos la funcion a nuestro dataframe de variables numericas.\n",
    "valores_extremos=sacar_outliers(df_numericas)\n",
    "valores_extremos"
   ]
  },
  {
   "cell_type": "code",
   "execution_count": 68,
   "metadata": {},
   "outputs": [
    {
     "ename": "TypeError",
     "evalue": "'dict_values' object is not subscriptable",
     "output_type": "error",
     "traceback": [
      "\u001b[0;31m---------------------------------------------------------------------------\u001b[0m",
      "\u001b[0;31mTypeError\u001b[0m                                 Traceback (most recent call last)",
      "\u001b[0;32m/tmp/ipykernel_11704/1160845223.py\u001b[0m in \u001b[0;36m<module>\u001b[0;34m\u001b[0m\n\u001b[1;32m      1\u001b[0m \u001b[0;31m#Hacemos una list comprehension para obtener los indices de las filas con outliers.\u001b[0m\u001b[0;34m\u001b[0m\u001b[0;34m\u001b[0m\u001b[0m\n\u001b[0;32m----> 2\u001b[0;31m \u001b[0mvalores_1\u001b[0m\u001b[0;34m=\u001b[0m\u001b[0mvalores_extremos\u001b[0m\u001b[0;34m.\u001b[0m\u001b[0mvalues\u001b[0m\u001b[0;34m(\u001b[0m\u001b[0;34m)\u001b[0m\u001b[0;34m[\u001b[0m\u001b[0;36m0\u001b[0m\u001b[0;34m]\u001b[0m\u001b[0;34m\u001b[0m\u001b[0;34m\u001b[0m\u001b[0m\n\u001b[0m\u001b[1;32m      3\u001b[0m \u001b[0mvalores_extremos2\u001b[0m\u001b[0;34m=\u001b[0m\u001b[0;34m[\u001b[0m\u001b[0mindice\u001b[0m \u001b[0;32mfor\u001b[0m \u001b[0mlista\u001b[0m \u001b[0;32min\u001b[0m \u001b[0mvalores_extremos\u001b[0m\u001b[0;34m.\u001b[0m\u001b[0mvalues\u001b[0m\u001b[0;34m(\u001b[0m\u001b[0;34m)\u001b[0m \u001b[0;32mfor\u001b[0m \u001b[0mindice\u001b[0m \u001b[0;32min\u001b[0m \u001b[0mlista\u001b[0m\u001b[0;34m]\u001b[0m\u001b[0;34m\u001b[0m\u001b[0;34m\u001b[0m\u001b[0m\n\u001b[1;32m      4\u001b[0m \u001b[0mvalores_extremos2\u001b[0m\u001b[0;34m.\u001b[0m\u001b[0msort\u001b[0m\u001b[0;34m(\u001b[0m\u001b[0;34m)\u001b[0m\u001b[0;34m\u001b[0m\u001b[0;34m\u001b[0m\u001b[0m\n\u001b[1;32m      5\u001b[0m \u001b[0mlen\u001b[0m\u001b[0;34m(\u001b[0m\u001b[0mvalores_extremos2\u001b[0m\u001b[0;34m)\u001b[0m\u001b[0;34m\u001b[0m\u001b[0;34m\u001b[0m\u001b[0m\n",
      "\u001b[0;31mTypeError\u001b[0m: 'dict_values' object is not subscriptable"
     ]
    }
   ],
   "source": [
    "#Hacemos una list comprehension para obtener los indices de las filas con outliers.\n",
    "valores_extremos2=[indice for lista in valores_extremos.values() for indice in lista]\n",
    "valores_extremos2.sort()\n",
    "len(valores_extremos2)\n",
    "valores_extremos2"
   ]
  },
  {
   "cell_type": "code",
   "execution_count": 61,
   "metadata": {},
   "outputs": [
    {
     "name": "stderr",
     "output_type": "stream",
     "text": [
      "/tmp/ipykernel_11704/1787917777.py:2: FutureWarning: Passing a set as an indexer is deprecated and will raise in a future version. Use a list instead.\n",
      "  df_outliers=df.loc[valores_extremos2]\n"
     ]
    },
    {
     "data": {
      "text/plain": [
       "Int64Index([1536, 1537, 1538, 1539, 1540, 1541, 1542, 1543, 1544, 1545,\n",
       "            ...\n",
       "            1526, 1527, 1528, 1529, 1530, 1531, 1532, 1533, 1534, 1535],\n",
       "           dtype='int64', length=176)"
      ]
     },
     "execution_count": 61,
     "metadata": {},
     "output_type": "execute_result"
    }
   ],
   "source": [
    "#mostramos las filas con outliers en el dataframe.\n",
    "df_outliers=df.loc[valores_extremos2]\n",
    "df_outliers.index"
   ]
  },
  {
   "attachments": {},
   "cell_type": "markdown",
   "metadata": {},
   "source": [
    "4. Reemplaza los outliers por el estadístico más correcto."
   ]
  },
  {
   "cell_type": "code",
   "execution_count": 77,
   "metadata": {},
   "outputs": [],
   "source": [
    "df_replace=df.copy()"
   ]
  },
  {
   "cell_type": "code",
   "execution_count": 76,
   "metadata": {},
   "outputs": [
    {
     "name": "stdout",
     "output_type": "stream",
     "text": [
      "La mediana de la columna \"year\" es 1998.0\n",
      "La mediana de la columna \"edad\" es 25.0\n"
     ]
    }
   ],
   "source": [
    "mediana_años=df['year'].median()\n",
    "mediana_edad=df['edad'].median()\n",
    "print('La mediana de la columna \"year\" es',mediana_años)\n",
    "print('La mediana de la columna \"edad\" es',mediana_edad)"
   ]
  },
  {
   "cell_type": "code",
   "execution_count": 78,
   "metadata": {},
   "outputs": [],
   "source": [
    "for k,v in valores_extremos.items():\n",
    "    median=df[k].median()\n",
    "    for i in v:\n",
    "        df_replace.loc[i,k]=median"
   ]
  },
  {
   "cell_type": "code",
   "execution_count": 79,
   "metadata": {},
   "outputs": [
    {
     "data": {
      "text/html": [
       "<div>\n",
       "<style scoped>\n",
       "    .dataframe tbody tr th:only-of-type {\n",
       "        vertical-align: middle;\n",
       "    }\n",
       "\n",
       "    .dataframe tbody tr th {\n",
       "        vertical-align: top;\n",
       "    }\n",
       "\n",
       "    .dataframe thead th {\n",
       "        text-align: right;\n",
       "    }\n",
       "</style>\n",
       "<table border=\"1\" class=\"dataframe\">\n",
       "  <thead>\n",
       "    <tr style=\"text-align: right;\">\n",
       "      <th></th>\n",
       "      <th>year</th>\n",
       "      <th>country</th>\n",
       "      <th>age</th>\n",
       "      <th>species_</th>\n",
       "      <th>month</th>\n",
       "      <th>dead</th>\n",
       "      <th>gender</th>\n",
       "      <th>specie</th>\n",
       "      <th>edad</th>\n",
       "    </tr>\n",
       "  </thead>\n",
       "  <tbody>\n",
       "    <tr>\n",
       "      <th>12</th>\n",
       "      <td>2018</td>\n",
       "      <td>australia</td>\n",
       "      <td>69</td>\n",
       "      <td>3.5 m shark</td>\n",
       "      <td>Mar</td>\n",
       "      <td>N</td>\n",
       "      <td>M</td>\n",
       "      <td>unspecified</td>\n",
       "      <td>25.0</td>\n",
       "    </tr>\n",
       "  </tbody>\n",
       "</table>\n",
       "</div>"
      ],
      "text/plain": [
       "    year    country age     species_ month dead gender       specie  edad\n",
       "12  2018  australia  69  3.5 m shark   Mar    N      M  unspecified  25.0"
      ]
     },
     "execution_count": 79,
     "metadata": {},
     "output_type": "execute_result"
    }
   ],
   "source": [
    "#comprobamos que uno de los registros que tenia ouliers enla columna edad ha sido sustituido por la mediana.\n",
    "df_replace[df_replace['species_']=='3.5 m shark']"
   ]
  },
  {
   "cell_type": "code",
   "execution_count": 81,
   "metadata": {},
   "outputs": [
    {
     "name": "stdout",
     "output_type": "stream",
     "text": [
      "El dataframe original tiene 147 valores unicos en la columna \"year\".\n",
      "El dataframe con los outliers reemplazados tiene 101 valores unicos en la columna \"year\".\n"
     ]
    }
   ],
   "source": [
    "print('El dataframe original tiene', len(df['year'].unique()), 'valores unicos en la columna \"year\".')\n",
    "print('El dataframe con los outliers reemplazados tiene', len(df_replace['year'].unique()), 'valores unicos en la columna \"year\".')"
   ]
  },
  {
   "attachments": {},
   "cell_type": "markdown",
   "metadata": {},
   "source": [
    "`Vemos que, aparentemente, sí que se han sustituido los outliers.`"
   ]
  },
  {
   "cell_type": "code",
   "execution_count": 82,
   "metadata": {},
   "outputs": [
    {
     "data": {
      "text/plain": [
       "0"
      ]
     },
     "execution_count": 82,
     "metadata": {},
     "output_type": "execute_result"
    }
   ],
   "source": [
    "#Comprobamos de otra forma que la columna edad no presenta valores extremos. Para ello observamos\n",
    "#  el boxplot que realizamos al principio de este archivo, donde podemos observar que la columna\n",
    "#  'edad' presenta outliers en los registros con edades por encima de los 70 años.\n",
    "df_replace['edad'].isin(df_replace['edad']>70).sum()\n",
    "#Vemos que no hay ningun registros con edades por encima de 70 años, ya que han sido sustituidos por la mediana."
   ]
  },
  {
   "attachments": {},
   "cell_type": "markdown",
   "metadata": {},
   "source": [
    "5. Guarda el csv con las columnas limpias para seguir trabajando con este dataframe limpio en el siguiente pair programming de limpieza."
   ]
  },
  {
   "cell_type": "code",
   "execution_count": 32,
   "metadata": {},
   "outputs": [],
   "source": [
    "df_replace.to_csv('files/attacks_limp3.csv')"
   ]
  },
  {
   "attachments": {},
   "cell_type": "markdown",
   "metadata": {},
   "source": [
    "**Happy coding** 🦈"
   ]
  }
 ],
 "metadata": {
  "kernelspec": {
   "display_name": "base",
   "language": "python",
   "name": "python3"
  },
  "language_info": {
   "codemirror_mode": {
    "name": "ipython",
    "version": 3
   },
   "file_extension": ".py",
   "mimetype": "text/x-python",
   "name": "python",
   "nbconvert_exporter": "python",
   "pygments_lexer": "ipython3",
   "version": "3.9.7"
  },
  "orig_nbformat": 4,
  "vscode": {
   "interpreter": {
    "hash": "468215beec16e96f99bc366ecab75b1d75db716e353e0417cbdb37be88f0d883"
   }
  }
 },
 "nbformat": 4,
 "nbformat_minor": 2
}
