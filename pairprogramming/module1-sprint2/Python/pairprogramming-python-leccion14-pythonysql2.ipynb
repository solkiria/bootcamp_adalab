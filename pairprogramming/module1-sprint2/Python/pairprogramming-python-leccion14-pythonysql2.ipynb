{
 "cells": [
  {
   "cell_type": "markdown",
   "metadata": {},
   "source": [
    "# Ejercicios Pair Programming - Sprint 2"
   ]
  },
  {
   "cell_type": "markdown",
   "metadata": {},
   "source": [
    "## Lección 14 - Python + SQL 2"
   ]
  },
  {
   "cell_type": "markdown",
   "metadata": {},
   "source": [
    "### Lourdes Ochoa, Silvia Gordón y Sonia Ruiz"
   ]
  },
  {
   "cell_type": "markdown",
   "metadata": {},
   "source": [
    "Sigamos trabajando con SQL desde nuestro jupyter! En este caso crearemos una BBDD\n",
    "\n",
    "En el ejercicio de hoy vamos a crear una BBDD, pero esta vez desde Python.\n",
    "\n",
    "📌 NOTA Cambiad el nombre de la BBDD a mi_primerita_BBDD_Python\n",
    "📌 NOTA Cuando creeis las distintas tablas de vuestra BBDD repetereis la mismas lineas de código una y otra vez. Para evitar esto, crearos una función que nos sirva para crear tablas independientemente del contenido de la tabla. La función recibirá como parámetros:\n",
    "- Contraseña de la conexión al servidor.\n",
    "- Query para crear la tabla.\n",
    "A modo de recap de lo que contenía la BBDD:\n",
    "- Tabla Zapatillas: tiene 4 columnas: id, modelo, color, talla con las siguientes características:\n",
    "    - idZapatillas: es una clave primaria de tipo int, autoincremental y no nula.\n",
    "    - Modelo: es una cadena de caracteres de longitud máxima de 45 caracteres, no nula.\n",
    "    - Color: es una cadena de caracteres de longitud máxima de 45 caracteres, no nula.\n",
    "    - Talla: es entero, no nula.\n",
    "- Tabla Clientes: tiene 9 columnas  idcliente, nombre, numero_telefono, email, direccion, ciudad, provincia, pais, codigo_postal con las siguientes características:\n",
    "    - idEmpleado: es una clave primaria de tipo int, autoincremental y no nula.\n",
    "    - Nombre: es una cadena de caracteres de longitud máxima de 45 caracteres, no nula.\n",
    "    - Numero_telefono: es un entero de longitud máxima de 9 caracteres, no nula.\n",
    "    - Email: es una cadena de caracteres de longitud máxima de 45 caracteres, no nula.\n",
    "    - Direccion: es una cadena de caracteres de longitud máxima de 45 caracteres, no nula.\n",
    "    - Ciudad: es una cadena de caracteres de longitud máxima de 45 caracteres, puede ser nula.\n",
    "    - Provincia: es una cadena de caracteres de longitud máxima de 45 caracteres, no nula.\n",
    "    - Pais: es una cadena de caracteres de longitud máxima de 45 caracteres, no nula.\n",
    "    - Codigo_postal: entero de máxima longitud 9, no nula.\n",
    "- Tabla Empleados: tiene 5 columnas idEmpleado, nombre, tienda, salario, fecha_incorporacion con las siguientes características:\n",
    "    - idEmpleado: es una clave primaria de tipo int, autoincremental y no nula.\n",
    "    - Nombre: es una cadena de caracteres de longitud máxima de 45 caracteres, no nula.\n",
    "    - Tienda: es una cadena de caracteres de longitud máxima de 45 caracteres, no nula.\n",
    "    - salario: es decimal, puede ser nula.\n",
    "    - fecha_incorporacion: es una columna de tipo date, no nula.\n",
    "- Tabla Facturas: tiene 5 columnas  idFactura, idEmpleado, idCliente, fecha, total con las siguientes características:\n",
    "    - idFactura: es una clave primaria de tipo int, autoincremental y no nula.\n",
    "    - idEmpleado: es una clave foránea de tipo int, no nula.\n",
    "    - idCliente: es una clave foránea de tipo int, no nula.\n",
    "    - idZapatilla: es una clave foránea de tipo int, no nula\n",
    "    - Fecha: es una columna de tipo date, no nula.\n",
    "    - Total: es decimal, no nula.\n",
    "📌 NOTA En esta última tabla tendremos que incluir todos los CONSTRAINTnecesarios para establecer los relaciones entre las tablas, donde tendremos que especificar:\n",
    "Foreign Key\n",
    "References\n",
    "Happy coding 😀"
   ]
  },
  {
   "cell_type": "code",
   "execution_count": 1,
   "metadata": {},
   "outputs": [
    {
     "name": "stdout",
     "output_type": "stream",
     "text": [
      "CMySQLCursor: CREATE DATABASE mi_primerita_BBDD_Python\n"
     ]
    }
   ],
   "source": [
    "import mysql.connector\n",
    "\n",
    "cnx = mysql.connector.connect(user='root', password='AlumnaAdalab',\n",
    "                              host='127.0.0.1')\n",
    "\n",
    "\n",
    "mycursor = cnx.cursor()\n",
    "try:\n",
    "    mycursor.execute(\"CREATE DATABASE mi_primerita_BBDD_Python\")\n",
    "    print(mycursor)\n",
    "except mysql.connector.Error as err:\n",
    "    print(err)\n",
    "    print(\"Error Code:\", err.errno)\n",
    "    print(\"SQLSTATE\", err.sqlstate)\n",
    "    print(\"Message\", err.msg)\n",
    "\n",
    "mycursor.close()\n",
    "cnx.close()\n"
   ]
  },
  {
   "cell_type": "code",
   "execution_count": 2,
   "metadata": {},
   "outputs": [],
   "source": [
    "def creacion_tablas(contraseña, query):\n",
    "    import mysql.connector\n",
    "\n",
    "    cnx = mysql.connector.connect(user='root', password=contraseña,\n",
    "                                host='127.0.0.1', database='mi_primerita_BBDD_Python')\n",
    "\n",
    "\n",
    "    mycursor = cnx.cursor()\n",
    "    try:\n",
    "        mycursor.execute(query)\n",
    "        print(mycursor)\n",
    "    except mysql.connector.Error as err:\n",
    "        print(err)\n",
    "        print(\"Error Code:\", err.errno)\n",
    "        print(\"SQLSTATE\", err.sqlstate)\n",
    "        print(\"Message\", err.msg)\n",
    "\n",
    "\n",
    "    mycursor.close()\n",
    "    cnx.close()"
   ]
  },
  {
   "cell_type": "code",
   "execution_count": 3,
   "metadata": {},
   "outputs": [
    {
     "name": "stdout",
     "output_type": "stream",
     "text": [
      "CMySQLCursor: CREATE TABLE Zapatillas (\n",
      "              ..\n"
     ]
    }
   ],
   "source": [
    "query1= \"\"\"CREATE TABLE Zapatillas (\n",
    "                idZapatillas INT AUTO_INCREMENT NOT NULL,\n",
    "                Modelo VARCHAR(45) NOT NULL,\n",
    "                Color VARCHAR(45) NOT NULL,\n",
    "                Talla INT NOT NULL,\n",
    "                PRIMARY KEY (idZapatillas))\"\"\"\n",
    "zapatillas= creacion_tablas('AlumnaAdalab', query1)\n"
   ]
  },
  {
   "cell_type": "code",
   "execution_count": 4,
   "metadata": {},
   "outputs": [
    {
     "name": "stdout",
     "output_type": "stream",
     "text": [
      "CMySQLCursor: CREATE TABLE Clientes (\n",
      "                ..\n"
     ]
    }
   ],
   "source": [
    "query2= \"\"\"CREATE TABLE Clientes (\n",
    "                idCliente INT AUTO_INCREMENT NOT NULL,\n",
    "                Nombre VARCHAR(45) NOT NULL,\n",
    "                Numero_telefono INT(9) NOT NULL,\n",
    "                Email VARCHAR(45) NOT NULL,\n",
    "                Direccion VARCHAR(45) NOT NULL,\n",
    "                Ciudad VARCHAR(45),\n",
    "                Provincia VARCHAR(45) NOT NULL,\n",
    "                Pais VARCHAR(45) NOT NULL,\n",
    "                Codigo_postal INT(9) NOT NULL,\n",
    "                PRIMARY KEY (idCliente))\"\"\"\n",
    "clientes= creacion_tablas('AlumnaAdalab', query2)"
   ]
  },
  {
   "cell_type": "code",
   "execution_count": 5,
   "metadata": {},
   "outputs": [
    {
     "name": "stdout",
     "output_type": "stream",
     "text": [
      "CMySQLCursor: CREATE TABLE Empleados (\n",
      "               ..\n"
     ]
    }
   ],
   "source": [
    "query3= \"\"\"CREATE TABLE Empleados (\n",
    "                idEmpleado INT AUTO_INCREMENT NOT NULL,\n",
    "                Nombre VARCHAR(45) NOT NULL,\n",
    "                Tienda VARCHAR(45) NOT NULL,\n",
    "                Salario FLOAT,\n",
    "                Fecha_incorporacion DATE NOT NULL,\n",
    "                PRIMARY KEY (idEmpleado))\"\"\"\n",
    "empleados= creacion_tablas('AlumnaAdalab', query3)"
   ]
  },
  {
   "cell_type": "code",
   "execution_count": 7,
   "metadata": {},
   "outputs": [
    {
     "name": "stdout",
     "output_type": "stream",
     "text": [
      "CMySQLCursor: CREATE TABLE Facturas (\n",
      "                ..\n"
     ]
    }
   ],
   "source": [
    "query4=\"\"\"CREATE TABLE Facturas (\n",
    "                idFactura INT AUTO_INCREMENT NOT NULL,\n",
    "                idEmpleado INT NOT NULL,\n",
    "                idCliente INT NOT NULL,\n",
    "                idZapatillas INT NOT NULL,\n",
    "                Fecha DATE NOT NULL,\n",
    "                Total FLOAT NOT NULL,\n",
    "                PRIMARY KEY (idFactura),\n",
    "                CONSTRAINT fk_zapatillas FOREIGN KEY (idZapatillas) references Zapatillas (idZapatillas),\n",
    "                CONSTRAINT fk_empleados FOREIGN KEY (idEmpleado) references Empleados (idEmpleado),\n",
    "                CONSTRAINT fk_clientes FOREIGN KEY (idCliente) references Clientes (idCliente))\"\"\"\n",
    "facturas= creacion_tablas('AlumnaAdalab', query4)"
   ]
  },
  {
   "cell_type": "code",
   "execution_count": 9,
   "metadata": {},
   "outputs": [
    {
     "name": "stdout",
     "output_type": "stream",
     "text": [
      "('Clientes',)\n",
      "('Empleados',)\n",
      "('Facturas',)\n",
      "('Zapatillas',)\n"
     ]
    }
   ],
   "source": [
    "import mysql.connector\n",
    "\n",
    "cnx = mysql.connector.connect(user='root', password='AlumnaAdalab',\n",
    "                              host='127.0.0.1', database='mi_primerita_BBDD_Python')\n",
    "\n",
    "mycursor = cnx.cursor()\n",
    "try:\n",
    "    mycursor.execute(\"SHOW TABLES\")\n",
    "    for i in mycursor:\n",
    "        print(i)\n",
    "except mysql.connector.Error as err:\n",
    "    print(err)\n",
    "    print(\"Error Code:\", err.errno)\n",
    "    print(\"SQLSTATE\", err.sqlstate)\n",
    "    print(\"Message\", err.msg)\n",
    "\n",
    "mycursor.close()\n",
    "cnx.close()"
   ]
  }
 ],
 "metadata": {
  "kernelspec": {
   "display_name": "Python 3.9.7 ('base')",
   "language": "python",
   "name": "python3"
  },
  "language_info": {
   "codemirror_mode": {
    "name": "ipython",
    "version": 3
   },
   "file_extension": ".py",
   "mimetype": "text/x-python",
   "name": "python",
   "nbconvert_exporter": "python",
   "pygments_lexer": "ipython3",
   "version": "3.9.7"
  },
  "orig_nbformat": 4,
  "vscode": {
   "interpreter": {
    "hash": "468215beec16e96f99bc366ecab75b1d75db716e353e0417cbdb37be88f0d883"
   }
  }
 },
 "nbformat": 4,
 "nbformat_minor": 2
}
