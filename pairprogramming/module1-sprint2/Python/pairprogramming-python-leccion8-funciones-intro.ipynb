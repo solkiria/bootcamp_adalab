{
 "cells": [
  {
   "cell_type": "markdown",
   "metadata": {},
   "source": [
    "# Ejercicios Pair Programming - Sprint 2\n",
    "## Lección 8 - Funciones Intro\n",
    "### Lourdes Ochoa, Silvia Gordón y Sonia Ruiz"
   ]
  },
  {
   "cell_type": "markdown",
   "metadata": {},
   "source": [
    "1.- Cread una función que reciba 2 números enteros en forma de string como entrada, y dé como resultado la suma (también en forma de string) Condiciones: Si los dos parámetros que recibe la función son strings vacíos la función nos debe devolver \"0\" Si el primer parámetro es un string vacío, la función nos devuelve el valor del segundo parámetro y viceversa.\n",
    "\n",
    "Probad la función para las siguientes combinaciones de \"números\" :\n",
    "\n",
    "\n",
    "\"4\",\"5\" --> \"9\"\n",
    "\n",
    "\"34\",\"5\" --> \"39\"\n",
    "\n",
    "\"\",\"\" --> \"0\"\n",
    "\n",
    "\"2\",\"\" --> \"2\"\n",
    "\n",
    "\"-5\",\"3\" --> \"-2\"\n"
   ]
  },
  {
   "cell_type": "code",
   "execution_count": 15,
   "metadata": {},
   "outputs": [],
   "source": [
    "def sumar_string():\n",
    "    string1 = input(\"Escriba un número\")\n",
    "    string2 = input(\"Escriba un número\")\n",
    "    if string1 == \"\" and string2 == \"\":\n",
    "        return \"0\"\n",
    "    elif string1 == \"\" and not string2 == \"\":\n",
    "        return string2\n",
    "    elif string2 == \"\" and not string1 == \"\":\n",
    "        return string1\n",
    "    else :\n",
    "        #ambos strings se deben convertir en integer para poder realizar la suma\n",
    "        sumar=int(string1) + int(string2)\n",
    "        return sumar\n"
   ]
  },
  {
   "cell_type": "code",
   "execution_count": 14,
   "metadata": {},
   "outputs": [
    {
     "data": {
      "text/plain": [
       "9"
      ]
     },
     "execution_count": 14,
     "metadata": {},
     "output_type": "execute_result"
    }
   ],
   "source": [
    "ejemplo1= sumar_string()\n",
    "ejemplo1"
   ]
  },
  {
   "cell_type": "code",
   "execution_count": 5,
   "metadata": {},
   "outputs": [
    {
     "data": {
      "text/plain": [
       "39"
      ]
     },
     "execution_count": 5,
     "metadata": {},
     "output_type": "execute_result"
    }
   ],
   "source": [
    "ejemplo2= sumar_string()\n",
    "ejemplo2"
   ]
  },
  {
   "cell_type": "markdown",
   "metadata": {},
   "source": [
    "2.- El objetivo es comparar cada par de enteros de 2 listas, y devolver una nueva lista con el número mayor de la comapración.. Probad la función para las siguientes listas:\n",
    "\n",
    "arr1 = [13, 64, 15, 17, 88]\n",
    "\n",
    "arr2 = [23, 14, 53, 17, 80]\n",
    "\n",
    "resultado = [23, 64, 53, 17, 88]\n",
    "\n",
    "Pista 💡 En Python existe el método zip.\n",
    "\n",
    "El objetivo es comparar cada par de enteros de 2 listas, y devolver una nueva lista con el número mayor de la comapración."
   ]
  },
  {
   "cell_type": "code",
   "execution_count": 16,
   "metadata": {},
   "outputs": [
    {
     "data": {
      "text/plain": [
       "[23, 64, 53, 17, 88]"
      ]
     },
     "execution_count": 16,
     "metadata": {},
     "output_type": "execute_result"
    }
   ],
   "source": [
    "def comparar_listas(lista1, lista2):\n",
    "    #convertirmos el zip de las listas en una lista para poder trabajar con ello, ya que un zip está \"codificado\".\n",
    "    lista_total=list(zip(lista1,lista2))\n",
    "    lista_mayores=[]\n",
    "    i=0\n",
    "    while i<len(lista_total):\n",
    "        lista_mayores.append(max(lista_total[i]))\n",
    "        i+=1\n",
    "    return lista_mayores\n",
    "\n",
    "arr1=[13,64,15,17,88]\n",
    "arr2=[23,14,53,17,80]\n",
    "comparar_listas(arr1,arr2)"
   ]
  },
  {
   "cell_type": "markdown",
   "metadata": {},
   "source": [
    "3.- El objetivo de este ejercicio es convertir un string en un nuevo string en el que cada carácter del nuevo string es \"(\" si ese carácter aparece sólo una vez en el string original, o \")\" si ese carácter aparece más de una vez en el string. Nuestro código no tiene que ser case sensitive, es decir, si hay una letra en mayúscula y en minúscula cuenta como dos apariciones.\n",
    "\n",
    "Probad la función para los siguientes strings\n",
    "\"din\" => \"(((\"\n",
    "\"recede\" => \"()()()\"\n",
    "\"Success\" => \")())())\"\n",
    "\"(( @\" => \"))((\"\n",
    "\"Ocvl@GamFLAFkixkS\" => \"((()(()()))))(()(\" ."
   ]
  },
  {
   "cell_type": "code",
   "execution_count": 17,
   "metadata": {},
   "outputs": [],
   "source": [
    "def convertir_string(string3):\n",
    "    #string3 debe ser un string con mayusculas o minusculas, pero no debe contener tildes.\n",
    "    lista_string=[]\n",
    "    string_minus=string3.lower()\n",
    "    for i in string_minus:\n",
    "        if string_minus.count(i)==1:\n",
    "            lista_string.append(\"(\")\n",
    "        elif string_minus.count(i)>=2:\n",
    "            lista_string.append(\")\")\n",
    "    return \"\".join(lista_string)  "
   ]
  },
  {
   "cell_type": "code",
   "execution_count": 21,
   "metadata": {},
   "outputs": [
    {
     "data": {
      "text/plain": [
       "'((((((('"
      ]
     },
     "execution_count": 21,
     "metadata": {},
     "output_type": "execute_result"
    }
   ],
   "source": [
    "frase_prueba=input()\n",
    "convertir_string(frase_prueba)"
   ]
  },
  {
   "cell_type": "markdown",
   "metadata": {},
   "source": [
    "BONUS 4. A Pete le gusta hacer pasteles. Tiene algunas recetas e ingredientes. Desgraciadamente, no se le dan bien las matemáticas. ¿Puedes ayudarle a averiguar cuántas tartas puede hacer teniendo en cuenta sus recetas?"
   ]
  },
  {
   "cell_type": "code",
   "execution_count": 2,
   "metadata": {},
   "outputs": [
    {
     "data": {
      "text/plain": [
       "2"
      ]
     },
     "execution_count": 2,
     "metadata": {},
     "output_type": "execute_result"
    }
   ],
   "source": [
    "receta1 = {'flour': 500, 'sugar': 200, 'eggs': 1}\n",
    "ingredientes1 = {'flour': 1200, 'sugar': 1200, 'eggs': 5, 'milk': 200}\n",
    "\n",
    "def hacer_pasteles(dicc_receta, dicc_ingredientes):\n",
    "    numero_bizcochos=[]\n",
    "    for key in dicc_receta:\n",
    "        if key not in dicc_ingredientes:\n",
    "            return 0\n",
    "        else:\n",
    "            numero_bizcochos.append(dicc_ingredientes[key]//dicc_receta[key])\n",
    "    return min(numero_bizcochos)\n",
    "\n",
    "hacer_pasteles(receta1, ingredientes1)\n",
    "\n"
   ]
  },
  {
   "cell_type": "code",
   "execution_count": 3,
   "metadata": {},
   "outputs": [
    {
     "data": {
      "text/plain": [
       "0"
      ]
     },
     "execution_count": 3,
     "metadata": {},
     "output_type": "execute_result"
    }
   ],
   "source": [
    "receta2= {'apples': 3, 'flour': 300, 'sugar': 150, 'milk': 100, 'oil': 100}\n",
    "ingredientes2= {'sugar': 500, 'flour': 2000, 'milk': 2000}\n",
    "\n",
    "hacer_pasteles(receta2, ingredientes2)"
   ]
  },
  {
   "cell_type": "markdown",
   "metadata": {},
   "source": [
    "BONUS 5. Escribid una función que va a ser una calculadora. La lista recibirá dos parámetros, una lista de números y un string con la operación que queremos hacer (puede ser \"*\", \"+\")."
   ]
  },
  {
   "cell_type": "code",
   "execution_count": 6,
   "metadata": {},
   "outputs": [],
   "source": [
    "def calculadora(lista_calculadora):\n",
    "    for num in lista_calculadora:\n",
    "        if lista_calculadora[1] == \"*\":\n",
    "            multiplicacion=1\n",
    "            for i in num:\n",
    "                multiplicacion*=i\n",
    "            return(multiplicacion)\n",
    "        if lista_calculadora[1] == \"+\":\n",
    "            suma=0\n",
    "            for i in num: suma+=i\n",
    "            return(suma)\n",
    "        else:\n",
    "            return(\"Lo siento, necesito que me pases una operacion valida\")\n",
    "    return(lista_calculadora)"
   ]
  },
  {
   "cell_type": "code",
   "execution_count": 7,
   "metadata": {},
   "outputs": [
    {
     "data": {
      "text/plain": [
       "12936"
      ]
     },
     "execution_count": 7,
     "metadata": {},
     "output_type": "execute_result"
    }
   ],
   "source": [
    "lista1 = [11, 6, 98, 1, 2] , \"*\"\n",
    "calculadora(lista1)"
   ]
  },
  {
   "cell_type": "code",
   "execution_count": 8,
   "metadata": {},
   "outputs": [
    {
     "data": {
      "text/plain": [
       "214"
      ]
     },
     "execution_count": 8,
     "metadata": {},
     "output_type": "execute_result"
    }
   ],
   "source": [
    "lista2 = [23,34, 56, 11, 90] , \"+\"\n",
    "calculadora(lista2)"
   ]
  },
  {
   "cell_type": "code",
   "execution_count": 9,
   "metadata": {},
   "outputs": [
    {
     "data": {
      "text/plain": [
       "'Lo siento, necesito que me pases una operacion valida'"
      ]
     },
     "execution_count": 9,
     "metadata": {},
     "output_type": "execute_result"
    }
   ],
   "source": [
    "lista3 = [23, 4,109 , 94, 77] , \"-\"\n",
    "calculadora(lista3)"
   ]
  }
 ],
 "metadata": {
  "kernelspec": {
   "display_name": "Python 3.10.8 ('adalabenv')",
   "language": "python",
   "name": "python3"
  },
  "language_info": {
   "codemirror_mode": {
    "name": "ipython",
    "version": 3
   },
   "file_extension": ".py",
   "mimetype": "text/x-python",
   "name": "python",
   "nbconvert_exporter": "python",
   "pygments_lexer": "ipython3",
   "version": "3.10.8"
  },
  "orig_nbformat": 4,
  "vscode": {
   "interpreter": {
    "hash": "b09caf96bf0d00c87bf22d52d5d9b835bbcda673d84b7b1547b87932947942a4"
   }
  }
 },
 "nbformat": 4,
 "nbformat_minor": 2
}
