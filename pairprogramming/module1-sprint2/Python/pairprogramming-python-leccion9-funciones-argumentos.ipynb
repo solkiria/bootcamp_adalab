{
 "cells": [
  {
   "cell_type": "markdown",
   "metadata": {},
   "source": [
    "# Ejercicios Pair Programming - Sprint 2 \n",
    "## Lección 9 - Funciones con Argumentos\n",
    "### Sonia Ruiz, Silvia Gordón y Lourdes Ochoa"
   ]
  },
  {
   "cell_type": "markdown",
   "metadata": {},
   "source": [
    "1.- Vamos a crear una \"Calculadora de puntos\". Tenéis que escribir una calculadora que reciba cadenas de caracteres como entrada. Los puntos representarán el número de la ecuación. Habrá puntos en un lado, un operador, y puntos de nuevo después del oparador. Los puntos y el operador estarán separados por un espacio.\n",
    "\n",
    "Aquí os dejamos los operadores válidos:\n",
    "\n",
    "Suma\n",
    "\n",
    "Resta\n",
    "\n",
    "Multiplicación\n",
    "\n",
    "División entera\n",
    "\n",
    "Vuestro trabajo\n",
    "\n",
    "Tendréis que devolver un string que contenga puntos, tantos como devuelva la ecuación. Si el resultado es 0, devuelve la cadena vacía. Cuando se trata de una resta, el primer número siempre será mayor o igual que el segundo.\n",
    "Probad la función con los siguientes casos: \n",
    "​\n",
    "\n",
    "\"..... + ...............\" => \"....................\"\n",
    "\n",
    "\"..... - ...\" => \"..\"\n",
    "\n",
    "\"..... * ...\" => \"...............\"\n",
    "\n",
    "\"..... // ..\" => \"..\"\n",
    "\n",
    "\". // ..\" => \"\"\n",
    "\n",
    "\".. - ..\" => \"\""
   ]
  },
  {
   "cell_type": "markdown",
   "metadata": {},
   "source": [
    "Modo Uno:"
   ]
  },
  {
   "cell_type": "code",
   "execution_count": 96,
   "metadata": {},
   "outputs": [],
   "source": [
    "punto1=input(\"Ponga el número de puntos deseado\")\n",
    "punto2=input(\"Ponga el número de puntos deseado\")\n",
    "operador=input(\"Elija uno de estos operadores: + , - , * , //\")"
   ]
  },
  {
   "cell_type": "code",
   "execution_count": 84,
   "metadata": {},
   "outputs": [],
   "source": [
    "def calculadora_puntos(punto1,operador,punto2):\n",
    "    if operador == \"+\":\n",
    "        resultado= punto1.count(\".\") + punto2.count(\".\")\n",
    "        casos = punto1, operador, punto2\n",
    "    elif operador == \"-\":\n",
    "        if punto1.count(\".\") >= punto2.count(\".\"):\n",
    "            resultado= punto1.count(\".\") - punto2.count(\".\")\n",
    "            casos = punto1, operador, punto2\n",
    "        else:\n",
    "            print(\"No se puede realizar esta operación, el primer elemento siempre tiene que ser mayor que el segundo\")\n",
    "    elif operador == \"*\":\n",
    "        resultado= punto1.count(\".\") * punto2.count(\".\")\n",
    "        casos = punto1, operador, punto2\n",
    "    elif operador == \"//\":\n",
    "        resultado= punto1.count(\".\") // punto2.count(\".\")\n",
    "        casos = punto1, operador, punto2\n",
    "    else:\n",
    "        print(\"Operador no válido\")\n",
    "    final= [casos, \"=>\", \"\".join(resultado*[\".\"])]\n",
    "    return final\n",
    "\n"
   ]
  },
  {
   "cell_type": "code",
   "execution_count": 85,
   "metadata": {},
   "outputs": [
    {
     "data": {
      "text/plain": [
       "[('.....', '+', '................'), '=>', '.....................']"
      ]
     },
     "execution_count": 85,
     "metadata": {},
     "output_type": "execute_result"
    }
   ],
   "source": [
    "calculadora_puntos(punto1,operador,punto2)"
   ]
  },
  {
   "cell_type": "code",
   "execution_count": 87,
   "metadata": {},
   "outputs": [
    {
     "data": {
      "text/plain": [
       "[('....', '-', '...'), '=>', '.']"
      ]
     },
     "execution_count": 87,
     "metadata": {},
     "output_type": "execute_result"
    }
   ],
   "source": [
    "calculadora_puntos(punto1,operador,punto2)"
   ]
  },
  {
   "cell_type": "code",
   "execution_count": 89,
   "metadata": {},
   "outputs": [
    {
     "data": {
      "text/plain": [
       "[('.....', '*', '...'), '=>', '...............']"
      ]
     },
     "execution_count": 89,
     "metadata": {},
     "output_type": "execute_result"
    }
   ],
   "source": [
    "calculadora_puntos(punto1,operador,punto2)"
   ]
  },
  {
   "cell_type": "code",
   "execution_count": 91,
   "metadata": {},
   "outputs": [
    {
     "data": {
      "text/plain": [
       "[('.', '//', '..'), '=>', '']"
      ]
     },
     "execution_count": 91,
     "metadata": {},
     "output_type": "execute_result"
    }
   ],
   "source": [
    "calculadora_puntos(punto1,operador,punto2)"
   ]
  },
  {
   "cell_type": "code",
   "execution_count": 93,
   "metadata": {},
   "outputs": [
    {
     "data": {
      "text/plain": [
       "[('..', '-', '..'), '=>', '']"
      ]
     },
     "execution_count": 93,
     "metadata": {},
     "output_type": "execute_result"
    }
   ],
   "source": [
    "calculadora_puntos(punto1,operador,punto2)"
   ]
  },
  {
   "cell_type": "markdown",
   "metadata": {},
   "source": [
    "Modo 2:"
   ]
  },
  {
   "cell_type": "code",
   "execution_count": 106,
   "metadata": {},
   "outputs": [],
   "source": [
    "calculadora=input(\"Escriba una ecuacion sustituyendo los números por puntos separando cada elemento de la ecuación por un espacio\")"
   ]
  },
  {
   "cell_type": "code",
   "execution_count": 99,
   "metadata": {},
   "outputs": [],
   "source": [
    "def calculadora_puntos2(calculadora):\n",
    "    calculadora_lista= calculadora.split(\" \")\n",
    "    if calculadora_lista[1] == \"+\":\n",
    "        total= calculadora_lista[0].count(\".\") + calculadora_lista[2].count(\".\")\n",
    "    elif calculadora_lista[1] == \"-\":\n",
    "        if calculadora_lista[0].count(\".\") >= calculadora_lista[2].count(\".\"):\n",
    "            total= calculadora_lista[0].count(\".\") - calculadora_lista[2].count(\".\")\n",
    "        else:\n",
    "            print(\"No se puede realizar esta operación, el primer elemento siempre tiene que ser mayor que el segundo\")\n",
    "    elif calculadora_lista[1] == \"*\":\n",
    "        total= calculadora_lista[0].count(\".\") * calculadora_lista[2].count(\".\")\n",
    "    elif calculadora_lista[1] == \"//\":\n",
    "        total= calculadora_lista[0].count(\".\") // calculadora_lista[2].count(\".\")\n",
    "    else:\n",
    "        print(\"Operador no válido\")\n",
    "    final2= calculadora, \"=>\", \"\".join(total*[\".\"])\n",
    "    return \" \".join(final2)\n"
   ]
  },
  {
   "cell_type": "code",
   "execution_count": 69,
   "metadata": {},
   "outputs": [
    {
     "data": {
      "text/plain": [
       "'.. + .. => ....'"
      ]
     },
     "execution_count": 69,
     "metadata": {},
     "output_type": "execute_result"
    }
   ],
   "source": [
    "calculadora_puntos2(calculadora)"
   ]
  },
  {
   "cell_type": "code",
   "execution_count": 107,
   "metadata": {},
   "outputs": [
    {
     "data": {
      "text/plain": [
       "'.. - . => .'"
      ]
     },
     "execution_count": 107,
     "metadata": {},
     "output_type": "execute_result"
    }
   ],
   "source": [
    "calculadora_puntos2(calculadora)"
   ]
  },
  {
   "cell_type": "code",
   "execution_count": 102,
   "metadata": {},
   "outputs": [
    {
     "data": {
      "text/plain": [
       "'.. * .. => ....'"
      ]
     },
     "execution_count": 102,
     "metadata": {},
     "output_type": "execute_result"
    }
   ],
   "source": [
    "calculadora_puntos2(calculadora)"
   ]
  },
  {
   "cell_type": "code",
   "execution_count": 104,
   "metadata": {},
   "outputs": [
    {
     "data": {
      "text/plain": [
       "'... // .. => .'"
      ]
     },
     "execution_count": 104,
     "metadata": {},
     "output_type": "execute_result"
    }
   ],
   "source": [
    "calculadora_puntos2(calculadora)"
   ]
  },
  {
   "cell_type": "markdown",
   "metadata": {},
   "source": [
    "2.- Te despides de tu mejor amigo, \"Nos vemos el próximo año\".\n",
    "\n",
    "Vuestro trabajo: Dado un año, encuentra el próximo cumpleaños o el año más cercano en el que verás a tu mejor amigo.\n",
    "\n",
    "Condiciones\n",
    "\n",
    "Año siempre positivo.\n",
    "\n",
    "El siguiente año que le felicites a tu mejor amigo no puede tener ningún dígito repetido.\n",
    "\n",
    "Probad la función con los siguientes casos:\n",
    "​\n",
    "7712 ==> El siguiente año que felicitarás a tu amigo será el 7801. \n",
    "\n",
    "Por que es el siguiente año en el que no hay ninguún dígito repetido. \n",
    "​​\n",
    "1001 => 1023 \n",
    "​\n",
    "1123 => 1203\n",
    "​\n",
    "2001 => 2013\n"
   ]
  },
  {
   "cell_type": "code",
   "execution_count": 77,
   "metadata": {},
   "outputs": [],
   "source": [
    "def despedir_amigo(año, cumple=\"Nos vemos en el año:\"):\n",
    "    año += 1\n",
    "    while len(set(str(año))) != 4:\n",
    "        año +=1\n",
    "    return cumple, año\n"
   ]
  },
  {
   "cell_type": "code",
   "execution_count": 78,
   "metadata": {},
   "outputs": [
    {
     "data": {
      "text/plain": [
       "('Nos vemos en el año:', 7801)"
      ]
     },
     "execution_count": 78,
     "metadata": {},
     "output_type": "execute_result"
    }
   ],
   "source": [
    "despedir_amigo(7712)"
   ]
  },
  {
   "cell_type": "code",
   "execution_count": 79,
   "metadata": {},
   "outputs": [
    {
     "data": {
      "text/plain": [
       "('Nos vemos en el año:', 1023)"
      ]
     },
     "execution_count": 79,
     "metadata": {},
     "output_type": "execute_result"
    }
   ],
   "source": [
    "despedir_amigo(1001)"
   ]
  },
  {
   "cell_type": "code",
   "execution_count": 80,
   "metadata": {},
   "outputs": [
    {
     "data": {
      "text/plain": [
       "('Nos vemos en el año:', 1203)"
      ]
     },
     "execution_count": 80,
     "metadata": {},
     "output_type": "execute_result"
    }
   ],
   "source": [
    "despedir_amigo(1123)"
   ]
  },
  {
   "cell_type": "code",
   "execution_count": 81,
   "metadata": {},
   "outputs": [
    {
     "data": {
      "text/plain": [
       "('Nos vemos en el año:', 2013)"
      ]
     },
     "execution_count": 81,
     "metadata": {},
     "output_type": "execute_result"
    }
   ],
   "source": [
    "despedir_amigo(2001)"
   ]
  },
  {
   "cell_type": "markdown",
   "metadata": {},
   "source": [
    "3.- Tenéis que crear un función que chequee la vida de un evaporador que contiene un gas.\n",
    "\n",
    "Conocemos el contenido del evaporador (contenido en ml), el porcentaje de gas que se pierde cada día y el umbral en porcentaje a partir del cual el evaporador deja de ser útil. Todos los números serán estrictamente positivos.\n",
    "\n",
    "⚠️ Nota: el contenido no es, de hecho, necesario en el cuerpo de la función, podéis utilizarlo o no.\n",
    "Probad con los siguientes casos: \n",
    "​\n",
    "10, 10, 5 => 29\n",
    "​\n",
    "10, 10, 10 = > 22"
   ]
  },
  {
   "cell_type": "code",
   "execution_count": 68,
   "metadata": {},
   "outputs": [],
   "source": [
    "def evaporador(capacidad,perdida,umbral):\n",
    "    dias = 0\n",
    "    umbral = capacidad * umbral/100\n",
    "    while capacidad >= umbral:\n",
    "        capacidad -= capacidad * perdida/100\n",
    "        dias += 1\n",
    "    return f\"La vida de tu evaporador es de: {dias} días\""
   ]
  },
  {
   "cell_type": "code",
   "execution_count": 69,
   "metadata": {},
   "outputs": [
    {
     "data": {
      "text/plain": [
       "'La vida de tu evaporador es de: 29 días'"
      ]
     },
     "execution_count": 69,
     "metadata": {},
     "output_type": "execute_result"
    }
   ],
   "source": [
    "evaporador(10,10,5)"
   ]
  },
  {
   "cell_type": "code",
   "execution_count": 70,
   "metadata": {},
   "outputs": [
    {
     "data": {
      "text/plain": [
       "'La vida de tu evaporador es de: 22 días'"
      ]
     },
     "execution_count": 70,
     "metadata": {},
     "output_type": "execute_result"
    }
   ],
   "source": [
    "evaporador(10,10,10)"
   ]
  },
  {
   "cell_type": "markdown",
   "metadata": {},
   "source": [
    "4.- Definid una función que tome como argumento un entero y devuelva True o False dependiendo de si el número es primo o no.\n",
    "Según la Wikipedia, un número primo es un número natural mayor que 1 que no tiene divisores positivos más que 1 y él mismo.\n",
    "Probad la función con los siguientes números: \n",
    "​\n",
    "0 => False\n",
    "\n",
    "2 => True\n",
    "\n",
    "73 => True\n",
    "\n",
    "-1 => False\n",
    "\n",
    "5099 => True"
   ]
  },
  {
   "cell_type": "code",
   "execution_count": 7,
   "metadata": {},
   "outputs": [],
   "source": [
    "def primos(numero):\n",
    "    if numero < 1:\n",
    "        return False\n",
    "    else:\n",
    "        for i in range(2,numero):\n",
    "            if (numero%i) == 0:\n",
    "                return False\n",
    "        return True"
   ]
  },
  {
   "cell_type": "code",
   "execution_count": 8,
   "metadata": {},
   "outputs": [
    {
     "name": "stdout",
     "output_type": "stream",
     "text": [
      "False\n",
      "True\n",
      "True\n",
      "False\n",
      "True\n"
     ]
    }
   ],
   "source": [
    "print(primos(0))\n",
    "print(primos(2))\n",
    "print(primos(73))\n",
    "print(primos(-1))\n",
    "print(primos(5099))"
   ]
  },
  {
   "cell_type": "markdown",
   "metadata": {},
   "source": [
    "5.- Probablemente conozcais el sistema de \"me gusta\" de Facebook y otras páginas. La gente puede dar \"me gusta\" a las publicaciones del blog, a las imágenes o a otros elementos. Queremos crear el texto que debe mostrarse junto a dicho elemento.\n",
    "Cread una función que toma una lista que contiene los nombres de las personas a las que les gusta un artículo. Debe devolver el texto que se muestra en los ejemplos:\n",
    "\n",
    "Probad los siguientes ejemplos: \n",
    "​\n",
    "[]                              -->  \"A nadie le gusta esto\"\n",
    "\n",
    "[\"Paola\"]                       -->  \"A Peter le gusta esto\"\n",
    "\n",
    "[\"Jacoba\", \"Alex\"]               -->  \"A Jacob y Alex les gusta esto\"\n",
    "\n",
    "[\"Maria\", \"Juana\", \"Lola\"]         -->  \"A Max, John y Mark les gusta esto\"\n",
    "\n",
    "[\"Alex\", \"Jacoba\", \"Lola\", \"Carmen\"]-->  \"A Alex, Jacob y 2 más les gusta esto\"\n",
    "\n",
    "[\"Alex\", \"Jacoba\", \"Lola\", \"Carmen\", \"Mariana\"]-->  \"A Alex, Jacoba y 3 más les gusta esto\"\n",
    "\n",
    "Nota: Para 4 o más nombres, el número en \"y otros 2\" simplemente aumenta."
   ]
  },
  {
   "cell_type": "code",
   "execution_count": 49,
   "metadata": {},
   "outputs": [],
   "source": [
    "fb0= []\n",
    "fb1= [\"Paola\"]\n",
    "fb2= [\"Jacoba\", \"Alex\"] \n",
    "fb3= [\"Maria\", \"Juana\", \"Lola\"] \n",
    "fb4= [\"Alex\", \"Jacoba\", \"Lola\", \"Carmen\"]\n",
    "fb5= [\"Alex\", \"Jacoba\", \"Lola\", \"Carmen\", \"Mariana\"]"
   ]
  },
  {
   "cell_type": "code",
   "execution_count": 53,
   "metadata": {},
   "outputs": [],
   "source": [
    "def facebook(lista_fb):\n",
    "    resto = len(lista_fb) - 2\n",
    "\n",
    "    if len(lista_fb) == 0:\n",
    "        return \"A nadie le gusta esto\"\n",
    "    elif len(lista_fb) == 1:\n",
    "        return f\"A {lista_fb[0]} les gusta esto\"\n",
    "    elif len(lista_fb) == 2:\n",
    "        return f\"A {lista_fb[0]} y {lista_fb[1]} les gusta esto\"\n",
    "    elif len(lista_fb) == 3:\n",
    "        return f\"A {lista_fb[0]}, {lista_fb[1]} y {lista_fb[2]} les gusta esto\"\n",
    "    elif len(lista_fb) == 4:\n",
    "        return f\"A {lista_fb[0]}, {lista_fb[1]} y {resto} les gusta esto\"\n",
    "    elif len(lista_fb) == 5:\n",
    "        return f\"A {lista_fb[0]}, {lista_fb[1]} y {resto} les gusta esto\""
   ]
  },
  {
   "cell_type": "code",
   "execution_count": 60,
   "metadata": {},
   "outputs": [
    {
     "data": {
      "text/plain": [
       "'A nadie le gusta esto'"
      ]
     },
     "execution_count": 60,
     "metadata": {},
     "output_type": "execute_result"
    }
   ],
   "source": [
    "facebook(fb0)"
   ]
  },
  {
   "cell_type": "code",
   "execution_count": 61,
   "metadata": {},
   "outputs": [
    {
     "data": {
      "text/plain": [
       "'A Paola les gusta esto'"
      ]
     },
     "execution_count": 61,
     "metadata": {},
     "output_type": "execute_result"
    }
   ],
   "source": [
    "facebook(fb1)"
   ]
  },
  {
   "cell_type": "code",
   "execution_count": 62,
   "metadata": {},
   "outputs": [
    {
     "data": {
      "text/plain": [
       "'A Jacoba y Alex les gusta esto'"
      ]
     },
     "execution_count": 62,
     "metadata": {},
     "output_type": "execute_result"
    }
   ],
   "source": [
    "facebook(fb2)"
   ]
  },
  {
   "cell_type": "code",
   "execution_count": 63,
   "metadata": {},
   "outputs": [
    {
     "data": {
      "text/plain": [
       "'A Maria, Juana y Lola les gusta esto'"
      ]
     },
     "execution_count": 63,
     "metadata": {},
     "output_type": "execute_result"
    }
   ],
   "source": [
    "facebook(fb3)"
   ]
  },
  {
   "cell_type": "code",
   "execution_count": 64,
   "metadata": {},
   "outputs": [
    {
     "data": {
      "text/plain": [
       "'A Alex, Jacoba y 2 les gusta esto'"
      ]
     },
     "execution_count": 64,
     "metadata": {},
     "output_type": "execute_result"
    }
   ],
   "source": [
    "facebook(fb4)"
   ]
  },
  {
   "cell_type": "code",
   "execution_count": 65,
   "metadata": {},
   "outputs": [
    {
     "data": {
      "text/plain": [
       "'A Alex, Jacoba y 3 les gusta esto'"
      ]
     },
     "execution_count": 65,
     "metadata": {},
     "output_type": "execute_result"
    }
   ],
   "source": [
    "facebook(fb5)"
   ]
  }
 ],
 "metadata": {
  "kernelspec": {
   "display_name": "Python 3.10.4 ('adalabenv')",
   "language": "python",
   "name": "python3"
  },
  "language_info": {
   "codemirror_mode": {
    "name": "ipython",
    "version": 3
   },
   "file_extension": ".py",
   "mimetype": "text/x-python",
   "name": "python",
   "nbconvert_exporter": "python",
   "pygments_lexer": "ipython3",
   "version": "3.10.8"
  },
  "orig_nbformat": 4,
  "vscode": {
   "interpreter": {
    "hash": "b09caf96bf0d00c87bf22d52d5d9b835bbcda673d84b7b1547b87932947942a4"
   }
  }
 },
 "nbformat": 4,
 "nbformat_minor": 2
}
