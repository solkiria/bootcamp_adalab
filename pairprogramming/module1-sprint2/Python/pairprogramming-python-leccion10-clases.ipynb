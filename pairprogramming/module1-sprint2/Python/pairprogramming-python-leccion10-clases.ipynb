{
 "cells": [
  {
   "cell_type": "markdown",
   "metadata": {},
   "source": [
    "# Ejercicios Pair Programming - Sprint 2 \n",
    "## Lección 10 - Clases\n",
    "### Silvia Gordón, Lourdes Ochoa y Sonia Ruiz"
   ]
  },
  {
   "cell_type": "markdown",
   "metadata": {},
   "source": [
    "En este ejercicio de pair programming crearemos una clase. Imaginemos que nuestro jefe nos pide que creemos una clase para tener más ordenada la información sobre cada uno de los empleados de la empresa. Para ello:\n",
    "\n",
    "\n",
    "1. Definid una clase que se llame Empleados.\n",
    "\n",
    "\n",
    "2. Definid los siguientes atributos que caracterizan a nuestros empleados:\n",
    "\n",
    "    - nombre\n",
    "\n",
    "    - apellido\n",
    "\n",
    "    - edad\n",
    "\n",
    "    - posición que ocupa en la empresa\n",
    "\n",
    "    - año en que entró en la empresa\n",
    "\n",
    "    - número de días de vacaciones que tiene\n",
    "\n",
    "    - Las herramientas que usa cada uno de ellos, por ejemplo, Outlook, excel y word. Deberá ser una lista.\n",
    "    \n",
    "\n",
    "3. Cread una instancia para la clase creada\n",
    "\n",
    "\n",
    "4. Definid los siguientes métodos:\n",
    "\n",
    "    - descripción\n",
    "\n",
    "    - calculo_vacaciones\n",
    "\n",
    "    - cambiando_posicion\n",
    "\n",
    "\n",
    "\n",
    "**Tips para definir los métodos:**\n",
    "\n",
    "\n",
    "1. Método descripcion:\n",
    "\n",
    "    - El return deberá ser un string en el que aparezca el nombre, apellidos, los años que lleva en la empresa y los días de vacaciones que le quedan. Este método deberá devolver algo como esto:\n",
    "    \n",
    "        `\"El/ella, es Lorena, Data Analyst, quien lleva con nostros en la empresa desde 2000. Además este año le quedan 15 dias de vacaciones\"`\n",
    "\n",
    "\n",
    "2. Método calculo_vacaciones:\n",
    "\n",
    "    - Deberá contener input que nos pregunte cuántos días te quieres ir de vacaciones.\n",
    "\n",
    "    - Luego deberemos restar el número de días que se fue de vacaciones a el número total de vacaciones que tiene ese empleado.\n",
    "\n",
    "    - Una condición que chequee si:\n",
    "\n",
    "        ·Si el numero de vacaciones que tiene el empleado es igual a 0, devolved un mensaje que diga que se le acabaron las vacaciones\n",
    "\n",
    "        · Si el número de días que se quiere ir de vacaciones es mayor que el número de vacaciones que le quedan, devolved un mensaje que diga que no se puede ir tantos de vacaciones\n",
    "\n",
    "        · En caso de que no se cumplan ninguna de estas condiciones, que nos devuelva el número de vacaciones que le quedan al empleado.\n",
    "\n",
    "\n",
    "3. Método cambiando_posicion:\n",
    "\n",
    "    - Iteraremos por la lista de herramientas que usa el empleado:\n",
    "\n",
    "        · Si el empleado usa \"Python\" devolveremos un mensaje de bien hecho!\n",
    "        \n",
    "        · Si el empleado usa \"Excel\" le recomendaremos amigablemente que deje excel y empiece a usar Excel\n",
    "        \n",
    "\n",
    "Happy coding 💻"
   ]
  },
  {
   "cell_type": "markdown",
   "metadata": {},
   "source": [
    "Creacion de clase y atributos."
   ]
  },
  {
   "cell_type": "code",
   "execution_count": 2,
   "metadata": {},
   "outputs": [],
   "source": [
    "class Empleados:\n",
    "    def __init__(self, nombre, apellido, int_edad, cargo, int_inicio, int_vacaciones, list_skills):\n",
    "        #lit_skills debe ser una lista\n",
    "        self.nombre = nombre\n",
    "        self.apellido = apellido\n",
    "        self.int_edad = int(int_edad)\n",
    "        self.cargo = cargo\n",
    "        self.int_inicio = int(int_inicio)\n",
    "        self.int_vacaciones = int(int_vacaciones)\n",
    "        self.list_skills = list_skills\n",
    "\n"
   ]
  },
  {
   "cell_type": "markdown",
   "metadata": {},
   "source": [
    "Crear una instancia para la clase creada."
   ]
  },
  {
   "cell_type": "code",
   "execution_count": 3,
   "metadata": {},
   "outputs": [],
   "source": [
    "silvia = Empleados('Silvia', 'Gordon', 30, 'Estudiante',2022, 20, ['Outlook', 'Excel', 'Python'])"
   ]
  },
  {
   "cell_type": "code",
   "execution_count": 4,
   "metadata": {},
   "outputs": [
    {
     "data": {
      "text/plain": [
       "['Outlook', 'Excel', 'Python']"
      ]
     },
     "execution_count": 4,
     "metadata": {},
     "output_type": "execute_result"
    }
   ],
   "source": [
    "silvia.list_skills"
   ]
  },
  {
   "cell_type": "markdown",
   "metadata": {},
   "source": [
    "Creacion de metodos dentro de la clase."
   ]
  },
  {
   "cell_type": "code",
   "execution_count": 7,
   "metadata": {},
   "outputs": [],
   "source": [
    "class Empleados:\n",
    "    def __init__(self, nombre, apellido, int_edad, cargo, int_inicio, int_vacaciones, list_skills):\n",
    "        #lit_skills debe ser una lista\n",
    "        self.nombre = nombre\n",
    "        self.apellido = apellido\n",
    "        self.int_edad = int(int_edad)\n",
    "        self.cargo = cargo\n",
    "        self.int_inicio = int(int_inicio)\n",
    "        self.int_vacaciones = int(int_vacaciones)\n",
    "        self.list_skills = list_skills\n",
    "\n",
    "    def descripcion(self):\n",
    "        return f'El/ella, es {self.nombre}, {self.cargo}, quien lleva con nostros en la empresa desde {self.int_inicio}. Además este año le quedan {self.int_vacaciones} dias de vacaciones'\n"
   ]
  },
  {
   "cell_type": "code",
   "execution_count": 5,
   "metadata": {},
   "outputs": [],
   "source": [
    "silvia = Empleados('Silvia', 'Gordon', 30, 'Estudiante',2022, 20, ['Outlook', 'Excel', 'Python'])"
   ]
  },
  {
   "cell_type": "code",
   "execution_count": 9,
   "metadata": {},
   "outputs": [
    {
     "data": {
      "text/plain": [
       "'El/ella, es Silvia, Estudiante, quien lleva con nostros en la empresa desde 2022. Además este año le quedan 20 dias de vacaciones'"
      ]
     },
     "execution_count": 9,
     "metadata": {},
     "output_type": "execute_result"
    }
   ],
   "source": [
    "silvia.descripcion()"
   ]
  },
  {
   "cell_type": "code",
   "execution_count": 1,
   "metadata": {},
   "outputs": [],
   "source": [
    "class Empleados:\n",
    "    def __init__(self, nombre, apellido, int_edad, cargo, int_inicio, int_vacaciones, list_skills):\n",
    "        #lit_skills debe ser una lista\n",
    "        self.nombre = nombre\n",
    "        self.apellido = apellido\n",
    "        self.int_edad = int(int_edad)\n",
    "        self.cargo = cargo\n",
    "        self.int_inicio = int(int_inicio)\n",
    "        self.int_vacaciones = int(int_vacaciones)\n",
    "        self.list_skills = list_skills\n",
    "\n",
    "    def descripcion(self):\n",
    "        return f'El/ella, es {self.nombre}, {self.cargo}, quien lleva con nostros en la empresa desde {self.int_inicio}. Además este año le quedan {self.int_vacaciones} dias de vacaciones'\n",
    "    \n",
    "    def calculo_vacaciones(self):\n",
    "        librar=int(input('¿Cuántos días te quieres de vacaciones?'))\n",
    "        if self.int_vacaciones == 0:\n",
    "            return 'Se te han acabado las vacaciones'\n",
    "        elif self.int_vacaciones<librar:\n",
    "            return 'No te puedes ir tantos dias de vacaciones'\n",
    "        else:\n",
    "            dias_disponibles=self.int_vacaciones-librar\n",
    "            return f'Vas a librar {librar} días. Te quedan {dias_disponibles} dias de vacaciones'\n"
   ]
  },
  {
   "cell_type": "code",
   "execution_count": 3,
   "metadata": {},
   "outputs": [
    {
     "data": {
      "text/plain": [
       "'Vas a librar 3 días. Te quedan 17 dias de vacaciones'"
      ]
     },
     "execution_count": 3,
     "metadata": {},
     "output_type": "execute_result"
    }
   ],
   "source": [
    "silvia.calculo_vacaciones()"
   ]
  },
  {
   "cell_type": "code",
   "execution_count": 4,
   "metadata": {},
   "outputs": [],
   "source": [
    "class Empleados:\n",
    "    def __init__(self, nombre, apellido, int_edad, cargo, int_inicio, int_vacaciones, list_skills):\n",
    "        #lit_skills debe ser una lista\n",
    "        self.nombre = nombre\n",
    "        self.apellido = apellido\n",
    "        self.int_edad = int(int_edad)\n",
    "        self.cargo = cargo\n",
    "        self.int_inicio = int(int_inicio)\n",
    "        self.int_vacaciones = int(int_vacaciones)\n",
    "        self.list_skills = list_skills\n",
    "\n",
    "    def descripcion(self):\n",
    "        return f'El/ella, es {self.nombre}, {self.cargo}, quien lleva con nostros en la empresa desde {self.int_inicio}. Además este año le quedan {self.int_vacaciones} dias de vacaciones'\n",
    "    \n",
    "    def calculo_vacaciones(self):\n",
    "        librar=int(input('¿Cuántos días te quieres de vacaciones?'))\n",
    "        if self.int_vacaciones == 0:\n",
    "            return 'Se te han acabado las vacaciones'\n",
    "        elif self.int_vacaciones<librar:\n",
    "            return 'No te puedes ir tantos dias de vacaciones'\n",
    "        else:\n",
    "            dias_disponibles=self.int_vacaciones-librar\n",
    "            return f'Te quedan {dias_disponibles} dias de vacaciones'\n",
    "    \n",
    "    def cambiando_posicion(self):\n",
    "        for i in self.list_skills:\n",
    "            lista_minusculas=[]\n",
    "            a = i.lower()\n",
    "            lista_minusculas.append(a)\n",
    "\n",
    "            if 'python' in lista_minusculas:\n",
    "                print('Veo que estás utilizando Python. ¡Bien hecho!')\n",
    "            if 'excel' in lista_minusculas:\n",
    "                print('Veo que estás utilizando Excel, te recomiendo que empieces a utilizar Pandas')\n",
    "        return\n"
   ]
  },
  {
   "cell_type": "code",
   "execution_count": 6,
   "metadata": {},
   "outputs": [
    {
     "name": "stdout",
     "output_type": "stream",
     "text": [
      "Veo que estás utilizando Excel, te recomiendo que empieces a utilizar Pandas\n",
      "Veo que estás utilizando Python. ¡Bien hecho!\n"
     ]
    }
   ],
   "source": [
    "silvia.cambiando_posicion()"
   ]
  },
  {
   "cell_type": "code",
   "execution_count": 36,
   "metadata": {},
   "outputs": [
    {
     "data": {
      "text/plain": [
       "['Outlook', 'Excel', 'Python']"
      ]
     },
     "execution_count": 36,
     "metadata": {},
     "output_type": "execute_result"
    }
   ],
   "source": [
    "silvia.list_skills"
   ]
  }
 ],
 "metadata": {
  "kernelspec": {
   "display_name": "Python 3.10.8 ('adalabenv')",
   "language": "python",
   "name": "python3"
  },
  "language_info": {
   "codemirror_mode": {
    "name": "ipython",
    "version": 3
   },
   "file_extension": ".py",
   "mimetype": "text/x-python",
   "name": "python",
   "nbconvert_exporter": "python",
   "pygments_lexer": "ipython3",
   "version": "3.10.8"
  },
  "orig_nbformat": 4,
  "vscode": {
   "interpreter": {
    "hash": "b09caf96bf0d00c87bf22d52d5d9b835bbcda673d84b7b1547b87932947942a4"
   }
  }
 },
 "nbformat": 4,
 "nbformat_minor": 2
}
