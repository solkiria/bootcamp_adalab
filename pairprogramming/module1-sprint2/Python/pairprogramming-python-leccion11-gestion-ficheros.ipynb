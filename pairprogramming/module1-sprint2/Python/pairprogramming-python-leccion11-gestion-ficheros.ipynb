{
 "cells": [
  {
   "cell_type": "markdown",
   "metadata": {},
   "source": [
    "# Ejercicios Pair Programming - Sprint 2"
   ]
  },
  {
   "cell_type": "markdown",
   "metadata": {},
   "source": [
    "## Lección 11 - Gestión de Ficheros"
   ]
  },
  {
   "cell_type": "markdown",
   "metadata": {},
   "source": [
    "### Silvia Gordón, Lourdes Ochoa y Sonia Ruiz"
   ]
  },
  {
   "cell_type": "markdown",
   "metadata": {},
   "source": [
    "---------------------------------- PRIMERA FUNCIÓN -----------------------\n",
    "Esta función debe incluir el código que:\n",
    "\n",
    "Nos muestre en que carpeta estamos trabajando.\n",
    "\n",
    "Cree una carpeta que se llame \"aprendiendo-ficheros\". ⚠️ Tened en cuenta que si la carpeta ya existe no la podemos crear, nos devolverá un error. Incluye en la función un programa que evite que nos de un error si la carpeta ya existe.\n",
    "\n",
    "Cree otra carpeta que se llame \"datos\" dentro de la carpeta \"aprendiendo-ficheros\". En esta carpeta \"datos\" guardaremos el fichero \"saludo.txt\" que os habéis descargado.\n",
    "\n",
    "Cambiad el directorio de trabajo a la carpeta \"datos\". Antes de seguir chequead que estáis trabajando en la carpeta \"datos\".\n",
    "\n",
    "Cambiad el nombre de la carpeta creada en el punto 2 a \"primera-toma-contacto\"\n",
    "\n",
    "💡 Pistas para resolver este ejercicio 💡 Esta función debe incluir el código que:\n",
    "\n",
    "La función tendrá que recibir 3 parámetros:\n",
    "\n",
    "El nombre del nombre de la primera carpeta\n",
    "\n",
    "El nombre de la carpeta segunda carpeta\n",
    "\n",
    "El nombre con el que queramos cambiar el nombre de la primera carpeta creada\n",
    "\n",
    "Para saber si las carpetas ya existen tendréis que usar lstdir(recordad que nos devuelve una lista de ficheros y carpetas).\n",
    "Para poder controlar los errores tendremos que usar un if loop, que si el fichero existe, nos devuelva un mensaje de que el fichero ya existe. En caso de que no exista, los deberéis crear y que la función nos muestre un mensaje de que se ha creado.\n",
    "Tendréis que ir cambiando de directorio para poder crear las carpetas y cambiar sus nombres."
   ]
  },
  {
   "cell_type": "markdown",
   "metadata": {},
   "source": [
    "1.- Creación de carpetas y movimientos entre ellas"
   ]
  },
  {
   "cell_type": "code",
   "execution_count": 1,
   "metadata": {},
   "outputs": [
    {
     "data": {
      "text/plain": [
       "'/mnt/c/Users/silvia/Desktop/Adalab/DA-promoc-modulo1-sprint2-lourdes-silvia-sonia/Python'"
      ]
     },
     "execution_count": 1,
     "metadata": {},
     "output_type": "execute_result"
    }
   ],
   "source": [
    "import os\n",
    "\n",
    "os.getcwd()"
   ]
  },
  {
   "cell_type": "code",
   "execution_count": 2,
   "metadata": {},
   "outputs": [],
   "source": [
    "def primera_funcion(carpeta1,carpeta2,nombrenuevo):\n",
    "\n",
    "    os.chdir(\"../../DA-promoc-modulo1-sprint2-lourdes-silvia-sonia\")\n",
    "\n",
    "    if carpeta1 is True:\n",
    "        print(f\"{carpeta1} ya existe\")\n",
    "    else:\n",
    "        os.mkdir(carpeta1)\n",
    "        print(f\"La carpeta {carpeta1} se ha creado con éxito\")\n",
    "    \n",
    "    if carpeta2 is True:\n",
    "        print(f\"{carpeta2} ya existe\")\n",
    "    else:\n",
    "        os.mkdir(f\"{carpeta1}/{carpeta2}\")\n",
    "        print(f\"La carpeta {carpeta2} se ha creado con éxito\")\n",
    "    \n",
    "    os.chdir(f\"{carpeta1}/{carpeta2}\")\n",
    "    print(os.listdir())\n",
    "\n",
    "    os.chdir(\"../../\")\n",
    "\n",
    "    os.rename(f\"{carpeta1}\",f\"{nombrenuevo}\")\n",
    "    print(os.listdir())"
   ]
  },
  {
   "cell_type": "code",
   "execution_count": 3,
   "metadata": {},
   "outputs": [
    {
     "name": "stdout",
     "output_type": "stream",
     "text": [
      "La carpeta aprendiendo-ficheros se ha creado con éxito\n",
      "La carpeta datos se ha creado con éxito\n",
      "[]\n"
     ]
    },
    {
     "ename": "OSError",
     "evalue": "[Errno 39] Directory not empty: 'aprendiendo-ficheros' -> 'primera-toma-contacto'",
     "output_type": "error",
     "traceback": [
      "\u001b[0;31m---------------------------------------------------------------------------\u001b[0m",
      "\u001b[0;31mOSError\u001b[0m                                   Traceback (most recent call last)",
      "\u001b[0;32m/tmp/ipykernel_26102/654153588.py\u001b[0m in \u001b[0;36m<module>\u001b[0;34m\u001b[0m\n\u001b[0;32m----> 1\u001b[0;31m \u001b[0mprimera_funcion\u001b[0m\u001b[0;34m(\u001b[0m\u001b[0;34m\"aprendiendo-ficheros\"\u001b[0m\u001b[0;34m,\u001b[0m\u001b[0;34m\"datos\"\u001b[0m\u001b[0;34m,\u001b[0m\u001b[0;34m\"primera-toma-contacto\"\u001b[0m\u001b[0;34m)\u001b[0m\u001b[0;34m\u001b[0m\u001b[0;34m\u001b[0m\u001b[0m\n\u001b[0m",
      "\u001b[0;32m/tmp/ipykernel_26102/215382766.py\u001b[0m in \u001b[0;36mprimera_funcion\u001b[0;34m(carpeta1, carpeta2, nombrenuevo)\u001b[0m\n\u001b[1;32m     20\u001b[0m     \u001b[0mos\u001b[0m\u001b[0;34m.\u001b[0m\u001b[0mchdir\u001b[0m\u001b[0;34m(\u001b[0m\u001b[0;34m\"../../\"\u001b[0m\u001b[0;34m)\u001b[0m\u001b[0;34m\u001b[0m\u001b[0;34m\u001b[0m\u001b[0m\n\u001b[1;32m     21\u001b[0m \u001b[0;34m\u001b[0m\u001b[0m\n\u001b[0;32m---> 22\u001b[0;31m     \u001b[0mos\u001b[0m\u001b[0;34m.\u001b[0m\u001b[0mrename\u001b[0m\u001b[0;34m(\u001b[0m\u001b[0;34mf\"{carpeta1}\"\u001b[0m\u001b[0;34m,\u001b[0m\u001b[0;34mf\"{nombrenuevo}\"\u001b[0m\u001b[0;34m)\u001b[0m\u001b[0;34m\u001b[0m\u001b[0;34m\u001b[0m\u001b[0m\n\u001b[0m\u001b[1;32m     23\u001b[0m     \u001b[0mprint\u001b[0m\u001b[0;34m(\u001b[0m\u001b[0mos\u001b[0m\u001b[0;34m.\u001b[0m\u001b[0mlistdir\u001b[0m\u001b[0;34m(\u001b[0m\u001b[0;34m)\u001b[0m\u001b[0;34m)\u001b[0m\u001b[0;34m\u001b[0m\u001b[0;34m\u001b[0m\u001b[0m\n",
      "\u001b[0;31mOSError\u001b[0m: [Errno 39] Directory not empty: 'aprendiendo-ficheros' -> 'primera-toma-contacto'"
     ]
    }
   ],
   "source": [
    "primera_funcion(\"aprendiendo-ficheros\",\"datos\",\"primera-toma-contacto\")"
   ]
  },
  {
   "cell_type": "markdown",
   "metadata": {},
   "source": [
    "---------------------------------- SEGUNDA FUNCIÓN -----------------------\n",
    "\n",
    "📌 Antes de empezar, recordad descargaros el fichero saludo.txt y guardarlo en el repo en el que estáis trabajando, dentro de una carpeta que se llame \"datos\".\n",
    "\n",
    "Lea el fichero que se llame \"saludo.txt y muestre su contenido completo.\n",
    "\n",
    "Muestra la línea 4 del fichero\n",
    "\n",
    "💡 Pistas para resolver este ejercicio 💡\n",
    "\n",
    "Antes de empezar, tendréis que saber cuál es vuestro directorio de trabajo.\n",
    "\n",
    "Tened en cuenta en que carpeta estáis. Si vuestro directorio de trabajo no es \"datos\" tendréis que cambiarlo o poner la ruta relativa a la carpeta \"datos\".\n",
    "\n",
    "Usar if... else para evitar que se nos pare el código.\n",
    "\n",
    "Para cambiar el fichero podréis usar el comando input para preguntar el usuario donde está el fichero y que se pueda usar la ruta relativa o absoluta."
   ]
  },
  {
   "cell_type": "code",
   "execution_count": 3,
   "metadata": {},
   "outputs": [],
   "source": [
    "def segunda_funcion(archivo):\n",
    "    \n",
    "    print(os.getcwd())\n",
    "    \n",
    "    os.chdir(\"primera-toma-contacto/datos\")\n",
    "\n",
    "    with open(archivo) as a:\n",
    "        archivo_abierto = a.readlines()\n",
    "        print(archivo_abierto)\n",
    "        a.close()\n",
    "    \n",
    "    # Hemos elegido la línea 5 ya que la línea 4 es un salto de línea y para poder verlo más claro visualizamos la siguiente.\n",
    "    print(archivo_abierto[4])\n",
    "\n"
   ]
  },
  {
   "cell_type": "code",
   "execution_count": 4,
   "metadata": {},
   "outputs": [
    {
     "name": "stdout",
     "output_type": "stream",
     "text": [
      "/mnt/c/Users/silvia/Desktop/Adalab/DA-promoc-modulo1-sprint2-lourdes-silvia-sonia\n",
      "['Hola Adalabers!!!\\n', '\\n', 'Estamos en la sesión de pair-programming para familiarizarnos con la gestión de carpetas y ficheros desde Python 🙂🌊\\n', '\\n', 'Esto esta siendo suuuper divertidooooo']\n",
      "Esto esta siendo suuuper divertidooooo\n"
     ]
    }
   ],
   "source": [
    "segunda_funcion(\"saludo.txt\")"
   ]
  },
  {
   "cell_type": "markdown",
   "metadata": {},
   "source": [
    "2.- Lectura y escritura de ficheros"
   ]
  },
  {
   "cell_type": "markdown",
   "metadata": {},
   "source": [
    "La función debe recibir 4 parámetros:\n",
    "\n",
    "Nombre del fichero, incluyendo la extensión.\n",
    "\n",
    "Como queremos leer el fichero.\n",
    "\n",
    "El encoding del fichero.\n",
    "\n",
    "El contenido que queremos escribir en el fichero.\n",
    "\n",
    "Condiciones de la función:\n",
    "\n",
    "Si el fichero no existe, debe crearlo, insertar contenido y mostrar su contenido.\n",
    "\n",
    "Si el fichero existe pregunta al usuario si quiere sobreescribirlo. En caso de Si, sobreescribe el fichero, insertad contenido y leedlo. En caso de No, no hace nada.\n",
    "\n",
    "💡 Pistas 💡\n",
    "Para chequear si un fichero existe, podemos usar la función os.listdir() que devuelve una lista con los nombres de los ficheros que hay en un directorio.\n",
    "\n",
    "Para crear un fichero, podemos usar la función open() que recibe como parámetros el nombre del fichero, el modo de apertura y el encoding.\n",
    "\n",
    "Para chequear si el fichero existe debéis usar los for loops y el método in para comprobar si el nombre del fichero está en la lista de ficheros.\n",
    "\n",
    "Usar un input para preguntar al usuario si quiere sobreescribir el fichero.\n",
    "\n",
    "Para sobreescribir el fichero, podemos usar la función open() que recibe como parámetros el nombre del fichero, el modo de apertura y el encoding.\n",
    "\n",
    "Strings que cubren más que una línea tienen que ser iniciados y cerrados con tres comillas \"\"\"."
   ]
  },
  {
   "cell_type": "code",
   "execution_count": 6,
   "metadata": {},
   "outputs": [
    {
     "data": {
      "text/plain": [
       "'/mnt/c/Users/silvia/Desktop/Adalab/DA-promoc-modulo1-sprint2-lourdes-silvia-sonia/primera-toma-contacto/datos'"
      ]
     },
     "execution_count": 6,
     "metadata": {},
     "output_type": "execute_result"
    }
   ],
   "source": [
    "os.getcwd()"
   ]
  },
  {
   "cell_type": "code",
   "execution_count": null,
   "metadata": {},
   "outputs": [],
   "source": [
    "carta = \"\"\"\n",
    "      Thu Oct 31 08:11:39 2002\n",
    "        Return-Path: <bensul2004nng@spinfinder.com>\n",
    "        X-Sieve: cmu-sieve 2.0\n",
    "        Return-Path: <bensul2004nng@spinfinder.com>\n",
    "        Message-Id: <200210311310.g9VDANt24674@bloodwork.mr.itd.UM>\n",
    "        From: \"Mr. Ben Suleman\" <bensul2004nng@spinfinder.com>\n",
    "        Date: Thu, 31 Oct 2002 05:10:00\n",
    "        To: R@M\n",
    "        Subject: URGENT ASSISTANCE /RELATIONSHIP (P)\n",
    "        MIME-Version: 1.0\n",
    "        Content-Type: text/plain;charset=\"iso-8859-1\"\n",
    "        Content-Transfer-Encoding: 7bit\n",
    "        Status: O\n",
    "\n",
    "        Dear Friend,\n",
    "\n",
    "        I am Mr. Ben Suleman a custom officer and work as Assistant controller of the Customs and Excise department Of the Federal Ministry of Internal Affairs stationed at the Murtala Mohammed International Airport, Ikeja, Lagos-Nigeria.\n",
    "\n",
    "        After the sudden death of the former Head of state of Nigeria General Sanni Abacha on June 8th 1998 his aides and immediate members of his family were arrested while trying to escape from Nigeria in a Chartered jet to Saudi Arabia with 6 trunk boxes Marked \"Diplomatic Baggage\". Acting on a tip-off as they attempted to board the Air Craft,my officials carried out a thorough search on the air craft and discovered that the 6 trunk boxes contained foreign currencies amounting to US$197,570,000.00(One Hundred and  Ninety-Seven Million Five Hundred Seventy Thousand United States Dollars).\n",
    "\n",
    "        I declared only (5) five boxes to the government and withheld one (1) in my custody containing the sum of (US$30,000,000.00) Thirty Million United States Dollars Only, which has been disguised to prevent their being discovered during transportation process.Due to several media reports on the late head of state about all the money him and his co-government officials stole from our government treasury amounting\n",
    "        to US$55 Billion Dollars (ref:ngrguardiannews.com) of July 2nd 1999. Even the London times of July 1998 reported that General Abacha has over US$3.Billion dollars in one account overseas. We decided to conceal this one (1)box till the situation is calm and quite on the issue. The box was thus deposited with a security company here in Nigeria and tagged as \"Precious Stones and Jewellry\" in other that its\n",
    "        content will not be discovered. Now that all is calm, we (myself and two of my colleagues in the operations team) are now ready to move this box out of the country through a diplomatic arrangement which is the safest means. \n",
    "\n",
    "        However as government officials the Civil Service Code of Conduct does not allow us by law to operate any foreign account or own foreign investment and the amount of money that can be found in our account\n",
    "        cannot be more than our salary on the average, thus our handicapp and our need for your assistance to help collect and keep safely in your account this money.\n",
    "\n",
    "        Therefore we want you to assist us in moving this money out of Nigeria. We shall definitely compensate you handsomely for the assistance. We can do this by instructing the Security Company here in Nigeria to\n",
    "        move the consignment to their affiliate branch office outside Nigeria through diplomatic means and the consignment will be termed as Precious Stones and Jewelleries\" which you bought during your visit to Nigeria and is being transfered to your country from here for safe keeping. Then we can arrange to meet at the destination country to take the delivery of the consignment. You will thereafter open an account there and lodge the Money there and gradually instruct remittance to your Country. \n",
    "\n",
    "        This business is 100% risk free for you so please treat this matter with utmost confidentiality .If you indicate your interest to assist us please just e-mail me for more Explanation on how we plan to execute the transaction.\n",
    "\n",
    "        Expecting your response urgently.\n",
    "\n",
    "        Best regards,\n",
    "\n",
    "        Mr. Ben Suleman\n",
    "\n",
    "        Wed Oct 30 21:41:56 2002\n",
    "        Return-Path: <james_ngola2002@maktoob.com>\n",
    "        X-Sieve: cmu-sieve 2.0\n",
    "        Return-Path: <james_ngola2002@maktoob.com>\n",
    "        Message-Id: <200210310241.g9V2fNm6028281@cs.CU>\n",
    "        From: \"MR. JAMES NGOLA.\" <james_ngola2002@maktoob.com>\n",
    "        Reply-To: james_ngola2002@maktoob.com\n",
    "        To: webmaster@aclweb.org\n",
    "        Date: Thu, 31 Oct 2002 02:38:20 +0000\n",
    "        Subject: URGENT BUSINESS ASSISTANCE AND PARTNERSHIP\n",
    "        X-Mailer: Microsoft Outlook Express 5.00.2919.6900 DM\n",
    "        MIME-Version: 1.0\n",
    "        Content-Type: text/plain; charset=\"us-ascii\"\n",
    "        Content-Transfer-Encoding: 8bit\n",
    "        X-MIME-Autoconverted: from quoted-printable to 8bit by sideshowmel.si.UM id g9V2foW24311\n",
    "        Status: O\n",
    "\n",
    "        FROM:MR. JAMES NGOLA.\n",
    "        CONFIDENTIAL TEL: 233-27-587908.\n",
    "        E-MAIL: (james_ngola2002@maktoob.com).\n",
    "\n",
    "        URGENT BUSINESS ASSISTANCE AND PARTNERSHIP.\n",
    "\n",
    "\n",
    "        DEAR FRIEND,\n",
    "\n",
    "        I AM ( DR.) JAMES NGOLA, THE PERSONAL ASSISTANCE TO THE LATE CONGOLESE (PRESIDENT LAURENT KABILA) WHO WAS ASSASSINATED BY HIS BODY GUARD ON 16TH JAN. 2001.\n",
    "\n",
    "\n",
    "        THE INCIDENT OCCURRED IN OUR PRESENCE WHILE WE WERE HOLDING MEETING WITH HIS EXCELLENCY OVER THE FINANCIAL RETURNS FROM THE DIAMOND SALES IN THE AREAS CONTROLLED BY (D.R.C.) DEMOCRATIC REPUBLIC OF CONGO FORCES AND THEIR FOREIGN ALLIES ANGOLA AND ZIMBABWE, HAVING RECEIVED THE PREVIOUS DAY (USD$100M) ONE HUNDRED MILLION UNITED STATES DOLLARS, CASH IN THREE DIPLOMATIC BOXES ROUTED THROUGH ZIMBABWE.\n",
    "\n",
    "        MY PURPOSE OF WRITING YOU THIS LETTER IS TO SOLICIT FOR YOUR ASSISTANCE AS TO BE A COVER TO THE FUND AND ALSO COLLABORATION IN MOVING THE SAID FUND INTO YOUR BANK ACCOUNT THE SUM OF (USD$25M) TWENTY FIVE MILLION UNITED STATES DOLLARS ONLY, WHICH I DEPOSITED WITH A SECURITY COMPANY IN GHANA, IN A DIPLOMATIC BOX AS GOLDS WORTH (USD$25M) TWENTY FIVE MILLION UNITED STATES DOLLARS ONLY FOR SAFE KEEPING IN A SECURITY VAULT FOR ANY FURTHER INVESTMENT PERHAPS IN YOUR COUNTRY. \n",
    "\n",
    "        YOU WERE INTRODUCED TO ME BY A RELIABLE FRIEND OF MINE WHO IS A TRAVELLER,AND ALSO A MEMBER OF CHAMBER OF COMMERCE AS A RELIABLE AND TRUSTWORTHY PERSON WHOM I CAN RELY ON AS FOREIGN PARTNER, EVEN THOUGH THE NATURE OF THE TRANSACTION WAS NOT REVEALED TO HIM FOR SECURITY REASONS.\n",
    "\n",
    "\n",
    "        THE (USD$25M) WAS PART OF A PROCEEDS FROM DIAMOND TRADE MEANT FOR THE LATE PRESIDENT LAURENT KABILA WHICH WAS DELIVERED THROUGH ZIMBABWE IN DIPLOMATIC BOXES. THE BOXES WERE KEPT UNDER MY CUSTODY BEFORE THE SAD EVENT THAT TOOK THE LIFE OF (MR. PRESIDENT).THE CONFUSION THAT ENSUED AFTER THE ASSASSINATION AND THE SPORADIC SHOOTING AMONG THE FACTIONS, I HAVE TO RUN AWAY FROM THE COUNTRY FOR MY DEAR LIFE AS I AM NOT A SOLDIER BUT A CIVIL SERVANT I CROSSED RIVER CONGO TO OTHER SIDE OF CONGO LIBREVILLE FROM THERE I MOVED TO THE THIRD COUNTRY GHANA WHERE I AM PRESENTLY TAKING REFUGE. \n",
    "\n",
    "        AS A MATTER OF FACT, WHAT I URGENTLY NEEDED FROM YOU IS YOUR ASSISTANCE IN MOVING THIS MONEY INTO YOUR ACCOUNT IN YOUR COUNTRY FOR INVESTMENT WITHOUT RAISING EYEBROW. FOR YOUR ASSISTANCE I WILL GIVE YOU 20% OF THE TOTAL SUM AS YOUR OWN SHARE WHEN THE MONEY GETS TO YOUR ACCOUNT, WHILE 75% WILL BE FOR ME, OF WHICH WITH YOUR KIND ADVICE I HOPE TO INVEST IN PROFITABLE VENTURE IN YOUR COUNTRY IN OTHER TO SETTLE DOWN FOR MEANINGFUL LIFE, AS I AM TIRED OF LIVING IN A WAR ENVIRONMENT. \n",
    "\n",
    "        THE REMAINING 5% WILL BE USED TO OFFSET ANY COST INCURRED IN THE CAUSE OF MOVING THE MONEY TO YOUR ACCOUNT. IF THE PROPOSAL IS ACCEPTABLE TO YOU PLEASE CONTACT ME IMMEDIATELY THROUGH THE ABOVE TELEPHONE AND E-MAIL, TO ENABLE ME ARRANGE FACE TO FACE MEETING WITH YOU IN GHANA FOR THE CLEARANCE OF THE FUNDS BEFORE TRANSFRING IT TO YOUR BANK ACCOUNT AS SEEING IS BELIEVING. \n",
    "\n",
    "        FINALLY, IT IS IMPORTANT ALSO THAT I LET YOU UNDERSTAND THAT THERE IS NO RISK INVOLVED WHATSOEVER AS THE MONEY HAD NO RECORD IN KINSHASA FOR IT WAS MEANT FOR THE PERSONAL USE OF (MR. PRESIDEND ) BEFORE THE NEFARIOUS INCIDENT OCCURRED, AND ALSO I HAVE ALL THE NECESSARY DOCUMENTS AS REGARDS TO THE FUNDS INCLUDING THE (CERTIFICATE OF DEPOSIT), AS I AM THE DEPOSITOR OF THE CONSIGNMENT.\n",
    "\n",
    "\n",
    "        LOOKING FORWARD TO YOUR URGENT RESPONSE.\n",
    "\n",
    "        YOUR SINCERELY,\n",
    "\n",
    "        MR. JAMES NGOLA. \"\"\""
   ]
  },
  {
   "cell_type": "code",
   "execution_count": 9,
   "metadata": {},
   "outputs": [
    {
     "data": {
      "text/plain": [
       "'/mnt/c/Users/silvia/Desktop/Adalab/DA-promoc-modulo1-sprint2-lourdes-silvia-sonia/primera-toma-contacto/datos'"
      ]
     },
     "execution_count": 9,
     "metadata": {},
     "output_type": "execute_result"
    }
   ],
   "source": [
    "os.getcwd()"
   ]
  },
  {
   "cell_type": "code",
   "execution_count": null,
   "metadata": {},
   "outputs": [],
   "source": [
    "def funcion_tercera(nombre_fichero,modo_fichero,encoding_fichero,contenido_fichero, encoding=\"encoding\"):\n",
    "    print(\"Estás trabajando en esta carpeta\")\n",
    "    print(os.getcwd())\n",
    "    print(\"Estos son los ficheros que tienes dentro de dicha carpeta\")\n",
    "    print(os.listdir())\n",
    "    lista = os.listdir()\n",
    "\n",
    "    for i in lista:\n",
    "\n",
    "        if nombre_fichero in lista:\n",
    "            print(f\"El fichero {nombre_fichero} ya existe\")\n",
    "            respuesta = input(\"¿Desea sobreescribirlo?\")\n",
    "            respuesta = respuesta.lower()\n",
    "            if respuesta == \"si\":\n",
    "                with open(nombre_fichero,modo_fichero,encoding=encoding_fichero) as n:\n",
    "                    n.writelines(contenido_fichero)\n",
    "                    n.close()\n",
    "                    print(f\"El fichero {nombre_fichero} se ha creado sobreescrito\")\n",
    "                    print(os.listdir())\n",
    "                    print(f\"Este es el contenido del fichero {nombre_fichero}\")\n",
    "                    print(contenido_fichero)\n",
    "                    break\n",
    "            else:\n",
    "                pass\n",
    "        else:\n",
    "            with open(nombre_fichero,modo_fichero,encoding =encoding_fichero) as m:\n",
    "                m.writelines(contenido_fichero)\n",
    "                m.close()\n",
    "                print(f\"El fichero {nombre_fichero} se ha creado con éxito\")\n",
    "                print(os.listdir())\n",
    "                print(f\"Este es el contenido del fichero {nombre_fichero}\")\n",
    "                print(contenido_fichero)\n",
    "    \n"
   ]
  },
  {
   "cell_type": "markdown",
   "metadata": {},
   "source": [
    "Llamada a la función para un fichero que no está creado aún"
   ]
  },
  {
   "cell_type": "code",
   "execution_count": null,
   "metadata": {},
   "outputs": [
    {
     "name": "stdout",
     "output_type": "stream",
     "text": [
      "Estás trabajando en esta carpeta\n",
      "/mnt/c/Users/silvia/Desktop/Adalab/DA-promoc-modulo1-sprint2-lourdes-silvia-sonia/primera-toma-contacto/datos\n",
      "Estos son los ficheros que tienes dentro de dicha carpeta\n",
      "['letter.txt', 'saludo.txt']\n",
      "El fichero prueba1.txt se ha creado con éxito\n",
      "['letter.txt', 'prueba1.txt', 'saludo.txt']\n",
      "Este es el contenido del fichero prueba1.txt\n",
      "\n",
      "      Thu Oct 31 08:11:39 2002\n",
      "        Return-Path: <bensul2004nng@spinfinder.com>\n",
      "        X-Sieve: cmu-sieve 2.0\n",
      "        Return-Path: <bensul2004nng@spinfinder.com>\n",
      "        Message-Id: <200210311310.g9VDANt24674@bloodwork.mr.itd.UM>\n",
      "        From: \"Mr. Ben Suleman\" <bensul2004nng@spinfinder.com>\n",
      "        Date: Thu, 31 Oct 2002 05:10:00\n",
      "        To: R@M\n",
      "        Subject: URGENT ASSISTANCE /RELATIONSHIP (P)\n",
      "        MIME-Version: 1.0\n",
      "        Content-Type: text/plain;charset=\"iso-8859-1\"\n",
      "        Content-Transfer-Encoding: 7bit\n",
      "        Status: O\n",
      "\n",
      "        Dear Friend,\n",
      "\n",
      "        I am Mr. Ben Suleman a custom officer and work as Assistant controller of the Customs and Excise department Of the Federal Ministry of Internal Affairs stationed at the Murtala Mohammed International Airport, Ikeja, Lagos-Nigeria.\n",
      "\n",
      "        After the sudden death of the former Head of state of Nigeria General Sanni Abacha on June 8th 1998 his aides and immediate members of his family were arrested while trying to escape from Nigeria in a Chartered jet to Saudi Arabia with 6 trunk boxes Marked \"Diplomatic Baggage\". Acting on a tip-off as they attempted to board the Air Craft,my officials carried out a thorough search on the air craft and discovered that the 6 trunk boxes contained foreign currencies amounting to US$197,570,000.00(One Hundred and  Ninety-Seven Million Five Hundred Seventy Thousand United States Dollars).\n",
      "\n",
      "        I declared only (5) five boxes to the government and withheld one (1) in my custody containing the sum of (US$30,000,000.00) Thirty Million United States Dollars Only, which has been disguised to prevent their being discovered during transportation process.Due to several media reports on the late head of state about all the money him and his co-government officials stole from our government treasury amounting\n",
      "        to US$55 Billion Dollars (ref:ngrguardiannews.com) of July 2nd 1999. Even the London times of July 1998 reported that General Abacha has over US$3.Billion dollars in one account overseas. We decided to conceal this one (1)box till the situation is calm and quite on the issue. The box was thus deposited with a security company here in Nigeria and tagged as \"Precious Stones and Jewellry\" in other that its\n",
      "        content will not be discovered. Now that all is calm, we (myself and two of my colleagues in the operations team) are now ready to move this box out of the country through a diplomatic arrangement which is the safest means. \n",
      "\n",
      "        However as government officials the Civil Service Code of Conduct does not allow us by law to operate any foreign account or own foreign investment and the amount of money that can be found in our account\n",
      "        cannot be more than our salary on the average, thus our handicapp and our need for your assistance to help collect and keep safely in your account this money.\n",
      "\n",
      "        Therefore we want you to assist us in moving this money out of Nigeria. We shall definitely compensate you handsomely for the assistance. We can do this by instructing the Security Company here in Nigeria to\n",
      "        move the consignment to their affiliate branch office outside Nigeria through diplomatic means and the consignment will be termed as Precious Stones and Jewelleries\" which you bought during your visit to Nigeria and is being transfered to your country from here for safe keeping. Then we can arrange to meet at the destination country to take the delivery of the consignment. You will thereafter open an account there and lodge the Money there and gradually instruct remittance to your Country. \n",
      "\n",
      "        This business is 100% risk free for you so please treat this matter with utmost confidentiality .If you indicate your interest to assist us please just e-mail me for more Explanation on how we plan to execute the transaction.\n",
      "\n",
      "        Expecting your response urgently.\n",
      "\n",
      "        Best regards,\n",
      "\n",
      "        Mr. Ben Suleman\n",
      "\n",
      "        Wed Oct 30 21:41:56 2002\n",
      "        Return-Path: <james_ngola2002@maktoob.com>\n",
      "        X-Sieve: cmu-sieve 2.0\n",
      "        Return-Path: <james_ngola2002@maktoob.com>\n",
      "        Message-Id: <200210310241.g9V2fNm6028281@cs.CU>\n",
      "        From: \"MR. JAMES NGOLA.\" <james_ngola2002@maktoob.com>\n",
      "        Reply-To: james_ngola2002@maktoob.com\n",
      "        To: webmaster@aclweb.org\n",
      "        Date: Thu, 31 Oct 2002 02:38:20 +0000\n",
      "        Subject: URGENT BUSINESS ASSISTANCE AND PARTNERSHIP\n",
      "        X-Mailer: Microsoft Outlook Express 5.00.2919.6900 DM\n",
      "        MIME-Version: 1.0\n",
      "        Content-Type: text/plain; charset=\"us-ascii\"\n",
      "        Content-Transfer-Encoding: 8bit\n",
      "        X-MIME-Autoconverted: from quoted-printable to 8bit by sideshowmel.si.UM id g9V2foW24311\n",
      "        Status: O\n",
      "\n",
      "        FROM:MR. JAMES NGOLA.\n",
      "        CONFIDENTIAL TEL: 233-27-587908.\n",
      "        E-MAIL: (james_ngola2002@maktoob.com).\n",
      "\n",
      "        URGENT BUSINESS ASSISTANCE AND PARTNERSHIP.\n",
      "\n",
      "\n",
      "        DEAR FRIEND,\n",
      "\n",
      "        I AM ( DR.) JAMES NGOLA, THE PERSONAL ASSISTANCE TO THE LATE CONGOLESE (PRESIDENT LAURENT KABILA) WHO WAS ASSASSINATED BY HIS BODY GUARD ON 16TH JAN. 2001.\n",
      "\n",
      "\n",
      "        THE INCIDENT OCCURRED IN OUR PRESENCE WHILE WE WERE HOLDING MEETING WITH HIS EXCELLENCY OVER THE FINANCIAL RETURNS FROM THE DIAMOND SALES IN THE AREAS CONTROLLED BY (D.R.C.) DEMOCRATIC REPUBLIC OF CONGO FORCES AND THEIR FOREIGN ALLIES ANGOLA AND ZIMBABWE, HAVING RECEIVED THE PREVIOUS DAY (USD$100M) ONE HUNDRED MILLION UNITED STATES DOLLARS, CASH IN THREE DIPLOMATIC BOXES ROUTED THROUGH ZIMBABWE.\n",
      "\n",
      "        MY PURPOSE OF WRITING YOU THIS LETTER IS TO SOLICIT FOR YOUR ASSISTANCE AS TO BE A COVER TO THE FUND AND ALSO COLLABORATION IN MOVING THE SAID FUND INTO YOUR BANK ACCOUNT THE SUM OF (USD$25M) TWENTY FIVE MILLION UNITED STATES DOLLARS ONLY, WHICH I DEPOSITED WITH A SECURITY COMPANY IN GHANA, IN A DIPLOMATIC BOX AS GOLDS WORTH (USD$25M) TWENTY FIVE MILLION UNITED STATES DOLLARS ONLY FOR SAFE KEEPING IN A SECURITY VAULT FOR ANY FURTHER INVESTMENT PERHAPS IN YOUR COUNTRY. \n",
      "\n",
      "        YOU WERE INTRODUCED TO ME BY A RELIABLE FRIEND OF MINE WHO IS A TRAVELLER,AND ALSO A MEMBER OF CHAMBER OF COMMERCE AS A RELIABLE AND TRUSTWORTHY PERSON WHOM I CAN RELY ON AS FOREIGN PARTNER, EVEN THOUGH THE NATURE OF THE TRANSACTION WAS NOT REVEALED TO HIM FOR SECURITY REASONS.\n",
      "\n",
      "\n",
      "        THE (USD$25M) WAS PART OF A PROCEEDS FROM DIAMOND TRADE MEANT FOR THE LATE PRESIDENT LAURENT KABILA WHICH WAS DELIVERED THROUGH ZIMBABWE IN DIPLOMATIC BOXES. THE BOXES WERE KEPT UNDER MY CUSTODY BEFORE THE SAD EVENT THAT TOOK THE LIFE OF (MR. PRESIDENT).THE CONFUSION THAT ENSUED AFTER THE ASSASSINATION AND THE SPORADIC SHOOTING AMONG THE FACTIONS, I HAVE TO RUN AWAY FROM THE COUNTRY FOR MY DEAR LIFE AS I AM NOT A SOLDIER BUT A CIVIL SERVANT I CROSSED RIVER CONGO TO OTHER SIDE OF CONGO LIBREVILLE FROM THERE I MOVED TO THE THIRD COUNTRY GHANA WHERE I AM PRESENTLY TAKING REFUGE. \n",
      "\n",
      "        AS A MATTER OF FACT, WHAT I URGENTLY NEEDED FROM YOU IS YOUR ASSISTANCE IN MOVING THIS MONEY INTO YOUR ACCOUNT IN YOUR COUNTRY FOR INVESTMENT WITHOUT RAISING EYEBROW. FOR YOUR ASSISTANCE I WILL GIVE YOU 20% OF THE TOTAL SUM AS YOUR OWN SHARE WHEN THE MONEY GETS TO YOUR ACCOUNT, WHILE 75% WILL BE FOR ME, OF WHICH WITH YOUR KIND ADVICE I HOPE TO INVEST IN PROFITABLE VENTURE IN YOUR COUNTRY IN OTHER TO SETTLE DOWN FOR MEANINGFUL LIFE, AS I AM TIRED OF LIVING IN A WAR ENVIRONMENT. \n",
      "\n",
      "        THE REMAINING 5% WILL BE USED TO OFFSET ANY COST INCURRED IN THE CAUSE OF MOVING THE MONEY TO YOUR ACCOUNT. IF THE PROPOSAL IS ACCEPTABLE TO YOU PLEASE CONTACT ME IMMEDIATELY THROUGH THE ABOVE TELEPHONE AND E-MAIL, TO ENABLE ME ARRANGE FACE TO FACE MEETING WITH YOU IN GHANA FOR THE CLEARANCE OF THE FUNDS BEFORE TRANSFRING IT TO YOUR BANK ACCOUNT AS SEEING IS BELIEVING. \n",
      "\n",
      "        FINALLY, IT IS IMPORTANT ALSO THAT I LET YOU UNDERSTAND THAT THERE IS NO RISK INVOLVED WHATSOEVER AS THE MONEY HAD NO RECORD IN KINSHASA FOR IT WAS MEANT FOR THE PERSONAL USE OF (MR. PRESIDEND ) BEFORE THE NEFARIOUS INCIDENT OCCURRED, AND ALSO I HAVE ALL THE NECESSARY DOCUMENTS AS REGARDS TO THE FUNDS INCLUDING THE (CERTIFICATE OF DEPOSIT), AS I AM THE DEPOSITOR OF THE CONSIGNMENT.\n",
      "\n",
      "\n",
      "        LOOKING FORWARD TO YOUR URGENT RESPONSE.\n",
      "\n",
      "        YOUR SINCERELY,\n",
      "\n",
      "        MR. JAMES NGOLA. \n"
     ]
    }
   ],
   "source": [
    "funcion_tercera(\"prueba1.txt\",\"x\",\"utf8\",carta)"
   ]
  },
  {
   "cell_type": "markdown",
   "metadata": {},
   "source": [
    "Llamada a la función para un fichero que ya se encuentra creado y queremos sobreescribir"
   ]
  },
  {
   "cell_type": "code",
   "execution_count": null,
   "metadata": {},
   "outputs": [
    {
     "name": "stdout",
     "output_type": "stream",
     "text": [
      "Estás trabajando en esta carpeta\n",
      "/mnt/c/Users/silvia/Desktop/Adalab/DA-promoc-modulo1-sprint2-lourdes-silvia-sonia/primera-toma-contacto/datos\n",
      "Estos son los ficheros que tienes dentro de dicha carpeta\n",
      "['letter.txt', 'prueba1.txt', 'saludo.txt']\n",
      "El fichero prueba1.txt ya existe\n",
      "El fichero prueba1.txt se ha creado sobreescrito\n",
      "['letter.txt', 'prueba1.txt', 'saludo.txt']\n",
      "Este es el contenido del fichero prueba1.txt\n",
      "\n",
      "      Thu Oct 31 08:11:39 2002\n",
      "        Return-Path: <bensul2004nng@spinfinder.com>\n",
      "        X-Sieve: cmu-sieve 2.0\n",
      "        Return-Path: <bensul2004nng@spinfinder.com>\n",
      "        Message-Id: <200210311310.g9VDANt24674@bloodwork.mr.itd.UM>\n",
      "        From: \"Mr. Ben Suleman\" <bensul2004nng@spinfinder.com>\n",
      "        Date: Thu, 31 Oct 2002 05:10:00\n",
      "        To: R@M\n",
      "        Subject: URGENT ASSISTANCE /RELATIONSHIP (P)\n",
      "        MIME-Version: 1.0\n",
      "        Content-Type: text/plain;charset=\"iso-8859-1\"\n",
      "        Content-Transfer-Encoding: 7bit\n",
      "        Status: O\n",
      "\n",
      "        Dear Friend,\n",
      "\n",
      "        I am Mr. Ben Suleman a custom officer and work as Assistant controller of the Customs and Excise department Of the Federal Ministry of Internal Affairs stationed at the Murtala Mohammed International Airport, Ikeja, Lagos-Nigeria.\n",
      "\n",
      "        After the sudden death of the former Head of state of Nigeria General Sanni Abacha on June 8th 1998 his aides and immediate members of his family were arrested while trying to escape from Nigeria in a Chartered jet to Saudi Arabia with 6 trunk boxes Marked \"Diplomatic Baggage\". Acting on a tip-off as they attempted to board the Air Craft,my officials carried out a thorough search on the air craft and discovered that the 6 trunk boxes contained foreign currencies amounting to US$197,570,000.00(One Hundred and  Ninety-Seven Million Five Hundred Seventy Thousand United States Dollars).\n",
      "\n",
      "        I declared only (5) five boxes to the government and withheld one (1) in my custody containing the sum of (US$30,000,000.00) Thirty Million United States Dollars Only, which has been disguised to prevent their being discovered during transportation process.Due to several media reports on the late head of state about all the money him and his co-government officials stole from our government treasury amounting\n",
      "        to US$55 Billion Dollars (ref:ngrguardiannews.com) of July 2nd 1999. Even the London times of July 1998 reported that General Abacha has over US$3.Billion dollars in one account overseas. We decided to conceal this one (1)box till the situation is calm and quite on the issue. The box was thus deposited with a security company here in Nigeria and tagged as \"Precious Stones and Jewellry\" in other that its\n",
      "        content will not be discovered. Now that all is calm, we (myself and two of my colleagues in the operations team) are now ready to move this box out of the country through a diplomatic arrangement which is the safest means. \n",
      "\n",
      "        However as government officials the Civil Service Code of Conduct does not allow us by law to operate any foreign account or own foreign investment and the amount of money that can be found in our account\n",
      "        cannot be more than our salary on the average, thus our handicapp and our need for your assistance to help collect and keep safely in your account this money.\n",
      "\n",
      "        Therefore we want you to assist us in moving this money out of Nigeria. We shall definitely compensate you handsomely for the assistance. We can do this by instructing the Security Company here in Nigeria to\n",
      "        move the consignment to their affiliate branch office outside Nigeria through diplomatic means and the consignment will be termed as Precious Stones and Jewelleries\" which you bought during your visit to Nigeria and is being transfered to your country from here for safe keeping. Then we can arrange to meet at the destination country to take the delivery of the consignment. You will thereafter open an account there and lodge the Money there and gradually instruct remittance to your Country. \n",
      "\n",
      "        This business is 100% risk free for you so please treat this matter with utmost confidentiality .If you indicate your interest to assist us please just e-mail me for more Explanation on how we plan to execute the transaction.\n",
      "\n",
      "        Expecting your response urgently.\n",
      "\n",
      "        Best regards,\n",
      "\n",
      "        Mr. Ben Suleman\n",
      "\n",
      "        Wed Oct 30 21:41:56 2002\n",
      "        Return-Path: <james_ngola2002@maktoob.com>\n",
      "        X-Sieve: cmu-sieve 2.0\n",
      "        Return-Path: <james_ngola2002@maktoob.com>\n",
      "        Message-Id: <200210310241.g9V2fNm6028281@cs.CU>\n",
      "        From: \"MR. JAMES NGOLA.\" <james_ngola2002@maktoob.com>\n",
      "        Reply-To: james_ngola2002@maktoob.com\n",
      "        To: webmaster@aclweb.org\n",
      "        Date: Thu, 31 Oct 2002 02:38:20 +0000\n",
      "        Subject: URGENT BUSINESS ASSISTANCE AND PARTNERSHIP\n",
      "        X-Mailer: Microsoft Outlook Express 5.00.2919.6900 DM\n",
      "        MIME-Version: 1.0\n",
      "        Content-Type: text/plain; charset=\"us-ascii\"\n",
      "        Content-Transfer-Encoding: 8bit\n",
      "        X-MIME-Autoconverted: from quoted-printable to 8bit by sideshowmel.si.UM id g9V2foW24311\n",
      "        Status: O\n",
      "\n",
      "        FROM:MR. JAMES NGOLA.\n",
      "        CONFIDENTIAL TEL: 233-27-587908.\n",
      "        E-MAIL: (james_ngola2002@maktoob.com).\n",
      "\n",
      "        URGENT BUSINESS ASSISTANCE AND PARTNERSHIP.\n",
      "\n",
      "\n",
      "        DEAR FRIEND,\n",
      "\n",
      "        I AM ( DR.) JAMES NGOLA, THE PERSONAL ASSISTANCE TO THE LATE CONGOLESE (PRESIDENT LAURENT KABILA) WHO WAS ASSASSINATED BY HIS BODY GUARD ON 16TH JAN. 2001.\n",
      "\n",
      "\n",
      "        THE INCIDENT OCCURRED IN OUR PRESENCE WHILE WE WERE HOLDING MEETING WITH HIS EXCELLENCY OVER THE FINANCIAL RETURNS FROM THE DIAMOND SALES IN THE AREAS CONTROLLED BY (D.R.C.) DEMOCRATIC REPUBLIC OF CONGO FORCES AND THEIR FOREIGN ALLIES ANGOLA AND ZIMBABWE, HAVING RECEIVED THE PREVIOUS DAY (USD$100M) ONE HUNDRED MILLION UNITED STATES DOLLARS, CASH IN THREE DIPLOMATIC BOXES ROUTED THROUGH ZIMBABWE.\n",
      "\n",
      "        MY PURPOSE OF WRITING YOU THIS LETTER IS TO SOLICIT FOR YOUR ASSISTANCE AS TO BE A COVER TO THE FUND AND ALSO COLLABORATION IN MOVING THE SAID FUND INTO YOUR BANK ACCOUNT THE SUM OF (USD$25M) TWENTY FIVE MILLION UNITED STATES DOLLARS ONLY, WHICH I DEPOSITED WITH A SECURITY COMPANY IN GHANA, IN A DIPLOMATIC BOX AS GOLDS WORTH (USD$25M) TWENTY FIVE MILLION UNITED STATES DOLLARS ONLY FOR SAFE KEEPING IN A SECURITY VAULT FOR ANY FURTHER INVESTMENT PERHAPS IN YOUR COUNTRY. \n",
      "\n",
      "        YOU WERE INTRODUCED TO ME BY A RELIABLE FRIEND OF MINE WHO IS A TRAVELLER,AND ALSO A MEMBER OF CHAMBER OF COMMERCE AS A RELIABLE AND TRUSTWORTHY PERSON WHOM I CAN RELY ON AS FOREIGN PARTNER, EVEN THOUGH THE NATURE OF THE TRANSACTION WAS NOT REVEALED TO HIM FOR SECURITY REASONS.\n",
      "\n",
      "\n",
      "        THE (USD$25M) WAS PART OF A PROCEEDS FROM DIAMOND TRADE MEANT FOR THE LATE PRESIDENT LAURENT KABILA WHICH WAS DELIVERED THROUGH ZIMBABWE IN DIPLOMATIC BOXES. THE BOXES WERE KEPT UNDER MY CUSTODY BEFORE THE SAD EVENT THAT TOOK THE LIFE OF (MR. PRESIDENT).THE CONFUSION THAT ENSUED AFTER THE ASSASSINATION AND THE SPORADIC SHOOTING AMONG THE FACTIONS, I HAVE TO RUN AWAY FROM THE COUNTRY FOR MY DEAR LIFE AS I AM NOT A SOLDIER BUT A CIVIL SERVANT I CROSSED RIVER CONGO TO OTHER SIDE OF CONGO LIBREVILLE FROM THERE I MOVED TO THE THIRD COUNTRY GHANA WHERE I AM PRESENTLY TAKING REFUGE. \n",
      "\n",
      "        AS A MATTER OF FACT, WHAT I URGENTLY NEEDED FROM YOU IS YOUR ASSISTANCE IN MOVING THIS MONEY INTO YOUR ACCOUNT IN YOUR COUNTRY FOR INVESTMENT WITHOUT RAISING EYEBROW. FOR YOUR ASSISTANCE I WILL GIVE YOU 20% OF THE TOTAL SUM AS YOUR OWN SHARE WHEN THE MONEY GETS TO YOUR ACCOUNT, WHILE 75% WILL BE FOR ME, OF WHICH WITH YOUR KIND ADVICE I HOPE TO INVEST IN PROFITABLE VENTURE IN YOUR COUNTRY IN OTHER TO SETTLE DOWN FOR MEANINGFUL LIFE, AS I AM TIRED OF LIVING IN A WAR ENVIRONMENT. \n",
      "\n",
      "        THE REMAINING 5% WILL BE USED TO OFFSET ANY COST INCURRED IN THE CAUSE OF MOVING THE MONEY TO YOUR ACCOUNT. IF THE PROPOSAL IS ACCEPTABLE TO YOU PLEASE CONTACT ME IMMEDIATELY THROUGH THE ABOVE TELEPHONE AND E-MAIL, TO ENABLE ME ARRANGE FACE TO FACE MEETING WITH YOU IN GHANA FOR THE CLEARANCE OF THE FUNDS BEFORE TRANSFRING IT TO YOUR BANK ACCOUNT AS SEEING IS BELIEVING. \n",
      "\n",
      "        FINALLY, IT IS IMPORTANT ALSO THAT I LET YOU UNDERSTAND THAT THERE IS NO RISK INVOLVED WHATSOEVER AS THE MONEY HAD NO RECORD IN KINSHASA FOR IT WAS MEANT FOR THE PERSONAL USE OF (MR. PRESIDEND ) BEFORE THE NEFARIOUS INCIDENT OCCURRED, AND ALSO I HAVE ALL THE NECESSARY DOCUMENTS AS REGARDS TO THE FUNDS INCLUDING THE (CERTIFICATE OF DEPOSIT), AS I AM THE DEPOSITOR OF THE CONSIGNMENT.\n",
      "\n",
      "\n",
      "        LOOKING FORWARD TO YOUR URGENT RESPONSE.\n",
      "\n",
      "        YOUR SINCERELY,\n",
      "\n",
      "        MR. JAMES NGOLA. \n"
     ]
    }
   ],
   "source": [
    "funcion_tercera(\"prueba1.txt\",\"a\",\"utf8\",carta)"
   ]
  },
  {
   "cell_type": "markdown",
   "metadata": {},
   "source": [
    "3.- Archivo XML"
   ]
  },
  {
   "cell_type": "markdown",
   "metadata": {},
   "source": [
    "En este ejercicio tendréis que crear una función que reciba el nombre del archivo xml y que devuelva lo siguiente:\n",
    "\n",
    "Qué tag y atributos tiene el archivo xml.\n",
    "\n",
    "La descripción de cada una de las películas que tenemos en ese archivo.\n",
    "\n",
    "Los años en que fueron estrenadas las películas.\n",
    "\n",
    "💡 Pistas 💡\n",
    "\n",
    "La función debe recibir un parámetro, el nombre del archivo xml.\n",
    "\n",
    "Tendréis que utlizar un bucle for para recorrer todo el archivo xml y extraer la información que os pedimos.\n",
    "\n",
    "Recordad el método .text para extraer el texto de un elemento."
   ]
  },
  {
   "cell_type": "code",
   "execution_count": 10,
   "metadata": {},
   "outputs": [],
   "source": [
    "import xml.etree.ElementTree as ET"
   ]
  },
  {
   "cell_type": "code",
   "execution_count": 11,
   "metadata": {},
   "outputs": [
    {
     "data": {
      "text/plain": [
       "'/mnt/c/Users/silvia/Desktop/Adalab/DA-promoc-modulo1-sprint2-lourdes-silvia-sonia/primera-toma-contacto/datos'"
      ]
     },
     "execution_count": 11,
     "metadata": {},
     "output_type": "execute_result"
    }
   ],
   "source": [
    "os.getcwd()"
   ]
  },
  {
   "cell_type": "code",
   "execution_count": 59,
   "metadata": {},
   "outputs": [],
   "source": [
    "def funcion_xml(archivo_xml):\n",
    "    print(os.getcwd())\n",
    "    tree = ET.parse('./peliculas.xml')\n",
    "    root = tree.getroot()\n",
    "    print(f\" el tag de este fichero es {root.tag}\")\n",
    "    print(f\" los atributos de este fichero son {root.attrib}\")\n",
    "    \n",
    "    a = 0\n",
    "    b = 0\n",
    "    c = 0\n",
    "    d= 0\n",
    "    for child in root:\n",
    "        if a <= 1:\n",
    "            print(f\" el tag del primer nivel es {child.tag}\")\n",
    "            print(f\" los atributos de este fichero son {child.attrib}\")\n",
    "            a+=1\n",
    "        else:\n",
    "            pass\n",
    "        for subchild in child:\n",
    "            if b <= 1:\n",
    "                print(f\" el tag del segundo nivel es {subchild.tag}\")\n",
    "                print(f\" los atributos de este fichero son {subchild.attrib}\")\n",
    "                b+=1\n",
    "            else:\n",
    "                pass\n",
    "            for subsubchild in subchild:\n",
    "                if c <= 2:\n",
    "                    print(f\" el tag del tercer nivel es {subsubchild.tag}\")\n",
    "                    print(f\" los atributos de este fichero son {subsubchild.attrib}\")\n",
    "                    c+=1\n",
    "                else:\n",
    "                    pass\n",
    "                for subsubsubchild in subsubchild:\n",
    "                    if d <= 3:\n",
    "                        print(f\" el tag del cuarto nivel es {subsubsubchild.tag}\")\n",
    "                        print(f\" los atributos de este fichero son {subsubsubchild.attrib}\")\n",
    "                        d+=1\n",
    "                    else:\n",
    "                        pass\n",
    "                    if subsubsubchild.tag == 'description':\n",
    "                            print(\"Esta es las descripción de la película\")\n",
    "                            print(subsubsubchild.text)\n",
    "                    if subsubsubchild.tag == 'year':\n",
    "                            print(\"Este es el año de la pelicula\")\n",
    "                            print(subsubsubchild.text)      \n"
   ]
  },
  {
   "cell_type": "code",
   "execution_count": 60,
   "metadata": {},
   "outputs": [
    {
     "name": "stdout",
     "output_type": "stream",
     "text": [
      "/mnt/c/Users/silvia/Desktop/Adalab/DA-promoc-modulo1-sprint2-lourdes-silvia-sonia/primera-toma-contacto/datos\n",
      " el tag de este fichero es collection\n",
      " los atributos de este fichero son {}\n",
      " el tag del primer nivel es genre\n",
      " los atributos de este fichero son {'category': 'Action'}\n",
      " el tag del segundo nivel es decade\n",
      " los atributos de este fichero son {'years': '1980s'}\n",
      " el tag del tercer nivel es movie\n",
      " los atributos de este fichero son {'favorite': 'True', 'title': 'Indiana Jones: The raiders of the lost Ark'}\n",
      " el tag del cuarto nivel es format\n",
      " los atributos de este fichero son {'multiple': 'No'}\n",
      " el tag del cuarto nivel es year\n",
      " los atributos de este fichero son {}\n",
      "Este es el año de la pelicula\n",
      "1981\n",
      " el tag del cuarto nivel es rating\n",
      " los atributos de este fichero son {}\n",
      " el tag del cuarto nivel es description\n",
      " los atributos de este fichero son {}\n",
      "Esta es las descripción de la película\n",
      "\n",
      "                'Archaeologist and adventurer Indiana Jones \n",
      "                is hired by the U.S. government to find the Ark of  the Covenant before the Nazis.'\n",
      "                \n",
      " el tag del tercer nivel es movie\n",
      " los atributos de este fichero son {'favorite': 'True', 'title': 'THE KARATE KID'}\n",
      "Este es el año de la pelicula\n",
      "1984\n",
      "Esta es las descripción de la película\n",
      "None provided.\n",
      " el tag del tercer nivel es movie\n",
      " los atributos de este fichero son {'favorite': 'False', 'title': 'Back 2 the Future'}\n",
      "Este es el año de la pelicula\n",
      "1985\n",
      "Esta es las descripción de la película\n",
      "Marty McFly\n",
      " el tag del segundo nivel es decade\n",
      " los atributos de este fichero son {'years': '1990s'}\n",
      "Este es el año de la pelicula\n",
      "2000\n",
      "Esta es las descripción de la película\n",
      "Two mutants come to a private academy for their kind whose resident superhero team must oppose a terrorist organization with similar powers.\n",
      "Este es el año de la pelicula\n",
      "1992\n",
      "Esta es las descripción de la película\n",
      "NA.\n",
      "Este es el año de la pelicula\n",
      "1992\n",
      "Esta es las descripción de la película\n",
      "WhAtEvER I Want!!!?!\n",
      " el tag del primer nivel es genre\n",
      " los atributos de este fichero son {'category': 'Thriller'}\n",
      "Este es el año de la pelicula\n",
      "1979\n",
      "Esta es las descripción de la película\n",
      "\"\"\"\"\"\"\"\"\"\n",
      "Este es el año de la pelicula\n",
      "1986\n",
      "Esta es las descripción de la película\n",
      "Funny movie on funny guy \n",
      "Este es el año de la pelicula\n",
      "2000\n",
      "Esta es las descripción de la película\n",
      "psychopathic Bateman\n"
     ]
    }
   ],
   "source": [
    "funcion_xml(\"peliculas.xml\")"
   ]
  }
 ],
 "metadata": {
  "kernelspec": {
   "display_name": "Python 3.10.8 ('adalabenv')",
   "language": "python",
   "name": "python3"
  },
  "language_info": {
   "codemirror_mode": {
    "name": "ipython",
    "version": 3
   },
   "file_extension": ".py",
   "mimetype": "text/x-python",
   "name": "python",
   "nbconvert_exporter": "python",
   "pygments_lexer": "ipython3",
   "version": "3.10.8"
  },
  "orig_nbformat": 4,
  "vscode": {
   "interpreter": {
    "hash": "b09caf96bf0d00c87bf22d52d5d9b835bbcda673d84b7b1547b87932947942a4"
   }
  }
 },
 "nbformat": 4,
 "nbformat_minor": 2
}
